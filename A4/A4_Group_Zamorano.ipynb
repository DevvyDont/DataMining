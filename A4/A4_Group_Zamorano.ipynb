{
 "cells": [
  {
   "cell_type": "markdown",
   "id": "d18e6d1b",
   "metadata": {},
   "source": [
    "## Assignment - A4.part2\n",
    "### Devin Hall, Tyler Birnie\n",
    "### Due: 4-3-22 @ 11:59pm\n",
    "Some pre-requisites we will need for this project"
   ]
  },
  {
   "cell_type": "code",
   "execution_count": 64,
   "id": "b7c74e2e",
   "metadata": {},
   "outputs": [],
   "source": [
    "import numpy as np\n",
    "import pandas as pd\n",
    "import sklearn\n",
    "import matplotlib.pyplot as plt\n"
   ]
  },
  {
   "cell_type": "markdown",
   "id": "f1e2c3f7",
   "metadata": {},
   "source": [
    "### Question 1: NBA Data"
   ]
  },
  {
   "cell_type": "markdown",
   "id": "c2dca62b",
   "metadata": {},
   "source": [
    "#### Question 1A: \n",
    "Load the data of NAB plays in the 2018-2019 season.\n",
    "First, filter the players to only consider those who have played in more than 20 games. The analysis will ignore the first 7 columns as well as ignore the columns of statistics of prefectages (FG%, 3P%, 2P%,eFG%,FT%)"
   ]
  },
  {
   "cell_type": "code",
   "execution_count": 188,
   "id": "42470d68",
   "metadata": {},
   "outputs": [
    {
     "data": {
      "text/html": [
       "<div>\n",
       "<style scoped>\n",
       "    .dataframe tbody tr th:only-of-type {\n",
       "        vertical-align: middle;\n",
       "    }\n",
       "\n",
       "    .dataframe tbody tr th {\n",
       "        vertical-align: top;\n",
       "    }\n",
       "\n",
       "    .dataframe thead th {\n",
       "        text-align: right;\n",
       "    }\n",
       "</style>\n",
       "<table border=\"1\" class=\"dataframe\">\n",
       "  <thead>\n",
       "    <tr style=\"text-align: right;\">\n",
       "      <th></th>\n",
       "      <th>Rk</th>\n",
       "      <th>Player</th>\n",
       "      <th>Pos</th>\n",
       "      <th>Age</th>\n",
       "      <th>Tm</th>\n",
       "      <th>G</th>\n",
       "      <th>GS</th>\n",
       "      <th>MP</th>\n",
       "      <th>FG</th>\n",
       "      <th>FGA</th>\n",
       "      <th>...</th>\n",
       "      <th>FT%</th>\n",
       "      <th>ORB</th>\n",
       "      <th>DRB</th>\n",
       "      <th>TRB</th>\n",
       "      <th>AST</th>\n",
       "      <th>STL</th>\n",
       "      <th>BLK</th>\n",
       "      <th>TOV</th>\n",
       "      <th>PF</th>\n",
       "      <th>PTS</th>\n",
       "    </tr>\n",
       "  </thead>\n",
       "  <tbody>\n",
       "    <tr>\n",
       "      <th>0</th>\n",
       "      <td>1</td>\n",
       "      <td>Álex Abrines\\abrinal01</td>\n",
       "      <td>SG</td>\n",
       "      <td>25</td>\n",
       "      <td>OKC</td>\n",
       "      <td>31</td>\n",
       "      <td>2</td>\n",
       "      <td>19.0</td>\n",
       "      <td>1.8</td>\n",
       "      <td>5.1</td>\n",
       "      <td>...</td>\n",
       "      <td>0.923</td>\n",
       "      <td>0.2</td>\n",
       "      <td>1.4</td>\n",
       "      <td>1.5</td>\n",
       "      <td>0.6</td>\n",
       "      <td>0.5</td>\n",
       "      <td>0.2</td>\n",
       "      <td>0.5</td>\n",
       "      <td>1.7</td>\n",
       "      <td>5.3</td>\n",
       "    </tr>\n",
       "    <tr>\n",
       "      <th>1</th>\n",
       "      <td>2</td>\n",
       "      <td>Quincy Acy\\acyqu01</td>\n",
       "      <td>PF</td>\n",
       "      <td>28</td>\n",
       "      <td>PHO</td>\n",
       "      <td>10</td>\n",
       "      <td>0</td>\n",
       "      <td>12.3</td>\n",
       "      <td>0.4</td>\n",
       "      <td>1.8</td>\n",
       "      <td>...</td>\n",
       "      <td>0.700</td>\n",
       "      <td>0.3</td>\n",
       "      <td>2.2</td>\n",
       "      <td>2.5</td>\n",
       "      <td>0.8</td>\n",
       "      <td>0.1</td>\n",
       "      <td>0.4</td>\n",
       "      <td>0.4</td>\n",
       "      <td>2.4</td>\n",
       "      <td>1.7</td>\n",
       "    </tr>\n",
       "    <tr>\n",
       "      <th>2</th>\n",
       "      <td>3</td>\n",
       "      <td>Jaylen Adams\\adamsja01</td>\n",
       "      <td>PG</td>\n",
       "      <td>22</td>\n",
       "      <td>ATL</td>\n",
       "      <td>34</td>\n",
       "      <td>1</td>\n",
       "      <td>12.6</td>\n",
       "      <td>1.1</td>\n",
       "      <td>3.2</td>\n",
       "      <td>...</td>\n",
       "      <td>0.778</td>\n",
       "      <td>0.3</td>\n",
       "      <td>1.4</td>\n",
       "      <td>1.8</td>\n",
       "      <td>1.9</td>\n",
       "      <td>0.4</td>\n",
       "      <td>0.1</td>\n",
       "      <td>0.8</td>\n",
       "      <td>1.3</td>\n",
       "      <td>3.2</td>\n",
       "    </tr>\n",
       "    <tr>\n",
       "      <th>3</th>\n",
       "      <td>4</td>\n",
       "      <td>Steven Adams\\adamsst01</td>\n",
       "      <td>C</td>\n",
       "      <td>25</td>\n",
       "      <td>OKC</td>\n",
       "      <td>80</td>\n",
       "      <td>80</td>\n",
       "      <td>33.4</td>\n",
       "      <td>6.0</td>\n",
       "      <td>10.1</td>\n",
       "      <td>...</td>\n",
       "      <td>0.500</td>\n",
       "      <td>4.9</td>\n",
       "      <td>4.6</td>\n",
       "      <td>9.5</td>\n",
       "      <td>1.6</td>\n",
       "      <td>1.5</td>\n",
       "      <td>1.0</td>\n",
       "      <td>1.7</td>\n",
       "      <td>2.6</td>\n",
       "      <td>13.9</td>\n",
       "    </tr>\n",
       "    <tr>\n",
       "      <th>4</th>\n",
       "      <td>5</td>\n",
       "      <td>Bam Adebayo\\adebaba01</td>\n",
       "      <td>C</td>\n",
       "      <td>21</td>\n",
       "      <td>MIA</td>\n",
       "      <td>82</td>\n",
       "      <td>28</td>\n",
       "      <td>23.3</td>\n",
       "      <td>3.4</td>\n",
       "      <td>5.9</td>\n",
       "      <td>...</td>\n",
       "      <td>0.735</td>\n",
       "      <td>2.0</td>\n",
       "      <td>5.3</td>\n",
       "      <td>7.3</td>\n",
       "      <td>2.2</td>\n",
       "      <td>0.9</td>\n",
       "      <td>0.8</td>\n",
       "      <td>1.5</td>\n",
       "      <td>2.5</td>\n",
       "      <td>8.9</td>\n",
       "    </tr>\n",
       "  </tbody>\n",
       "</table>\n",
       "<p>5 rows × 30 columns</p>\n",
       "</div>"
      ],
      "text/plain": [
       "   Rk                  Player Pos  Age   Tm   G  GS    MP   FG   FGA  ...  \\\n",
       "0   1  Álex Abrines\\abrinal01  SG   25  OKC  31   2  19.0  1.8   5.1  ...   \n",
       "1   2      Quincy Acy\\acyqu01  PF   28  PHO  10   0  12.3  0.4   1.8  ...   \n",
       "2   3  Jaylen Adams\\adamsja01  PG   22  ATL  34   1  12.6  1.1   3.2  ...   \n",
       "3   4  Steven Adams\\adamsst01   C   25  OKC  80  80  33.4  6.0  10.1  ...   \n",
       "4   5   Bam Adebayo\\adebaba01   C   21  MIA  82  28  23.3  3.4   5.9  ...   \n",
       "\n",
       "     FT%  ORB  DRB  TRB  AST  STL  BLK  TOV   PF   PTS  \n",
       "0  0.923  0.2  1.4  1.5  0.6  0.5  0.2  0.5  1.7   5.3  \n",
       "1  0.700  0.3  2.2  2.5  0.8  0.1  0.4  0.4  2.4   1.7  \n",
       "2  0.778  0.3  1.4  1.8  1.9  0.4  0.1  0.8  1.3   3.2  \n",
       "3  0.500  4.9  4.6  9.5  1.6  1.5  1.0  1.7  2.6  13.9  \n",
       "4  0.735  2.0  5.3  7.3  2.2  0.9  0.8  1.5  2.5   8.9  \n",
       "\n",
       "[5 rows x 30 columns]"
      ]
     },
     "execution_count": 188,
     "metadata": {},
     "output_type": "execute_result"
    }
   ],
   "source": [
    "nba_df = pd.read_csv ('nba18-19.csv')\n",
    "nba_df.head()"
   ]
  },
  {
   "cell_type": "markdown",
   "id": "89fd95ad",
   "metadata": {},
   "source": [
    "#### Question 1B:\n",
    "The features have different ranges, therefore we should scale the date before considering the clustering analysis. Scal the data using min-max normalization with range of [0,1]\n",
    "\n",
    "Python- MinMaxScaler from sklearn.preprocessing"
   ]
  },
  {
   "cell_type": "code",
   "execution_count": null,
   "id": "fa481b1c",
   "metadata": {},
   "outputs": [],
   "source": []
  },
  {
   "cell_type": "markdown",
   "id": "fcb3f227",
   "metadata": {},
   "source": [
    "#### Question 1C:\n",
    "Run Kmeans clustering on the data with k=2, ..., 10. For each value of k, keep track of the within-cluster variation. This quantity is referred to as different terms such as \"inertia\" and total \"within-cluster sum-of-squares\"\n",
    "\n",
    "Python - KMeans from sklearn.cluster.\n",
    "\n",
    "Plot the within-cluster variation vs the values of k.\n",
    "As discussed the value is alwasys decresasing, therefore it is difficult to use for selecting the _best_ value of k."
   ]
  },
  {
   "cell_type": "code",
   "execution_count": null,
   "id": "8d20e191",
   "metadata": {},
   "outputs": [],
   "source": []
  },
  {
   "cell_type": "markdown",
   "id": "11909cf6",
   "metadata": {},
   "source": [
    "#### Question 1D:\n",
    "Determine the \"best\" number of clusters using gap statistic. \n",
    "Python- gapstat.py available on Canvas with B1=50."
   ]
  },
  {
   "cell_type": "code",
   "execution_count": null,
   "id": "f973aac8",
   "metadata": {},
   "outputs": [],
   "source": []
  },
  {
   "cell_type": "markdown",
   "id": "db8dea47",
   "metadata": {},
   "source": [
    "#### Question 1E: \n",
    "Create a data frame with the mean skill values (centers) of each group, using the best number of groups determined in (d), as a table or data frame. \n",
    "\n",
    "You may want to run Kmeans again with the best value of k.\n",
    "\n",
    "Print out the statistics for each group (rows) and columns of \"MP',\"FG\",\"3P\", and \"FT\"."
   ]
  },
  {
   "cell_type": "code",
   "execution_count": null,
   "id": "620b768d",
   "metadata": {},
   "outputs": [],
   "source": []
  },
  {
   "cell_type": "markdown",
   "id": "9ac67b16",
   "metadata": {},
   "source": [
    "#### Question 1F:\n",
    "Report the same statistics as in (e), but using the original data scaling (reverse the scalling back to the original data range)."
   ]
  },
  {
   "cell_type": "code",
   "execution_count": null,
   "id": "0004545c",
   "metadata": {},
   "outputs": [],
   "source": []
  },
  {
   "cell_type": "markdown",
   "id": "abf99300",
   "metadata": {},
   "source": [
    "#### Question 1G:\n",
    "Apply PCA to the filtered nba data (make sure to apply the necessary scaling for running PCA). Plot the data in the first two principal components, coloed by the best group lables found in (e)."
   ]
  },
  {
   "cell_type": "code",
   "execution_count": null,
   "id": "f30a6c87",
   "metadata": {},
   "outputs": [],
   "source": []
  },
  {
   "cell_type": "markdown",
   "id": "9e8ddf29",
   "metadata": {},
   "source": [
    "### Question 2: Music Data"
   ]
  },
  {
   "cell_type": "markdown",
   "id": "3b5b19c9",
   "metadata": {},
   "source": [
    "For this problem you will consider several properties that have been measured from music recording."
   ]
  },
  {
   "cell_type": "markdown",
   "id": "7d1f9787",
   "metadata": {},
   "source": [
    "#### Question 2A: \n",
    "load the data from music2.csv. Consider only the numeric variables from the data in music2.csv"
   ]
  },
  {
   "cell_type": "code",
   "execution_count": 187,
   "id": "ea82d015",
   "metadata": {},
   "outputs": [
    {
     "data": {
      "text/html": [
       "<div>\n",
       "<style scoped>\n",
       "    .dataframe tbody tr th:only-of-type {\n",
       "        vertical-align: middle;\n",
       "    }\n",
       "\n",
       "    .dataframe tbody tr th {\n",
       "        vertical-align: top;\n",
       "    }\n",
       "\n",
       "    .dataframe thead th {\n",
       "        text-align: right;\n",
       "    }\n",
       "</style>\n",
       "<table border=\"1\" class=\"dataframe\">\n",
       "  <thead>\n",
       "    <tr style=\"text-align: right;\">\n",
       "      <th></th>\n",
       "      <th>LVar</th>\n",
       "      <th>LAve</th>\n",
       "      <th>LMax</th>\n",
       "      <th>LFEner</th>\n",
       "      <th>LFreq</th>\n",
       "    </tr>\n",
       "  </thead>\n",
       "  <tbody>\n",
       "    <tr>\n",
       "      <th>0</th>\n",
       "      <td>17600755.6</td>\n",
       "      <td>-90.006867</td>\n",
       "      <td>29921</td>\n",
       "      <td>105.92095</td>\n",
       "      <td>59.57379</td>\n",
       "    </tr>\n",
       "    <tr>\n",
       "      <th>1</th>\n",
       "      <td>9543020.9</td>\n",
       "      <td>-75.766719</td>\n",
       "      <td>27626</td>\n",
       "      <td>102.83616</td>\n",
       "      <td>58.48031</td>\n",
       "    </tr>\n",
       "    <tr>\n",
       "      <th>2</th>\n",
       "      <td>9049481.5</td>\n",
       "      <td>-98.062924</td>\n",
       "      <td>26372</td>\n",
       "      <td>102.32488</td>\n",
       "      <td>124.59397</td>\n",
       "    </tr>\n",
       "    <tr>\n",
       "      <th>3</th>\n",
       "      <td>7557437.3</td>\n",
       "      <td>-90.471062</td>\n",
       "      <td>28898</td>\n",
       "      <td>101.61648</td>\n",
       "      <td>48.76513</td>\n",
       "    </tr>\n",
       "    <tr>\n",
       "      <th>4</th>\n",
       "      <td>6282285.6</td>\n",
       "      <td>-88.952631</td>\n",
       "      <td>27940</td>\n",
       "      <td>100.30076</td>\n",
       "      <td>74.02039</td>\n",
       "    </tr>\n",
       "  </tbody>\n",
       "</table>\n",
       "</div>"
      ],
      "text/plain": [
       "         LVar       LAve   LMax     LFEner      LFreq\n",
       "0  17600755.6 -90.006867  29921  105.92095   59.57379\n",
       "1   9543020.9 -75.766719  27626  102.83616   58.48031\n",
       "2   9049481.5 -98.062924  26372  102.32488  124.59397\n",
       "3   7557437.3 -90.471062  28898  101.61648   48.76513\n",
       "4   6282285.6 -88.952631  27940  100.30076   74.02039"
      ]
     },
     "execution_count": 187,
     "metadata": {},
     "output_type": "execute_result"
    }
   ],
   "source": [
    "#load music2.csv\n",
    "df = pd.read_csv('music2.csv')\n",
    "\n",
    "#make a copy for later\n",
    "df2 = df\n",
    "\n",
    "#drop columns not interested in\n",
    "df_filter = df.drop(columns=['Song','Artist','Type'])\n",
    "\n",
    "df_filter.head()"
   ]
  },
  {
   "cell_type": "markdown",
   "id": "5e645566",
   "metadata": {},
   "source": [
    "#### Questin 2B:\n",
    "Standardize the variables"
   ]
  },
  {
   "cell_type": "code",
   "execution_count": 174,
   "id": "d8299711",
   "metadata": {},
   "outputs": [],
   "source": [
    "from sklearn.preprocessing import StandardScaler\n",
    "\n",
    "scale= StandardScaler()\n",
    " \n",
    "# separate the independent and dependent variables\n",
    "X_data = df_filter\n",
    "target = df2.drop(columns=['Song','LVar','LAve','LMax','LFEner','LFreq'])\n",
    " \n",
    "# standardization of dependent variables\n",
    "scaled_data = scale.fit_transform(X_data) \n",
    "#print(scaled_data)\n",
    "#print(target)"
   ]
  },
  {
   "cell_type": "markdown",
   "id": "a77e7277",
   "metadata": {},
   "source": [
    "#### Quesiton 2C:\n",
    "Perform hierachial clustering with single,complete,average linkage"
   ]
  },
  {
   "cell_type": "code",
   "execution_count": 175,
   "id": "e9f8e261",
   "metadata": {},
   "outputs": [],
   "source": [
    "#create linkage for single, complete, average\n",
    "s_link = linkage(scaled_data, method='single')\n",
    "c_link = linkage(scaled_data, method='complete')\n",
    "a_link = linkage(scaled_data, method='average')"
   ]
  },
  {
   "cell_type": "markdown",
   "id": "12dccbf9",
   "metadata": {},
   "source": [
    "#### Question 2D:\n",
    "Report out the results in a dendrogram. Label the clusters by \"Type\" of music"
   ]
  },
  {
   "cell_type": "code",
   "execution_count": 176,
   "id": "dd45ed8d",
   "metadata": {},
   "outputs": [
    {
     "data": {
      "image/png": "[encoded data removed]",
      "text/plain": [
       "<Figure size 1152x720 with 1 Axes>"
      ]
     },
     "metadata": {
      "needs_background": "light"
     },
     "output_type": "display_data"
    }
   ],
   "source": [
    "#set target index to \"Type\"\n",
    "df=target.set_index('Type')\n",
    "\n",
    "#plot 1D dendrogram single linkage by type\n",
    "plt.figure(figsize=(16, 10))  \n",
    "plt.title(\"Single Dendrogram by Type\")  \n",
    "S=dendrogram(s_link,labels=df.index,leaf_font_size=10)"
   ]
  },
  {
   "cell_type": "code",
   "execution_count": 177,
   "id": "c174ba30",
   "metadata": {},
   "outputs": [
    {
     "data": {
      "image/png": "[encoded data removed]",
      "text/plain": [
       "<Figure size 1152x720 with 1 Axes>"
      ]
     },
     "metadata": {
      "needs_background": "light"
     },
     "output_type": "display_data"
    }
   ],
   "source": [
    "#plot 2D dendrogram complete linakge by type\n",
    "plt.figure(figsize=(16, 10))  \n",
    "plt.title(\"Complete Dendrogram by Type\")  \n",
    "C=dendrogram(c_link,labels=df.index,leaf_font_size=10)"
   ]
  },
  {
   "cell_type": "code",
   "execution_count": 178,
   "id": "9d6fcea9",
   "metadata": {},
   "outputs": [
    {
     "data": {
      "image/png": "[encoded data removed]",
      "text/plain": [
       "<Figure size 1152x720 with 1 Axes>"
      ]
     },
     "metadata": {
      "needs_background": "light"
     },
     "output_type": "display_data"
    }
   ],
   "source": [
    "#plot 3D dendrogram average linkage by type\n",
    "plt.figure(figsize=(16, 10))  \n",
    "plt.title(\"Average Dendrogram By Type\")  \n",
    "A=dendrogram(a_link, labels=df.index, leaf_font_size=10)"
   ]
  },
  {
   "cell_type": "markdown",
   "id": "69bbe666",
   "metadata": {},
   "source": [
    "#### Question 2E:\n",
    "Report out the results of the dendrogram, but label the samples by the musical \"Artist\""
   ]
  },
  {
   "cell_type": "code",
   "execution_count": 179,
   "id": "33f88735",
   "metadata": {},
   "outputs": [
    {
     "data": {
      "image/png": "[encoded data removed]",
      "text/plain": [
       "<Figure size 1152x720 with 1 Axes>"
      ]
     },
     "metadata": {
      "needs_background": "light"
     },
     "output_type": "display_data"
    }
   ],
   "source": [
    "#set target index to \"Type\"\n",
    "df=target.set_index('Artist')\n",
    "\n",
    "#plot 1E dendrogram single linkage by Artist\n",
    "plt.figure(figsize=(16, 10))  \n",
    "plt.title(\"Single Dendrogram by Artist\")  \n",
    "S2 = dendrogram(s_link,labels=df.index,leaf_font_size=10)"
   ]
  },
  {
   "cell_type": "code",
   "execution_count": 180,
   "id": "24e0d8c1",
   "metadata": {},
   "outputs": [
    {
     "data": {
      "image/png": "[encoded data removed]",
      "text/plain": [
       "<Figure size 1152x720 with 1 Axes>"
      ]
     },
     "metadata": {
      "needs_background": "light"
     },
     "output_type": "display_data"
    }
   ],
   "source": [
    "#plot 2E dendrogram complete linkage by Artist\n",
    "plt.figure(figsize=(16, 10))  \n",
    "plt.title(\"Complete Dendrogram by Artist\")  \n",
    "C2 = dendrogram(c_link,labels=df.index,leaf_font_size=10)"
   ]
  },
  {
   "cell_type": "code",
   "execution_count": 183,
   "id": "9ec99f32",
   "metadata": {},
   "outputs": [
    {
     "data": {
      "image/png": "[encoded data removed]",
      "text/plain": [
       "<Figure size 1152x720 with 1 Axes>"
      ]
     },
     "metadata": {
      "needs_background": "light"
     },
     "output_type": "display_data"
    }
   ],
   "source": [
    "#plot 1E dendrogram average linkage by Artist\n",
    "plt.figure(figsize=(16, 10))  \n",
    "plt.title(\"Average Dendrogram By Artist\")  \n",
    "A2 = dendrogram(a_link, labels=df.index, leaf_font_size=10)"
   ]
  },
  {
   "cell_type": "markdown",
   "id": "d85b6dca",
   "metadata": {},
   "source": [
    "#### Question 2F:\n",
    "Which method seems best? Explain why."
   ]
  },
  {
   "cell_type": "markdown",
   "id": "d5efa70d",
   "metadata": {},
   "source": [
    "The complete linkage method seems best. For both dendrograms labeld by \"Type\" and \"Artist\" it yielded four clusters.\n",
    "Compared to the other two methods of linkage they yielded two to three clusters. I would say that a cluster of four would be more precise than a cluster of 2/3. "
   ]
  },
  {
   "cell_type": "code",
   "execution_count": null,
   "id": "ebcaee1b",
   "metadata": {},
   "outputs": [],
   "source": []
  }
 ],
 "metadata": {
  "kernelspec": {
   "display_name": "cs4821ENV",
   "language": "python",
   "name": "cs4821env"
  },
  "language_info": {
   "codemirror_mode": {
    "name": "ipython",
    "version": 3
   },
   "file_extension": ".py",
   "mimetype": "text/x-python",
   "name": "python",
   "nbconvert_exporter": "python",
   "pygments_lexer": "ipython3",
   "version": "3.10.0"
  }
 },
 "nbformat": 4,
 "nbformat_minor": 5
}

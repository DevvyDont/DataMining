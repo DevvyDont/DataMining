{
 "cells": [
  {
   "cell_type": "markdown",
   "id": "d18e6d1b",
   "metadata": {},
   "source": [
    "## Assignment - A4.part2\n",
    "### Devin Hall, Tyler Birnie\n",
    "### Due: 4-3-22 @ 11:59pm\n",
    "Some pre-requisites we will need for this project"
   ]
  },
  {
   "cell_type": "code",
   "execution_count": null,
   "id": "b7c74e2e",
   "metadata": {},
   "outputs": [],
   "source": []
  },
  {
   "cell_type": "markdown",
   "id": "f1e2c3f7",
   "metadata": {},
   "source": [
    "### Question 1: NBA Data"
   ]
  },
  {
   "cell_type": "markdown",
   "id": "c2dca62b",
   "metadata": {},
   "source": [
    "#### Question 1A: \n",
    "Load the data of NAB plays in the 2018-2019 season.\n",
    "First, filter the players to only consider those who have played in more than 20 games. The analysis will ignore the first 7 columns as well as ignore the columns of statistics of prefectages (FG%, 3P%, 2P%,eFG%,FT%)"
   ]
  },
  {
   "cell_type": "code",
   "execution_count": null,
   "id": "42470d68",
   "metadata": {},
   "outputs": [],
   "source": []
  },
  {
   "cell_type": "markdown",
   "id": "89fd95ad",
   "metadata": {},
   "source": [
    "#### Question 1B:\n",
    "The features have different ranges, therefore we should scale the date before considering the clustering analysis. Scal the data using min-max normalization with range of [0,1]\n",
    "\n",
    "Python- MinMaxScaler from sklearn.preprocessing"
   ]
  },
  {
   "cell_type": "code",
   "execution_count": null,
   "id": "fa481b1c",
   "metadata": {},
   "outputs": [],
   "source": []
  },
  {
   "cell_type": "markdown",
   "id": "fcb3f227",
   "metadata": {},
   "source": [
    "#### Question 1C:\n",
    "Run Kmeans clustering on the data with k=2, ..., 10. For each value of k, keep track of the within-cluster variation. This quantity is referred to as different terms such as \"inertia\" and total \"within-cluster sum-of-squares\"\n",
    "\n",
    "Python - KMeans from sklearn.cluster.\n",
    "\n",
    "Plot the within-cluster variation vs the values of k.\n",
    "As discussed thi value is alwasys decresasing, therefore it is difficult to use for selecting the _best_ value of k."
   ]
  },
  {
   "cell_type": "code",
   "execution_count": null,
   "id": "8d20e191",
   "metadata": {},
   "outputs": [],
   "source": []
  },
  {
   "cell_type": "markdown",
   "id": "11909cf6",
   "metadata": {},
   "source": [
    "#### Question 1D:\n",
    "Determine the \"best\" number ofclusters using gap statistic. \n",
    "Python- gapstat.py available on Canvas with B1=50."
   ]
  },
  {
   "cell_type": "code",
   "execution_count": null,
   "id": "f973aac8",
   "metadata": {},
   "outputs": [],
   "source": []
  },
  {
   "cell_type": "markdown",
   "id": "db8dea47",
   "metadata": {},
   "source": [
    "#### Question 1E: \n",
    "Create a data frame with the mean skill values (centers) of each group, using the best number of groups determined in (d), as a table or data frame. \n",
    "\n",
    "You may want to run Kmeans again with the best value of k.\n",
    "\n",
    "Print out the statistics for each group (rows) and columns of \"MP',\"FG\",\"3P\", and \"FT\"."
   ]
  },
  {
   "cell_type": "code",
   "execution_count": null,
   "id": "620b768d",
   "metadata": {},
   "outputs": [],
   "source": []
  },
  {
   "cell_type": "markdown",
   "id": "9ac67b16",
   "metadata": {},
   "source": [
    "#### Question 1F:\n",
    "Report the same statistics as in (e), but using the original data scaling (reverse the scalling back to the original data range)."
   ]
  },
  {
   "cell_type": "code",
   "execution_count": null,
   "id": "0004545c",
   "metadata": {},
   "outputs": [],
   "source": []
  },
  {
   "cell_type": "markdown",
   "id": "abf99300",
   "metadata": {},
   "source": [
    "#### Question 1G:\n",
    "Apply PCA to the filtered nba data (make sure to apply the necessary scaling for running PCA). Plot the data in the first two principal components, coloed by the best group lables found in (e)."
   ]
  },
  {
   "cell_type": "code",
   "execution_count": null,
   "id": "f30a6c87",
   "metadata": {},
   "outputs": [],
   "source": []
  },
  {
   "cell_type": "code",
   "execution_count": null,
   "id": "4cceae6b",
   "metadata": {},
   "outputs": [],
   "source": []
  }
 ],
 "metadata": {
  "kernelspec": {
   "display_name": "cs4821ENV",
   "language": "python",
   "name": "cs4821env"
  },
  "language_info": {
   "codemirror_mode": {
    "name": "ipython",
    "version": 3
   },
   "file_extension": ".py",
   "mimetype": "text/x-python",
   "name": "python",
   "nbconvert_exporter": "python",
   "pygments_lexer": "ipython3",
   "version": "3.10.0"
  }
 },
 "nbformat": 4,
 "nbformat_minor": 5
}

{
 "cells": [
  {
   "cell_type": "markdown",
   "id": "3d1d2c09",
   "metadata": {},
   "source": [
    "## Assignment - A2.part2\n",
    "### Devin Hall, Tyler Birnie\n",
    "### Due: 3-2-22 @ 11:59pm\n",
    "Some pre-requisites we will need for this project\n"
   ]
  },
  {
   "cell_type": "code",
   "execution_count": null,
   "id": "9a7dae07",
   "metadata": {},
   "outputs": [],
   "source": []
  },
  {
   "cell_type": "markdown",
   "id": "e2b7a1e7",
   "metadata": {},
   "source": [
    "## (Question 1) For the following data set, compute the:"
   ]
  },
  {
   "cell_type": "markdown",
   "id": "a4d6581d",
   "metadata": {},
   "source": [
    "### 1.a: \n",
    "True positive rate"
   ]
  },
  {
   "cell_type": "code",
   "execution_count": null,
   "id": "f862f5dd",
   "metadata": {},
   "outputs": [],
   "source": []
  },
  {
   "cell_type": "markdown",
   "id": "c2022299",
   "metadata": {},
   "source": [
    "### 1.b: \n",
    "False postive rate"
   ]
  },
  {
   "cell_type": "code",
   "execution_count": null,
   "id": "89de6d56",
   "metadata": {},
   "outputs": [],
   "source": []
  },
  {
   "cell_type": "markdown",
   "id": "73a40bf4",
   "metadata": {},
   "source": [
    "### 1.c: \n",
    "Accuracy"
   ]
  },
  {
   "cell_type": "code",
   "execution_count": null,
   "id": "45ef7448",
   "metadata": {},
   "outputs": [],
   "source": []
  },
  {
   "cell_type": "markdown",
   "id": "de49f175",
   "metadata": {},
   "source": [
    "Threshold the classifier output, Ypred, at each possible value (use a greater than equal to\n",
    "comparison).\n",
    "Report the results as a matrix/table with rows corresponding with the 10 thresholds and\n",
    "columns reporting the different thresholds, the true positive rate (TPR), false positive rate\n",
    "(FPR), and accuracy (ACC)."
   ]
  },
  {
   "cell_type": "markdown",
   "id": "cf620487",
   "metadata": {},
   "source": [
    "## (Question 2)\n",
    "se the results from Question 1 to plot the ROC curve for the data. Note, plot this\n",
    "curve using the standard plotting tools rather than any special library/package available in R,\n",
    "Python, or Matlab for making ROC plots."
   ]
  },
  {
   "cell_type": "code",
   "execution_count": null,
   "id": "00c38498",
   "metadata": {},
   "outputs": [],
   "source": []
  },
  {
   "cell_type": "markdown",
   "id": "b98a6cb8",
   "metadata": {},
   "source": [
    "## (Question 3) Classificaiton of Spam"
   ]
  },
  {
   "cell_type": "markdown",
   "id": "fe8e8f99",
   "metadata": {},
   "source": [
    "### 3.a: \n",
    "Load in the spambase data"
   ]
  },
  {
   "cell_type": "code",
   "execution_count": null,
   "id": "a466d214",
   "metadata": {},
   "outputs": [],
   "source": []
  },
  {
   "cell_type": "markdown",
   "id": "7e6584b8",
   "metadata": {},
   "source": [
    "### 3.b: \n",
    "To see whether a classifier is actually working, we should compare it to a constant classifier\n",
    "which always predicts the same class, no matter what the input features actually are"
   ]
  },
  {
   "cell_type": "markdown",
   "id": "12fca1dc",
   "metadata": {},
   "source": [
    "#### 3.b.i:\n",
    "What fraction of the e-mails are actually spam?"
   ]
  },
  {
   "cell_type": "code",
   "execution_count": null,
   "id": "a5bb5f1b",
   "metadata": {},
   "outputs": [],
   "source": []
  },
  {
   "cell_type": "markdown",
   "id": "4a6c8949",
   "metadata": {},
   "source": [
    "#### 3.b.ii: \n",
    "What should the constant classifier predict?"
   ]
  },
  {
   "cell_type": "code",
   "execution_count": null,
   "id": "5b8df0cc",
   "metadata": {},
   "outputs": [],
   "source": []
  },
  {
   "cell_type": "markdown",
   "id": "fff390c1",
   "metadata": {},
   "source": [
    "#### 3.b.iii: \n",
    "What is the error rate of the constant classifier? "
   ]
  },
  {
   "cell_type": "code",
   "execution_count": null,
   "id": "f1fed058",
   "metadata": {},
   "outputs": [],
   "source": []
  },
  {
   "cell_type": "markdown",
   "id": "5f1e5283",
   "metadata": {},
   "source": [
    "### 3.c: Model Selection and Evaluation: Three-fold Split"
   ]
  },
  {
   "cell_type": "markdown",
   "id": "d08f4f87",
   "metadata": {},
   "source": [
    "Split the data into training, validation and test sets with 60, 20, and 20% of the data\n",
    "respectively. Make sure to split the data such that the distribution of class labels is\n",
    "approximately equal across splits - “stratify”."
   ]
  },
  {
   "cell_type": "markdown",
   "id": "4abb1405",
   "metadata": {},
   "source": [
    "#### 3.c.i:\n",
    "What fraction of each set: training, validation, and test sets are spam?"
   ]
  },
  {
   "cell_type": "code",
   "execution_count": null,
   "id": "c4ec7c7c",
   "metadata": {},
   "outputs": [],
   "source": []
  },
  {
   "cell_type": "markdown",
   "id": "afd62216",
   "metadata": {},
   "source": [
    "#### 3.c.ii:\n",
    "Check that two predictor variables in the data set have approximatly the same distribution in each of the sets\n",
    "Set the seed for the random generator to ”5”, Python - random state and R - set.seed(5).\n",
    "\n",
    "Helpful functions: R - sample, Matlab - cvpartition, Python - train test split from\n",
    "sklearn.model selection"
   ]
  },
  {
   "cell_type": "code",
   "execution_count": null,
   "id": "efe7cb36",
   "metadata": {},
   "outputs": [],
   "source": []
  },
  {
   "cell_type": "markdown",
   "id": "47d6470d",
   "metadata": {},
   "source": [
    "### 3.d: Scale the predictor data to values between [0,1] using MinMax scalling.\n",
    "make sure to use training data set to set scaling parameters and apply those parameters to\n",
    "scaling the validation and testing data.\n",
    "Helpful functions: R - preProcess from caret, Python - MinMaxScaler from\n",
    "sklearn.preprocessing"
   ]
  },
  {
   "cell_type": "code",
   "execution_count": null,
   "id": "6b51543a",
   "metadata": {},
   "outputs": [],
   "source": []
  },
  {
   "cell_type": "markdown",
   "id": "ac052618",
   "metadata": {},
   "source": [
    "### 3.e: KNN - K Nearest Neighbors\n",
    "For k of odd values, 5-51, fit a k-nearest-neighbor classifier to the training data. Evaluate these classifiers on the validation data. Select the best value of k (minimizes the validation error). Retrain the best model on train+validation and evaluate it on the testing data.\n",
    "\n",
    "Helpful functions: Python- KNeighborsClassifier from sklearn.neighbors"
   ]
  },
  {
   "cell_type": "markdown",
   "id": "9d6d2fca",
   "metadata": {},
   "source": [
    "#### 3.e.i:\n",
    "Report the training, validation and test error in a plot with x-axis as values of k and the y-axis error."
   ]
  },
  {
   "cell_type": "code",
   "execution_count": null,
   "id": "17ea6cf2",
   "metadata": {},
   "outputs": [],
   "source": []
  },
  {
   "cell_type": "markdown",
   "id": "1f6823b3",
   "metadata": {},
   "source": [
    "#### 3.e.ii:\n",
    "Report which value of k was selected as best. "
   ]
  },
  {
   "cell_type": "code",
   "execution_count": null,
   "id": "46f67a83",
   "metadata": {},
   "outputs": [],
   "source": []
  },
  {
   "cell_type": "markdown",
   "id": "28c29077",
   "metadata": {},
   "source": [
    "### 3.f: Decision Trees"
   ]
  },
  {
   "cell_type": "markdown",
   "id": "29ae9f23",
   "metadata": {},
   "source": [
    "#### 3.f.i:\n",
    "Construct a classification tree to predict spam on the training data. Then print out the tree found\n",
    "Helpful functions: Python - DecisionTreeClassifier, export=graphviz from sklearn.tree"
   ]
  },
  {
   "cell_type": "code",
   "execution_count": null,
   "id": "e44636a2",
   "metadata": {},
   "outputs": [],
   "source": []
  },
  {
   "cell_type": "markdown",
   "id": "5061e279",
   "metadata": {},
   "source": [
    "#### 3.f.ii: \n",
    "Which selection criteria is used by default when learning the tree model?"
   ]
  },
  {
   "cell_type": "code",
   "execution_count": null,
   "id": "dfe37d1e",
   "metadata": {},
   "outputs": [],
   "source": []
  },
  {
   "cell_type": "markdown",
   "id": "927064f8",
   "metadata": {},
   "source": [
    "### 3.g: Naive Bayes\n",
    "Use a Naive Bayes classifier to predict whether the emails are spam. Report the training and testing accuracy, sensitivity, specificity, and AUC. \n",
    "Helpful functions: Python - GaussianNB from sklearn.naive bayes. \n",
    "Python - sklearn.metrics library"
   ]
  },
  {
   "cell_type": "code",
   "execution_count": null,
   "id": "897361ef",
   "metadata": {},
   "outputs": [],
   "source": []
  },
  {
   "cell_type": "markdown",
   "id": "480842bb",
   "metadata": {},
   "source": [
    "### 3.f: Model Selection / Evaluation: Grid Search with Cross-Validation-KFolds\n",
    "We will now incorporate cross-validation into the model selection and evaluation process\n",
    "and use it for the next two parts of the question, Q3(i) and Q3(j).\n",
    "First, split out the test set with 20% of the data. \n",
    "Helpful functions: Python - train test split from sklearn.model_selection."
   ]
  },
  {
   "cell_type": "code",
   "execution_count": null,
   "id": "9932b01e",
   "metadata": {},
   "outputs": [],
   "source": []
  },
  {
   "cell_type": "markdown",
   "id": "a82c6139",
   "metadata": {},
   "source": [
    "### 3.i: Support Vector Machines\n",
    "Learn SVM modesl to predict spam using 10-fold cross-validation on the train+validaiton data to select the best parameters."
   ]
  },
  {
   "cell_type": "markdown",
   "id": "39e1e761",
   "metadata": {},
   "source": [
    "#### 3.i.1: \n",
    "The remaining train+validation set, from Q3(h), will be split using 10-fold cross-validation. You will do cross-validation by hand, that is with the functions:\n",
    "Helpful functions: Python - StratifiedKFold from sklearn.model selection."
   ]
  },
  {
   "cell_type": "code",
   "execution_count": null,
   "id": "2facaa4f",
   "metadata": {},
   "outputs": [],
   "source": []
  },
  {
   "cell_type": "markdown",
   "id": "515208ca",
   "metadata": {},
   "source": [
    "#### 3.i.2: \n",
    "You should train each of the models on the training set and evaluate each model on the validation set. You will examine cost parameters of [10^−2, 10^−1, 1, 10] for both the linear and RBF kernel. \n",
    "Report out in a table/dataframe for each parameter combination (cost and kernel) the following mean performances on the validation\n",
    "set: accuracy, precision, and recall."
   ]
  },
  {
   "cell_type": "code",
   "execution_count": null,
   "id": "a70f85f4",
   "metadata": {},
   "outputs": [],
   "source": []
  },
  {
   "cell_type": "markdown",
   "id": "1588e5fc",
   "metadata": {},
   "source": [
    "#### 3.i.3: \n",
    "Report the best parameter combination (cost and kernel) using accuracy\n",
    "as the criteria."
   ]
  },
  {
   "cell_type": "code",
   "execution_count": null,
   "id": "3e07f1af",
   "metadata": {},
   "outputs": [],
   "source": []
  },
  {
   "cell_type": "markdown",
   "id": "054f0f58",
   "metadata": {},
   "source": [
    "#### 3.i.4: \n",
    "Retrain a model with the best parameters on train+validation and evaluate it on the testing data. Report this model’s accuracy, precision and recall.\n",
    "Helpful Functions: Python- SVC from sklearn.svm"
   ]
  },
  {
   "cell_type": "code",
   "execution_count": null,
   "id": "b95da574",
   "metadata": {},
   "outputs": [],
   "source": []
  },
  {
   "cell_type": "markdown",
   "id": "c588d1fc",
   "metadata": {},
   "source": [
    "### 3.j: Ensemble Methods - Part 1\n",
    "Learn boostin gmodesl to predict spam using 10-fold cross-validation on th etrain+validaion data to select the best parameters"
   ]
  },
  {
   "cell_type": "markdown",
   "id": "fa447b67",
   "metadata": {},
   "source": [
    "#### 3.j.i: \n",
    "You will use the same method as in Q3(i)i to set up and perform the cross-validation by hand."
   ]
  },
  {
   "cell_type": "code",
   "execution_count": null,
   "id": "6a581d67",
   "metadata": {},
   "outputs": [],
   "source": []
  },
  {
   "cell_type": "markdown",
   "id": "533c7373",
   "metadata": {},
   "source": [
    "#### 3.j.ii:\n",
    "Train AdaBoost models with the number of decision stumps to be [10, 25,\n",
    "50, 100]. Report out in a table/datafram the mean F1 score for each parameter value.\n",
    "Functions: Python - AdaBoostClassifier from sklearn.ensemble"
   ]
  },
  {
   "cell_type": "code",
   "execution_count": null,
   "id": "01711f50",
   "metadata": {},
   "outputs": [],
   "source": []
  },
  {
   "cell_type": "markdown",
   "id": "e2be68f3",
   "metadata": {},
   "source": [
    "#### 3.j.iii\n",
    "Report out the best parameter value"
   ]
  },
  {
   "cell_type": "code",
   "execution_count": null,
   "id": "fcfbac37",
   "metadata": {},
   "outputs": [],
   "source": []
  },
  {
   "cell_type": "markdown",
   "id": "10e8547d",
   "metadata": {},
   "source": [
    "#### 3.j.iv:\n",
    "Retrain a model with the best parameters on train+validation and evaluate it on the testing data. Report this model’s F1 score."
   ]
  },
  {
   "cell_type": "code",
   "execution_count": null,
   "id": "89858422",
   "metadata": {},
   "outputs": [],
   "source": []
  },
  {
   "cell_type": "markdown",
   "id": "013fdc5a",
   "metadata": {},
   "source": [
    "### 3.k:\n",
    "Model Selection and Evaluation: Grid Search with Cross-Validation-GridSearchCV\n",
    "\n",
    "We will again perform a GridSearch with cross-validation on the train+validation set, but here we will make use of the functions that do the cross-validation internally. \n",
    "\n",
    "Functions: Python - GridSearchCV from sklearn.model selection. \n",
    "\n",
    "Here again, start by splitting out the test set with 20% of the data. \n",
    "\n",
    "Helpful functions: Python -train test split from sklearn.model selection."
   ]
  },
  {
   "cell_type": "code",
   "execution_count": null,
   "id": "0762bc03",
   "metadata": {},
   "outputs": [],
   "source": []
  },
  {
   "cell_type": "markdown",
   "id": "23082f5e",
   "metadata": {},
   "source": [
    "### 3.l: Ensemble Methods - Part 2\n",
    "Let's examine bagging ensamble approaches for predicting spam"
   ]
  },
  {
   "cell_type": "markdown",
   "id": "d0ec078b",
   "metadata": {},
   "source": [
    "#### 3.l.i:\n",
    "The remaining train+validation set, from Q3(k), will be using 10-fold cross-validation with the GridSearchCV functions.\n",
    "Functions: Python - GridSearchCV from sklearn.model selection"
   ]
  },
  {
   "cell_type": "code",
   "execution_count": null,
   "id": "c5c186bb",
   "metadata": {},
   "outputs": [],
   "source": []
  },
  {
   "cell_type": "markdown",
   "id": "01d8e9bb",
   "metadata": {},
   "source": [
    "#### 3.l.ii: \n",
    "Train Random Forest models with parameters of the maximum number of\n",
    "features [2, 4, 8, 16] and number of estimators of [25, 50, 100]. \n",
    "Report the mean AUC on validation set for the different parameter combinations.\n",
    "Functions: Python - RandomForestClassifier from sklearn.ensemble"
   ]
  },
  {
   "cell_type": "code",
   "execution_count": null,
   "id": "35569a57",
   "metadata": {},
   "outputs": [],
   "source": []
  },
  {
   "cell_type": "markdown",
   "id": "8a25e8bb",
   "metadata": {},
   "source": [
    "#### 3.l.iii:\n",
    "Report out the best parameter values"
   ]
  },
  {
   "cell_type": "code",
   "execution_count": null,
   "id": "db8a47c5",
   "metadata": {},
   "outputs": [],
   "source": []
  },
  {
   "cell_type": "markdown",
   "id": "45a67e32",
   "metadata": {},
   "source": [
    "#### 3.l.iv: \n",
    "Retrain a model with the best parameters on train+validation and evaluate it on the testing data. Resport this model's AUC."
   ]
  },
  {
   "cell_type": "code",
   "execution_count": null,
   "id": "8e14a877",
   "metadata": {},
   "outputs": [],
   "source": []
  },
  {
   "cell_type": "markdown",
   "id": "fbbffd6d",
   "metadata": {},
   "source": [
    "## (Question 4) NBA Baskeball - Using Pipelines / Workflows\n",
    "For this problem you will use a data set of 9,958 NBA basketball games (the 2016-2019 seasons).\n",
    "This dataset of the games and the associated properties has been collected from NBA website\n",
    "API - https://www.nba.com/. You will use this data set with the goal to predict whether\n",
    "a team will win a game"
   ]
  },
  {
   "cell_type": "markdown",
   "id": "92780a94",
   "metadata": {},
   "source": [
    "The data set variables consist of the following:\n",
    "- SEASON ID, GAME ID, GAME DATE - variables that are to be ignored for prediction, but here\n",
    "to recognize the individual samples\n",
    "- TEAM A, TEAM B, MATCHUP - variables describing the two teams in a game.\n",
    "- WON - This is the target / class feature to be predicted.\n",
    "The remaining variables are predictor variables for the models. They come in pairs\n",
    "“* DIFF” and “* A” reporting the given statistic as the difference between Team A and\n",
    "Team B and the statistic itself for Team A.\n",
    "- FG PCT DIFF, FG PCT A - field goal percentage.\n",
    "- FGM DIFF, FGM A - number of field goals made.\n",
    "- FG3 PCT DIFF, FG3 PCT A - percentage of 3-point shots made.\n",
    "- FG3M DIFF, FG3M A - number of 3-point shots made.\n",
    "- FT PCT DIFF, FT PCT A - percentage of free throws made.\n",
    "- FTM DIFF, FTM A - number of free throws made.\n",
    "- REB DIFF, REB A - number of rebounds.\n",
    "- AST DIFF, AST A - number of assists.\n",
    "- STL DIFF, STL A - number of steals.\n",
    "- TOV DIFF, TOV A - number of turnovers.\n",
    "- PF DIFF, PF A - number of personal fouls.\n",
    "\n",
    "For this question, you will make use of the pipeline and workflow functions to simplify the code needed to select and evaluate multiple methods.\n",
    "Functions: Python - make pipeline in sklearn.pipeline"
   ]
  },
  {
   "cell_type": "markdown",
   "id": "5bae8545",
   "metadata": {},
   "source": [
    "### 4.a: \n",
    "Load in the NBA data.\n",
    "There are a few missing values, remove any rows that contains missing values. How many samples remain?\n"
   ]
  },
  {
   "cell_type": "code",
   "execution_count": null,
   "id": "d21860c2",
   "metadata": {},
   "outputs": [],
   "source": []
  },
  {
   "cell_type": "markdown",
   "id": "a3e723e7",
   "metadata": {},
   "source": [
    "### 4.b: \n",
    "You will not use the following columns for your predictors: SEASON ID, GAME ID, GAME DATE, TEAM A, TEAM B, MATCHUP. \n",
    "The WON column will become what you are trying to predict and the remaining columns your input variables."
   ]
  },
  {
   "cell_type": "code",
   "execution_count": null,
   "id": "22f96585",
   "metadata": {},
   "outputs": [],
   "source": []
  },
  {
   "cell_type": "markdown",
   "id": "e232da4e",
   "metadata": {},
   "source": [
    "### 4.c: \n",
    "Split off a random 20% of the data for testing. Set the seed for the random generator to ”5”.\n",
    "Python - random state and R - set.seed(5).\n",
    "Helpful Python - train test split from sklearn.model selection."
   ]
  },
  {
   "cell_type": "code",
   "execution_count": null,
   "id": "12b04a8b",
   "metadata": {},
   "outputs": [],
   "source": []
  },
  {
   "cell_type": "markdown",
   "id": "1dde5deb",
   "metadata": {},
   "source": [
    "### 4.d: \n",
    "Parameter Selection\n",
    "\n",
    "You will set up the pipeline/workflow to consider using both MinMax and Standard scaling\n",
    "approaches.\n",
    "You will consider the following four classification methods with the hyper-parameters\n",
    "specified:\n",
    "- KNN with number of neighbors = [3, 7, 11, 15, 19, 23]\n",
    "- DT with a maximum depth of the tree as [3, 5, 10]\n",
    "- SVM with a polynomial kernel with degree = [1, 2, 3, 4] and a RBF kernel and a cost parameter of [0.01, 0.1, 1]\n",
    "- RF with maximum number of features [2, 4, 8] and number of estimators of [25, 50, 100].\n",
    "When selecting the best parameters with the train+validation data use 5-fold cross-validation and use F1 measure to select the best parameters"
   ]
  },
  {
   "cell_type": "code",
   "execution_count": null,
   "id": "6cff1b55",
   "metadata": {},
   "outputs": [],
   "source": []
  },
  {
   "cell_type": "markdown",
   "id": "9dc40d5f",
   "metadata": {},
   "source": [
    "### 4.e: \n",
    "Report Results\n",
    "\n",
    "Once the best parameters for each model are found, retrain a model with those parameters and evaluate the performance on the test set.\n",
    "Report in a table the following information for each model: the model type (KNN, DT, SVM, RF), the best parameters selected, \n",
    "Accuracy, Precision, Recall, F1, AUC on the test set."
   ]
  },
  {
   "cell_type": "code",
   "execution_count": null,
   "id": "5d0d28f4",
   "metadata": {},
   "outputs": [],
   "source": []
  }
 ],
 "metadata": {
  "celltoolbar": "Raw Cell Format",
  "kernelspec": {
   "display_name": "Python 3 (ipykernel)",
   "language": "python",
   "name": "python3"
  },
  "language_info": {
   "codemirror_mode": {
    "name": "ipython",
    "version": 3
   },
   "file_extension": ".py",
   "mimetype": "text/x-python",
   "name": "python",
   "nbconvert_exporter": "python",
   "pygments_lexer": "ipython3",
   "version": "3.7.11"
  }
 },
 "nbformat": 4,
 "nbformat_minor": 5
}

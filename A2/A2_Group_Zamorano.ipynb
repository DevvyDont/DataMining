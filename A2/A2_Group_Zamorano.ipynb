{
 "cells": [
  {
   "cell_type": "markdown",
   "id": "3d1d2c09",
   "metadata": {
    "pycharm": {
     "name": "#%% md\n"
    }
   },
   "source": [
    "## Assignment - A2.part2\n",
    "### Devin Hall, Tyler Birnie\n",
    "### Due: 3-2-22 @ 11:59pm\n",
    "Some pre-requisites we will need for this project\n"
   ]
  },
  {
   "cell_type": "code",
   "execution_count": 271,
   "id": "9a7dae07",
   "metadata": {
    "pycharm": {
     "name": "#%%\n"
    }
   },
   "outputs": [],
   "source": [
    "import pandas as pd\n",
    "import numpy as np\n",
    "import scipy\n",
    "from scipy import stats\n",
    "import math as m\n",
    "import matplotlib.pyplot as plt\n",
    "import sklearn\n",
    "from sklearn.model_selection import train_test_split\n",
    "from sklearn import preprocessing\n",
    "from sklearn.preprocessing import StandardScaler\n",
    "from sklearn.neighbors import KNeighborsClassifier\n",
    "from sklearn import metrics\n",
    "from sklearn.metrics import accuracy_score"
   ]
  },
  {
   "cell_type": "code",
   "execution_count": 272,
   "id": "f1d9372b",
   "metadata": {
    "pycharm": {
     "name": "#%%\n"
    }
   },
   "outputs": [],
   "source": [
    "# Here we define the data set used for questions 1 and 2 as a 2D matrix, with each row being sample #, Ytrue, Ypred\n",
    "QUESTION_1_2_DATA = (\n",
    "    [1, True, 0.98],\n",
    "    [2, True, 0.92],\n",
    "    [3, False, 0.87],\n",
    "    [4, True, 0.76],\n",
    "    [5, False, 0.74],\n",
    "    [6, False, 0.61],\n",
    "    [7, True, 0.57],\n",
    "    [8, True, 0.38],\n",
    "    [9, False, 0.34],\n",
    "    [10, False, 0.32],\n",
    ")\n",
    "\n",
    "# Some enums to make array indexing more readable\n",
    "SAMPLE_COLUMN = 0\n",
    "YTRUE_COLUMN = 1\n",
    "YPRED_COLUMN = 2\n",
    "\n",
    "# A helper class to reduce chance of human error when dealing with confusion matrix data set\n",
    "class ConfusionMatrixResult:\n",
    "    def __init__(self, tp, fp, tn, fn):\n",
    "        self.true_positives = tp\n",
    "        self.false_positives = fp\n",
    "        self.true_negatives = tn\n",
    "        self.false_negatives = fn\n",
    "\n",
    "\n",
    "# A helper function to take in a 2D array structured like above, and return # of true positives, false positives, true negatives, false negatives at a certain threshold\n",
    "# contained as a ConfusionMatrixResult\n",
    "def get_confusion_matrix(data, threshold) -> ConfusionMatrixResult:\n",
    "\n",
    "    # setup the counts of the confusion matrix\n",
    "    true_pos = 0\n",
    "    false_pos = 0\n",
    "    true_neg = 0\n",
    "    false_neg = 0\n",
    "\n",
    "    # Loop through all the data\n",
    "    for row in data:\n",
    "        # Extract the data\n",
    "        sample_num: int = row[SAMPLE_COLUMN]\n",
    "        actual_state: bool = row[YTRUE_COLUMN]\n",
    "        predicted_state: float = row[YPRED_COLUMN]\n",
    "\n",
    "        # Does this data fit in the threshold? i.e. is the predicted state >= threshold we defined\n",
    "        in_threshold = predicted_state >= threshold\n",
    "\n",
    "        # First consider the samples that are actually positive, (actual_state == True)\n",
    "        if actual_state:\n",
    "\n",
    "            # Is this in the threshold? i.e., did we make a correct prediction?\n",
    "            if in_threshold:\n",
    "                true_pos += 1  # This is a true positive\n",
    "            else:\n",
    "                false_neg += 1  # Our prediction was wrong, this will be marked as a false negative\n",
    "\n",
    "        else:\n",
    "            # Consider samples that are not positive, (actual_state == False)\n",
    "            # If it isn't in the threshold, that means we guessed correctly that it is negative\n",
    "            if not in_threshold:\n",
    "                true_neg += 1  # This is a true negative\n",
    "            else:\n",
    "                false_pos += 1  # Our prediction was wrong, we thought this was going to be positive but it wasn't\n",
    "\n",
    "    # Now that we looped through all the data, let's return the confusion matrix\n",
    "    return ConfusionMatrixResult(tp=true_pos, fp=false_pos, tn=true_neg, fn=false_neg)"
   ]
  },
  {
   "cell_type": "markdown",
   "id": "e2b7a1e7",
   "metadata": {
    "pycharm": {
     "name": "#%% md\n"
    }
   },
   "source": [
    "## (Question 1) For the following data set, compute the:"
   ]
  },
  {
   "cell_type": "markdown",
   "id": "a4d6581d",
   "metadata": {
    "pycharm": {
     "name": "#%% md\n"
    }
   },
   "source": [
    "### 1.a: \n",
    "True positive rate"
   ]
  },
  {
   "cell_type": "code",
   "execution_count": 273,
   "id": "f862f5dd",
   "metadata": {
    "pycharm": {
     "name": "#%%\n"
    }
   },
   "outputs": [
    {
     "data": {
      "text/plain": "    Threshold  TPR\n1        0.98  0.2\n2        0.92  0.4\n3        0.87  0.4\n4        0.76  0.6\n5        0.74  0.6\n6        0.61  0.6\n7        0.57  0.8\n8        0.38  1.0\n9        0.34  1.0\n10       0.32  1.0",
      "text/html": "<div>\n<style scoped>\n    .dataframe tbody tr th:only-of-type {\n        vertical-align: middle;\n    }\n\n    .dataframe tbody tr th {\n        vertical-align: top;\n    }\n\n    .dataframe thead th {\n        text-align: right;\n    }\n</style>\n<table border=\"1\" class=\"dataframe\">\n  <thead>\n    <tr style=\"text-align: right;\">\n      <th></th>\n      <th>Threshold</th>\n      <th>TPR</th>\n    </tr>\n  </thead>\n  <tbody>\n    <tr>\n      <th>1</th>\n      <td>0.98</td>\n      <td>0.2</td>\n    </tr>\n    <tr>\n      <th>2</th>\n      <td>0.92</td>\n      <td>0.4</td>\n    </tr>\n    <tr>\n      <th>3</th>\n      <td>0.87</td>\n      <td>0.4</td>\n    </tr>\n    <tr>\n      <th>4</th>\n      <td>0.76</td>\n      <td>0.6</td>\n    </tr>\n    <tr>\n      <th>5</th>\n      <td>0.74</td>\n      <td>0.6</td>\n    </tr>\n    <tr>\n      <th>6</th>\n      <td>0.61</td>\n      <td>0.6</td>\n    </tr>\n    <tr>\n      <th>7</th>\n      <td>0.57</td>\n      <td>0.8</td>\n    </tr>\n    <tr>\n      <th>8</th>\n      <td>0.38</td>\n      <td>1.0</td>\n    </tr>\n    <tr>\n      <th>9</th>\n      <td>0.34</td>\n      <td>1.0</td>\n    </tr>\n    <tr>\n      <th>10</th>\n      <td>0.32</td>\n      <td>1.0</td>\n    </tr>\n  </tbody>\n</table>\n</div>"
     },
     "execution_count": 273,
     "metadata": {},
     "output_type": "execute_result"
    }
   ],
   "source": [
    "# Let's get the confusion matrices of 10 thresholds using the prediction values\n",
    "# Use list comprehension to generate a list of all the pred columns for every row in the data\n",
    "THRESHOLDS = [row[YPRED_COLUMN] for row in QUESTION_1_2_DATA]\n",
    "\n",
    "# Now let's make a 2D array that we are going to print for the answer\n",
    "_1a_ans = []\n",
    "\n",
    "# Loop through all the different thresholds we want to use\n",
    "for thresh in THRESHOLDS:\n",
    "    # retrieve the confusion matrix using this threshold\n",
    "    confusion_matrix = get_confusion_matrix(QUESTION_1_2_DATA, thresh)\n",
    "\n",
    "    # TPR is true positives / (true positives + false negatives)\n",
    "    tpr = float(confusion_matrix.true_positives) / float(confusion_matrix.true_positives + confusion_matrix.false_negatives)\n",
    "\n",
    "    # Add this entry to the data we want to display in the format: [threshold, TPR]\n",
    "    _1a_ans.append([thresh, tpr])\n",
    "\n",
    "# Now display the data\n",
    "cols = ['Threshold', 'TPR']\n",
    "rows = [str(i+1) for i in range(10)]\n",
    "pd.DataFrame(np.asarray(_1a_ans), index=rows, columns=cols)"
   ]
  },
  {
   "cell_type": "markdown",
   "id": "c2022299",
   "metadata": {
    "pycharm": {
     "name": "#%% md\n"
    }
   },
   "source": [
    "### 1.b: \n",
    "False postive rate"
   ]
  },
  {
   "cell_type": "code",
   "execution_count": 274,
   "id": "89de6d56",
   "metadata": {
    "pycharm": {
     "name": "#%%\n"
    }
   },
   "outputs": [
    {
     "data": {
      "text/plain": "    Threshold  FPR\n1        0.98  0.0\n2        0.92  0.0\n3        0.87  0.2\n4        0.76  0.2\n5        0.74  0.4\n6        0.61  0.6\n7        0.57  0.6\n8        0.38  0.6\n9        0.34  0.8\n10       0.32  1.0",
      "text/html": "<div>\n<style scoped>\n    .dataframe tbody tr th:only-of-type {\n        vertical-align: middle;\n    }\n\n    .dataframe tbody tr th {\n        vertical-align: top;\n    }\n\n    .dataframe thead th {\n        text-align: right;\n    }\n</style>\n<table border=\"1\" class=\"dataframe\">\n  <thead>\n    <tr style=\"text-align: right;\">\n      <th></th>\n      <th>Threshold</th>\n      <th>FPR</th>\n    </tr>\n  </thead>\n  <tbody>\n    <tr>\n      <th>1</th>\n      <td>0.98</td>\n      <td>0.0</td>\n    </tr>\n    <tr>\n      <th>2</th>\n      <td>0.92</td>\n      <td>0.0</td>\n    </tr>\n    <tr>\n      <th>3</th>\n      <td>0.87</td>\n      <td>0.2</td>\n    </tr>\n    <tr>\n      <th>4</th>\n      <td>0.76</td>\n      <td>0.2</td>\n    </tr>\n    <tr>\n      <th>5</th>\n      <td>0.74</td>\n      <td>0.4</td>\n    </tr>\n    <tr>\n      <th>6</th>\n      <td>0.61</td>\n      <td>0.6</td>\n    </tr>\n    <tr>\n      <th>7</th>\n      <td>0.57</td>\n      <td>0.6</td>\n    </tr>\n    <tr>\n      <th>8</th>\n      <td>0.38</td>\n      <td>0.6</td>\n    </tr>\n    <tr>\n      <th>9</th>\n      <td>0.34</td>\n      <td>0.8</td>\n    </tr>\n    <tr>\n      <th>10</th>\n      <td>0.32</td>\n      <td>1.0</td>\n    </tr>\n  </tbody>\n</table>\n</div>"
     },
     "execution_count": 274,
     "metadata": {},
     "output_type": "execute_result"
    }
   ],
   "source": [
    "# Note, this is essentially copied from 1a with one modified line\n",
    "# Let's get the confusion matrices of 10 thresholds using the prediction values\n",
    "# Use list comprehension to generate a list of all the pred columns for every row in the data\n",
    "THRESHOLDS = [row[YPRED_COLUMN] for row in QUESTION_1_2_DATA]\n",
    "\n",
    "# Now let's make a 2D array that we are going to print for the answer\n",
    "_1b_ans = []\n",
    "\n",
    "# Loop through all the different thresholds we want to use\n",
    "for thresh in THRESHOLDS:\n",
    "    # retrieve the confusion matrix using this threshold\n",
    "    confusion_matrix = get_confusion_matrix(QUESTION_1_2_DATA, thresh)\n",
    "\n",
    "    # FPR is false positives / (false positives + true negatives)\n",
    "    fpr = float(confusion_matrix.false_positives) / float(confusion_matrix.false_positives + confusion_matrix.true_negatives)\n",
    "\n",
    "    # Add this entry to the data we want to display in the format: [threshold, TPR]\n",
    "    _1b_ans.append([thresh, fpr])\n",
    "\n",
    "# Now display the data\n",
    "cols = ['Threshold', 'FPR']\n",
    "rows = [str(i+1) for i in range(10)]\n",
    "pd.DataFrame(np.asarray(_1b_ans), index=rows, columns=cols)"
   ]
  },
  {
   "cell_type": "markdown",
   "id": "73a40bf4",
   "metadata": {
    "pycharm": {
     "name": "#%% md\n"
    }
   },
   "source": [
    "### 1.c: \n",
    "Accuracy"
   ]
  },
  {
   "cell_type": "code",
   "execution_count": 275,
   "id": "45ef7448",
   "metadata": {
    "pycharm": {
     "name": "#%%\n"
    }
   },
   "outputs": [
    {
     "data": {
      "text/plain": "    Threshold  Accuracy\n1        0.98  1.000000\n2        0.92  1.000000\n3        0.87  0.666667\n4        0.76  0.750000\n5        0.74  0.600000\n6        0.61  0.500000\n7        0.57  0.571429\n8        0.38  0.625000\n9        0.34  0.555556\n10       0.32  0.500000",
      "text/html": "<div>\n<style scoped>\n    .dataframe tbody tr th:only-of-type {\n        vertical-align: middle;\n    }\n\n    .dataframe tbody tr th {\n        vertical-align: top;\n    }\n\n    .dataframe thead th {\n        text-align: right;\n    }\n</style>\n<table border=\"1\" class=\"dataframe\">\n  <thead>\n    <tr style=\"text-align: right;\">\n      <th></th>\n      <th>Threshold</th>\n      <th>Accuracy</th>\n    </tr>\n  </thead>\n  <tbody>\n    <tr>\n      <th>1</th>\n      <td>0.98</td>\n      <td>1.000000</td>\n    </tr>\n    <tr>\n      <th>2</th>\n      <td>0.92</td>\n      <td>1.000000</td>\n    </tr>\n    <tr>\n      <th>3</th>\n      <td>0.87</td>\n      <td>0.666667</td>\n    </tr>\n    <tr>\n      <th>4</th>\n      <td>0.76</td>\n      <td>0.750000</td>\n    </tr>\n    <tr>\n      <th>5</th>\n      <td>0.74</td>\n      <td>0.600000</td>\n    </tr>\n    <tr>\n      <th>6</th>\n      <td>0.61</td>\n      <td>0.500000</td>\n    </tr>\n    <tr>\n      <th>7</th>\n      <td>0.57</td>\n      <td>0.571429</td>\n    </tr>\n    <tr>\n      <th>8</th>\n      <td>0.38</td>\n      <td>0.625000</td>\n    </tr>\n    <tr>\n      <th>9</th>\n      <td>0.34</td>\n      <td>0.555556</td>\n    </tr>\n    <tr>\n      <th>10</th>\n      <td>0.32</td>\n      <td>0.500000</td>\n    </tr>\n  </tbody>\n</table>\n</div>"
     },
     "execution_count": 275,
     "metadata": {},
     "output_type": "execute_result"
    }
   ],
   "source": [
    "# Note, this is essentially copied from 1a with one modified line\n",
    "# Let's get the confusion matrices of 10 thresholds using the prediction values\n",
    "# Use list comprehension to generate a list of all the pred columns for every row in the data\n",
    "THRESHOLDS = [row[YPRED_COLUMN] for row in QUESTION_1_2_DATA]\n",
    "\n",
    "# Now let's make a 2D array that we are going to print for the answer\n",
    "_1c_ans = []\n",
    "\n",
    "# Loop through all the different thresholds we want to use\n",
    "for thresh in THRESHOLDS:\n",
    "    # retrieve the confusion matrix using this threshold\n",
    "    confusion_matrix = get_confusion_matrix(QUESTION_1_2_DATA, thresh)\n",
    "\n",
    "    # ACC is (True positives) / (True positives + False positives)\n",
    "    acc = float(confusion_matrix.true_positives) / float(confusion_matrix.true_positives + confusion_matrix.false_positives)\n",
    "\n",
    "    # Add this entry to the data we want to display in the format: [threshold, TPR]\n",
    "    _1c_ans.append([thresh, acc])\n",
    "\n",
    "# Now display the data\n",
    "cols = ['Threshold', 'Accuracy']\n",
    "rows = [str(i+1) for i in range(10)]\n",
    "pd.DataFrame(np.asarray(_1c_ans), index=rows, columns=cols)"
   ]
  },
  {
   "cell_type": "markdown",
   "id": "de49f175",
   "metadata": {
    "pycharm": {
     "name": "#%% md\n"
    }
   },
   "source": [
    "Threshold the classifier output, Ypred, at each possible value (use a greater than equal to\n",
    "comparison).\n",
    "Report the results as a matrix/table with rows corresponding with the 10 thresholds and\n",
    "columns reporting the different thresholds, the true positive rate (TPR), false positive rate\n",
    "(FPR), and accuracy (ACC)."
   ]
  },
  {
   "cell_type": "markdown",
   "id": "cf620487",
   "metadata": {
    "pycharm": {
     "name": "#%% md\n"
    }
   },
   "source": [
    "## (Question 2)\n",
    "se the results from Question 1 to plot the ROC curve for the data. Note, plot this\n",
    "curve using the standard plotting tools rather than any special library/package available in R,\n",
    "Python, or Matlab for making ROC plots."
   ]
  },
  {
   "cell_type": "code",
   "execution_count": 276,
   "id": "00c38498",
   "metadata": {
    "pycharm": {
     "name": "#%%\n"
    }
   },
   "outputs": [
    {
     "data": {
      "text/plain": "<AxesSubplot:xlabel='tpr'>"
     },
     "execution_count": 276,
     "metadata": {},
     "output_type": "execute_result"
    },
    {
     "data": {
      "text/plain": "<Figure size 432x288 with 1 Axes>",
      "image/png": "[encoded data removed]"
     },
     "metadata": {
      "needs_background": "light"
     },
     "output_type": "display_data"
    }
   ],
   "source": [
    "# To plot the ROC curve, we plot a TPR vs FPR graph\n",
    "# Luckily, we can actually use our answers from before to snag all of our x,y pairs that we are going to plot\n",
    "# Define a list of points to plot\n",
    "_q2_x_points = []\n",
    "_q2_y_points = []\n",
    "\n",
    "# Loop through the data from before and construct our x and y points\n",
    "for row in _1a_ans:\n",
    "    tpr = row[1]\n",
    "    _q2_x_points.append(tpr)\n",
    "\n",
    "for row in _1b_ans:\n",
    "    fpr = row[1]\n",
    "    _q2_y_points.append(fpr)\n",
    "\n",
    "# Now construct the dataframe\n",
    "df = pd.DataFrame({\n",
    "    'tpr': _q2_x_points,\n",
    "    'fpr': _q2_y_points\n",
    "})\n",
    "\n",
    "df.style.set_caption(\"ROC Curve\")\n",
    "\n",
    "# Display the xy relationship\n",
    "df.plot.line(x='tpr', y='fpr')"
   ]
  },
  {
   "cell_type": "markdown",
   "id": "b98a6cb8",
   "metadata": {
    "pycharm": {
     "name": "#%% md\n"
    }
   },
   "source": [
    "## (Question 3) Classificaiton of Spam"
   ]
  },
  {
   "cell_type": "markdown",
   "id": "fe8e8f99",
   "metadata": {
    "pycharm": {
     "name": "#%% md\n"
    }
   },
   "source": [
    "### 3.a: \n",
    "Load in the spambase data"
   ]
  },
  {
   "cell_type": "code",
   "execution_count": 277,
   "id": "a466d214",
   "metadata": {
    "pycharm": {
     "name": "#%%\n"
    }
   },
   "outputs": [
    {
     "data": {
      "text/plain": "      Frequency of 'make'  Frequency of 'address'  Frequency of 'all'  \\\n0                    0.00                    0.64                0.64   \n1                    0.21                    0.28                0.50   \n2                    0.06                    0.00                0.71   \n3                    0.00                    0.00                0.00   \n4                    0.00                    0.00                0.00   \n...                   ...                     ...                 ...   \n4596                 0.31                    0.00                0.62   \n4597                 0.00                    0.00                0.00   \n4598                 0.30                    0.00                0.30   \n4599                 0.96                    0.00                0.00   \n4600                 0.00                    0.00                0.65   \n\n      Frequency of '3d'  Frequency of 'our'  Frequency of 'over'  \\\n0                   0.0                0.32                 0.00   \n1                   0.0                0.14                 0.28   \n2                   0.0                1.23                 0.19   \n3                   0.0                0.63                 0.00   \n4                   0.0                0.63                 0.00   \n...                 ...                 ...                  ...   \n4596                0.0                0.00                 0.31   \n4597                0.0                0.00                 0.00   \n4598                0.0                0.00                 0.00   \n4599                0.0                0.32                 0.00   \n4600                0.0                0.00                 0.00   \n\n      Frequency of 'remove'  Frequency of 'internet'  Frequency of 'order'  \\\n0                      0.00                     0.00                  0.00   \n1                      0.21                     0.07                  0.00   \n2                      0.19                     0.12                  0.64   \n3                      0.31                     0.63                  0.31   \n4                      0.31                     0.63                  0.31   \n...                     ...                      ...                   ...   \n4596                   0.00                     0.00                  0.00   \n4597                   0.00                     0.00                  0.00   \n4598                   0.00                     0.00                  0.00   \n4599                   0.00                     0.00                  0.00   \n4600                   0.00                     0.00                  0.00   \n\n      Frequency of 'mail'  ...  Frequency of ';'  Frequency of '('  \\\n0                    0.00  ...             0.000             0.000   \n1                    0.94  ...             0.000             0.132   \n2                    0.25  ...             0.010             0.143   \n3                    0.63  ...             0.000             0.137   \n4                    0.63  ...             0.000             0.135   \n...                   ...  ...               ...               ...   \n4596                 0.00  ...             0.000             0.232   \n4597                 0.00  ...             0.000             0.000   \n4598                 0.00  ...             0.102             0.718   \n4599                 0.00  ...             0.000             0.057   \n4600                 0.00  ...             0.000             0.000   \n\n      Frequency of '['  Frequency of '!'  Frequency of '$'  Frequency of '#'  \\\n0                  0.0             0.778             0.000             0.000   \n1                  0.0             0.372             0.180             0.048   \n2                  0.0             0.276             0.184             0.010   \n3                  0.0             0.137             0.000             0.000   \n4                  0.0             0.135             0.000             0.000   \n...                ...               ...               ...               ...   \n4596               0.0             0.000             0.000             0.000   \n4597               0.0             0.353             0.000             0.000   \n4598               0.0             0.000             0.000             0.000   \n4599               0.0             0.000             0.000             0.000   \n4600               0.0             0.125             0.000             0.000   \n\n      Average Caps Running Length  Longest Caps Running Length  \\\n0                           3.756                           61   \n1                           5.114                          101   \n2                           9.821                          485   \n3                           3.537                           40   \n4                           3.537                           40   \n...                           ...                          ...   \n4596                        1.142                            3   \n4597                        1.555                            4   \n4598                        1.404                            6   \n4599                        1.147                            5   \n4600                        1.250                            5   \n\n      Total Caps Running Length  Is Spam?  \n0                           278         1  \n1                          1028         1  \n2                          2259         1  \n3                           191         1  \n4                           191         1  \n...                         ...       ...  \n4596                         88         0  \n4597                         14         0  \n4598                        118         0  \n4599                         78         0  \n4600                         40         0  \n\n[4601 rows x 58 columns]",
      "text/html": "<div>\n<style scoped>\n    .dataframe tbody tr th:only-of-type {\n        vertical-align: middle;\n    }\n\n    .dataframe tbody tr th {\n        vertical-align: top;\n    }\n\n    .dataframe thead th {\n        text-align: right;\n    }\n</style>\n<table border=\"1\" class=\"dataframe\">\n  <thead>\n    <tr style=\"text-align: right;\">\n      <th></th>\n      <th>Frequency of 'make'</th>\n      <th>Frequency of 'address'</th>\n      <th>Frequency of 'all'</th>\n      <th>Frequency of '3d'</th>\n      <th>Frequency of 'our'</th>\n      <th>Frequency of 'over'</th>\n      <th>Frequency of 'remove'</th>\n      <th>Frequency of 'internet'</th>\n      <th>Frequency of 'order'</th>\n      <th>Frequency of 'mail'</th>\n      <th>...</th>\n      <th>Frequency of ';'</th>\n      <th>Frequency of '('</th>\n      <th>Frequency of '['</th>\n      <th>Frequency of '!'</th>\n      <th>Frequency of '$'</th>\n      <th>Frequency of '#'</th>\n      <th>Average Caps Running Length</th>\n      <th>Longest Caps Running Length</th>\n      <th>Total Caps Running Length</th>\n      <th>Is Spam?</th>\n    </tr>\n  </thead>\n  <tbody>\n    <tr>\n      <th>0</th>\n      <td>0.00</td>\n      <td>0.64</td>\n      <td>0.64</td>\n      <td>0.0</td>\n      <td>0.32</td>\n      <td>0.00</td>\n      <td>0.00</td>\n      <td>0.00</td>\n      <td>0.00</td>\n      <td>0.00</td>\n      <td>...</td>\n      <td>0.000</td>\n      <td>0.000</td>\n      <td>0.0</td>\n      <td>0.778</td>\n      <td>0.000</td>\n      <td>0.000</td>\n      <td>3.756</td>\n      <td>61</td>\n      <td>278</td>\n      <td>1</td>\n    </tr>\n    <tr>\n      <th>1</th>\n      <td>0.21</td>\n      <td>0.28</td>\n      <td>0.50</td>\n      <td>0.0</td>\n      <td>0.14</td>\n      <td>0.28</td>\n      <td>0.21</td>\n      <td>0.07</td>\n      <td>0.00</td>\n      <td>0.94</td>\n      <td>...</td>\n      <td>0.000</td>\n      <td>0.132</td>\n      <td>0.0</td>\n      <td>0.372</td>\n      <td>0.180</td>\n      <td>0.048</td>\n      <td>5.114</td>\n      <td>101</td>\n      <td>1028</td>\n      <td>1</td>\n    </tr>\n    <tr>\n      <th>2</th>\n      <td>0.06</td>\n      <td>0.00</td>\n      <td>0.71</td>\n      <td>0.0</td>\n      <td>1.23</td>\n      <td>0.19</td>\n      <td>0.19</td>\n      <td>0.12</td>\n      <td>0.64</td>\n      <td>0.25</td>\n      <td>...</td>\n      <td>0.010</td>\n      <td>0.143</td>\n      <td>0.0</td>\n      <td>0.276</td>\n      <td>0.184</td>\n      <td>0.010</td>\n      <td>9.821</td>\n      <td>485</td>\n      <td>2259</td>\n      <td>1</td>\n    </tr>\n    <tr>\n      <th>3</th>\n      <td>0.00</td>\n      <td>0.00</td>\n      <td>0.00</td>\n      <td>0.0</td>\n      <td>0.63</td>\n      <td>0.00</td>\n      <td>0.31</td>\n      <td>0.63</td>\n      <td>0.31</td>\n      <td>0.63</td>\n      <td>...</td>\n      <td>0.000</td>\n      <td>0.137</td>\n      <td>0.0</td>\n      <td>0.137</td>\n      <td>0.000</td>\n      <td>0.000</td>\n      <td>3.537</td>\n      <td>40</td>\n      <td>191</td>\n      <td>1</td>\n    </tr>\n    <tr>\n      <th>4</th>\n      <td>0.00</td>\n      <td>0.00</td>\n      <td>0.00</td>\n      <td>0.0</td>\n      <td>0.63</td>\n      <td>0.00</td>\n      <td>0.31</td>\n      <td>0.63</td>\n      <td>0.31</td>\n      <td>0.63</td>\n      <td>...</td>\n      <td>0.000</td>\n      <td>0.135</td>\n      <td>0.0</td>\n      <td>0.135</td>\n      <td>0.000</td>\n      <td>0.000</td>\n      <td>3.537</td>\n      <td>40</td>\n      <td>191</td>\n      <td>1</td>\n    </tr>\n    <tr>\n      <th>...</th>\n      <td>...</td>\n      <td>...</td>\n      <td>...</td>\n      <td>...</td>\n      <td>...</td>\n      <td>...</td>\n      <td>...</td>\n      <td>...</td>\n      <td>...</td>\n      <td>...</td>\n      <td>...</td>\n      <td>...</td>\n      <td>...</td>\n      <td>...</td>\n      <td>...</td>\n      <td>...</td>\n      <td>...</td>\n      <td>...</td>\n      <td>...</td>\n      <td>...</td>\n      <td>...</td>\n    </tr>\n    <tr>\n      <th>4596</th>\n      <td>0.31</td>\n      <td>0.00</td>\n      <td>0.62</td>\n      <td>0.0</td>\n      <td>0.00</td>\n      <td>0.31</td>\n      <td>0.00</td>\n      <td>0.00</td>\n      <td>0.00</td>\n      <td>0.00</td>\n      <td>...</td>\n      <td>0.000</td>\n      <td>0.232</td>\n      <td>0.0</td>\n      <td>0.000</td>\n      <td>0.000</td>\n      <td>0.000</td>\n      <td>1.142</td>\n      <td>3</td>\n      <td>88</td>\n      <td>0</td>\n    </tr>\n    <tr>\n      <th>4597</th>\n      <td>0.00</td>\n      <td>0.00</td>\n      <td>0.00</td>\n      <td>0.0</td>\n      <td>0.00</td>\n      <td>0.00</td>\n      <td>0.00</td>\n      <td>0.00</td>\n      <td>0.00</td>\n      <td>0.00</td>\n      <td>...</td>\n      <td>0.000</td>\n      <td>0.000</td>\n      <td>0.0</td>\n      <td>0.353</td>\n      <td>0.000</td>\n      <td>0.000</td>\n      <td>1.555</td>\n      <td>4</td>\n      <td>14</td>\n      <td>0</td>\n    </tr>\n    <tr>\n      <th>4598</th>\n      <td>0.30</td>\n      <td>0.00</td>\n      <td>0.30</td>\n      <td>0.0</td>\n      <td>0.00</td>\n      <td>0.00</td>\n      <td>0.00</td>\n      <td>0.00</td>\n      <td>0.00</td>\n      <td>0.00</td>\n      <td>...</td>\n      <td>0.102</td>\n      <td>0.718</td>\n      <td>0.0</td>\n      <td>0.000</td>\n      <td>0.000</td>\n      <td>0.000</td>\n      <td>1.404</td>\n      <td>6</td>\n      <td>118</td>\n      <td>0</td>\n    </tr>\n    <tr>\n      <th>4599</th>\n      <td>0.96</td>\n      <td>0.00</td>\n      <td>0.00</td>\n      <td>0.0</td>\n      <td>0.32</td>\n      <td>0.00</td>\n      <td>0.00</td>\n      <td>0.00</td>\n      <td>0.00</td>\n      <td>0.00</td>\n      <td>...</td>\n      <td>0.000</td>\n      <td>0.057</td>\n      <td>0.0</td>\n      <td>0.000</td>\n      <td>0.000</td>\n      <td>0.000</td>\n      <td>1.147</td>\n      <td>5</td>\n      <td>78</td>\n      <td>0</td>\n    </tr>\n    <tr>\n      <th>4600</th>\n      <td>0.00</td>\n      <td>0.00</td>\n      <td>0.65</td>\n      <td>0.0</td>\n      <td>0.00</td>\n      <td>0.00</td>\n      <td>0.00</td>\n      <td>0.00</td>\n      <td>0.00</td>\n      <td>0.00</td>\n      <td>...</td>\n      <td>0.000</td>\n      <td>0.000</td>\n      <td>0.0</td>\n      <td>0.125</td>\n      <td>0.000</td>\n      <td>0.000</td>\n      <td>1.250</td>\n      <td>5</td>\n      <td>40</td>\n      <td>0</td>\n    </tr>\n  </tbody>\n</table>\n<p>4601 rows × 58 columns</p>\n</div>"
     },
     "execution_count": 277,
     "metadata": {},
     "output_type": "execute_result"
    }
   ],
   "source": [
    "# Some constants to define for ease of access of the data,\n",
    "# Automatically generated using a python script\n",
    "WORD_FREQ_MAKE = 'word_freq_make'\n",
    "WORD_FREQ_ADDRESS = 'word_freq_address'\n",
    "WORD_FREQ_ALL = 'word_freq_all'\n",
    "WORD_FREQ_3D = 'word_freq_3d'\n",
    "WORD_FREQ_OUR = 'word_freq_our'\n",
    "WORD_FREQ_OVER = 'word_freq_over'\n",
    "WORD_FREQ_REMOVE = 'word_freq_remove'\n",
    "WORD_FREQ_INTERNET = 'word_freq_internet'\n",
    "WORD_FREQ_ORDER = 'word_freq_order'\n",
    "WORD_FREQ_MAIL = 'word_freq_mail'\n",
    "WORD_FREQ_RECEIVE = 'word_freq_receive'\n",
    "WORD_FREQ_WILL = 'word_freq_will'\n",
    "WORD_FREQ_PEOPLE = 'word_freq_people'\n",
    "WORD_FREQ_REPORT = 'word_freq_report'\n",
    "WORD_FREQ_ADDRESSES = 'word_freq_addresses'\n",
    "WORD_FREQ_FREE = 'word_freq_free'\n",
    "WORD_FREQ_BUSINESS = 'word_freq_business'\n",
    "WORD_FREQ_EMAIL = 'word_freq_email'\n",
    "WORD_FREQ_YOU = 'word_freq_you'\n",
    "WORD_FREQ_CREDIT = 'word_freq_credit'\n",
    "WORD_FREQ_YOUR = 'word_freq_your'\n",
    "WORD_FREQ_FONT = 'word_freq_font'\n",
    "WORD_FREQ_000 = 'word_freq_000'\n",
    "WORD_FREQ_MONEY = 'word_freq_money'\n",
    "WORD_FREQ_HP = 'word_freq_hp'\n",
    "WORD_FREQ_HPL = 'word_freq_hpl'\n",
    "WORD_FREQ_GEORGE = 'word_freq_george'\n",
    "WORD_FREQ_650 = 'word_freq_650'\n",
    "WORD_FREQ_LAB = 'word_freq_lab'\n",
    "WORD_FREQ_LABS = 'word_freq_labs'\n",
    "WORD_FREQ_TELNET = 'word_freq_telnet'\n",
    "WORD_FREQ_857 = 'word_freq_857'\n",
    "WORD_FREQ_DATA = 'word_freq_data'\n",
    "WORD_FREQ_415 = 'word_freq_415'\n",
    "WORD_FREQ_85 = 'word_freq_85'\n",
    "WORD_FREQ_TECHNOLOGY = 'word_freq_technology'\n",
    "WORD_FREQ_1999 = 'word_freq_1999'\n",
    "WORD_FREQ_PARTS = 'word_freq_parts'\n",
    "WORD_FREQ_PM = 'word_freq_pm'\n",
    "WORD_FREQ_DIRECT = 'word_freq_direct'\n",
    "WORD_FREQ_CS = 'word_freq_cs'\n",
    "WORD_FREQ_MEETING = 'word_freq_meeting'\n",
    "WORD_FREQ_ORIGINAL = 'word_freq_original'\n",
    "WORD_FREQ_PROJECT = 'word_freq_project'\n",
    "WORD_FREQ_RE = 'word_freq_re'\n",
    "WORD_FREQ_EDU = 'word_freq_edu'\n",
    "WORD_FREQ_TABLE = 'word_freq_table'\n",
    "WORD_FREQ_CONFERENCE = 'word_freq_conference'\n",
    "CHAR_FREQ_SEMICOLON = 'char_freq_;'\n",
    "CHAR_FREQ_L_PARENTH = 'char_freq_('\n",
    "CHAR_FREQ_L_BRACKET = 'char_freq_['\n",
    "CHAR_FREQ_EXCLAIM_POINT = 'char_freq_!'\n",
    "CHAR_FREQ_DOLLAR_SIGN = 'char_freq_$'\n",
    "CHAR_FREQ_HASHTAG = 'char_freq_#'\n",
    "CAPITAL_RUN_LENGTH_AVERAGE = 'capital_run_length_average'\n",
    "CAPITAL_RUN_LENGTH_LONGEST = 'capital_run_length_longest'\n",
    "CAPITAL_RUN_LENGTH_TOTAL = 'capital_run_length_total'\n",
    "IS_SPAM = 'is_spam'\n",
    "\n",
    "SPAMBASE_COLUMNS = [\n",
    "\tWORD_FREQ_MAKE,\n",
    "\tWORD_FREQ_ADDRESS,\n",
    "\tWORD_FREQ_ALL,\n",
    "\tWORD_FREQ_3D,\n",
    "\tWORD_FREQ_OUR,\n",
    "\tWORD_FREQ_OVER,\n",
    "\tWORD_FREQ_REMOVE,\n",
    "\tWORD_FREQ_INTERNET,\n",
    "\tWORD_FREQ_ORDER,\n",
    "\tWORD_FREQ_MAIL,\n",
    "\tWORD_FREQ_RECEIVE,\n",
    "\tWORD_FREQ_WILL,\n",
    "\tWORD_FREQ_PEOPLE,\n",
    "\tWORD_FREQ_REPORT,\n",
    "\tWORD_FREQ_ADDRESSES,\n",
    "\tWORD_FREQ_FREE,\n",
    "\tWORD_FREQ_BUSINESS,\n",
    "\tWORD_FREQ_EMAIL,\n",
    "\tWORD_FREQ_YOU,\n",
    "\tWORD_FREQ_CREDIT,\n",
    "\tWORD_FREQ_YOUR,\n",
    "\tWORD_FREQ_FONT,\n",
    "\tWORD_FREQ_000,\n",
    "\tWORD_FREQ_MONEY,\n",
    "\tWORD_FREQ_HP,\n",
    "\tWORD_FREQ_HPL,\n",
    "\tWORD_FREQ_GEORGE,\n",
    "\tWORD_FREQ_650,\n",
    "\tWORD_FREQ_LAB,\n",
    "\tWORD_FREQ_LABS,\n",
    "\tWORD_FREQ_TELNET,\n",
    "\tWORD_FREQ_857,\n",
    "\tWORD_FREQ_DATA,\n",
    "\tWORD_FREQ_415,\n",
    "\tWORD_FREQ_85,\n",
    "\tWORD_FREQ_TECHNOLOGY,\n",
    "\tWORD_FREQ_1999,\n",
    "\tWORD_FREQ_PARTS,\n",
    "\tWORD_FREQ_PM,\n",
    "\tWORD_FREQ_DIRECT,\n",
    "\tWORD_FREQ_CS,\n",
    "\tWORD_FREQ_MEETING,\n",
    "\tWORD_FREQ_ORIGINAL,\n",
    "\tWORD_FREQ_PROJECT,\n",
    "\tWORD_FREQ_RE,\n",
    "\tWORD_FREQ_EDU,\n",
    "\tWORD_FREQ_TABLE,\n",
    "\tWORD_FREQ_CONFERENCE,\n",
    "\tCHAR_FREQ_SEMICOLON,\n",
    "\tCHAR_FREQ_L_PARENTH,\n",
    "\tCHAR_FREQ_L_BRACKET,\n",
    "\tCHAR_FREQ_EXCLAIM_POINT,\n",
    "\tCHAR_FREQ_DOLLAR_SIGN,\n",
    "\tCHAR_FREQ_HASHTAG,\n",
    "\tCAPITAL_RUN_LENGTH_AVERAGE,\n",
    "\tCAPITAL_RUN_LENGTH_LONGEST,\n",
    "\tCAPITAL_RUN_LENGTH_TOTAL,\n",
    "\tIS_SPAM\n",
    "]\n",
    "SPAMBASE_CLEAN_NAMES = {\n",
    "\tWORD_FREQ_MAKE: \"Frequency of 'make'\",\n",
    "\tWORD_FREQ_ADDRESS: \"Frequency of 'address'\",\n",
    "\tWORD_FREQ_ALL: \"Frequency of 'all'\",\n",
    "\tWORD_FREQ_3D: \"Frequency of '3d'\",\n",
    "\tWORD_FREQ_OUR: \"Frequency of 'our'\",\n",
    "\tWORD_FREQ_OVER: \"Frequency of 'over'\",\n",
    "\tWORD_FREQ_REMOVE: \"Frequency of 'remove'\",\n",
    "\tWORD_FREQ_INTERNET: \"Frequency of 'internet'\",\n",
    "\tWORD_FREQ_ORDER: \"Frequency of 'order'\",\n",
    "\tWORD_FREQ_MAIL: \"Frequency of 'mail'\",\n",
    "\tWORD_FREQ_RECEIVE: \"Frequency of 'receive'\",\n",
    "\tWORD_FREQ_WILL: \"Frequency of 'will'\",\n",
    "\tWORD_FREQ_PEOPLE: \"Frequency of 'people'\",\n",
    "\tWORD_FREQ_REPORT: \"Frequency of 'report'\",\n",
    "\tWORD_FREQ_ADDRESSES: \"Frequency of 'addresses'\",\n",
    "\tWORD_FREQ_FREE: \"Frequency of 'free'\",\n",
    "\tWORD_FREQ_BUSINESS: \"Frequency of 'business'\",\n",
    "\tWORD_FREQ_EMAIL: \"Frequency of 'email'\",\n",
    "\tWORD_FREQ_YOU: \"Frequency of 'you'\",\n",
    "\tWORD_FREQ_CREDIT: \"Frequency of 'credit'\",\n",
    "\tWORD_FREQ_YOUR: \"Frequency of 'your'\",\n",
    "\tWORD_FREQ_FONT: \"Frequency of 'font'\",\n",
    "\tWORD_FREQ_000: \"Frequency of '000'\",\n",
    "\tWORD_FREQ_MONEY: \"Frequency of 'money'\",\n",
    "\tWORD_FREQ_HP: \"Frequency of 'hp'\",\n",
    "\tWORD_FREQ_HPL: \"Frequency of 'hpl'\",\n",
    "\tWORD_FREQ_GEORGE: \"Frequency of 'george'\",\n",
    "\tWORD_FREQ_650: \"Frequency of '650'\",\n",
    "\tWORD_FREQ_LAB: \"Frequency of 'lab'\",\n",
    "\tWORD_FREQ_LABS: \"Frequency of 'labs'\",\n",
    "\tWORD_FREQ_TELNET: \"Frequency of 'telnet'\",\n",
    "\tWORD_FREQ_857: \"Frequency of '857'\",\n",
    "\tWORD_FREQ_DATA: \"Frequency of 'data'\",\n",
    "\tWORD_FREQ_415: \"Frequency of '415'\",\n",
    "\tWORD_FREQ_85: \"Frequency of '85'\",\n",
    "\tWORD_FREQ_TECHNOLOGY: \"Frequency of 'technology'\",\n",
    "\tWORD_FREQ_1999: \"Frequency of '1999'\",\n",
    "\tWORD_FREQ_PARTS: \"Frequency of 'parts'\",\n",
    "\tWORD_FREQ_PM: \"Frequency of 'pm'\",\n",
    "\tWORD_FREQ_DIRECT: \"Frequency of 'direct'\",\n",
    "\tWORD_FREQ_CS: \"Frequency of 'cs'\",\n",
    "\tWORD_FREQ_MEETING: \"Frequency of 'meeting'\",\n",
    "\tWORD_FREQ_ORIGINAL: \"Frequency of 'original'\",\n",
    "\tWORD_FREQ_PROJECT: \"Frequency of 'project'\",\n",
    "\tWORD_FREQ_RE: \"Frequency of 're'\",\n",
    "\tWORD_FREQ_EDU: \"Frequency of 'edu'\",\n",
    "\tWORD_FREQ_TABLE: \"Frequency of 'table'\",\n",
    "\tWORD_FREQ_CONFERENCE: \"Frequency of 'conference'\",\n",
    "\tCHAR_FREQ_SEMICOLON: \"Frequency of ';'\",\n",
    "\tCHAR_FREQ_L_PARENTH: \"Frequency of '('\",\n",
    "\tCHAR_FREQ_L_BRACKET: \"Frequency of '['\",\n",
    "\tCHAR_FREQ_EXCLAIM_POINT: \"Frequency of '!'\",\n",
    "\tCHAR_FREQ_DOLLAR_SIGN: \"Frequency of '$'\",\n",
    "\tCHAR_FREQ_HASHTAG: \"Frequency of '#'\",\n",
    "\tCAPITAL_RUN_LENGTH_AVERAGE: \"Average Caps Running Length\",\n",
    "\tCAPITAL_RUN_LENGTH_LONGEST: \"Longest Caps Running Length\",\n",
    "\tCAPITAL_RUN_LENGTH_TOTAL: \"Total Caps Running Length\",\n",
    "\tIS_SPAM: \"Is Spam?\"\n",
    "}\n",
    "\n",
    "SPAMBASE_CLEAN_COLUMNS = [SPAMBASE_CLEAN_NAMES[var] for var in SPAMBASE_COLUMNS]\n",
    "# Just like other assignments, read the CSV\n",
    "SPAMBASE_CSV = 'spambase.data'\n",
    "SPAMBASE_DATA = pd.read_csv(SPAMBASE_CSV, names=SPAMBASE_CLEAN_COLUMNS)\n",
    "SPAMBASE_DATA.head(n=len(SPAMBASE_DATA.values))"
   ]
  },
  {
   "cell_type": "markdown",
   "id": "7e6584b8",
   "metadata": {
    "pycharm": {
     "name": "#%% md\n"
    }
   },
   "source": [
    "### 3.b: \n",
    "To see whether a classifier is actually working, we should compare it to a constant classifier\n",
    "which always predicts the same class, no matter what the input features actually are"
   ]
  },
  {
   "cell_type": "markdown",
   "id": "12fca1dc",
   "metadata": {
    "pycharm": {
     "name": "#%% md\n"
    }
   },
   "source": [
    "#### 3.b.i:\n",
    "What fraction of the e-mails are actually spam?"
   ]
  },
  {
   "cell_type": "code",
   "execution_count": 278,
   "id": "a5bb5f1b",
   "metadata": {
    "pycharm": {
     "name": "#%%\n"
    }
   },
   "outputs": [
    {
     "name": "stdout",
     "output_type": "stream",
     "text": [
      "The fraction of spam emails to total emails is 1813 / 4601 (39.40%)\n"
     ]
    }
   ],
   "source": [
    "# We just need spam / total data\n",
    "total_data = len(SPAMBASE_DATA.values)\n",
    "\n",
    "num_spam = 0\n",
    "# Loop through all the rows, is it spam?\n",
    "SPAMBASE_DATA.reset_index()\n",
    "for index, row in SPAMBASE_DATA.iterrows():\n",
    "\tis_spam = row[SPAMBASE_COLUMNS.index(IS_SPAM)] == 1\n",
    "\tif is_spam:\n",
    "\t\tnum_spam += 1\n",
    "\n",
    "perc = float(num_spam) / float(total_data)\n",
    "print(f\"The fraction of spam emails to total emails is {num_spam} / {total_data} ({perc*100:.2f}%)\")"
   ]
  },
  {
   "cell_type": "markdown",
   "id": "4a6c8949",
   "metadata": {
    "pycharm": {
     "name": "#%% md\n"
    }
   },
   "source": [
    "#### 3.b.ii: \n",
    "What should the constant classifier predict?"
   ]
  },
  {
   "cell_type": "code",
   "execution_count": 279,
   "id": "5b8df0cc",
   "metadata": {
    "pycharm": {
     "name": "#%%\n"
    }
   },
   "outputs": [
    {
     "name": "stdout",
     "output_type": "stream",
     "text": [
      "The constant classifier predicted is it will not be spam\n"
     ]
    }
   ],
   "source": [
    "from sklearn.dummy import DummyClassifier\n",
    "from sklearn import preprocessing\n",
    "\n",
    "x = SPAMBASE_DATA  #load data\n",
    "y = SPAMBASE_DATA[['Is Spam?']] #load the column 'Is Spam?'\n",
    "\n",
    "X_train1, X_test1, y_train1, y_test1 = train_test_split(x, y, random_state=0) #parse data so it can be used for training and testing\n",
    "\n",
    "clf = DummyClassifier(strategy='most_frequent')\n",
    "\n",
    "clf.fit(X_train1, y_train1) #fit the training model\n",
    "\n",
    "\n",
    "DummyClassifier(strategy='stratified')\n",
    "\n",
    "clf.fit(X_test1,y_test1) #fit the testing model\n",
    "\n",
    "\n",
    "if (clf.predict(y_test1)[0] & clf.predict(y_train1)[0]) == 0:\n",
    "    print(\"The constant classifier predicted is it will not be spam\")\n",
    "else:\n",
    "    print(\"The constant classifier predicted will be spam\")\n",
    "\n",
    "#just for debugging purposes\n",
    "#trainPercent = y_train.value_counts(normalize=True)[0]\n",
    "#print( f\" Training Percent predicts { trainPercent * 100:.2f}% will not be spam\"  )\n",
    "\n",
    "#testPercent=y_test.value_counts(normalize=True)[0]\n",
    "#print( f\" Testing Percent predicts { testPercent * 100:.2f}% will not be spam\"  )\n",
    "\n"
   ]
  },
  {
   "cell_type": "markdown",
   "id": "fff390c1",
   "metadata": {
    "pycharm": {
     "name": "#%% md\n"
    }
   },
   "source": [
    "#### 3.b.iii: \n",
    "What is the error rate of the constant classifier? "
   ]
  },
  {
   "cell_type": "code",
   "execution_count": 280,
   "id": "f1fed058",
   "metadata": {
    "pycharm": {
     "name": "#%%\n"
    }
   },
   "outputs": [
    {
     "name": "stdout",
     "output_type": "stream",
     "text": [
      " The error rate of the constant classifier is 39.97% \n"
     ]
    }
   ],
   "source": [
    "y_pred1 = clf.predict(X_test1)\n",
    "errorRate = 1- metrics.accuracy_score(y_test1,y_pred1)\n",
    "print(f\" The error rate of the constant classifier is { errorRate * 100:.2f}% \")"
   ]
  },
  {
   "cell_type": "markdown",
   "id": "5f1e5283",
   "metadata": {
    "pycharm": {
     "name": "#%% md\n"
    }
   },
   "source": [
    "### 3.c: Model Selection and Evaluation: Three-fold Split"
   ]
  },
  {
   "cell_type": "markdown",
   "id": "d08f4f87",
   "metadata": {
    "pycharm": {
     "name": "#%% md\n"
    }
   },
   "source": [
    "Split the data into training, validation and test sets with 60, 20, and 20% of the data\n",
    "respectively. Make sure to split the data such that the distribution of class labels is\n",
    "approximately equal across splits - “stratify”."
   ]
  },
  {
   "cell_type": "markdown",
   "id": "4abb1405",
   "metadata": {
    "pycharm": {
     "name": "#%% md\n"
    }
   },
   "source": [
    "#### 3.c.i:\n",
    "What fraction of each set: training, validation, and test sets are spam?"
   ]
  },
  {
   "cell_type": "code",
   "execution_count": 281,
   "id": "c4ec7c7c",
   "metadata": {
    "pycharm": {
     "name": "#%%\n"
    }
   },
   "outputs": [
    {
     "name": "stdout",
     "output_type": "stream",
     "text": [
      "The fraction of spam emails for the training test set are 1087 / 2760 (39.38%)\n",
      "\n",
      "\n",
      "The fraction of spam emails for the validation test set are 363 / 920 (39.46%)\n",
      "\n",
      "\n",
      "The fraction of spam emails for the testing test set are 363 / 921 (39.41%)\n",
      "\n",
      "\n"
     ]
    }
   ],
   "source": [
    "#delcare splits\n",
    "train_ratio = 0.60\n",
    "validation_ratio = 0.20\n",
    "test_ratio = 0.20\n",
    "\n",
    "#import data\n",
    "x_in = SPAMBASE_DATA\n",
    "y_in = SPAMBASE_DATA[['Is Spam?']]\n",
    "\n",
    "X_train1, X_test, y_train1, y_test = train_test_split(x_in, y_in, test_size=test_ratio, stratify = y_in)\n",
    "\n",
    "X_train, X_valid, y_train, y_valid = train_test_split(X_train1, y_train1, \n",
    "                                                      test_size = validation_ratio/(train_ratio + test_ratio), \n",
    "                                                      stratify = y_train1 )\n",
    "\n",
    "#count and display percent of training data that is spam\n",
    "total_data_train = len(y_train.values)\n",
    "count_train = 0\n",
    "for row in y_train.values:\n",
    "    if(row == 1):\n",
    "        count_train = count_train +1\n",
    "perc = float(count_train) / float(total_data_train)\n",
    "print(f\"The fraction of spam emails for the training test set are {count_train} / {total_data_train} ({perc * 100:.2f}%)\")\n",
    "print('\\n')\n",
    "\n",
    "#count and display percent of validation data that is spam\n",
    "total_data_valids = len(y_valid.values)\n",
    "count_valid = 0\n",
    "for row in y_valid.values:\n",
    "    if(row == 1):\n",
    "        count_valid = count_valid +1\n",
    "\n",
    "perc1 = float(count_valid) / float(total_data_valids)\n",
    "print(f\"The fraction of spam emails for the validation test set are {count_valid} / {total_data_valids} ({perc1 * 100:.2f}%)\")\n",
    "print('\\n')\n",
    "\n",
    "#count and display percent of testing data that is spam\n",
    "total_data_test = len(y_test.values)\n",
    "count_test = 0\n",
    "for row in y_test.values:\n",
    "    if(row == 1):\n",
    "        count_test = count_test +1\n",
    "\n",
    "perc2 = float(count_test) / float(total_data_test)\n",
    "print(f\"The fraction of spam emails for the testing test set are {count_test} / {total_data_test} ({perc2 * 100:.2f}%)\")\n",
    "print('\\n')\n",
    "\n"
   ]
  },
  {
   "cell_type": "markdown",
   "id": "afd62216",
   "metadata": {
    "pycharm": {
     "name": "#%% md\n"
    }
   },
   "source": [
    "#### 3.c.ii:\n",
    "Check that two predictor variables in the data set have approximatly the same distribution in each of the sets\n",
    "Set the seed for the random generator to ”5”, Python - random state and R - set.seed(5).\n",
    "\n",
    "Helpful functions: R - sample, Matlab - cvpartition, Python - train test split from\n",
    "sklearn.model selection"
   ]
  },
  {
   "cell_type": "code",
   "execution_count": 282,
   "id": "efe7cb36",
   "metadata": {
    "pycharm": {
     "name": "#%%\n"
    }
   },
   "outputs": [
    {
     "name": "stdout",
     "output_type": "stream",
     "text": [
      "                 0             1             2             3             4   \\\n",
      "count  3.680000e+03  3.680000e+03  3.680000e+03  3.680000e+03  3.680000e+03   \n",
      "mean   4.827057e-18 -2.896234e-18  5.309762e-17  1.110223e-17  7.723291e-18   \n",
      "std    1.000136e+00  1.000136e+00  1.000136e+00  1.000136e+00  1.000136e+00   \n",
      "min   -3.404178e-01 -1.651654e-01 -5.567860e-01 -5.155608e-02 -4.642446e-01   \n",
      "25%   -3.404178e-01 -1.651654e-01 -5.567860e-01 -5.155608e-02 -4.642446e-01   \n",
      "50%   -3.404178e-01 -1.651654e-01 -5.567860e-01 -5.155608e-02 -4.642446e-01   \n",
      "75%   -3.404178e-01 -1.651654e-01  2.804511e-01 -5.155608e-02  1.153695e-01   \n",
      "max    1.410238e+01  1.170815e+01  9.373235e+00  2.740681e+01  1.439766e+01   \n",
      "\n",
      "                 5             6             7             8             9   \\\n",
      "count  3.680000e+03  3.680000e+03  3.680000e+03  3.680000e+03  3.680000e+03   \n",
      "mean  -4.537433e-17 -2.751422e-17  1.641199e-17  2.703152e-17 -3.378940e-18   \n",
      "std    1.000136e+00  1.000136e+00  1.000136e+00  1.000136e+00  1.000136e+00   \n",
      "min   -3.455830e-01 -2.899450e-01 -2.592138e-01 -3.270547e-01 -3.635827e-01   \n",
      "25%   -3.455830e-01 -2.899450e-01 -2.592138e-01 -3.270547e-01 -3.635827e-01   \n",
      "50%   -3.455830e-01 -2.899450e-01 -2.592138e-01 -3.270547e-01 -3.635827e-01   \n",
      "75%   -3.455830e-01 -2.899450e-01 -2.592138e-01 -3.270547e-01 -1.241760e-01   \n",
      "max    2.094734e+01  1.764922e+01  2.669375e+01  1.193652e+01  2.683901e+01   \n",
      "\n",
      "       ...            48            49            50            51  \\\n",
      "count  ...  3.680000e+03  3.680000e+03  3.680000e+03  3.680000e+03   \n",
      "mean   ...  5.792468e-18 -3.668563e-17  1.351576e-17  2.703152e-17   \n",
      "std    ...  1.000136e+00  1.000136e+00  1.000136e+00  1.000136e+00   \n",
      "min    ... -1.560580e-01 -5.086669e-01 -1.487191e-01 -3.188382e-01   \n",
      "25%    ... -1.560580e-01 -5.086669e-01 -1.487191e-01 -3.188382e-01   \n",
      "50%    ... -1.560580e-01 -2.704635e-01 -1.487191e-01 -3.188382e-01   \n",
      "75%    ... -1.560580e-01  1.738776e-01 -1.487191e-01  5.336741e-02   \n",
      "max    ...  1.723440e+01  3.522918e+01  3.414596e+01  3.742821e+01   \n",
      "\n",
      "                 52            53            54            55            56  \\\n",
      "count  3.680000e+03  3.680000e+03  3.680000e+03  3.680000e+03  3.680000e+03   \n",
      "mean   2.606611e-17  4.827057e-18  1.930823e-18  3.861645e-18 -1.448117e-17   \n",
      "std    1.000136e+00  1.000136e+00  1.000136e+00  1.000136e+00  1.000136e+00   \n",
      "min   -3.627793e-01 -9.939431e-02 -1.291017e-01 -2.488769e-01 -4.551971e-01   \n",
      "25%   -3.627793e-01 -9.939431e-02 -1.119152e-01 -2.251796e-01 -4.011329e-01   \n",
      "50%   -3.627793e-01 -9.939431e-02 -9.099895e-02 -1.825245e-01 -3.057255e-01   \n",
      "75%   -1.005748e-01 -9.939431e-02 -4.839065e-02 -4.981969e-02 -3.500692e-02   \n",
      "max    2.018894e+01  4.332163e+01  3.273717e+01  4.708883e+01  2.473236e+01   \n",
      "\n",
      "                 57  \n",
      "count  3.680000e+03  \n",
      "mean   6.178632e-17  \n",
      "std    1.000136e+00  \n",
      "min   -8.141873e-01  \n",
      "25%   -8.141873e-01  \n",
      "50%   -8.141873e-01  \n",
      "75%    1.228219e+00  \n",
      "max    1.228219e+00  \n",
      "\n",
      "[8 rows x 58 columns]\n"
     ]
    }
   ],
   "source": [
    "from collections import Counter\n",
    "from sklearn.linear_model import LinearRegression as lm\n",
    "# split into train test sets\n",
    "X_train, X_test, y_train, y_test = train_test_split(x_in, y_in, test_size = 0.2, random_state = 5)\n",
    "\n",
    "scaler = StandardScaler()\n",
    "\n",
    "scaler.fit(X_train)\n",
    "X_train = scaler.transform(X_train)\n",
    "\n",
    "X_test = scaler.transform(X_test)\n",
    "\n",
    "print(pd.DataFrame(X_train).describe())\n"
   ]
  },
  {
   "cell_type": "markdown",
   "id": "47d6470d",
   "metadata": {
    "pycharm": {
     "name": "#%% md\n"
    }
   },
   "source": [
    "### 3.d: Scale the predictor data to values between [0,1] using MinMax scalling.\n",
    "make sure to use training data set to set scaling parameters and apply those parameters to\n",
    "scaling the validation and testing data.\n",
    "Helpful functions: R - preProcess from caret, Python - MinMaxScaler from\n",
    "sklearn.preprocessing"
   ]
  },
  {
   "cell_type": "code",
   "execution_count": 283,
   "id": "6b51543a",
   "metadata": {
    "pycharm": {
     "name": "#%%\n"
    }
   },
   "outputs": [
    {
     "data": {
      "text/plain": "array([[1.12334802e-01, 0.00000000e+00, 1.00000000e-01, ...,\n        1.10132159e-03, 4.10353535e-03, 0.00000000e+00],\n       [0.00000000e+00, 0.00000000e+00, 0.00000000e+00, ...,\n        2.00240288e-04, 6.94444444e-04, 0.00000000e+00],\n       [0.00000000e+00, 0.00000000e+00, 4.90196078e-01, ...,\n        2.00240288e-04, 6.31313131e-04, 0.00000000e+00],\n       ...,\n       [0.00000000e+00, 0.00000000e+00, 0.00000000e+00, ...,\n        6.00720865e-04, 1.76767677e-03, 0.00000000e+00],\n       [0.00000000e+00, 0.00000000e+00, 0.00000000e+00, ...,\n        1.10132159e-03, 4.29292929e-03, 0.00000000e+00],\n       [0.00000000e+00, 0.00000000e+00, 1.39215686e-01, ...,\n        5.70684822e-03, 5.64393939e-02, 1.00000000e+00]])"
     },
     "execution_count": 283,
     "metadata": {},
     "output_type": "execute_result"
    }
   ],
   "source": [
    "from sklearn.preprocessing import MinMaxScaler\n",
    "scaler = MinMaxScaler()\n",
    "\n",
    "scaler.fit(X_train)\n",
    "scaler.transform(pd.DataFrame(X_valid).values)\n",
    "scaler.transform(pd.DataFrame(X_test).values)"
   ]
  },
  {
   "cell_type": "markdown",
   "id": "ac052618",
   "metadata": {
    "pycharm": {
     "name": "#%% md\n"
    }
   },
   "source": [
    "### 3.e: KNN - K Nearest Neighbors\n",
    "For k of odd values, 5-51, fit a k-nearest-neighbor classifier to the training data. Evaluate these classifiers on the validation data. Select the best value of k (minimizes the validation error). Retrain the best model on train+validation and evaluate it on the testing data.\n",
    "\n",
    "Helpful functions: Python- KNeighborsClassifier from sklearn.neighbors"
   ]
  },
  {
   "cell_type": "markdown",
   "id": "9d6d2fca",
   "metadata": {
    "pycharm": {
     "name": "#%% md\n"
    }
   },
   "source": [
    "#### 3.e.i:\n",
    "Report the training, validation and test error in a plot with x-axis as values of k and the y-axis error."
   ]
  },
  {
   "cell_type": "code",
   "execution_count": 284,
   "id": "5b7edd5c",
   "metadata": {
    "pycharm": {
     "name": "#%%\n"
    }
   },
   "outputs": [],
   "source": [
    "#delcare split\n",
    "train_ratio = 0.60\n",
    "\n",
    "#import data\n",
    "x_in1 = SPAMBASE_DATA  #load data\n",
    "y_in1 = SPAMBASE_DATA[['Is Spam?']] #load the column 'Is Spam?'\n",
    "\n",
    "#create testing, training and validation data splits\n",
    "X_train, X_test, y_train, y_test = train_test_split(x_in, y_in, test_size=test_ratio, stratify = y_in)\n",
    "\n",
    "\n",
    "#create odd #'s \n",
    "k_range=[]\n",
    "for i in range(5,52):\n",
    "    if( i % 2 != 0):\n",
    "        k_range.append(i)\n",
    "        \n",
    "performance=[]\n",
    "\n",
    "#lean the KNN classifier w/ num_neighbors = k on training data\n",
    "for k in k_range:\n",
    "    #Create KNN Classifier\n",
    "    knn = KNeighborsClassifier(n_neighbors = k)\n",
    "\n",
    "    #Train the model using the training sets\n",
    "    knn.fit(X_train, y_train.values.ravel())\n",
    "    \n",
    "    #Predict the response for test dataset\n",
    "    y_TrainVal = knn.predict(X_train )\n",
    "    \n",
    "    performance.append(metrics.accuracy_score(y_train, y_TrainVal))\n",
    "\n",
    "#find the max value from the perfromacnce values    \n",
    "best = np.max(performance)\n",
    "\n",
    "#find the locations of the max value\n",
    "key_loc = np.asarray(np.where(performance == best))\n",
    "\n",
    "#store value of max value form the keys\n",
    "loc = np.asarray(key_loc)\n",
    "\n",
    "ranger = np.asarray(k_range)\n",
    "\n",
    "#loop through and find best value\n",
    "for i in key_loc:\n",
    "    temp = ranger[i]\n",
    "    #print(\"The value of k that was selected as the best are: \",str(temp)[1:-1])\n",
    "\n",
    "#store bestK value\n",
    "bestK = int(temp)\n",
    "\n",
    "perf2=[]\n",
    "\n",
    "#learn a KNN w/ num_neighbors = bestK -k on training and validation data\n",
    "for k in k_range:\n",
    "    #Create KNN Classifier\n",
    "    if((bestK -k) !=0):\n",
    "        knn = KNeighborsClassifier(n_neighbors = abs(bestK - k))\n",
    "    \n",
    "        #Train the model using the training and validation sets\n",
    "        knn.fit(X_train, y_train.values.ravel())\n",
    "    \n",
    "        #Predict the response for test dataset\n",
    "        y_predTest = knn.predict(X_test)\n",
    "    \n",
    "        perf2.append(metrics.accuracy_score(y_test, y_predTest))\n"
   ]
  },
  {
   "cell_type": "code",
   "execution_count": 285,
   "id": "f56c10ae",
   "metadata": {
    "pycharm": {
     "name": "#%%\n"
    }
   },
   "outputs": [
    {
     "data": {
      "text/plain": "<matplotlib.legend.Legend at 0x20ee7601d90>"
     },
     "execution_count": 285,
     "metadata": {},
     "output_type": "execute_result"
    },
    {
     "data": {
      "text/plain": "<Figure size 432x288 with 1 Axes>",
      "image/png": "[encoded data removed]"
     },
     "metadata": {
      "needs_background": "light"
     },
     "output_type": "display_data"
    }
   ],
   "source": [
    "#create plot of training data and the validation & test data\n",
    "\n",
    "plt.plot(range(0,24),np.asarray(performance),label=\"training\")\n",
    "plt.plot(range(1,24),np.asarray(perf2),label=\"validation and test\")\n",
    "\n",
    "plt.title(\"Error rate vs. K Value\")\n",
    "\n",
    "plt.xlabel('K Values')\n",
    "\n",
    "plt.ylabel('Error')\n",
    "\n",
    "plt.legend()"
   ]
  },
  {
   "cell_type": "markdown",
   "id": "1f6823b3",
   "metadata": {
    "pycharm": {
     "name": "#%% md\n"
    }
   },
   "source": [
    "#### 3.e.ii:\n",
    "Report which value of k was selected as best. "
   ]
  },
  {
   "cell_type": "code",
   "execution_count": 286,
   "id": "46f67a83",
   "metadata": {
    "pycharm": {
     "name": "#%%\n"
    }
   },
   "outputs": [
    {
     "name": "stdout",
     "output_type": "stream",
     "text": [
      "The value of k that was selected as the best is:  5\n",
      "\n",
      "\n"
     ]
    }
   ],
   "source": [
    "ranger = np.asarray(k_range)\n",
    "\n",
    "for i in key_loc:\n",
    "    temp = ranger[i]\n",
    "    print(\"The value of k that was selected as the best is: \",str(temp)[1:-1])\n",
    "print('\\n')\n"
   ]
  },
  {
   "cell_type": "markdown",
   "id": "28c29077",
   "metadata": {
    "pycharm": {
     "name": "#%% md\n"
    }
   },
   "source": [
    "### 3.f: Decision Trees"
   ]
  },
  {
   "cell_type": "markdown",
   "id": "29ae9f23",
   "metadata": {
    "pycharm": {
     "name": "#%% md\n"
    }
   },
   "source": [
    "#### 3.f.i:\n",
    "Construct a classification tree to predict spam on the training data. Then print out the tree found\n",
    "Helpful functions: Python - DecisionTreeClassifier, export=graphviz from sklearn.tree"
   ]
  },
  {
   "cell_type": "code",
   "execution_count": 287,
   "id": "e44636a2",
   "metadata": {
    "pycharm": {
     "name": "#%%\n"
    }
   },
   "outputs": [],
   "source": [
    "#!pip install pydotplus\n",
    "#!pip install graphviz\n",
    "#!pip install six\n",
    "import pydotplus\n",
    "import graphviz\n",
    "import six\n",
    "from sklearn import tree\n",
    "\n",
    "from sklearn.tree import DecisionTreeClassifier # Import Decision Tree Classifier\n",
    "from sklearn.tree import export_graphviz\n",
    "from IPython.display import Image\n",
    "\n",
    "master_data = SPAMBASE_DATA\n",
    "\n",
    "master_train_data, master_test_data = train_test_split(master_data, test_size=0.3, random_state=0)\n",
    "\n",
    "# Extract the is spam column\n",
    "train_extracted_is_spam_col = master_train_data['Is Spam?']\n",
    "test_extracted_is_spam_col = master_train_data['Is Spam?']\n",
    "\n",
    "# Remove it\n",
    "master_train_data.drop(columns=['Is Spam?'])\n",
    "master_test_data.drop(columns=['Is Spam?'])\n",
    "\n",
    "# Create Decision Tree classifer object\n",
    "clf = DecisionTreeClassifier()\n",
    "clf.max_depth=3\n",
    "\n",
    "# Train Decision Tree Classifer\n",
    "clf.fit(master_train_data, train_extracted_is_spam_col)\n",
    "\n",
    "# Note: SPAMBASE_CLEAN_COLUMNS[:-1] for feature_names since we don't include the last column that we removed\n",
    "dot_data = tree.export_graphviz(clf, out_file= None, feature_names= SPAMBASE_CLEAN_COLUMNS,\n",
    "                                class_names = ['0','1'], filled = True, rounded=True)\n",
    "                                \n",
    "graph = graphviz.Source(dot_data)  \n",
    "\n",
    "graph\n"
   ]
  },
  {
   "cell_type": "markdown",
   "id": "5061e279",
   "metadata": {
    "pycharm": {
     "name": "#%% md\n"
    }
   },
   "source": [
    "#### 3.f.ii: \n",
    "Which selection criteria is used by default when learning the tree model?"
   ]
  },
  {
   "cell_type": "markdown",
   "id": "951a9ece",
   "metadata": {
    "pycharm": {
     "name": "#%% md\n"
    }
   },
   "source": [
    "The gini index is the default selection criteria."
   ]
  },
  {
   "cell_type": "markdown",
   "id": "927064f8",
   "metadata": {
    "pycharm": {
     "name": "#%% md\n"
    }
   },
   "source": [
    "### 3.g: Naive Bayes\n",
    "Use a Naive Bayes classifier to predict whether the emails are spam. Report the training and testing accuracy, sensitivity, specificity, and AUC. \n",
    "Helpful functions: Python - GaussianNB from sklearn.naive bayes. \n",
    "Python - sklearn.metrics library"
   ]
  },
  {
   "cell_type": "code",
   "execution_count": 288,
   "id": "897361ef",
   "metadata": {
    "pycharm": {
     "name": "#%%\n"
    }
   },
   "outputs": [
    {
     "name": "stdout",
     "output_type": "stream",
     "text": [
      "Test-set accuracy score: 0.8045\n",
      "Sensitivity : 0.9338\n",
      "Specificity : 0.7165\n",
      "ROC AUC : 0.8699\n"
     ]
    }
   ],
   "source": [
    "from sklearn.naive_bayes import GaussianNB\n",
    "from sklearn.metrics import precision_recall_fscore_support\n",
    "from sklearn.metrics import roc_auc_score\n",
    "from sklearn.metrics import classification_report\n",
    "from sklearn.metrics import confusion_matrix\n",
    "\n",
    "#load data in x and column of interest in y\n",
    "XG = SPAMBASE_DATA\n",
    "YG = SPAMBASE_DATA[['Is Spam?']]\n",
    "\n",
    "# Split off the data\n",
    "_3g_train, _3g_test = train_test_split(XG, test_size=.3, random_state=0)\n",
    "\n",
    "# Extract the actual values from the data, these aren't used in predicts\n",
    "extracted_spam_train = _3g_train[\"Is Spam?\"]\n",
    "extracted_spam_test = _3g_test[\"Is Spam?\"]\n",
    "\n",
    "# Drop them\n",
    "_3g_train = _3g_train.drop(columns=[\"Is Spam?\"])\n",
    "_3g_test = _3g_test.drop(columns=[\"Is Spam?\"])\n",
    "\n",
    "# Feature Scaling\n",
    "sc = StandardScaler()\n",
    "# Train the scaler using the training data\n",
    "sc.fit(_3g_train)\n",
    "\n",
    "# Transform all the data\n",
    "scaled_3g_train = sc.transform(_3g_train)\n",
    "scaled_3g_test = sc.transform(_3g_test)\n",
    "\n",
    "# Training the Naive Bayes model on the Training set\n",
    "gnb = GaussianNB()\n",
    "\n",
    "# Train the model using the draining data, and the actual training values\n",
    "gnb.fit(scaled_3g_train, extracted_spam_train)\n",
    "\n",
    "# Predicting the Test set results\n",
    "y_predG = gnb.predict(scaled_3g_test)\n",
    "\n",
    "print('Test-set accuracy score: {0:0.04f}'. format(accuracy_score(extracted_spam_test, y_predG)))\n",
    "\n",
    "\n",
    "CM = confusion_matrix(extracted_spam_test, y_predG)\n",
    "\n",
    "TN = CM[0][0]\n",
    "FN = CM[1][0]\n",
    "TP = CM[1][1]\n",
    "FP = CM[0][1]\n",
    "\n",
    "recall = TP / float(TP + FN)\n",
    "\n",
    "print('Sensitivity : {0:0.4f}'.format(recall))\n",
    "\n",
    "spec = TN / float(TN+FP) \n",
    "print('Specificity : {0:0.4f}'.format(spec))\n",
    "\n",
    "y_pred1 = gnb.predict_proba(scaled_3g_test)[:, 1]\n",
    "\n",
    "ROC_AUC = roc_auc_score(extracted_spam_test, y_pred1)\n",
    "\n",
    "print('ROC AUC : {:.4f}'.format(ROC_AUC))\n"
   ]
  },
  {
   "cell_type": "markdown",
   "id": "075b4337",
   "metadata": {
    "pycharm": {
     "name": "#%% md\n"
    }
   },
   "source": [
    "### 3H Model Selection / Evaluation\n",
    "Model Selection / Evaluation: Grid Search with Cross-Validation - KFolds.\n",
    "We will now incorporate cross-validation into the model selection and evaluation process and use it for the next two parts of the question, Q3(i) and Q3(j).\n",
    "First, split out the test set with 20% of the data. \n",
    "Helpful functions: Python - train test split from sklearn.model _selection."
   ]
  },
  {
   "cell_type": "code",
   "execution_count": 289,
   "id": "9932b01e",
   "metadata": {
    "pycharm": {
     "name": "#%%\n"
    }
   },
   "outputs": [],
   "source": [
    "#load data in x and column of interest in y\n",
    "XH = SPAMBASE_DATA\n",
    "YH = SPAMBASE_DATA[['Is Spam?']]\n",
    "\n",
    "# Split off the data\n",
    "_3h_train, _3h_test = train_test_split(XH, test_size=.2, random_state=0)\n",
    "\n",
    "# Extract the actual values from the data, these aren't used in predicts\n",
    "extracted_spam_train = _3h_train[\"Is Spam?\"]\n",
    "extracted_spam_test = _3h_test[\"Is Spam?\"]\n",
    "\n",
    "# Drop them\n",
    "_3h_train = _3h_train.drop(columns=[\"Is Spam?\"])\n",
    "_3h_test = _3h_test.drop(columns=[\"Is Spam?\"])\n",
    "\n",
    "  \n",
    "# Feature Scaling\n",
    "mms = MinMaxScaler()\n",
    "# Train the scaler using the training data\n",
    "mms.fit(_3h_train)\n",
    "\n",
    "# Transform all the data\n",
    "scaled_3h_train = mms.transform(_3h_train)\n",
    "scaled_3h_test = mms.transform(_3h_test)\n",
    "\n"
   ]
  },
  {
   "cell_type": "markdown",
   "id": "a82c6139",
   "metadata": {
    "pycharm": {
     "name": "#%% md\n"
    }
   },
   "source": [
    "### 3.i: Support Vector Machines\n",
    "Learn SVM modesl to predict spam using 10-fold cross-validation on the train+validaiton data to select the best parameters."
   ]
  },
  {
   "cell_type": "markdown",
   "id": "39e1e761",
   "metadata": {
    "pycharm": {
     "name": "#%% md\n"
    }
   },
   "source": [
    "#### 3.i.1: \n",
    "The remaining train+validation set, from Q3(h), will be split using 10-fold cross-validation. You will do cross-validation by hand, that is with the functions:\n",
    "Helpful functions: Python - StratifiedKFold from sklearn.model selection."
   ]
  },
  {
   "cell_type": "code",
   "execution_count": 290,
   "id": "2facaa4f",
   "metadata": {
    "pycharm": {
     "name": "#%%\n"
    }
   },
   "outputs": [
    {
     "name": "stdout",
     "output_type": "stream",
     "text": [
      "TRAIN: [ 182  183  184 ... 4598 4599 4600] TEST: [   0    1    2    3    4    5    6    7    8    9   10   11   12   13\n",
      "   14   15   16   17   18   19   20   21   22   23   24   25   26   27\n",
      "   28   29   30   31   32   33   34   35   36   37   38   39   40   41\n",
      "   42   43   44   45   46   47   48   49   50   51   52   53   54   55\n",
      "   56   57   58   59   60   61   62   63   64   65   66   67   68   69\n",
      "   70   71   72   73   74   75   76   77   78   79   80   81   82   83\n",
      "   84   85   86   87   88   89   90   91   92   93   94   95   96   97\n",
      "   98   99  100  101  102  103  104  105  106  107  108  109  110  111\n",
      "  112  113  114  115  116  117  118  119  120  121  122  123  124  125\n",
      "  126  127  128  129  130  131  132  133  134  135  136  137  138  139\n",
      "  140  141  142  143  144  145  146  147  148  149  150  151  152  153\n",
      "  154  155  156  157  158  159  160  161  162  163  164  165  166  167\n",
      "  168  169  170  171  172  173  174  175  176  177  178  179  180  181\n",
      " 1813 1814 1815 1816 1817 1818 1819 1820 1821 1822 1823 1824 1825 1826\n",
      " 1827 1828 1829 1830 1831 1832 1833 1834 1835 1836 1837 1838 1839 1840\n",
      " 1841 1842 1843 1844 1845 1846 1847 1848 1849 1850 1851 1852 1853 1854\n",
      " 1855 1856 1857 1858 1859 1860 1861 1862 1863 1864 1865 1866 1867 1868\n",
      " 1869 1870 1871 1872 1873 1874 1875 1876 1877 1878 1879 1880 1881 1882\n",
      " 1883 1884 1885 1886 1887 1888 1889 1890 1891 1892 1893 1894 1895 1896\n",
      " 1897 1898 1899 1900 1901 1902 1903 1904 1905 1906 1907 1908 1909 1910\n",
      " 1911 1912 1913 1914 1915 1916 1917 1918 1919 1920 1921 1922 1923 1924\n",
      " 1925 1926 1927 1928 1929 1930 1931 1932 1933 1934 1935 1936 1937 1938\n",
      " 1939 1940 1941 1942 1943 1944 1945 1946 1947 1948 1949 1950 1951 1952\n",
      " 1953 1954 1955 1956 1957 1958 1959 1960 1961 1962 1963 1964 1965 1966\n",
      " 1967 1968 1969 1970 1971 1972 1973 1974 1975 1976 1977 1978 1979 1980\n",
      " 1981 1982 1983 1984 1985 1986 1987 1988 1989 1990 1991 1992 1993 1994\n",
      " 1995 1996 1997 1998 1999 2000 2001 2002 2003 2004 2005 2006 2007 2008\n",
      " 2009 2010 2011 2012 2013 2014 2015 2016 2017 2018 2019 2020 2021 2022\n",
      " 2023 2024 2025 2026 2027 2028 2029 2030 2031 2032 2033 2034 2035 2036\n",
      " 2037 2038 2039 2040 2041 2042 2043 2044 2045 2046 2047 2048 2049 2050\n",
      " 2051 2052 2053 2054 2055 2056 2057 2058 2059 2060 2061 2062 2063 2064\n",
      " 2065 2066 2067 2068 2069 2070 2071 2072 2073 2074 2075 2076 2077 2078\n",
      " 2079 2080 2081 2082 2083 2084 2085 2086 2087 2088 2089 2090 2091]\n",
      "error\n",
      "TRAIN: [   0    1    2 ... 4598 4599 4600] TEST: [ 182  183  184  185  186  187  188  189  190  191  192  193  194  195\n",
      "  196  197  198  199  200  201  202  203  204  205  206  207  208  209\n",
      "  210  211  212  213  214  215  216  217  218  219  220  221  222  223\n",
      "  224  225  226  227  228  229  230  231  232  233  234  235  236  237\n",
      "  238  239  240  241  242  243  244  245  246  247  248  249  250  251\n",
      "  252  253  254  255  256  257  258  259  260  261  262  263  264  265\n",
      "  266  267  268  269  270  271  272  273  274  275  276  277  278  279\n",
      "  280  281  282  283  284  285  286  287  288  289  290  291  292  293\n",
      "  294  295  296  297  298  299  300  301  302  303  304  305  306  307\n",
      "  308  309  310  311  312  313  314  315  316  317  318  319  320  321\n",
      "  322  323  324  325  326  327  328  329  330  331  332  333  334  335\n",
      "  336  337  338  339  340  341  342  343  344  345  346  347  348  349\n",
      "  350  351  352  353  354  355  356  357  358  359  360  361  362  363\n",
      " 2092 2093 2094 2095 2096 2097 2098 2099 2100 2101 2102 2103 2104 2105\n",
      " 2106 2107 2108 2109 2110 2111 2112 2113 2114 2115 2116 2117 2118 2119\n",
      " 2120 2121 2122 2123 2124 2125 2126 2127 2128 2129 2130 2131 2132 2133\n",
      " 2134 2135 2136 2137 2138 2139 2140 2141 2142 2143 2144 2145 2146 2147\n",
      " 2148 2149 2150 2151 2152 2153 2154 2155 2156 2157 2158 2159 2160 2161\n",
      " 2162 2163 2164 2165 2166 2167 2168 2169 2170 2171 2172 2173 2174 2175\n",
      " 2176 2177 2178 2179 2180 2181 2182 2183 2184 2185 2186 2187 2188 2189\n",
      " 2190 2191 2192 2193 2194 2195 2196 2197 2198 2199 2200 2201 2202 2203\n",
      " 2204 2205 2206 2207 2208 2209 2210 2211 2212 2213 2214 2215 2216 2217\n",
      " 2218 2219 2220 2221 2222 2223 2224 2225 2226 2227 2228 2229 2230 2231\n",
      " 2232 2233 2234 2235 2236 2237 2238 2239 2240 2241 2242 2243 2244 2245\n",
      " 2246 2247 2248 2249 2250 2251 2252 2253 2254 2255 2256 2257 2258 2259\n",
      " 2260 2261 2262 2263 2264 2265 2266 2267 2268 2269 2270 2271 2272 2273\n",
      " 2274 2275 2276 2277 2278 2279 2280 2281 2282 2283 2284 2285 2286 2287\n",
      " 2288 2289 2290 2291 2292 2293 2294 2295 2296 2297 2298 2299 2300 2301\n",
      " 2302 2303 2304 2305 2306 2307 2308 2309 2310 2311 2312 2313 2314 2315\n",
      " 2316 2317 2318 2319 2320 2321 2322 2323 2324 2325 2326 2327 2328 2329\n",
      " 2330 2331 2332 2333 2334 2335 2336 2337 2338 2339 2340 2341 2342 2343\n",
      " 2344 2345 2346 2347 2348 2349 2350 2351 2352 2353 2354 2355 2356 2357\n",
      " 2358 2359 2360 2361 2362 2363 2364 2365 2366 2367 2368 2369]\n",
      "error\n",
      "TRAIN: [   0    1    2 ... 4598 4599 4600] TEST: [ 364  365  366  367  368  369  370  371  372  373  374  375  376  377\n",
      "  378  379  380  381  382  383  384  385  386  387  388  389  390  391\n",
      "  392  393  394  395  396  397  398  399  400  401  402  403  404  405\n",
      "  406  407  408  409  410  411  412  413  414  415  416  417  418  419\n",
      "  420  421  422  423  424  425  426  427  428  429  430  431  432  433\n",
      "  434  435  436  437  438  439  440  441  442  443  444  445  446  447\n",
      "  448  449  450  451  452  453  454  455  456  457  458  459  460  461\n",
      "  462  463  464  465  466  467  468  469  470  471  472  473  474  475\n",
      "  476  477  478  479  480  481  482  483  484  485  486  487  488  489\n",
      "  490  491  492  493  494  495  496  497  498  499  500  501  502  503\n",
      "  504  505  506  507  508  509  510  511  512  513  514  515  516  517\n",
      "  518  519  520  521  522  523  524  525  526  527  528  529  530  531\n",
      "  532  533  534  535  536  537  538  539  540  541  542  543  544  545\n",
      " 2370 2371 2372 2373 2374 2375 2376 2377 2378 2379 2380 2381 2382 2383\n",
      " 2384 2385 2386 2387 2388 2389 2390 2391 2392 2393 2394 2395 2396 2397\n",
      " 2398 2399 2400 2401 2402 2403 2404 2405 2406 2407 2408 2409 2410 2411\n",
      " 2412 2413 2414 2415 2416 2417 2418 2419 2420 2421 2422 2423 2424 2425\n",
      " 2426 2427 2428 2429 2430 2431 2432 2433 2434 2435 2436 2437 2438 2439\n",
      " 2440 2441 2442 2443 2444 2445 2446 2447 2448 2449 2450 2451 2452 2453\n",
      " 2454 2455 2456 2457 2458 2459 2460 2461 2462 2463 2464 2465 2466 2467\n",
      " 2468 2469 2470 2471 2472 2473 2474 2475 2476 2477 2478 2479 2480 2481\n",
      " 2482 2483 2484 2485 2486 2487 2488 2489 2490 2491 2492 2493 2494 2495\n",
      " 2496 2497 2498 2499 2500 2501 2502 2503 2504 2505 2506 2507 2508 2509\n",
      " 2510 2511 2512 2513 2514 2515 2516 2517 2518 2519 2520 2521 2522 2523\n",
      " 2524 2525 2526 2527 2528 2529 2530 2531 2532 2533 2534 2535 2536 2537\n",
      " 2538 2539 2540 2541 2542 2543 2544 2545 2546 2547 2548 2549 2550 2551\n",
      " 2552 2553 2554 2555 2556 2557 2558 2559 2560 2561 2562 2563 2564 2565\n",
      " 2566 2567 2568 2569 2570 2571 2572 2573 2574 2575 2576 2577 2578 2579\n",
      " 2580 2581 2582 2583 2584 2585 2586 2587 2588 2589 2590 2591 2592 2593\n",
      " 2594 2595 2596 2597 2598 2599 2600 2601 2602 2603 2604 2605 2606 2607\n",
      " 2608 2609 2610 2611 2612 2613 2614 2615 2616 2617 2618 2619 2620 2621\n",
      " 2622 2623 2624 2625 2626 2627 2628 2629 2630 2631 2632 2633 2634 2635\n",
      " 2636 2637 2638 2639 2640 2641 2642 2643 2644 2645 2646 2647]\n",
      "error\n",
      "TRAIN: [   0    1    2 ... 4598 4599 4600] TEST: [ 546  547  548  549  550  551  552  553  554  555  556  557  558  559\n",
      "  560  561  562  563  564  565  566  567  568  569  570  571  572  573\n",
      "  574  575  576  577  578  579  580  581  582  583  584  585  586  587\n",
      "  588  589  590  591  592  593  594  595  596  597  598  599  600  601\n",
      "  602  603  604  605  606  607  608  609  610  611  612  613  614  615\n",
      "  616  617  618  619  620  621  622  623  624  625  626  627  628  629\n",
      "  630  631  632  633  634  635  636  637  638  639  640  641  642  643\n",
      "  644  645  646  647  648  649  650  651  652  653  654  655  656  657\n",
      "  658  659  660  661  662  663  664  665  666  667  668  669  670  671\n",
      "  672  673  674  675  676  677  678  679  680  681  682  683  684  685\n",
      "  686  687  688  689  690  691  692  693  694  695  696  697  698  699\n",
      "  700  701  702  703  704  705  706  707  708  709  710  711  712  713\n",
      "  714  715  716  717  718  719  720  721  722  723  724  725  726 2648\n",
      " 2649 2650 2651 2652 2653 2654 2655 2656 2657 2658 2659 2660 2661 2662\n",
      " 2663 2664 2665 2666 2667 2668 2669 2670 2671 2672 2673 2674 2675 2676\n",
      " 2677 2678 2679 2680 2681 2682 2683 2684 2685 2686 2687 2688 2689 2690\n",
      " 2691 2692 2693 2694 2695 2696 2697 2698 2699 2700 2701 2702 2703 2704\n",
      " 2705 2706 2707 2708 2709 2710 2711 2712 2713 2714 2715 2716 2717 2718\n",
      " 2719 2720 2721 2722 2723 2724 2725 2726 2727 2728 2729 2730 2731 2732\n",
      " 2733 2734 2735 2736 2737 2738 2739 2740 2741 2742 2743 2744 2745 2746\n",
      " 2747 2748 2749 2750 2751 2752 2753 2754 2755 2756 2757 2758 2759 2760\n",
      " 2761 2762 2763 2764 2765 2766 2767 2768 2769 2770 2771 2772 2773 2774\n",
      " 2775 2776 2777 2778 2779 2780 2781 2782 2783 2784 2785 2786 2787 2788\n",
      " 2789 2790 2791 2792 2793 2794 2795 2796 2797 2798 2799 2800 2801 2802\n",
      " 2803 2804 2805 2806 2807 2808 2809 2810 2811 2812 2813 2814 2815 2816\n",
      " 2817 2818 2819 2820 2821 2822 2823 2824 2825 2826 2827 2828 2829 2830\n",
      " 2831 2832 2833 2834 2835 2836 2837 2838 2839 2840 2841 2842 2843 2844\n",
      " 2845 2846 2847 2848 2849 2850 2851 2852 2853 2854 2855 2856 2857 2858\n",
      " 2859 2860 2861 2862 2863 2864 2865 2866 2867 2868 2869 2870 2871 2872\n",
      " 2873 2874 2875 2876 2877 2878 2879 2880 2881 2882 2883 2884 2885 2886\n",
      " 2887 2888 2889 2890 2891 2892 2893 2894 2895 2896 2897 2898 2899 2900\n",
      " 2901 2902 2903 2904 2905 2906 2907 2908 2909 2910 2911 2912 2913 2914\n",
      " 2915 2916 2917 2918 2919 2920 2921 2922 2923 2924 2925 2926]\n",
      "error\n",
      "TRAIN: [   0    1    2 ... 4598 4599 4600] TEST: [ 727  728  729  730  731  732  733  734  735  736  737  738  739  740\n",
      "  741  742  743  744  745  746  747  748  749  750  751  752  753  754\n",
      "  755  756  757  758  759  760  761  762  763  764  765  766  767  768\n",
      "  769  770  771  772  773  774  775  776  777  778  779  780  781  782\n",
      "  783  784  785  786  787  788  789  790  791  792  793  794  795  796\n",
      "  797  798  799  800  801  802  803  804  805  806  807  808  809  810\n",
      "  811  812  813  814  815  816  817  818  819  820  821  822  823  824\n",
      "  825  826  827  828  829  830  831  832  833  834  835  836  837  838\n",
      "  839  840  841  842  843  844  845  846  847  848  849  850  851  852\n",
      "  853  854  855  856  857  858  859  860  861  862  863  864  865  866\n",
      "  867  868  869  870  871  872  873  874  875  876  877  878  879  880\n",
      "  881  882  883  884  885  886  887  888  889  890  891  892  893  894\n",
      "  895  896  897  898  899  900  901  902  903  904  905  906  907 2927\n",
      " 2928 2929 2930 2931 2932 2933 2934 2935 2936 2937 2938 2939 2940 2941\n",
      " 2942 2943 2944 2945 2946 2947 2948 2949 2950 2951 2952 2953 2954 2955\n",
      " 2956 2957 2958 2959 2960 2961 2962 2963 2964 2965 2966 2967 2968 2969\n",
      " 2970 2971 2972 2973 2974 2975 2976 2977 2978 2979 2980 2981 2982 2983\n",
      " 2984 2985 2986 2987 2988 2989 2990 2991 2992 2993 2994 2995 2996 2997\n",
      " 2998 2999 3000 3001 3002 3003 3004 3005 3006 3007 3008 3009 3010 3011\n",
      " 3012 3013 3014 3015 3016 3017 3018 3019 3020 3021 3022 3023 3024 3025\n",
      " 3026 3027 3028 3029 3030 3031 3032 3033 3034 3035 3036 3037 3038 3039\n",
      " 3040 3041 3042 3043 3044 3045 3046 3047 3048 3049 3050 3051 3052 3053\n",
      " 3054 3055 3056 3057 3058 3059 3060 3061 3062 3063 3064 3065 3066 3067\n",
      " 3068 3069 3070 3071 3072 3073 3074 3075 3076 3077 3078 3079 3080 3081\n",
      " 3082 3083 3084 3085 3086 3087 3088 3089 3090 3091 3092 3093 3094 3095\n",
      " 3096 3097 3098 3099 3100 3101 3102 3103 3104 3105 3106 3107 3108 3109\n",
      " 3110 3111 3112 3113 3114 3115 3116 3117 3118 3119 3120 3121 3122 3123\n",
      " 3124 3125 3126 3127 3128 3129 3130 3131 3132 3133 3134 3135 3136 3137\n",
      " 3138 3139 3140 3141 3142 3143 3144 3145 3146 3147 3148 3149 3150 3151\n",
      " 3152 3153 3154 3155 3156 3157 3158 3159 3160 3161 3162 3163 3164 3165\n",
      " 3166 3167 3168 3169 3170 3171 3172 3173 3174 3175 3176 3177 3178 3179\n",
      " 3180 3181 3182 3183 3184 3185 3186 3187 3188 3189 3190 3191 3192 3193\n",
      " 3194 3195 3196 3197 3198 3199 3200 3201 3202 3203 3204 3205]\n",
      "error\n",
      "TRAIN: [   0    1    2 ... 4598 4599 4600] TEST: [ 908  909  910  911  912  913  914  915  916  917  918  919  920  921\n",
      "  922  923  924  925  926  927  928  929  930  931  932  933  934  935\n",
      "  936  937  938  939  940  941  942  943  944  945  946  947  948  949\n",
      "  950  951  952  953  954  955  956  957  958  959  960  961  962  963\n",
      "  964  965  966  967  968  969  970  971  972  973  974  975  976  977\n",
      "  978  979  980  981  982  983  984  985  986  987  988  989  990  991\n",
      "  992  993  994  995  996  997  998  999 1000 1001 1002 1003 1004 1005\n",
      " 1006 1007 1008 1009 1010 1011 1012 1013 1014 1015 1016 1017 1018 1019\n",
      " 1020 1021 1022 1023 1024 1025 1026 1027 1028 1029 1030 1031 1032 1033\n",
      " 1034 1035 1036 1037 1038 1039 1040 1041 1042 1043 1044 1045 1046 1047\n",
      " 1048 1049 1050 1051 1052 1053 1054 1055 1056 1057 1058 1059 1060 1061\n",
      " 1062 1063 1064 1065 1066 1067 1068 1069 1070 1071 1072 1073 1074 1075\n",
      " 1076 1077 1078 1079 1080 1081 1082 1083 1084 1085 1086 1087 1088 3206\n",
      " 3207 3208 3209 3210 3211 3212 3213 3214 3215 3216 3217 3218 3219 3220\n",
      " 3221 3222 3223 3224 3225 3226 3227 3228 3229 3230 3231 3232 3233 3234\n",
      " 3235 3236 3237 3238 3239 3240 3241 3242 3243 3244 3245 3246 3247 3248\n",
      " 3249 3250 3251 3252 3253 3254 3255 3256 3257 3258 3259 3260 3261 3262\n",
      " 3263 3264 3265 3266 3267 3268 3269 3270 3271 3272 3273 3274 3275 3276\n",
      " 3277 3278 3279 3280 3281 3282 3283 3284 3285 3286 3287 3288 3289 3290\n",
      " 3291 3292 3293 3294 3295 3296 3297 3298 3299 3300 3301 3302 3303 3304\n",
      " 3305 3306 3307 3308 3309 3310 3311 3312 3313 3314 3315 3316 3317 3318\n",
      " 3319 3320 3321 3322 3323 3324 3325 3326 3327 3328 3329 3330 3331 3332\n",
      " 3333 3334 3335 3336 3337 3338 3339 3340 3341 3342 3343 3344 3345 3346\n",
      " 3347 3348 3349 3350 3351 3352 3353 3354 3355 3356 3357 3358 3359 3360\n",
      " 3361 3362 3363 3364 3365 3366 3367 3368 3369 3370 3371 3372 3373 3374\n",
      " 3375 3376 3377 3378 3379 3380 3381 3382 3383 3384 3385 3386 3387 3388\n",
      " 3389 3390 3391 3392 3393 3394 3395 3396 3397 3398 3399 3400 3401 3402\n",
      " 3403 3404 3405 3406 3407 3408 3409 3410 3411 3412 3413 3414 3415 3416\n",
      " 3417 3418 3419 3420 3421 3422 3423 3424 3425 3426 3427 3428 3429 3430\n",
      " 3431 3432 3433 3434 3435 3436 3437 3438 3439 3440 3441 3442 3443 3444\n",
      " 3445 3446 3447 3448 3449 3450 3451 3452 3453 3454 3455 3456 3457 3458\n",
      " 3459 3460 3461 3462 3463 3464 3465 3466 3467 3468 3469 3470 3471 3472\n",
      " 3473 3474 3475 3476 3477 3478 3479 3480 3481 3482 3483 3484]\n",
      "error\n",
      "TRAIN: [   0    1    2 ... 4598 4599 4600] TEST: [1089 1090 1091 1092 1093 1094 1095 1096 1097 1098 1099 1100 1101 1102\n",
      " 1103 1104 1105 1106 1107 1108 1109 1110 1111 1112 1113 1114 1115 1116\n",
      " 1117 1118 1119 1120 1121 1122 1123 1124 1125 1126 1127 1128 1129 1130\n",
      " 1131 1132 1133 1134 1135 1136 1137 1138 1139 1140 1141 1142 1143 1144\n",
      " 1145 1146 1147 1148 1149 1150 1151 1152 1153 1154 1155 1156 1157 1158\n",
      " 1159 1160 1161 1162 1163 1164 1165 1166 1167 1168 1169 1170 1171 1172\n",
      " 1173 1174 1175 1176 1177 1178 1179 1180 1181 1182 1183 1184 1185 1186\n",
      " 1187 1188 1189 1190 1191 1192 1193 1194 1195 1196 1197 1198 1199 1200\n",
      " 1201 1202 1203 1204 1205 1206 1207 1208 1209 1210 1211 1212 1213 1214\n",
      " 1215 1216 1217 1218 1219 1220 1221 1222 1223 1224 1225 1226 1227 1228\n",
      " 1229 1230 1231 1232 1233 1234 1235 1236 1237 1238 1239 1240 1241 1242\n",
      " 1243 1244 1245 1246 1247 1248 1249 1250 1251 1252 1253 1254 1255 1256\n",
      " 1257 1258 1259 1260 1261 1262 1263 1264 1265 1266 1267 1268 1269 3485\n",
      " 3486 3487 3488 3489 3490 3491 3492 3493 3494 3495 3496 3497 3498 3499\n",
      " 3500 3501 3502 3503 3504 3505 3506 3507 3508 3509 3510 3511 3512 3513\n",
      " 3514 3515 3516 3517 3518 3519 3520 3521 3522 3523 3524 3525 3526 3527\n",
      " 3528 3529 3530 3531 3532 3533 3534 3535 3536 3537 3538 3539 3540 3541\n",
      " 3542 3543 3544 3545 3546 3547 3548 3549 3550 3551 3552 3553 3554 3555\n",
      " 3556 3557 3558 3559 3560 3561 3562 3563 3564 3565 3566 3567 3568 3569\n",
      " 3570 3571 3572 3573 3574 3575 3576 3577 3578 3579 3580 3581 3582 3583\n",
      " 3584 3585 3586 3587 3588 3589 3590 3591 3592 3593 3594 3595 3596 3597\n",
      " 3598 3599 3600 3601 3602 3603 3604 3605 3606 3607 3608 3609 3610 3611\n",
      " 3612 3613 3614 3615 3616 3617 3618 3619 3620 3621 3622 3623 3624 3625\n",
      " 3626 3627 3628 3629 3630 3631 3632 3633 3634 3635 3636 3637 3638 3639\n",
      " 3640 3641 3642 3643 3644 3645 3646 3647 3648 3649 3650 3651 3652 3653\n",
      " 3654 3655 3656 3657 3658 3659 3660 3661 3662 3663 3664 3665 3666 3667\n",
      " 3668 3669 3670 3671 3672 3673 3674 3675 3676 3677 3678 3679 3680 3681\n",
      " 3682 3683 3684 3685 3686 3687 3688 3689 3690 3691 3692 3693 3694 3695\n",
      " 3696 3697 3698 3699 3700 3701 3702 3703 3704 3705 3706 3707 3708 3709\n",
      " 3710 3711 3712 3713 3714 3715 3716 3717 3718 3719 3720 3721 3722 3723\n",
      " 3724 3725 3726 3727 3728 3729 3730 3731 3732 3733 3734 3735 3736 3737\n",
      " 3738 3739 3740 3741 3742 3743 3744 3745 3746 3747 3748 3749 3750 3751\n",
      " 3752 3753 3754 3755 3756 3757 3758 3759 3760 3761 3762 3763]\n",
      "error\n",
      "TRAIN: [   0    1    2 ... 4598 4599 4600] TEST: [1270 1271 1272 1273 1274 1275 1276 1277 1278 1279 1280 1281 1282 1283\n",
      " 1284 1285 1286 1287 1288 1289 1290 1291 1292 1293 1294 1295 1296 1297\n",
      " 1298 1299 1300 1301 1302 1303 1304 1305 1306 1307 1308 1309 1310 1311\n",
      " 1312 1313 1314 1315 1316 1317 1318 1319 1320 1321 1322 1323 1324 1325\n",
      " 1326 1327 1328 1329 1330 1331 1332 1333 1334 1335 1336 1337 1338 1339\n",
      " 1340 1341 1342 1343 1344 1345 1346 1347 1348 1349 1350 1351 1352 1353\n",
      " 1354 1355 1356 1357 1358 1359 1360 1361 1362 1363 1364 1365 1366 1367\n",
      " 1368 1369 1370 1371 1372 1373 1374 1375 1376 1377 1378 1379 1380 1381\n",
      " 1382 1383 1384 1385 1386 1387 1388 1389 1390 1391 1392 1393 1394 1395\n",
      " 1396 1397 1398 1399 1400 1401 1402 1403 1404 1405 1406 1407 1408 1409\n",
      " 1410 1411 1412 1413 1414 1415 1416 1417 1418 1419 1420 1421 1422 1423\n",
      " 1424 1425 1426 1427 1428 1429 1430 1431 1432 1433 1434 1435 1436 1437\n",
      " 1438 1439 1440 1441 1442 1443 1444 1445 1446 1447 1448 1449 1450 3764\n",
      " 3765 3766 3767 3768 3769 3770 3771 3772 3773 3774 3775 3776 3777 3778\n",
      " 3779 3780 3781 3782 3783 3784 3785 3786 3787 3788 3789 3790 3791 3792\n",
      " 3793 3794 3795 3796 3797 3798 3799 3800 3801 3802 3803 3804 3805 3806\n",
      " 3807 3808 3809 3810 3811 3812 3813 3814 3815 3816 3817 3818 3819 3820\n",
      " 3821 3822 3823 3824 3825 3826 3827 3828 3829 3830 3831 3832 3833 3834\n",
      " 3835 3836 3837 3838 3839 3840 3841 3842 3843 3844 3845 3846 3847 3848\n",
      " 3849 3850 3851 3852 3853 3854 3855 3856 3857 3858 3859 3860 3861 3862\n",
      " 3863 3864 3865 3866 3867 3868 3869 3870 3871 3872 3873 3874 3875 3876\n",
      " 3877 3878 3879 3880 3881 3882 3883 3884 3885 3886 3887 3888 3889 3890\n",
      " 3891 3892 3893 3894 3895 3896 3897 3898 3899 3900 3901 3902 3903 3904\n",
      " 3905 3906 3907 3908 3909 3910 3911 3912 3913 3914 3915 3916 3917 3918\n",
      " 3919 3920 3921 3922 3923 3924 3925 3926 3927 3928 3929 3930 3931 3932\n",
      " 3933 3934 3935 3936 3937 3938 3939 3940 3941 3942 3943 3944 3945 3946\n",
      " 3947 3948 3949 3950 3951 3952 3953 3954 3955 3956 3957 3958 3959 3960\n",
      " 3961 3962 3963 3964 3965 3966 3967 3968 3969 3970 3971 3972 3973 3974\n",
      " 3975 3976 3977 3978 3979 3980 3981 3982 3983 3984 3985 3986 3987 3988\n",
      " 3989 3990 3991 3992 3993 3994 3995 3996 3997 3998 3999 4000 4001 4002\n",
      " 4003 4004 4005 4006 4007 4008 4009 4010 4011 4012 4013 4014 4015 4016\n",
      " 4017 4018 4019 4020 4021 4022 4023 4024 4025 4026 4027 4028 4029 4030\n",
      " 4031 4032 4033 4034 4035 4036 4037 4038 4039 4040 4041 4042]\n",
      "error\n",
      "TRAIN: [   0    1    2 ... 4598 4599 4600] TEST: [1451 1452 1453 1454 1455 1456 1457 1458 1459 1460 1461 1462 1463 1464\n",
      " 1465 1466 1467 1468 1469 1470 1471 1472 1473 1474 1475 1476 1477 1478\n",
      " 1479 1480 1481 1482 1483 1484 1485 1486 1487 1488 1489 1490 1491 1492\n",
      " 1493 1494 1495 1496 1497 1498 1499 1500 1501 1502 1503 1504 1505 1506\n",
      " 1507 1508 1509 1510 1511 1512 1513 1514 1515 1516 1517 1518 1519 1520\n",
      " 1521 1522 1523 1524 1525 1526 1527 1528 1529 1530 1531 1532 1533 1534\n",
      " 1535 1536 1537 1538 1539 1540 1541 1542 1543 1544 1545 1546 1547 1548\n",
      " 1549 1550 1551 1552 1553 1554 1555 1556 1557 1558 1559 1560 1561 1562\n",
      " 1563 1564 1565 1566 1567 1568 1569 1570 1571 1572 1573 1574 1575 1576\n",
      " 1577 1578 1579 1580 1581 1582 1583 1584 1585 1586 1587 1588 1589 1590\n",
      " 1591 1592 1593 1594 1595 1596 1597 1598 1599 1600 1601 1602 1603 1604\n",
      " 1605 1606 1607 1608 1609 1610 1611 1612 1613 1614 1615 1616 1617 1618\n",
      " 1619 1620 1621 1622 1623 1624 1625 1626 1627 1628 1629 1630 1631 4043\n",
      " 4044 4045 4046 4047 4048 4049 4050 4051 4052 4053 4054 4055 4056 4057\n",
      " 4058 4059 4060 4061 4062 4063 4064 4065 4066 4067 4068 4069 4070 4071\n",
      " 4072 4073 4074 4075 4076 4077 4078 4079 4080 4081 4082 4083 4084 4085\n",
      " 4086 4087 4088 4089 4090 4091 4092 4093 4094 4095 4096 4097 4098 4099\n",
      " 4100 4101 4102 4103 4104 4105 4106 4107 4108 4109 4110 4111 4112 4113\n",
      " 4114 4115 4116 4117 4118 4119 4120 4121 4122 4123 4124 4125 4126 4127\n",
      " 4128 4129 4130 4131 4132 4133 4134 4135 4136 4137 4138 4139 4140 4141\n",
      " 4142 4143 4144 4145 4146 4147 4148 4149 4150 4151 4152 4153 4154 4155\n",
      " 4156 4157 4158 4159 4160 4161 4162 4163 4164 4165 4166 4167 4168 4169\n",
      " 4170 4171 4172 4173 4174 4175 4176 4177 4178 4179 4180 4181 4182 4183\n",
      " 4184 4185 4186 4187 4188 4189 4190 4191 4192 4193 4194 4195 4196 4197\n",
      " 4198 4199 4200 4201 4202 4203 4204 4205 4206 4207 4208 4209 4210 4211\n",
      " 4212 4213 4214 4215 4216 4217 4218 4219 4220 4221 4222 4223 4224 4225\n",
      " 4226 4227 4228 4229 4230 4231 4232 4233 4234 4235 4236 4237 4238 4239\n",
      " 4240 4241 4242 4243 4244 4245 4246 4247 4248 4249 4250 4251 4252 4253\n",
      " 4254 4255 4256 4257 4258 4259 4260 4261 4262 4263 4264 4265 4266 4267\n",
      " 4268 4269 4270 4271 4272 4273 4274 4275 4276 4277 4278 4279 4280 4281\n",
      " 4282 4283 4284 4285 4286 4287 4288 4289 4290 4291 4292 4293 4294 4295\n",
      " 4296 4297 4298 4299 4300 4301 4302 4303 4304 4305 4306 4307 4308 4309\n",
      " 4310 4311 4312 4313 4314 4315 4316 4317 4318 4319 4320 4321]\n",
      "error\n",
      "TRAIN: [   0    1    2 ... 4319 4320 4321] TEST: [1632 1633 1634 1635 1636 1637 1638 1639 1640 1641 1642 1643 1644 1645\n",
      " 1646 1647 1648 1649 1650 1651 1652 1653 1654 1655 1656 1657 1658 1659\n",
      " 1660 1661 1662 1663 1664 1665 1666 1667 1668 1669 1670 1671 1672 1673\n",
      " 1674 1675 1676 1677 1678 1679 1680 1681 1682 1683 1684 1685 1686 1687\n",
      " 1688 1689 1690 1691 1692 1693 1694 1695 1696 1697 1698 1699 1700 1701\n",
      " 1702 1703 1704 1705 1706 1707 1708 1709 1710 1711 1712 1713 1714 1715\n",
      " 1716 1717 1718 1719 1720 1721 1722 1723 1724 1725 1726 1727 1728 1729\n",
      " 1730 1731 1732 1733 1734 1735 1736 1737 1738 1739 1740 1741 1742 1743\n",
      " 1744 1745 1746 1747 1748 1749 1750 1751 1752 1753 1754 1755 1756 1757\n",
      " 1758 1759 1760 1761 1762 1763 1764 1765 1766 1767 1768 1769 1770 1771\n",
      " 1772 1773 1774 1775 1776 1777 1778 1779 1780 1781 1782 1783 1784 1785\n",
      " 1786 1787 1788 1789 1790 1791 1792 1793 1794 1795 1796 1797 1798 1799\n",
      " 1800 1801 1802 1803 1804 1805 1806 1807 1808 1809 1810 1811 1812 4322\n",
      " 4323 4324 4325 4326 4327 4328 4329 4330 4331 4332 4333 4334 4335 4336\n",
      " 4337 4338 4339 4340 4341 4342 4343 4344 4345 4346 4347 4348 4349 4350\n",
      " 4351 4352 4353 4354 4355 4356 4357 4358 4359 4360 4361 4362 4363 4364\n",
      " 4365 4366 4367 4368 4369 4370 4371 4372 4373 4374 4375 4376 4377 4378\n",
      " 4379 4380 4381 4382 4383 4384 4385 4386 4387 4388 4389 4390 4391 4392\n",
      " 4393 4394 4395 4396 4397 4398 4399 4400 4401 4402 4403 4404 4405 4406\n",
      " 4407 4408 4409 4410 4411 4412 4413 4414 4415 4416 4417 4418 4419 4420\n",
      " 4421 4422 4423 4424 4425 4426 4427 4428 4429 4430 4431 4432 4433 4434\n",
      " 4435 4436 4437 4438 4439 4440 4441 4442 4443 4444 4445 4446 4447 4448\n",
      " 4449 4450 4451 4452 4453 4454 4455 4456 4457 4458 4459 4460 4461 4462\n",
      " 4463 4464 4465 4466 4467 4468 4469 4470 4471 4472 4473 4474 4475 4476\n",
      " 4477 4478 4479 4480 4481 4482 4483 4484 4485 4486 4487 4488 4489 4490\n",
      " 4491 4492 4493 4494 4495 4496 4497 4498 4499 4500 4501 4502 4503 4504\n",
      " 4505 4506 4507 4508 4509 4510 4511 4512 4513 4514 4515 4516 4517 4518\n",
      " 4519 4520 4521 4522 4523 4524 4525 4526 4527 4528 4529 4530 4531 4532\n",
      " 4533 4534 4535 4536 4537 4538 4539 4540 4541 4542 4543 4544 4545 4546\n",
      " 4547 4548 4549 4550 4551 4552 4553 4554 4555 4556 4557 4558 4559 4560\n",
      " 4561 4562 4563 4564 4565 4566 4567 4568 4569 4570 4571 4572 4573 4574\n",
      " 4575 4576 4577 4578 4579 4580 4581 4582 4583 4584 4585 4586 4587 4588\n",
      " 4589 4590 4591 4592 4593 4594 4595 4596 4597 4598 4599 4600]\n",
      "error\n"
     ]
    }
   ],
   "source": [
    "from sklearn.model_selection import cross_val_score,StratifiedKFold\n",
    "from sklearn.linear_model import LogisticRegression\n",
    "\n",
    "skf = StratifiedKFold(n_splits=10, random_state=None)\n",
    "\n",
    "for train_index, test_index in skf.split(XH, YH):\n",
    "\ttry:\n",
    "\t\tprint(\"TRAIN:\", train_index, \"TEST:\", test_index)\n",
    "\t\tX_train_fold, X_test_fold = extracted_spam_train[train_index], extracted_spam_test[test_index]\n",
    "\t\ty_train_fold, y_test_fold = scaled_3h_train[train_index], scaled_3h_test[test_index]\n",
    "\texcept:\n",
    "\t\tprint('error')\n",
    "\n"
   ]
  },
  {
   "cell_type": "markdown",
   "id": "515208ca",
   "metadata": {
    "pycharm": {
     "name": "#%% md\n"
    }
   },
   "source": [
    "#### 3.i.2: \n",
    "You should train each of the models on the training set and evaluate each model on the validation set. You will examine cost parameters of [10^−2, 10^−1, 1, 10] for both the linear and RBF kernel. \n",
    "Report out in a table/dataframe for each parameter combination (cost and kernel) the following mean performances on the validation set: accuracy, precision, and recall."
   ]
  },
  {
   "cell_type": "code",
   "execution_count": 291,
   "id": "a70f85f4",
   "metadata": {
    "pycharm": {
     "name": "#%%\n"
    }
   },
   "outputs": [
    {
     "name": "stdout",
     "output_type": "stream",
     "text": [
      "Linear Model\n",
      "       Accuracy  Precision    Reacll\n",
      "0.01   0.578719   0.307692  0.010444\n",
      "0.10   0.840391   0.906897  0.686684\n",
      "1.00   0.891422   0.912536  0.817232\n",
      "10.00  0.915309   0.913279  0.879896\n",
      "\n",
      "\n",
      "RBF Model\n",
      "       Accuracy  Precision    Reacll\n",
      "0.01   0.792617   0.932432  0.540470\n",
      "0.10   0.887079   0.926606  0.791123\n",
      "1.00   0.929425   0.934426  0.892950\n",
      "10.00  0.934853   0.940054  0.900783\n"
     ]
    }
   ],
   "source": [
    "from sklearn import svm\n",
    "from sklearn.metrics import precision_score, recall_score, accuracy_score\n",
    "\n",
    "vals=[0.01, 0.1, 1, 10]\n",
    "\n",
    "prec=[]\n",
    "acc=[]\n",
    "rec=[]\n",
    "\n",
    "prec1=[]\n",
    "acc1=[]\n",
    "rec1=[]\n",
    "\n",
    "for cost in vals:\n",
    "    #create SVM with liner kernal and cost 'C'\n",
    "    clf = svm.SVC(kernel = 'linear', C = cost)\n",
    "\n",
    "    #fit(X,y) on training data\n",
    "    clf.fit(scaled_3h_train, extracted_spam_train)\n",
    "\n",
    "    #predict\n",
    "    curr_predict=clf.predict(scaled_3h_test)\n",
    "\n",
    "    acc.append(accuracy_score(extracted_spam_test, curr_predict))\n",
    "\n",
    "    prec.append(precision_score(extracted_spam_test, curr_predict))\n",
    "    \n",
    "    rec.append(recall_score(extracted_spam_test, curr_predict))\n",
    "\n",
    "for cost in vals:\n",
    "    #create SVM with liner kernal and cost 'C'\n",
    "    clf = svm.SVC(kernel = 'rbf', C = cost)\n",
    "\n",
    "    #fit(X,y) on training data\n",
    "    clf.fit(scaled_3h_train, extracted_spam_train)\n",
    "\n",
    "    #predict\n",
    "    curr_predict=clf.predict(scaled_3h_test)\n",
    "\n",
    "    acc1.append(accuracy_score(extracted_spam_test, curr_predict))\n",
    "\n",
    "    prec1.append(precision_score(extracted_spam_test, curr_predict))\n",
    "    \n",
    "    rec1.append(recall_score(extracted_spam_test, curr_predict))    \n",
    "\n",
    "    \n",
    "#first dataframe for linear model\n",
    "data = {\n",
    "  \"Accuracy\": acc,\n",
    "  \"Precision\": prec,\n",
    "    \"Reacll\": rec\n",
    "}\n",
    "df = pd.DataFrame(data, index = vals)\n",
    "print(\"Linear Model\")\n",
    "print(df)\n",
    "\n",
    "#second dataframe for rbf model\n",
    "data1 = {\n",
    "  \"Accuracy\": acc1,\n",
    "  \"Precision\": prec1,\n",
    "    \"Reacll\": rec1\n",
    "}\n",
    "df2 = pd.DataFrame(data1, index = vals)\n",
    "print(\"\\n\\nRBF Model\")\n",
    "print(df2)"
   ]
  },
  {
   "cell_type": "markdown",
   "id": "1588e5fc",
   "metadata": {
    "pycharm": {
     "name": "#%% md\n"
    }
   },
   "source": [
    "#### 3.i.3: \n",
    "Report the best parameter combination (cost and kernel) using accuracy\n",
    "as the criteria."
   ]
  },
  {
   "cell_type": "code",
   "execution_count": 292,
   "id": "3e07f1af",
   "metadata": {
    "pycharm": {
     "name": "#%%\n"
    }
   },
   "outputs": [
    {
     "name": "stdout",
     "output_type": "stream",
     "text": [
      "The best parameter of cost and kernal using accuracy as a measure are\n",
      "Kernal: RBF, cost = 0.934853\n"
     ]
    }
   ],
   "source": [
    "lin=[vals,acc]\n",
    "rbf=[vals,acc1]\n",
    "\n",
    "#find max value\n",
    "temp = np.max(lin[1])\n",
    "temp2 = np.max(rbf[1])\n",
    "\n",
    "#find location \n",
    "locLin = int(np.asarray(np.where(temp == lin[1])))\n",
    "locRbf = int(np.asarray(np.where(temp2 == rbf[1])))\n",
    "\n",
    "#find cost\n",
    "lins=[temp,locLin,vals[locLin]]\n",
    "rbfs=[temp2,locRbf,vals[locRbf]]\n",
    "\n",
    "print(\"The best parameter of cost and kernal using accuracy as a measure are\")\n",
    "if(lins[0] > rbfs[0]):\n",
    "    print(\"Kernal: Linear, cost = {0:0.4f}\".format(lins[0]))\n",
    "else:\n",
    "    print(\"Kernal: RBF, cost = {0:04f}\".format(rbfs[0]))"
   ]
  },
  {
   "cell_type": "markdown",
   "id": "054f0f58",
   "metadata": {
    "pycharm": {
     "name": "#%% md\n"
    }
   },
   "source": [
    "#### 3.i.4: \n",
    "Retrain a model with the best parameters on train+validation and evaluate it on the testing data. Report this model’s accuracy, precision and recall.\n",
    "Helpful Functions: Python- SVC from sklearn.svm"
   ]
  },
  {
   "cell_type": "code",
   "execution_count": 293,
   "id": "b95da574",
   "metadata": {
    "pycharm": {
     "name": "#%%\n"
    }
   },
   "outputs": [
    {
     "name": "stdout",
     "output_type": "stream",
     "text": [
      "Retrained model with best parameters from above (RBF, C=10)\n",
      "mean accuracy 0.9349\n",
      "mean precision 0.9401\n",
      "mean recal 0.9008\n"
     ]
    }
   ],
   "source": [
    "acc2=[]\n",
    "prec2=[]\n",
    "rec2=[]\n",
    "\n",
    "clf = svm.SVC(kernel = 'rbf', C = 10)\n",
    "\n",
    "#fit(X,y) on training data\n",
    "clf.fit(scaled_3h_train, extracted_spam_train)\n",
    "\n",
    "#predict\n",
    "curr_predict=clf.predict(scaled_3h_test)\n",
    "\n",
    "acc2.append(accuracy_score(extracted_spam_test, curr_predict))\n",
    "\n",
    "prec2.append(precision_score(extracted_spam_test, curr_predict))\n",
    " \n",
    "rec2.append(recall_score(extracted_spam_test, curr_predict))   \n",
    "#print('Acc: ', acc)\n",
    "#print('Prec: ', prec)\n",
    "#print('Rec: ',rec)\n",
    "\n",
    "print(\"Retrained model with best parameters from above (RBF, C=10)\")\n",
    "print('mean accuracy {0:0.04f}' .format(np.mean(acc2)))\n",
    "\n",
    "print('mean precision {0:0.04f}' .format(np.mean(prec2)))\n",
    "\n",
    "print('mean recal {0:0.04f}' .format(np.mean(rec2)))\n"
   ]
  },
  {
   "cell_type": "markdown",
   "id": "c588d1fc",
   "metadata": {
    "pycharm": {
     "name": "#%% md\n"
    }
   },
   "source": [
    "### 3.j: Ensemble Methods - Part 1\n",
    "Learn boosting modesl to predict spam using 10-fold cross-validation on the train+validaion data to select the best parameters"
   ]
  },
  {
   "cell_type": "markdown",
   "id": "fa447b67",
   "metadata": {
    "pycharm": {
     "name": "#%% md\n"
    }
   },
   "source": [
    "#### 3.j.i: \n",
    "You will use the same method as in Q3(i)i to set up and perform the cross-validation by hand."
   ]
  },
  {
   "cell_type": "markdown",
   "id": "540cb0df",
   "metadata": {
    "pycharm": {
     "name": "#%% md\n"
    }
   },
   "source": [
    "#### Used the data that is in Q3(i)"
   ]
  },
  {
   "cell_type": "markdown",
   "id": "533c7373",
   "metadata": {
    "pycharm": {
     "name": "#%% md\n"
    }
   },
   "source": [
    "#### 3.j.ii:\n",
    "Train AdaBoost models with the number of decision stumps to be [10, 25,\n",
    "50, 100]. Report out in a table/datafram the mean F1 score for each parameter value.\n",
    "Functions: Python - AdaBoostClassifier from sklearn.ensemble"
   ]
  },
  {
   "cell_type": "code",
   "execution_count": 294,
   "id": "01711f50",
   "metadata": {
    "pycharm": {
     "name": "#%%\n"
    }
   },
   "outputs": [
    {
     "data": {
      "text/plain": "     Mean F1 Score\n10        0.913075\n25        0.912998\n50        0.922503\n100       0.926137",
      "text/html": "<div>\n<style scoped>\n    .dataframe tbody tr th:only-of-type {\n        vertical-align: middle;\n    }\n\n    .dataframe tbody tr th {\n        vertical-align: top;\n    }\n\n    .dataframe thead th {\n        text-align: right;\n    }\n</style>\n<table border=\"1\" class=\"dataframe\">\n  <thead>\n    <tr style=\"text-align: right;\">\n      <th></th>\n      <th>Mean F1 Score</th>\n    </tr>\n  </thead>\n  <tbody>\n    <tr>\n      <th>10</th>\n      <td>0.913075</td>\n    </tr>\n    <tr>\n      <th>25</th>\n      <td>0.912998</td>\n    </tr>\n    <tr>\n      <th>50</th>\n      <td>0.922503</td>\n    </tr>\n    <tr>\n      <th>100</th>\n      <td>0.926137</td>\n    </tr>\n  </tbody>\n</table>\n</div>"
     },
     "execution_count": 294,
     "metadata": {},
     "output_type": "execute_result"
    }
   ],
   "source": [
    "from sklearn.ensemble import AdaBoostClassifier\n",
    "from sklearn.metrics import f1_score\n",
    "\n",
    "d_stumps = [10, 25, 50, 100]\n",
    "\n",
    "f_score=[]\n",
    "f_score_means=[]\n",
    "\n",
    "for ds in d_stumps:\n",
    "    #boost with d_stump values\n",
    "    clf = AdaBoostClassifier(n_estimators = ds, random_state = 0)\n",
    "\n",
    "    #fit(X,y) on training data\n",
    "    clf.fit(scaled_3h_train, extracted_spam_train)\n",
    "\n",
    "    #predict\n",
    "    curr_predict = clf.predict(scaled_3h_test)\n",
    "\n",
    "    #store current f_score\n",
    "    f_score.append(f1_score(extracted_spam_test, curr_predict, average=None))\n",
    "\n",
    "#loop through each array in f_score, calcualte the mean and store in f_score_means\n",
    "for i in f_score:\n",
    "    f_score_means.append(np.mean(i))\n",
    "\n",
    "#create dataframe of mean f1 scores\n",
    "f_data = {\"Mean F1 Score\": f_score_means}\n",
    "f1_df = pd.DataFrame(f_data, index = d_stumps)\n",
    "\n",
    "f1_df"
   ]
  },
  {
   "cell_type": "markdown",
   "id": "e2be68f3",
   "metadata": {
    "pycharm": {
     "name": "#%% md\n"
    }
   },
   "source": [
    "#### 3.j.iii\n",
    "Report out the best parameter value"
   ]
  },
  {
   "cell_type": "code",
   "execution_count": 295,
   "id": "fcfbac37",
   "metadata": {
    "pycharm": {
     "name": "#%%\n"
    }
   },
   "outputs": [
    {
     "name": "stdout",
     "output_type": "stream",
     "text": [
      "The best parameter value is:\n",
      "Decision stump value of: 100 and a mean F1 score of 0.926137\n"
     ]
    }
   ],
   "source": [
    "foo = int(np.asarray(np.where(np.max(f_score_means)==f_score_means)))\n",
    "print(\"The best parameter value is:\")\n",
    "print(\"Decision stump value of: \" + str(d_stumps[foo]) +\" and a mean F1 score of {0:004f}\".format(np.max(f_score_means)) )\n"
   ]
  },
  {
   "cell_type": "markdown",
   "id": "10e8547d",
   "metadata": {
    "pycharm": {
     "name": "#%% md\n"
    }
   },
   "source": [
    "#### 3.j.iv:\n",
    "Retrain a model with the best parameters on train+validation and evaluate it on the testing data. Report this model’s F1 score."
   ]
  },
  {
   "cell_type": "code",
   "execution_count": 296,
   "id": "89858422",
   "metadata": {
    "pycharm": {
     "name": "#%%\n"
    }
   },
   "outputs": [
    {
     "name": "stdout",
     "output_type": "stream",
     "text": [
      "0.9261373578302712\n"
     ]
    }
   ],
   "source": [
    "f_score2=[]\n",
    "#boost with d_stump values\n",
    "clf = AdaBoostClassifier(n_estimators = 100, random_state = 0)\n",
    "\n",
    "#fit(X,y) on training data\n",
    "clf.fit(scaled_3h_train, extracted_spam_train)\n",
    "\n",
    "#predict\n",
    "curr_predict = clf.predict(scaled_3h_test)\n",
    "\n",
    "#store current f_score\n",
    "f_score2.append(f1_score(extracted_spam_test, curr_predict, average=None))\n",
    "\n",
    "print(np.mean(f_score2))"
   ]
  },
  {
   "cell_type": "markdown",
   "id": "013fdc5a",
   "metadata": {
    "pycharm": {
     "name": "#%% md\n"
    }
   },
   "source": [
    "### 3.k:\n",
    "Model Selection and Evaluation: Grid Search with Cross-Validation-GridSearchCV\n",
    "\n",
    "We will again perform a GridSearch with cross-validation on the train+validation set, but here we will make use of the functions that do the cross-validation internally. \n",
    "\n",
    "Functions: Python - GridSearchCV from sklearn.model selection. \n",
    "\n",
    "Here again, start by splitting out the test set with 20% of the data. \n",
    "\n",
    "Helpful functions: Python -train test split from sklearn.model selection."
   ]
  },
  {
   "cell_type": "code",
   "execution_count": 297,
   "id": "0762bc03",
   "metadata": {
    "pycharm": {
     "name": "#%%\n"
    }
   },
   "outputs": [
    {
     "data": {
      "text/plain": "      Frequency of 'make'  Frequency of 'address'  Frequency of 'all'  \\\n991                  0.10                    0.20                1.01   \n2565                 0.00                    0.00                0.00   \n1906                 0.00                    0.00                0.00   \n1471                 0.00                    0.82                0.32   \n1813                 0.00                    0.00                0.00   \n...                   ...                     ...                 ...   \n463                  0.00                    0.00                0.00   \n4460                 0.16                    0.16                0.16   \n1928                 0.00                    0.00                0.00   \n2465                 0.00                    0.00                0.00   \n1144                 0.37                    0.75                1.13   \n\n      Frequency of '3d'  Frequency of 'our'  Frequency of 'over'  \\\n991                 0.0                0.80                 0.80   \n2565                0.0                0.00                 0.00   \n1906                0.0                0.00                 0.00   \n1471                0.0                1.14                 0.32   \n1813                0.0                0.00                 0.00   \n...                 ...                 ...                  ...   \n463                 0.0                0.00                 0.00   \n4460                0.0                0.83                 0.16   \n1928                0.0                0.00                 0.00   \n2465                0.0                0.00                 0.00   \n1144                0.0                0.37                 0.00   \n\n      Frequency of 'remove'  Frequency of 'internet'  Frequency of 'order'  \\\n991                     0.5                     0.00                  0.80   \n2565                    0.0                     0.00                  0.00   \n1906                    0.0                     0.00                  0.00   \n1471                    0.0                     0.16                  0.00   \n1813                    0.0                     0.00                  0.00   \n...                     ...                      ...                   ...   \n463                     0.0                     1.08                  0.00   \n4460                    0.0                     0.16                  0.00   \n1928                    0.0                     0.00                  0.00   \n2465                    0.0                     0.00                  0.00   \n1144                    0.0                     0.37                  0.37   \n\n      Frequency of 'mail'  ...  Frequency of 'conference'  Frequency of ';'  \\\n991                  0.10  ...                       0.00             0.000   \n2565                 0.00  ...                       0.00             0.000   \n1906                 0.00  ...                       0.00             0.000   \n1471                 0.65  ...                       0.00             0.000   \n1813                 0.00  ...                       0.00             0.022   \n...                   ...  ...                        ...               ...   \n463                  0.00  ...                       0.00             0.000   \n4460                 0.00  ...                       0.00             0.087   \n1928                 0.00  ...                       1.16             0.000   \n2465                 0.00  ...                       0.00             0.000   \n1144                 1.88  ...                       0.00             0.000   \n\n      Frequency of '('  Frequency of '['  Frequency of '!'  Frequency of '$'  \\\n991              0.111             0.000             0.491             0.158   \n2565             0.552             0.000             0.000             0.000   \n1906             0.000             0.000             0.000             0.000   \n1471             0.000             0.000             0.000             0.290   \n1813             0.022             0.019             0.022             0.022   \n...                ...               ...               ...               ...   \n463              0.194             0.000             0.000             0.389   \n4460             0.058             0.000             0.000             0.000   \n1928             0.744             0.000             0.148             0.000   \n2465             0.540             0.108             0.000             0.000   \n1144             0.197             0.000             1.248             0.197   \n\n      Frequency of '#'  Average Caps Running Length  \\\n991              0.015                        8.550   \n2565             0.000                        1.000   \n1906             0.000                        1.666   \n1471             0.029                        2.257   \n1813             0.022                        3.482   \n...                ...                          ...   \n463              0.000                        3.600   \n4460             0.000                        1.901   \n1928             0.000                        1.972   \n2465             0.054                        3.787   \n1144             0.065                       58.705   \n\n      Longest Caps Running Length  Total Caps Running Length  \n991                           669                       1351  \n2565                            1                          4  \n1906                            4                         15  \n1471                           13                        158  \n1813                            5                       5902  \n...                           ...                        ...  \n463                            16                         72  \n4460                           16                        135  \n1928                           18                         71  \n2465                           28                        375  \n1144                          842                        998  \n\n[921 rows x 57 columns]",
      "text/html": "<div>\n<style scoped>\n    .dataframe tbody tr th:only-of-type {\n        vertical-align: middle;\n    }\n\n    .dataframe tbody tr th {\n        vertical-align: top;\n    }\n\n    .dataframe thead th {\n        text-align: right;\n    }\n</style>\n<table border=\"1\" class=\"dataframe\">\n  <thead>\n    <tr style=\"text-align: right;\">\n      <th></th>\n      <th>Frequency of 'make'</th>\n      <th>Frequency of 'address'</th>\n      <th>Frequency of 'all'</th>\n      <th>Frequency of '3d'</th>\n      <th>Frequency of 'our'</th>\n      <th>Frequency of 'over'</th>\n      <th>Frequency of 'remove'</th>\n      <th>Frequency of 'internet'</th>\n      <th>Frequency of 'order'</th>\n      <th>Frequency of 'mail'</th>\n      <th>...</th>\n      <th>Frequency of 'conference'</th>\n      <th>Frequency of ';'</th>\n      <th>Frequency of '('</th>\n      <th>Frequency of '['</th>\n      <th>Frequency of '!'</th>\n      <th>Frequency of '$'</th>\n      <th>Frequency of '#'</th>\n      <th>Average Caps Running Length</th>\n      <th>Longest Caps Running Length</th>\n      <th>Total Caps Running Length</th>\n    </tr>\n  </thead>\n  <tbody>\n    <tr>\n      <th>991</th>\n      <td>0.10</td>\n      <td>0.20</td>\n      <td>1.01</td>\n      <td>0.0</td>\n      <td>0.80</td>\n      <td>0.80</td>\n      <td>0.5</td>\n      <td>0.00</td>\n      <td>0.80</td>\n      <td>0.10</td>\n      <td>...</td>\n      <td>0.00</td>\n      <td>0.000</td>\n      <td>0.111</td>\n      <td>0.000</td>\n      <td>0.491</td>\n      <td>0.158</td>\n      <td>0.015</td>\n      <td>8.550</td>\n      <td>669</td>\n      <td>1351</td>\n    </tr>\n    <tr>\n      <th>2565</th>\n      <td>0.00</td>\n      <td>0.00</td>\n      <td>0.00</td>\n      <td>0.0</td>\n      <td>0.00</td>\n      <td>0.00</td>\n      <td>0.0</td>\n      <td>0.00</td>\n      <td>0.00</td>\n      <td>0.00</td>\n      <td>...</td>\n      <td>0.00</td>\n      <td>0.000</td>\n      <td>0.552</td>\n      <td>0.000</td>\n      <td>0.000</td>\n      <td>0.000</td>\n      <td>0.000</td>\n      <td>1.000</td>\n      <td>1</td>\n      <td>4</td>\n    </tr>\n    <tr>\n      <th>1906</th>\n      <td>0.00</td>\n      <td>0.00</td>\n      <td>0.00</td>\n      <td>0.0</td>\n      <td>0.00</td>\n      <td>0.00</td>\n      <td>0.0</td>\n      <td>0.00</td>\n      <td>0.00</td>\n      <td>0.00</td>\n      <td>...</td>\n      <td>0.00</td>\n      <td>0.000</td>\n      <td>0.000</td>\n      <td>0.000</td>\n      <td>0.000</td>\n      <td>0.000</td>\n      <td>0.000</td>\n      <td>1.666</td>\n      <td>4</td>\n      <td>15</td>\n    </tr>\n    <tr>\n      <th>1471</th>\n      <td>0.00</td>\n      <td>0.82</td>\n      <td>0.32</td>\n      <td>0.0</td>\n      <td>1.14</td>\n      <td>0.32</td>\n      <td>0.0</td>\n      <td>0.16</td>\n      <td>0.00</td>\n      <td>0.65</td>\n      <td>...</td>\n      <td>0.00</td>\n      <td>0.000</td>\n      <td>0.000</td>\n      <td>0.000</td>\n      <td>0.000</td>\n      <td>0.290</td>\n      <td>0.029</td>\n      <td>2.257</td>\n      <td>13</td>\n      <td>158</td>\n    </tr>\n    <tr>\n      <th>1813</th>\n      <td>0.00</td>\n      <td>0.00</td>\n      <td>0.00</td>\n      <td>0.0</td>\n      <td>0.00</td>\n      <td>0.00</td>\n      <td>0.0</td>\n      <td>0.00</td>\n      <td>0.00</td>\n      <td>0.00</td>\n      <td>...</td>\n      <td>0.00</td>\n      <td>0.022</td>\n      <td>0.022</td>\n      <td>0.019</td>\n      <td>0.022</td>\n      <td>0.022</td>\n      <td>0.022</td>\n      <td>3.482</td>\n      <td>5</td>\n      <td>5902</td>\n    </tr>\n    <tr>\n      <th>...</th>\n      <td>...</td>\n      <td>...</td>\n      <td>...</td>\n      <td>...</td>\n      <td>...</td>\n      <td>...</td>\n      <td>...</td>\n      <td>...</td>\n      <td>...</td>\n      <td>...</td>\n      <td>...</td>\n      <td>...</td>\n      <td>...</td>\n      <td>...</td>\n      <td>...</td>\n      <td>...</td>\n      <td>...</td>\n      <td>...</td>\n      <td>...</td>\n      <td>...</td>\n      <td>...</td>\n    </tr>\n    <tr>\n      <th>463</th>\n      <td>0.00</td>\n      <td>0.00</td>\n      <td>0.00</td>\n      <td>0.0</td>\n      <td>0.00</td>\n      <td>0.00</td>\n      <td>0.0</td>\n      <td>1.08</td>\n      <td>0.00</td>\n      <td>0.00</td>\n      <td>...</td>\n      <td>0.00</td>\n      <td>0.000</td>\n      <td>0.194</td>\n      <td>0.000</td>\n      <td>0.000</td>\n      <td>0.389</td>\n      <td>0.000</td>\n      <td>3.600</td>\n      <td>16</td>\n      <td>72</td>\n    </tr>\n    <tr>\n      <th>4460</th>\n      <td>0.16</td>\n      <td>0.16</td>\n      <td>0.16</td>\n      <td>0.0</td>\n      <td>0.83</td>\n      <td>0.16</td>\n      <td>0.0</td>\n      <td>0.16</td>\n      <td>0.00</td>\n      <td>0.00</td>\n      <td>...</td>\n      <td>0.00</td>\n      <td>0.087</td>\n      <td>0.058</td>\n      <td>0.000</td>\n      <td>0.000</td>\n      <td>0.000</td>\n      <td>0.000</td>\n      <td>1.901</td>\n      <td>16</td>\n      <td>135</td>\n    </tr>\n    <tr>\n      <th>1928</th>\n      <td>0.00</td>\n      <td>0.00</td>\n      <td>0.00</td>\n      <td>0.0</td>\n      <td>0.00</td>\n      <td>0.00</td>\n      <td>0.0</td>\n      <td>0.00</td>\n      <td>0.00</td>\n      <td>0.00</td>\n      <td>...</td>\n      <td>1.16</td>\n      <td>0.000</td>\n      <td>0.744</td>\n      <td>0.000</td>\n      <td>0.148</td>\n      <td>0.000</td>\n      <td>0.000</td>\n      <td>1.972</td>\n      <td>18</td>\n      <td>71</td>\n    </tr>\n    <tr>\n      <th>2465</th>\n      <td>0.00</td>\n      <td>0.00</td>\n      <td>0.00</td>\n      <td>0.0</td>\n      <td>0.00</td>\n      <td>0.00</td>\n      <td>0.0</td>\n      <td>0.00</td>\n      <td>0.00</td>\n      <td>0.00</td>\n      <td>...</td>\n      <td>0.00</td>\n      <td>0.000</td>\n      <td>0.540</td>\n      <td>0.108</td>\n      <td>0.000</td>\n      <td>0.000</td>\n      <td>0.054</td>\n      <td>3.787</td>\n      <td>28</td>\n      <td>375</td>\n    </tr>\n    <tr>\n      <th>1144</th>\n      <td>0.37</td>\n      <td>0.75</td>\n      <td>1.13</td>\n      <td>0.0</td>\n      <td>0.37</td>\n      <td>0.00</td>\n      <td>0.0</td>\n      <td>0.37</td>\n      <td>0.37</td>\n      <td>1.88</td>\n      <td>...</td>\n      <td>0.00</td>\n      <td>0.000</td>\n      <td>0.197</td>\n      <td>0.000</td>\n      <td>1.248</td>\n      <td>0.197</td>\n      <td>0.065</td>\n      <td>58.705</td>\n      <td>842</td>\n      <td>998</td>\n    </tr>\n  </tbody>\n</table>\n<p>921 rows × 57 columns</p>\n</div>"
     },
     "execution_count": 297,
     "metadata": {},
     "output_type": "execute_result"
    }
   ],
   "source": [
    "# Some constants that affect how our train test split functions\n",
    "PERCENT_DATA_WANTED = 0.20\n",
    "SEED = 0\n",
    "\n",
    "# Split off 20% of the data\n",
    "spam_train_data, spam_test_data = train_test_split(SPAMBASE_DATA, test_size=PERCENT_DATA_WANTED, random_state=SEED)\n",
    "\n",
    "# As before, split off the actual spam values to not throw off predictions\n",
    "_3k_extracted_spam_train = spam_train_data['Is Spam?']\n",
    "_3k_extracted_spam_test = spam_test_data['Is Spam?']\n",
    "\n",
    "spam_train_data.drop(columns=['Is Spam?'])\n",
    "spam_test_data.drop(columns=['Is Spam?'])"
   ]
  },
  {
   "cell_type": "markdown",
   "id": "23082f5e",
   "metadata": {
    "pycharm": {
     "name": "#%% md\n"
    }
   },
   "source": [
    "### 3.l: Ensemble Methods - Part 2\n",
    "Let's examine bagging ensamble approaches for predicting spam"
   ]
  },
  {
   "cell_type": "markdown",
   "id": "d0ec078b",
   "metadata": {
    "pycharm": {
     "name": "#%% md\n"
    }
   },
   "source": [
    "#### 3.l.i:\n",
    "The remaining train+validation set, from Q3(k), will be using 10-fold cross-validation with the GridSearchCV functions.\n",
    "Functions: Python - GridSearchCV from sklearn.model selection"
   ]
  },
  {
   "cell_type": "code",
   "execution_count": 298,
   "id": "c5c186bb",
   "metadata": {
    "pycharm": {
     "name": "#%%\n"
    }
   },
   "outputs": [],
   "source": [
    "NUM_FOLDS = 10"
   ]
  },
  {
   "cell_type": "markdown",
   "id": "01d8e9bb",
   "metadata": {
    "pycharm": {
     "name": "#%% md\n"
    }
   },
   "source": [
    "#### 3.l.ii: \n",
    "Train Random Forest models with parameters of the maximum number of\n",
    "features [2, 4, 8, 16] and number of estimators of [25, 50, 100]. \n",
    "Report the mean AUC on validation set for the different parameter combinations.\n",
    "Functions: Python - RandomForestClassifier from sklearn.ensemble"
   ]
  },
  {
   "cell_type": "code",
   "execution_count": 299,
   "id": "35569a57",
   "metadata": {
    "pycharm": {
     "name": "#%%\n"
    }
   },
   "outputs": [
    {
     "name": "stdout",
     "output_type": "stream",
     "text": [
      "Mean AUC for RF: 1.00\n"
     ]
    }
   ],
   "source": [
    "from sklearn.model_selection import GridSearchCV\n",
    "from sklearn.ensemble import RandomForestClassifier\n",
    "\n",
    "MODEL = RandomForestClassifier()\n",
    "\n",
    "params = {\n",
    "\t'max_features': [2, 4, 8, 16],\n",
    "\t'n_estimators': [25, 50, 100]\n",
    "}\n",
    "\n",
    "# Setup the model\n",
    "GSCV = GridSearchCV(MODEL, params, cv=NUM_FOLDS)\n",
    "# Train the model\n",
    "GSCV.fit(spam_train_data, _3k_extracted_spam_train)\n",
    "# g_score = GSCV.score(spam_test_data, _3k_extracted_spam_test)\n",
    "g_pred = GSCV.predict(spam_test_data)\n",
    "\n",
    "rf_auc_score = roc_auc_score(_3k_extracted_spam_test, g_pred)\n",
    "# What were the scores?\n",
    "print(f\"Mean AUC for RF: {rf_auc_score:.2f}\")"
   ]
  },
  {
   "cell_type": "markdown",
   "id": "8a25e8bb",
   "metadata": {
    "pycharm": {
     "name": "#%% md\n"
    }
   },
   "source": [
    "#### 3.l.iii:\n",
    "Report out the best parameter values"
   ]
  },
  {
   "cell_type": "code",
   "execution_count": 300,
   "id": "db8a47c5",
   "metadata": {
    "pycharm": {
     "name": "#%%\n"
    }
   },
   "outputs": [
    {
     "name": "stdout",
     "output_type": "stream",
     "text": [
      "The best parameters are --- max_features: 8 n_estimators: 25 \n"
     ]
    }
   ],
   "source": [
    "p_string = ''\n",
    "for k, v, in GSCV.best_params_.items():\n",
    "\tp_string += f\"{k}: {v} \"\n",
    "\n",
    "print(f\"The best parameters are --- {p_string}\")"
   ]
  },
  {
   "cell_type": "markdown",
   "id": "45a67e32",
   "metadata": {
    "pycharm": {
     "name": "#%% md\n"
    }
   },
   "source": [
    "#### 3.l.iv: \n",
    "Retrain a model with the best parameters on train+validation and evaluate it on the testing data. Resport this model's AUC."
   ]
  },
  {
   "cell_type": "code",
   "execution_count": 301,
   "id": "8e14a877",
   "metadata": {
    "pycharm": {
     "name": "#%%\n"
    }
   },
   "outputs": [
    {
     "name": "stdout",
     "output_type": "stream",
     "text": [
      "Mean AUC for RF: 1.00\n"
     ]
    }
   ],
   "source": [
    "from sklearn.model_selection import cross_val_score\n",
    "\n",
    "RFC = RandomForestClassifier()\n",
    "RFC.max_features = GSCV.best_params_['max_features']\n",
    "RFC.n_estimators = GSCV.best_params_['n_estimators']\n",
    "# Train the model\n",
    "RFC.fit(spam_train_data, _3k_extracted_spam_train)\n",
    "rfc_y_pred = RFC.predict(spam_test_data)\n",
    "\n",
    "mean_auc = roc_auc_score(_3k_extracted_spam_test, rfc_y_pred)\n",
    "\n",
    "print(f\"Mean AUC for RF: {mean_auc:.2f}\")"
   ]
  },
  {
   "cell_type": "markdown",
   "id": "fbbffd6d",
   "metadata": {
    "pycharm": {
     "name": "#%% md\n"
    }
   },
   "source": [
    "## (Question 4) NBA Baskeball - Using Pipelines / Workflows\n",
    "For this problem you will use a data set of 9,958 NBA basketball games (the 2016-2019 seasons).\n",
    "This dataset of the games and the associated properties has been collected from NBA website\n",
    "API - https://www.nba.com/. You will use this data set with the goal to predict whether\n",
    "a team will win a game"
   ]
  },
  {
   "cell_type": "markdown",
   "id": "92780a94",
   "metadata": {
    "pycharm": {
     "name": "#%% md\n"
    }
   },
   "source": [
    "The data set variables consist of the following:\n",
    "- SEASON ID, GAME ID, GAME DATE - variables that are to be ignored for prediction, but here\n",
    "to recognize the individual samples\n",
    "- TEAM A, TEAM B, MATCHUP - variables describing the two teams in a game.\n",
    "- WON - This is the target / class feature to be predicted.\n",
    "The remaining variables are predictor variables for the models. They come in pairs\n",
    "“* DIFF” and “* A” reporting the given statistic as the difference between Team A and\n",
    "Team B and the statistic itself for Team A.\n",
    "- FG PCT DIFF, FG PCT A - field goal percentage.\n",
    "- FGM DIFF, FGM A - number of field goals made.\n",
    "- FG3 PCT DIFF, FG3 PCT A - percentage of 3-point shots made.\n",
    "- FG3M DIFF, FG3M A - number of 3-point shots made.\n",
    "- FT PCT DIFF, FT PCT A - percentage of free throws made.\n",
    "- FTM DIFF, FTM A - number of free throws made.\n",
    "- REB DIFF, REB A - number of rebounds.\n",
    "- AST DIFF, AST A - number of assists.\n",
    "- STL DIFF, STL A - number of steals.\n",
    "- TOV DIFF, TOV A - number of turnovers.\n",
    "- PF DIFF, PF A - number of personal fouls.\n",
    "\n",
    "For this question, you will make use of the pipeline and workflow functions to simplify the code needed to select and evaluate multiple methods.\n",
    "Functions: Python - make pipeline in sklearn.pipeline"
   ]
  },
  {
   "cell_type": "markdown",
   "id": "5bae8545",
   "metadata": {
    "pycharm": {
     "name": "#%% md\n"
    }
   },
   "source": [
    "### 4.a: \n",
    "Load in the NBA data.\n",
    "There are a few missing values, remove any rows that contains missing values. How many samples remain?\n"
   ]
  },
  {
   "cell_type": "code",
   "execution_count": 302,
   "id": "d21860c2",
   "metadata": {
    "pycharm": {
     "name": "#%%\n"
    }
   },
   "outputs": [
    {
     "name": "stdout",
     "output_type": "stream",
     "text": [
      "After removing 50 samples, 9908 remain.\n"
     ]
    },
    {
     "data": {
      "text/plain": "     Season Id     Game Id Game Date Team A Team B      Matchup Won  \\\n1        42019    41900406  10/11/20    MIA    LAL  MIA vs. LAL   0   \n2        42019    41900405   10/9/20    LAL    MIA  LAL vs. MIA   0   \n3        42019    41900404   10/6/20    MIA    LAL  MIA vs. LAL   0   \n4        42019    41900403   10/4/20    MIA    LAL  MIA vs. LAL   1   \n5        42019    41900402   10/2/20    LAL    MIA  LAL vs. MIA   1   \n...        ...         ...       ...    ...    ...          ...  ..   \n9954     12016  1011600005    5/4/16    CON    CHI  CON vs. CHI   1   \n9955     12016  1011600004    5/4/16    SAN    ATL  SAN vs. ATL   1   \n9956     12016  1011600003    5/4/16    SEA    PHO  SEA vs. PHO   0   \n9957     12016  1011600002    5/1/16    CHI    NYL  CHI vs. NYL   1   \n9958     12016  1011600001    5/1/16    IND    DAL  IND vs. DAL   1   \n\n     Field Goal % Difference A Team Field Goal % Field Goal Difference  ...  \\\n1                      -0.04               0.443                    -8  ...   \n2                      0.005               0.463                     0  ...   \n3                     -0.016               0.427                    -3  ...   \n4                      0.083               0.513                     7  ...   \n5                     -0.002               0.505                    13  ...   \n...                      ...                 ...                   ...  ...   \n9954                  -0.018                0.45                    -2  ...   \n9955                       0                 0.4                     2  ...   \n9956                  -0.097               0.338                    -5  ...   \n9957                   0.215               0.538                    14  ...   \n9958                  -0.029               0.471                     0  ...   \n\n     Rebounds Difference A Team Rebounds Assists Difference A Team Assists  \\\n1                     -5              41                  2             25   \n2                      6              41                 -5             21   \n3                     -3              39                 -7             18   \n4                     -6              37                  2             25   \n5                      7              44                  3             32   \n...                  ...             ...                ...            ...   \n9954                   4              32                 -2             16   \n9955                   1              38                 -4             13   \n9956                  -4              30                 -3             12   \n9957                  -7              29                 13             19   \n9958                   9              38                 -4             12   \n\n     Steals Difference A Team Steals Turnovers Difference A Team Turnovers  \\\n1                   -1             4                    1               13   \n2                    3            10                    2               15   \n3                    3             8                   -4               11   \n4                    0             8                   -7               12   \n5                    4             6                    0                9   \n...                ...           ...                  ...              ...   \n9954                -2             8                   -1               21   \n9955                 2             8                   -5               12   \n9956                 6            10                   -5               11   \n9957                 4             9                  -11                8   \n9958                 2            12                    1               21   \n\n     Personal Fouls Difference A Team Personal Fouls  \n1                           -4                    18  \n2                            2                    21  \n3                            7                    21  \n4                            1                    23  \n5                            3                    26  \n...                        ...                   ...  \n9954                         6                    27  \n9955                         4                    21  \n9956                         3                    28  \n9957                        -4                    19  \n9958                        -4                    27  \n\n[9908 rows x 29 columns]",
      "text/html": "<div>\n<style scoped>\n    .dataframe tbody tr th:only-of-type {\n        vertical-align: middle;\n    }\n\n    .dataframe tbody tr th {\n        vertical-align: top;\n    }\n\n    .dataframe thead th {\n        text-align: right;\n    }\n</style>\n<table border=\"1\" class=\"dataframe\">\n  <thead>\n    <tr style=\"text-align: right;\">\n      <th></th>\n      <th>Season Id</th>\n      <th>Game Id</th>\n      <th>Game Date</th>\n      <th>Team A</th>\n      <th>Team B</th>\n      <th>Matchup</th>\n      <th>Won</th>\n      <th>Field Goal % Difference</th>\n      <th>A Team Field Goal %</th>\n      <th>Field Goal Difference</th>\n      <th>...</th>\n      <th>Rebounds Difference</th>\n      <th>A Team Rebounds</th>\n      <th>Assists Difference</th>\n      <th>A Team Assists</th>\n      <th>Steals Difference</th>\n      <th>A Team Steals</th>\n      <th>Turnovers Difference</th>\n      <th>A Team Turnovers</th>\n      <th>Personal Fouls Difference</th>\n      <th>A Team Personal Fouls</th>\n    </tr>\n  </thead>\n  <tbody>\n    <tr>\n      <th>1</th>\n      <td>42019</td>\n      <td>41900406</td>\n      <td>10/11/20</td>\n      <td>MIA</td>\n      <td>LAL</td>\n      <td>MIA vs. LAL</td>\n      <td>0</td>\n      <td>-0.04</td>\n      <td>0.443</td>\n      <td>-8</td>\n      <td>...</td>\n      <td>-5</td>\n      <td>41</td>\n      <td>2</td>\n      <td>25</td>\n      <td>-1</td>\n      <td>4</td>\n      <td>1</td>\n      <td>13</td>\n      <td>-4</td>\n      <td>18</td>\n    </tr>\n    <tr>\n      <th>2</th>\n      <td>42019</td>\n      <td>41900405</td>\n      <td>10/9/20</td>\n      <td>LAL</td>\n      <td>MIA</td>\n      <td>LAL vs. MIA</td>\n      <td>0</td>\n      <td>0.005</td>\n      <td>0.463</td>\n      <td>0</td>\n      <td>...</td>\n      <td>6</td>\n      <td>41</td>\n      <td>-5</td>\n      <td>21</td>\n      <td>3</td>\n      <td>10</td>\n      <td>2</td>\n      <td>15</td>\n      <td>2</td>\n      <td>21</td>\n    </tr>\n    <tr>\n      <th>3</th>\n      <td>42019</td>\n      <td>41900404</td>\n      <td>10/6/20</td>\n      <td>MIA</td>\n      <td>LAL</td>\n      <td>MIA vs. LAL</td>\n      <td>0</td>\n      <td>-0.016</td>\n      <td>0.427</td>\n      <td>-3</td>\n      <td>...</td>\n      <td>-3</td>\n      <td>39</td>\n      <td>-7</td>\n      <td>18</td>\n      <td>3</td>\n      <td>8</td>\n      <td>-4</td>\n      <td>11</td>\n      <td>7</td>\n      <td>21</td>\n    </tr>\n    <tr>\n      <th>4</th>\n      <td>42019</td>\n      <td>41900403</td>\n      <td>10/4/20</td>\n      <td>MIA</td>\n      <td>LAL</td>\n      <td>MIA vs. LAL</td>\n      <td>1</td>\n      <td>0.083</td>\n      <td>0.513</td>\n      <td>7</td>\n      <td>...</td>\n      <td>-6</td>\n      <td>37</td>\n      <td>2</td>\n      <td>25</td>\n      <td>0</td>\n      <td>8</td>\n      <td>-7</td>\n      <td>12</td>\n      <td>1</td>\n      <td>23</td>\n    </tr>\n    <tr>\n      <th>5</th>\n      <td>42019</td>\n      <td>41900402</td>\n      <td>10/2/20</td>\n      <td>LAL</td>\n      <td>MIA</td>\n      <td>LAL vs. MIA</td>\n      <td>1</td>\n      <td>-0.002</td>\n      <td>0.505</td>\n      <td>13</td>\n      <td>...</td>\n      <td>7</td>\n      <td>44</td>\n      <td>3</td>\n      <td>32</td>\n      <td>4</td>\n      <td>6</td>\n      <td>0</td>\n      <td>9</td>\n      <td>3</td>\n      <td>26</td>\n    </tr>\n    <tr>\n      <th>...</th>\n      <td>...</td>\n      <td>...</td>\n      <td>...</td>\n      <td>...</td>\n      <td>...</td>\n      <td>...</td>\n      <td>...</td>\n      <td>...</td>\n      <td>...</td>\n      <td>...</td>\n      <td>...</td>\n      <td>...</td>\n      <td>...</td>\n      <td>...</td>\n      <td>...</td>\n      <td>...</td>\n      <td>...</td>\n      <td>...</td>\n      <td>...</td>\n      <td>...</td>\n      <td>...</td>\n    </tr>\n    <tr>\n      <th>9954</th>\n      <td>12016</td>\n      <td>1011600005</td>\n      <td>5/4/16</td>\n      <td>CON</td>\n      <td>CHI</td>\n      <td>CON vs. CHI</td>\n      <td>1</td>\n      <td>-0.018</td>\n      <td>0.45</td>\n      <td>-2</td>\n      <td>...</td>\n      <td>4</td>\n      <td>32</td>\n      <td>-2</td>\n      <td>16</td>\n      <td>-2</td>\n      <td>8</td>\n      <td>-1</td>\n      <td>21</td>\n      <td>6</td>\n      <td>27</td>\n    </tr>\n    <tr>\n      <th>9955</th>\n      <td>12016</td>\n      <td>1011600004</td>\n      <td>5/4/16</td>\n      <td>SAN</td>\n      <td>ATL</td>\n      <td>SAN vs. ATL</td>\n      <td>1</td>\n      <td>0</td>\n      <td>0.4</td>\n      <td>2</td>\n      <td>...</td>\n      <td>1</td>\n      <td>38</td>\n      <td>-4</td>\n      <td>13</td>\n      <td>2</td>\n      <td>8</td>\n      <td>-5</td>\n      <td>12</td>\n      <td>4</td>\n      <td>21</td>\n    </tr>\n    <tr>\n      <th>9956</th>\n      <td>12016</td>\n      <td>1011600003</td>\n      <td>5/4/16</td>\n      <td>SEA</td>\n      <td>PHO</td>\n      <td>SEA vs. PHO</td>\n      <td>0</td>\n      <td>-0.097</td>\n      <td>0.338</td>\n      <td>-5</td>\n      <td>...</td>\n      <td>-4</td>\n      <td>30</td>\n      <td>-3</td>\n      <td>12</td>\n      <td>6</td>\n      <td>10</td>\n      <td>-5</td>\n      <td>11</td>\n      <td>3</td>\n      <td>28</td>\n    </tr>\n    <tr>\n      <th>9957</th>\n      <td>12016</td>\n      <td>1011600002</td>\n      <td>5/1/16</td>\n      <td>CHI</td>\n      <td>NYL</td>\n      <td>CHI vs. NYL</td>\n      <td>1</td>\n      <td>0.215</td>\n      <td>0.538</td>\n      <td>14</td>\n      <td>...</td>\n      <td>-7</td>\n      <td>29</td>\n      <td>13</td>\n      <td>19</td>\n      <td>4</td>\n      <td>9</td>\n      <td>-11</td>\n      <td>8</td>\n      <td>-4</td>\n      <td>19</td>\n    </tr>\n    <tr>\n      <th>9958</th>\n      <td>12016</td>\n      <td>1011600001</td>\n      <td>5/1/16</td>\n      <td>IND</td>\n      <td>DAL</td>\n      <td>IND vs. DAL</td>\n      <td>1</td>\n      <td>-0.029</td>\n      <td>0.471</td>\n      <td>0</td>\n      <td>...</td>\n      <td>9</td>\n      <td>38</td>\n      <td>-4</td>\n      <td>12</td>\n      <td>2</td>\n      <td>12</td>\n      <td>1</td>\n      <td>21</td>\n      <td>-4</td>\n      <td>27</td>\n    </tr>\n  </tbody>\n</table>\n<p>9908 rows × 29 columns</p>\n</div>"
     },
     "execution_count": 302,
     "metadata": {},
     "output_type": "execute_result"
    }
   ],
   "source": [
    "SEASON_ID = \"season_id\"\n",
    "GAME_ID = 'game_id'\n",
    "GAME_DATE = 'game_date'\n",
    "\n",
    "TEAM_A = 'team_a'\n",
    "TEAM_B = 'team_b'\n",
    "MATCHUP = 'matchup'\n",
    "\n",
    "WON = 'won'\n",
    "\n",
    "FIELD_GOAL_PERC_DIFF = 'field_goal_perc_diff'\n",
    "FIELD_GOAL_PERC_A = 'field_goal_perc_A'\n",
    "\n",
    "FIELD_GOAL_MADE_DIFF = 'field_goal_made_diff'\n",
    "FIELD_GOAL_MADE_A = 'field_goal_made_A'\n",
    "\n",
    "THREE_POINTERS_MADE_PERC_DIFF = 'three_pointers_made_perc_diff'\n",
    "THREE_POINTERS_MADE_PERC_A = 'three_pointers_made_perc_A'\n",
    "\n",
    "THREE_POINTERS_MADE_DIFF = 'three_pointers_made_diff'\n",
    "THREE_POINTERS_MADE_A = 'three_pointers_made_A'\n",
    "\n",
    "FREE_THROWS_MADE_PERC_DIFF = 'free_throws_made_perc_diff'\n",
    "FREE_THROWS_MADE_PERC_A = 'free_throws_made_perc_A'\n",
    "\n",
    "FREE_THROWS_MADE_DIFF = 'free_throws_made_diff'\n",
    "FREE_THROWS_MADE_A = 'free_throws_made_A'\n",
    "\n",
    "REBOUNDS_DIFF = 'rebounds_diff'\n",
    "REBOUNDS_A = 'rebounds_A'\n",
    "\n",
    "ASSISTS_DIFF = 'assists_diff'\n",
    "ASSISTS_A = 'assists_A'\n",
    "\n",
    "STEALS_DIFF = 'steals_diff'\n",
    "STEALS_A = 'steals_A'\n",
    "\n",
    "TURNOVERS_DIFF = 'turnovers_diff'\n",
    "TURNOVERS_A = 'turnovers_A'\n",
    "\n",
    "PERSONAL_FOULS_DIFF = 'personal_fouls_diff'\n",
    "PERSONAL_FOULS_A = 'personal_fouls_A'\n",
    "\n",
    "# The following two data structures were generated automatically by a python script\n",
    "NBA_COLUMNS = [\n",
    "\tSEASON_ID,\n",
    "\tGAME_ID,\n",
    "\tGAME_DATE,\n",
    "\tTEAM_A,\n",
    "\tTEAM_B,\n",
    "\tMATCHUP,\n",
    "\tWON,\n",
    "\tFIELD_GOAL_PERC_DIFF,\n",
    "\tFIELD_GOAL_PERC_A,\n",
    "\tFIELD_GOAL_MADE_DIFF,\n",
    "\tFIELD_GOAL_MADE_A,\n",
    "\tTHREE_POINTERS_MADE_PERC_DIFF,\n",
    "\tTHREE_POINTERS_MADE_PERC_A,\n",
    "\tTHREE_POINTERS_MADE_DIFF,\n",
    "\tTHREE_POINTERS_MADE_A,\n",
    "\tFREE_THROWS_MADE_PERC_DIFF,\n",
    "\tFREE_THROWS_MADE_PERC_A,\n",
    "\tFREE_THROWS_MADE_DIFF,\n",
    "\tFREE_THROWS_MADE_A,\n",
    "\tREBOUNDS_DIFF,\n",
    "\tREBOUNDS_A,\n",
    "\tASSISTS_DIFF,\n",
    "\tASSISTS_A,\n",
    "\tSTEALS_DIFF,\n",
    "\tSTEALS_A,\n",
    "\tTURNOVERS_DIFF,\n",
    "\tTURNOVERS_A,\n",
    "\tPERSONAL_FOULS_DIFF,\n",
    "\tPERSONAL_FOULS_A,\n",
    "]\n",
    "\n",
    "NBA_CLEAN_NAMES = {\n",
    "\tSEASON_ID: \"Season Id\",\n",
    "\tGAME_ID: \"Game Id\",\n",
    "\tGAME_DATE: \"Game Date\",\n",
    "\tTEAM_A: \"Team A\",\n",
    "\tTEAM_B: \"Team B\",\n",
    "\tMATCHUP: \"Matchup\",\n",
    "\tWON: \"Won\",\n",
    "\tFIELD_GOAL_PERC_DIFF: \"Field Goal % Difference\",\n",
    "\tFIELD_GOAL_PERC_A: \"A Team Field Goal %\",\n",
    "\tFIELD_GOAL_MADE_DIFF: \"Field Goal Difference\",\n",
    "\tFIELD_GOAL_MADE_A: \"A Team Field Goal\",\n",
    "\tTHREE_POINTERS_MADE_PERC_DIFF: \"Three Pointers % Difference\",\n",
    "\tTHREE_POINTERS_MADE_PERC_A: \"A Team Three Pointers %\",\n",
    "\tTHREE_POINTERS_MADE_DIFF: \"Three Pointers Difference\",\n",
    "\tTHREE_POINTERS_MADE_A: \"A Team Three Pointers\",\n",
    "\tFREE_THROWS_MADE_PERC_DIFF: \"Free Throws % Difference\",\n",
    "\tFREE_THROWS_MADE_PERC_A: \"A Team Free Throws %\",\n",
    "\tFREE_THROWS_MADE_DIFF: \"Free Throws Difference\",\n",
    "\tFREE_THROWS_MADE_A: \"A Team Free Throws\",\n",
    "\tREBOUNDS_DIFF: \"Rebounds Difference\",\n",
    "\tREBOUNDS_A: \"A Team Rebounds\",\n",
    "\tASSISTS_DIFF: \"Assists Difference\",\n",
    "\tASSISTS_A: \"A Team Assists\",\n",
    "\tSTEALS_DIFF: \"Steals Difference\",\n",
    "\tSTEALS_A: \"A Team Steals\",\n",
    "\tTURNOVERS_DIFF: \"Turnovers Difference\",\n",
    "\tTURNOVERS_A: \"A Team Turnovers\",\n",
    "\tPERSONAL_FOULS_DIFF: \"Personal Fouls Difference\",\n",
    "\tPERSONAL_FOULS_A: \"A Team Personal Fouls\",\n",
    "}\n",
    "\n",
    "NBA_CLEAN_COLUMNS = [NBA_CLEAN_NAMES[var] for var in NBA_COLUMNS]\n",
    "\n",
    "\n",
    "NBA_CSV = 'nba.csv'\n",
    "NBA_DATA = pd.read_csv(NBA_CSV, names=NBA_CLEAN_COLUMNS)\n",
    "# First row is just col titles, garbage in our case\n",
    "NBA_DATA = NBA_DATA[1:]\n",
    "\n",
    "# How many samples do we have?\n",
    "num_samples = len(NBA_DATA.values)\n",
    "\n",
    "# Purge samples containing null values\n",
    "\n",
    "# Make a set of rows to delete\n",
    "ROWS_MARKED_FOR_DELETION = set()\n",
    "\n",
    "samples_removed = 0\n",
    "\n",
    "# Find indeces that should be removed, loop through all the rows in the table\n",
    "NBA_DATA.reset_index()\n",
    "for i, match in NBA_DATA.iterrows():\n",
    "    if any(match.isnull()):\n",
    "        ROWS_MARKED_FOR_DELETION.add(i)\n",
    "\n",
    "for ind in sorted(ROWS_MARKED_FOR_DELETION, reverse=True):\n",
    "    NBA_DATA = NBA_DATA.drop(index=ind)\n",
    "    samples_removed += 1\n",
    "\n",
    "samples_remaining = len(NBA_DATA.values)\n",
    "\n",
    "print(f\"After removing {samples_removed} samples, {samples_remaining} remain.\")\n",
    "\n",
    "NBA_DATA.reset_index()\n",
    "NBA_DATA.head(n=len(NBA_DATA.values))"
   ]
  },
  {
   "cell_type": "markdown",
   "id": "a3e723e7",
   "metadata": {
    "pycharm": {
     "name": "#%% md\n"
    }
   },
   "source": [
    "### 4.b: \n",
    "You will not use the following columns for your predictors: SEASON ID, GAME ID, GAME DATE, TEAM A, TEAM B, MATCHUP. \n",
    "The WON column will become what you are trying to predict and the remaining columns your input variables."
   ]
  },
  {
   "cell_type": "code",
   "execution_count": 303,
   "id": "22f96585",
   "metadata": {
    "pycharm": {
     "name": "#%%\n"
    }
   },
   "outputs": [
    {
     "data": {
      "text/plain": "     Won Field Goal % Difference A Team Field Goal % Field Goal Difference  \\\n1      0                   -0.04               0.443                    -8   \n2      0                   0.005               0.463                     0   \n3      0                  -0.016               0.427                    -3   \n4      1                   0.083               0.513                     7   \n5      1                  -0.002               0.505                    13   \n...   ..                     ...                 ...                   ...   \n9954   1                  -0.018                0.45                    -2   \n9955   1                       0                 0.4                     2   \n9956   0                  -0.097               0.338                    -5   \n9957   1                   0.215               0.538                    14   \n9958   1                  -0.029               0.471                     0   \n\n     A Team Field Goal Three Pointers % Difference A Team Three Pointers %  \\\n1                   35                       0.043                   0.357   \n2                   38                      -0.056                   0.368   \n3                   32                      -0.015                   0.344   \n4                   41                        0.02                   0.353   \n5                   49                      -0.067                    0.34   \n...                ...                         ...                     ...   \n9954                27                       0.013                   0.346   \n9955                28                       0.125                   0.375   \n9956                22                      -0.039                   0.294   \n9957                35                       0.288                   0.538   \n9958                33                      -0.062                   0.409   \n\n     Three Pointers Difference A Team Three Pointers Free Throws % Difference  \\\n1                           -1                    10                   -0.052   \n2                            0                    14                   -0.098   \n3                           -3                    11                   -0.049   \n4                           -2                    12                    0.154   \n5                            5                    16                   -0.324   \n...                        ...                   ...                      ...   \n9954                         7                     9                    -0.03   \n9955                         0                     3                    0.127   \n9956                         1                     5                   -0.214   \n9957                         2                     7                   -0.104   \n9958                         1                     9                    0.294   \n\n      ... Rebounds Difference A Team Rebounds Assists Difference  \\\n1     ...                  -5              41                  2   \n2     ...                   6              41                 -5   \n3     ...                  -3              39                 -7   \n4     ...                  -6              37                  2   \n5     ...                   7              44                  3   \n...   ...                 ...             ...                ...   \n9954  ...                   4              32                 -2   \n9955  ...                   1              38                 -4   \n9956  ...                  -4              30                 -3   \n9957  ...                  -7              29                 13   \n9958  ...                   9              38                 -4   \n\n     A Team Assists Steals Difference A Team Steals Turnovers Difference  \\\n1                25                -1             4                    1   \n2                21                 3            10                    2   \n3                18                 3             8                   -4   \n4                25                 0             8                   -7   \n5                32                 4             6                    0   \n...             ...               ...           ...                  ...   \n9954             16                -2             8                   -1   \n9955             13                 2             8                   -5   \n9956             12                 6            10                   -5   \n9957             19                 4             9                  -11   \n9958             12                 2            12                    1   \n\n     A Team Turnovers Personal Fouls Difference A Team Personal Fouls  \n1                  13                        -4                    18  \n2                  15                         2                    21  \n3                  11                         7                    21  \n4                  12                         1                    23  \n5                   9                         3                    26  \n...               ...                       ...                   ...  \n9954               21                         6                    27  \n9955               12                         4                    21  \n9956               11                         3                    28  \n9957                8                        -4                    19  \n9958               21                        -4                    27  \n\n[9908 rows x 23 columns]",
      "text/html": "<div>\n<style scoped>\n    .dataframe tbody tr th:only-of-type {\n        vertical-align: middle;\n    }\n\n    .dataframe tbody tr th {\n        vertical-align: top;\n    }\n\n    .dataframe thead th {\n        text-align: right;\n    }\n</style>\n<table border=\"1\" class=\"dataframe\">\n  <thead>\n    <tr style=\"text-align: right;\">\n      <th></th>\n      <th>Won</th>\n      <th>Field Goal % Difference</th>\n      <th>A Team Field Goal %</th>\n      <th>Field Goal Difference</th>\n      <th>A Team Field Goal</th>\n      <th>Three Pointers % Difference</th>\n      <th>A Team Three Pointers %</th>\n      <th>Three Pointers Difference</th>\n      <th>A Team Three Pointers</th>\n      <th>Free Throws % Difference</th>\n      <th>...</th>\n      <th>Rebounds Difference</th>\n      <th>A Team Rebounds</th>\n      <th>Assists Difference</th>\n      <th>A Team Assists</th>\n      <th>Steals Difference</th>\n      <th>A Team Steals</th>\n      <th>Turnovers Difference</th>\n      <th>A Team Turnovers</th>\n      <th>Personal Fouls Difference</th>\n      <th>A Team Personal Fouls</th>\n    </tr>\n  </thead>\n  <tbody>\n    <tr>\n      <th>1</th>\n      <td>0</td>\n      <td>-0.04</td>\n      <td>0.443</td>\n      <td>-8</td>\n      <td>35</td>\n      <td>0.043</td>\n      <td>0.357</td>\n      <td>-1</td>\n      <td>10</td>\n      <td>-0.052</td>\n      <td>...</td>\n      <td>-5</td>\n      <td>41</td>\n      <td>2</td>\n      <td>25</td>\n      <td>-1</td>\n      <td>4</td>\n      <td>1</td>\n      <td>13</td>\n      <td>-4</td>\n      <td>18</td>\n    </tr>\n    <tr>\n      <th>2</th>\n      <td>0</td>\n      <td>0.005</td>\n      <td>0.463</td>\n      <td>0</td>\n      <td>38</td>\n      <td>-0.056</td>\n      <td>0.368</td>\n      <td>0</td>\n      <td>14</td>\n      <td>-0.098</td>\n      <td>...</td>\n      <td>6</td>\n      <td>41</td>\n      <td>-5</td>\n      <td>21</td>\n      <td>3</td>\n      <td>10</td>\n      <td>2</td>\n      <td>15</td>\n      <td>2</td>\n      <td>21</td>\n    </tr>\n    <tr>\n      <th>3</th>\n      <td>0</td>\n      <td>-0.016</td>\n      <td>0.427</td>\n      <td>-3</td>\n      <td>32</td>\n      <td>-0.015</td>\n      <td>0.344</td>\n      <td>-3</td>\n      <td>11</td>\n      <td>-0.049</td>\n      <td>...</td>\n      <td>-3</td>\n      <td>39</td>\n      <td>-7</td>\n      <td>18</td>\n      <td>3</td>\n      <td>8</td>\n      <td>-4</td>\n      <td>11</td>\n      <td>7</td>\n      <td>21</td>\n    </tr>\n    <tr>\n      <th>4</th>\n      <td>1</td>\n      <td>0.083</td>\n      <td>0.513</td>\n      <td>7</td>\n      <td>41</td>\n      <td>0.02</td>\n      <td>0.353</td>\n      <td>-2</td>\n      <td>12</td>\n      <td>0.154</td>\n      <td>...</td>\n      <td>-6</td>\n      <td>37</td>\n      <td>2</td>\n      <td>25</td>\n      <td>0</td>\n      <td>8</td>\n      <td>-7</td>\n      <td>12</td>\n      <td>1</td>\n      <td>23</td>\n    </tr>\n    <tr>\n      <th>5</th>\n      <td>1</td>\n      <td>-0.002</td>\n      <td>0.505</td>\n      <td>13</td>\n      <td>49</td>\n      <td>-0.067</td>\n      <td>0.34</td>\n      <td>5</td>\n      <td>16</td>\n      <td>-0.324</td>\n      <td>...</td>\n      <td>7</td>\n      <td>44</td>\n      <td>3</td>\n      <td>32</td>\n      <td>4</td>\n      <td>6</td>\n      <td>0</td>\n      <td>9</td>\n      <td>3</td>\n      <td>26</td>\n    </tr>\n    <tr>\n      <th>...</th>\n      <td>...</td>\n      <td>...</td>\n      <td>...</td>\n      <td>...</td>\n      <td>...</td>\n      <td>...</td>\n      <td>...</td>\n      <td>...</td>\n      <td>...</td>\n      <td>...</td>\n      <td>...</td>\n      <td>...</td>\n      <td>...</td>\n      <td>...</td>\n      <td>...</td>\n      <td>...</td>\n      <td>...</td>\n      <td>...</td>\n      <td>...</td>\n      <td>...</td>\n      <td>...</td>\n    </tr>\n    <tr>\n      <th>9954</th>\n      <td>1</td>\n      <td>-0.018</td>\n      <td>0.45</td>\n      <td>-2</td>\n      <td>27</td>\n      <td>0.013</td>\n      <td>0.346</td>\n      <td>7</td>\n      <td>9</td>\n      <td>-0.03</td>\n      <td>...</td>\n      <td>4</td>\n      <td>32</td>\n      <td>-2</td>\n      <td>16</td>\n      <td>-2</td>\n      <td>8</td>\n      <td>-1</td>\n      <td>21</td>\n      <td>6</td>\n      <td>27</td>\n    </tr>\n    <tr>\n      <th>9955</th>\n      <td>1</td>\n      <td>0</td>\n      <td>0.4</td>\n      <td>2</td>\n      <td>28</td>\n      <td>0.125</td>\n      <td>0.375</td>\n      <td>0</td>\n      <td>3</td>\n      <td>0.127</td>\n      <td>...</td>\n      <td>1</td>\n      <td>38</td>\n      <td>-4</td>\n      <td>13</td>\n      <td>2</td>\n      <td>8</td>\n      <td>-5</td>\n      <td>12</td>\n      <td>4</td>\n      <td>21</td>\n    </tr>\n    <tr>\n      <th>9956</th>\n      <td>0</td>\n      <td>-0.097</td>\n      <td>0.338</td>\n      <td>-5</td>\n      <td>22</td>\n      <td>-0.039</td>\n      <td>0.294</td>\n      <td>1</td>\n      <td>5</td>\n      <td>-0.214</td>\n      <td>...</td>\n      <td>-4</td>\n      <td>30</td>\n      <td>-3</td>\n      <td>12</td>\n      <td>6</td>\n      <td>10</td>\n      <td>-5</td>\n      <td>11</td>\n      <td>3</td>\n      <td>28</td>\n    </tr>\n    <tr>\n      <th>9957</th>\n      <td>1</td>\n      <td>0.215</td>\n      <td>0.538</td>\n      <td>14</td>\n      <td>35</td>\n      <td>0.288</td>\n      <td>0.538</td>\n      <td>2</td>\n      <td>7</td>\n      <td>-0.104</td>\n      <td>...</td>\n      <td>-7</td>\n      <td>29</td>\n      <td>13</td>\n      <td>19</td>\n      <td>4</td>\n      <td>9</td>\n      <td>-11</td>\n      <td>8</td>\n      <td>-4</td>\n      <td>19</td>\n    </tr>\n    <tr>\n      <th>9958</th>\n      <td>1</td>\n      <td>-0.029</td>\n      <td>0.471</td>\n      <td>0</td>\n      <td>33</td>\n      <td>-0.062</td>\n      <td>0.409</td>\n      <td>1</td>\n      <td>9</td>\n      <td>0.294</td>\n      <td>...</td>\n      <td>9</td>\n      <td>38</td>\n      <td>-4</td>\n      <td>12</td>\n      <td>2</td>\n      <td>12</td>\n      <td>1</td>\n      <td>21</td>\n      <td>-4</td>\n      <td>27</td>\n    </tr>\n  </tbody>\n</table>\n<p>9908 rows × 23 columns</p>\n</div>"
     },
     "execution_count": 303,
     "metadata": {},
     "output_type": "execute_result"
    }
   ],
   "source": [
    "SIMPLE_NBA_DATA = NBA_DATA.copy()\n",
    "\n",
    "# Remove columns we don't need\n",
    "cols_to_remove = [\n",
    "\tNBA_CLEAN_NAMES[SEASON_ID],\n",
    "\tNBA_CLEAN_NAMES[GAME_ID],\n",
    "\tNBA_CLEAN_NAMES[GAME_DATE],\n",
    "\tNBA_CLEAN_NAMES[TEAM_A],\n",
    "\tNBA_CLEAN_NAMES[TEAM_B],\n",
    "\tNBA_CLEAN_NAMES[MATCHUP],\n",
    "]\n",
    "\n",
    "# Drop the columns\n",
    "SIMPLE_NBA_DATA = SIMPLE_NBA_DATA.drop(columns=cols_to_remove)\n",
    "SIMPLE_NBA_DATA.head(n=len(SIMPLE_NBA_DATA.values))"
   ]
  },
  {
   "cell_type": "markdown",
   "id": "e232da4e",
   "metadata": {
    "pycharm": {
     "name": "#%% md\n"
    }
   },
   "source": [
    "### 4.c: \n",
    "Split off a random 20% of the data for testing. Set the seed for the random generator to ”5”.\n",
    "Python - random state and R - set.seed(5).\n",
    "Helpful Python - train test split from sklearn.model selection."
   ]
  },
  {
   "cell_type": "code",
   "execution_count": 304,
   "id": "12b04a8b",
   "metadata": {
    "pycharm": {
     "name": "#%%\n"
    }
   },
   "outputs": [
    {
     "name": "stdout",
     "output_type": "stream",
     "text": [
      "8763    0\n",
      "5774    1\n",
      "2209    0\n",
      "3290    0\n",
      "9736    1\n",
      "       ..\n",
      "2892    1\n",
      "601     1\n",
      "2154    1\n",
      "3623    1\n",
      "5680    0\n",
      "Name: Won, Length: 1982, dtype: object\n"
     ]
    }
   ],
   "source": [
    "# Some constants that affect how our train test split functions\n",
    "PERCENT_DATA_WANTED = 0.20\n",
    "SEED = 5\n",
    "\n",
    "# Split off 20% of the data\n",
    "nba_train_data, nba_test_data = train_test_split(SIMPLE_NBA_DATA, test_size=PERCENT_DATA_WANTED, random_state=SEED)\n",
    "\n",
    "nba_train_data.head(n=5)\n",
    "\n",
    "# Extract the won column from the data, this will be used to check predictions not make them\n",
    "extracted_won_train_col = nba_train_data[NBA_CLEAN_NAMES[WON]]\n",
    "extracted_won_test_col = nba_test_data[NBA_CLEAN_NAMES[WON]]\n",
    "\n",
    "extracted_won_train_col = extracted_won_train_col.astype('<U1')\n",
    "extracted_won_test_col = extracted_won_test_col.astype('<U1')\n",
    "\n",
    "print(extracted_won_test_col)\n",
    "\n",
    "# Remove the won column from the data completely\n",
    "nba_train_data = nba_train_data.drop(columns=[NBA_CLEAN_NAMES[WON]])\n",
    "nba_test_data = nba_test_data.drop(columns=[NBA_CLEAN_NAMES[WON]])"
   ]
  },
  {
   "cell_type": "markdown",
   "id": "1dde5deb",
   "metadata": {
    "pycharm": {
     "name": "#%% md\n"
    }
   },
   "source": [
    "### 4.d: \n",
    "Parameter Selection\n",
    "\n",
    "You will set up the pipeline/workflow to consider using both MinMax and Standard scaling\n",
    "approaches.\n",
    "You will consider the following four classification methods with the hyper-parameters\n",
    "specified:\n",
    "- KNN with number of neighbors = [3, 7, 11, 15, 19, 23]\n",
    "- DT with a maximum depth of the tree as [3, 5, 10]\n",
    "- SVM with a polynomial kernel with degree = [1, 2, 3, 4] and a RBF kernel and a cost parameter of [0.01, 0.1, 1]\n",
    "- RF with maximum number of features [2, 4, 8] and number of estimators of [25, 50, 100].\n",
    "When selecting the best parameters with the train+validation data use 5-fold cross-validation and use F1 measure to select the best parameters"
   ]
  },
  {
   "cell_type": "code",
   "execution_count": 305,
   "id": "6cff1b55",
   "metadata": {
    "pycharm": {
     "name": "#%%\n"
    }
   },
   "outputs": [
    {
     "name": "stdout",
     "output_type": "stream",
     "text": [
      "Best KNN parameters: best k value: 23, scaling mode: Standard, accuracy: 94.81%\n",
      "Best DT parameters: best depth: 10, scaling mode: Standard, accuracy: 95.68%\n",
      "Best SVM parameters: best kernel mode: poly, best degree: 2, scaling mode: MinMaxScaled, accuracy: 99.42%\n",
      "Best RF parameters: best n features: 8, best n estimators: 100 scaling mode: MinMaxScaled, accuracy: 97.60%\n"
     ]
    }
   ],
   "source": [
    "from sklearn.ensemble import RandomForestClassifier\n",
    "from sklearn.svm import SVC\n",
    "from sklearn.tree import DecisionTreeClassifier\n",
    "\n",
    "# Since we are using the MinMax scaler and the Standard scaling, we need to scale the data set for both scalers\n",
    "min_max_scaler = MinMaxScaler()\n",
    "standard_scaler = StandardScaler()\n",
    "\n",
    "# Train the scalers to fit using the training data\n",
    "min_max_scaler.fit(nba_train_data)\n",
    "standard_scaler.fit(nba_train_data)\n",
    "\n",
    "# Now that the scalers are trained, actually transform the data\n",
    "min_max_scaled_training_data = pd.DataFrame(min_max_scaler.transform(nba_train_data))\n",
    "standard_scaled_training_data = pd.DataFrame(standard_scaler.transform(nba_train_data))\n",
    "min_max_scaled_test_data = pd.DataFrame(min_max_scaler.transform(nba_test_data))\n",
    "standard_scaled_test_data = pd.DataFrame(standard_scaler.transform(nba_test_data))\n",
    "\n",
    "# First we are going to do the KNN classification method\n",
    "_KNN = KNeighborsClassifier(n_neighbors=3)  # Pass in default value of 3, doesn't matter since we are just going to override everytime we call\n",
    "\n",
    "# Now for all nearest neighbor values of k given from assignment,\n",
    "K_VALUES_TO_TEST = [3, 7, 11, 15, 19, 23]\n",
    "best_knn_percent = 0\n",
    "best_k_value = -1\n",
    "best_knn_data = ['null', None, None]\n",
    "for k_value in K_VALUES_TO_TEST:\n",
    "\n",
    "\t# Update the neighbor value\n",
    "\t_KNN.n_neighbors = k_value\n",
    "\n",
    "\t# Train the KNN classifier using the scaled training sets to predict the win column\n",
    "\t_KNN.fit(min_max_scaled_training_data, extracted_won_train_col)\n",
    "\n",
    "\t# Create a prediction set\n",
    "\ty_pred_minmax = _KNN.predict(min_max_scaled_test_data)\n",
    "\t# Print the accuracy of the prediction\n",
    "\tminmax_accuracy = metrics.f1_score(extracted_won_test_col, y_pred_minmax, pos_label='1')\n",
    "\tif minmax_accuracy > best_knn_percent:\n",
    "\t\tbest_k_value = k_value\n",
    "\t\tbest_knn_percent = minmax_accuracy\n",
    "\t\tbest_knn_data = [\"MinMaxScaled\", min_max_scaled_training_data, min_max_scaled_test_data]\n",
    "\n",
    "\t# Now do the same thing for standard scaled data\n",
    "\t_KNN.fit(standard_scaled_training_data, extracted_won_train_col)\n",
    "\ty_pred_standard = _KNN.predict(standard_scaled_test_data)\n",
    "\tstandard_accuracy = metrics.f1_score(extracted_won_test_col, y_pred_standard, pos_label='1')\n",
    "\tif standard_accuracy > best_knn_percent:\n",
    "\t\tbest_k_value = k_value\n",
    "\t\tbest_knn_percent = minmax_accuracy\n",
    "\t\tbest_knn_data = [\"Standard\", standard_scaled_training_data, standard_scaled_test_data]\n",
    "\n",
    "\t# Print the accuracies\n",
    "\t# print(f\"k value: {k_value} Minmax f1: {minmax_accuracy} Standard f1: {standard_accuracy}\")\n",
    "\n",
    "# Next up, decision tree\n",
    "DTC_DEPTHS = [3, 5, 10]\n",
    "_DTC = DecisionTreeClassifier()\n",
    "best_dtc_depth = -1\n",
    "best_dtc_accuracy = 0\n",
    "best_dtc_data = ['null', None, None]\n",
    "# Loop through all the depths we want to try\n",
    "for depth_to_test in DTC_DEPTHS:\n",
    "\n",
    "\t# Set the depth\n",
    "\t_DTC.max_depth = depth_to_test\n",
    "\t# Train the classifier using minmax\n",
    "\t_DTC.fit(min_max_scaled_training_data, extracted_won_train_col)\n",
    "\t# Create a prediction set\n",
    "\ty_pred_minmax = _DTC.predict(min_max_scaled_test_data)\n",
    "\t# What was the accuracy?\n",
    "\tminmax_accuracy = metrics.f1_score(extracted_won_test_col, y_pred_minmax, pos_label='1')\n",
    "\tif minmax_accuracy > best_dtc_accuracy:\n",
    "\t\tbest_dtc_depth = depth_to_test\n",
    "\t\tbest_dtc_accuracy = minmax_accuracy\n",
    "\t\tbest_dtc_data = [\"MinMaxScaled\", min_max_scaled_training_data, min_max_scaled_test_data]\n",
    "\n",
    "\t# Same thing for standard\n",
    "\t# Train the classifier using standard\n",
    "\t_DTC.fit(standard_scaled_training_data, extracted_won_train_col)\n",
    "\t# Create a prediction set\n",
    "\ty_pred_standard = _DTC.predict(standard_scaled_test_data)\n",
    "\t# What was the accuracy?\n",
    "\tstandard_accuracy = metrics.f1_score(extracted_won_test_col, y_pred_standard, pos_label='1')\n",
    "\tif standard_accuracy > best_dtc_accuracy:\n",
    "\t\tbest_dtc_depth = depth_to_test\n",
    "\t\tbest_dtc_accuracy = standard_accuracy\n",
    "\t\tbest_dtc_data = [\"Standard\", standard_scaled_training_data, standard_scaled_test_data]\n",
    "\n",
    "\t# Print results\n",
    "\t# print(f\"max depth: {depth_to_test} Minmax f1: {minmax_accuracy} Standard f1: {standard_accuracy}\")\n",
    "\n",
    "# Next SVM\n",
    "POLYNOMIAL_DEGREES = [1, 2, 3, 4]\n",
    "COSTS = [.01, .1, 1]\n",
    "_SVM = SVC()\n",
    "best_svm_mode = 'null'\n",
    "best_svm_percent = 0\n",
    "best_svm_degree = 0\n",
    "best_svm_cost = 0\n",
    "best_svm_data = ['null', None, None]\n",
    "# First try polynomial kernels\n",
    "for poly in POLYNOMIAL_DEGREES:\n",
    "\t# Set the kernel and the polyomial degree\n",
    "\t_SVM.kernel = 'poly'\n",
    "\t_SVM.degree = poly\n",
    "\t# Train the classifier using minmax\n",
    "\t_SVM.fit(min_max_scaled_training_data, extracted_won_train_col)\n",
    "\t# Create a prediction set\n",
    "\ty_pred_minmax = _SVM.predict(min_max_scaled_test_data)\n",
    "\t# What was the accuracy?\n",
    "\tminmax_accuracy = metrics.f1_score(extracted_won_test_col, y_pred_minmax, pos_label='1')\n",
    "\tif minmax_accuracy > best_svm_percent:\n",
    "\t\tbest_svm_percent = minmax_accuracy\n",
    "\t\tbest_svm_mode = 'poly'\n",
    "\t\tbest_svm_degree = poly\n",
    "\t\tbest_svm_cost = 0\n",
    "\t\tbest_svm_data = ['MinMaxScaled', min_max_scaled_training_data, min_max_scaled_test_data]\n",
    "\n",
    "\t# Same thing for standard\n",
    "\t# Train the classifier using standard\n",
    "\t_SVM.fit(standard_scaled_training_data, extracted_won_train_col)\n",
    "\t# Create a prediction set\n",
    "\ty_pred_standard = _SVM.predict(standard_scaled_test_data)\n",
    "\t# What was the accuracy?\n",
    "\tstandard_accuracy = metrics.f1_score(extracted_won_test_col, y_pred_standard, pos_label='1')\n",
    "\tif standard_accuracy > best_svm_percent:\n",
    "\t\tbest_svm_percent = standard_accuracy\n",
    "\t\tbest_svm_mode = 'poly'\n",
    "\t\tbest_svm_degree = poly\n",
    "\t\tbest_svm_cost = 0\n",
    "\t\tbest_svm_data = ['Standard', standard_scaled_training_data, standard_scaled_test_data]\n",
    "\n",
    "\t# Print results\n",
    "\t# print(f\"polynomial degree: {poly} Minmax f1: {minmax_accuracy} Standard f1: {standard_accuracy}\")\n",
    "\n",
    "# Now the rbf kernels\n",
    "for cost in COSTS:\n",
    "\t# Set the kernel and the cost\n",
    "\t_SVM.kernel = 'rbf'\n",
    "\t_SVM.gamma = cost\n",
    "\t# Train the classifier using minmax\n",
    "\t_SVM.fit(min_max_scaled_training_data, extracted_won_train_col)\n",
    "\t# Create a prediction set\n",
    "\ty_pred_minmax = _SVM.predict(min_max_scaled_test_data)\n",
    "\t# What was the accuracy?\n",
    "\tminmax_accuracy = metrics.f1_score(extracted_won_test_col, y_pred_minmax, pos_label='1')\n",
    "\tif minmax_accuracy > best_svm_percent:\n",
    "\t\tbest_svm_percent = minmax_accuracy\n",
    "\t\tbest_svm_mode = 'rbf'\n",
    "\t\tbest_svm_degree = 0\n",
    "\t\tbest_svm_cost = cost\n",
    "\t\tbest_svm_data = ['MinMaxScaled', min_max_scaled_training_data, min_max_scaled_test_data]\n",
    "\n",
    "\t# Same thing for standard\n",
    "\t# Train the classifier using standard\n",
    "\t_SVM.fit(standard_scaled_training_data, extracted_won_train_col)\n",
    "\t# Create a prediction set\n",
    "\ty_pred_standard = _SVM.predict(standard_scaled_test_data)\n",
    "\t# What was the accuracy?\n",
    "\tstandard_accuracy = metrics.f1_score(extracted_won_test_col, y_pred_standard, pos_label='1')\n",
    "\tif standard_accuracy > best_svm_percent:\n",
    "\t\tbest_svm_percent = standard_accuracy\n",
    "\t\tbest_svm_mode = 'rbf'\n",
    "\t\tbest_svm_degree = 0\n",
    "\t\tbest_svm_cost = cost\n",
    "\t\tbest_svm_data = ['Standard', standard_scaled_training_data, standard_scaled_test_data]\n",
    "\n",
    "\t# Print results\n",
    "\t# print(f\"cost: {cost} Minmax f1: {minmax_accuracy} Standard f1: {standard_accuracy}\")\n",
    "\n",
    "# Now the RF\n",
    "FEATURES = [2, 4, 8]\n",
    "ESTIMATORS = [25, 50, 100]\n",
    "_RFC = RandomForestClassifier()\n",
    "best_rf_percent = 0\n",
    "best_rf_feature = 0\n",
    "best_rf_estimator = 0\n",
    "best_rf_data = ['null', None, None]\n",
    "\n",
    "for feature in FEATURES:\n",
    "\tfor estimator in ESTIMATORS:\n",
    "\t\t# Set the features and estimators\n",
    "\t\t_RFC.max_features = feature\n",
    "\t\t_RFC.n_estimators = estimator\n",
    "\t\t# Train the classifier using minmax\n",
    "\t\t_RFC.fit(min_max_scaled_training_data, extracted_won_train_col)\n",
    "\t\t# Create a prediction set\n",
    "\t\ty_pred_minmax = _RFC.predict(min_max_scaled_test_data)\n",
    "\t\t# What was the accuracy?\n",
    "\t\tminmax_accuracy = metrics.f1_score(extracted_won_test_col, y_pred_minmax, pos_label='1')\n",
    "\t\tif minmax_accuracy > best_rf_percent:\n",
    "\t\t\tbest_rf_percent = minmax_accuracy\n",
    "\t\t\tbest_rf_feature = feature\n",
    "\t\t\tbest_rf_estimator = estimator\n",
    "\t\t\tbest_rf_data = [\"MinMaxScaled\", min_max_scaled_training_data, min_max_scaled_test_data]\n",
    "\n",
    "\t\t# Same thing for standard\n",
    "\t\t# Train the classifier using standard\n",
    "\t\t_RFC.fit(standard_scaled_training_data, extracted_won_train_col)\n",
    "\t\t# Create a prediction set\n",
    "\t\ty_pred_standard = _RFC.predict(standard_scaled_test_data)\n",
    "\t\t# What was the accuracy?\n",
    "\t\tstandard_accuracy = metrics.f1_score(extracted_won_test_col, y_pred_standard, pos_label='1')\n",
    "\t\tif minmax_accuracy > standard_accuracy:\n",
    "\t\t\tbest_rf_percent = standard_accuracy\n",
    "\t\t\tbest_rf_feature = feature\n",
    "\t\t\tbest_rf_estimator = estimator\n",
    "\t\t\tbest_rf_data = [\"Standard\", standard_scaled_training_data, standard_scaled_test_data]\n",
    "\n",
    "\t\t# Print results\n",
    "\t\t# print(f\"features/estimators: {feature}/{estimator} Minmax f1: {minmax_accuracy} Standard f1: {standard_accuracy}\")\n",
    "\n",
    "# Now for all the different classifiers, spit out the best combination\n",
    "print(f\"Best KNN parameters: best k value: {best_k_value}, scaling mode: {best_knn_data[0]}, accuracy: {best_knn_percent*100:.2f}%\")\n",
    "print(f\"Best DT parameters: best depth: {best_dtc_depth}, scaling mode: {best_dtc_data[0]}, accuracy: {best_dtc_accuracy*100:.2f}%\")\n",
    "svm_alt_param_str = f'best degree: {best_svm_degree}' if best_svm_degree > 0 else f'best cost: {best_svm_cost}'\n",
    "print(f\"Best SVM parameters: best kernel mode: {best_svm_mode}, {svm_alt_param_str}, scaling mode: {best_svm_data[0]}, accuracy: {best_svm_percent*100:.2f}%\")\n",
    "print(f\"Best RF parameters: best n features: {best_rf_feature}, best n estimators: {best_rf_estimator} scaling mode: {best_rf_data[0]}, accuracy: {best_rf_percent*100:.2f}%\")"
   ]
  },
  {
   "cell_type": "markdown",
   "id": "9dc40d5f",
   "metadata": {
    "pycharm": {
     "name": "#%% md\n"
    }
   },
   "source": [
    "### 4.e: \n",
    "Report Results\n",
    "\n",
    "Once the best parameters for each model are found, retrain a model with those parameters and evaluate the performance on the test set.\n",
    "Report in a table the following information for each model: the model type (KNN, DT, SVM, RF), the best parameters selected, \n",
    "Accuracy, Precision, Recall, F1, AUC on the test set."
   ]
  },
  {
   "cell_type": "code",
   "execution_count": 306,
   "id": "5d0d28f4",
   "metadata": {
    "pycharm": {
     "name": "#%%\n"
    }
   },
   "outputs": [
    {
     "data": {
      "text/plain": "                 0       1        2       3\nClassifier     KNN      DT      SVM      RF\nAccuracy    94.50%  95.21%   56.66%  97.33%\nPrecision   95.19%  95.73%   56.66%  97.60%\nRecall      95.10%  95.81%  100.00%  97.68%\nF1 Score    94.81%  95.68%   99.42%  97.60%\nAUC Score   94.41%  95.11%   50.00%  97.27%",
      "text/html": "<div>\n<style scoped>\n    .dataframe tbody tr th:only-of-type {\n        vertical-align: middle;\n    }\n\n    .dataframe tbody tr th {\n        vertical-align: top;\n    }\n\n    .dataframe thead th {\n        text-align: right;\n    }\n</style>\n<table border=\"1\" class=\"dataframe\">\n  <thead>\n    <tr style=\"text-align: right;\">\n      <th></th>\n      <th>0</th>\n      <th>1</th>\n      <th>2</th>\n      <th>3</th>\n    </tr>\n  </thead>\n  <tbody>\n    <tr>\n      <th>Classifier</th>\n      <td>KNN</td>\n      <td>DT</td>\n      <td>SVM</td>\n      <td>RF</td>\n    </tr>\n    <tr>\n      <th>Accuracy</th>\n      <td>94.50%</td>\n      <td>95.21%</td>\n      <td>56.66%</td>\n      <td>97.33%</td>\n    </tr>\n    <tr>\n      <th>Precision</th>\n      <td>95.19%</td>\n      <td>95.73%</td>\n      <td>56.66%</td>\n      <td>97.60%</td>\n    </tr>\n    <tr>\n      <th>Recall</th>\n      <td>95.10%</td>\n      <td>95.81%</td>\n      <td>100.00%</td>\n      <td>97.68%</td>\n    </tr>\n    <tr>\n      <th>F1 Score</th>\n      <td>94.81%</td>\n      <td>95.68%</td>\n      <td>99.42%</td>\n      <td>97.60%</td>\n    </tr>\n    <tr>\n      <th>AUC Score</th>\n      <td>94.41%</td>\n      <td>95.11%</td>\n      <td>50.00%</td>\n      <td>97.27%</td>\n    </tr>\n  </tbody>\n</table>\n</div>"
     },
     "execution_count": 306,
     "metadata": {},
     "output_type": "execute_result"
    }
   ],
   "source": [
    "# Retrain the models using the best possible parameters we found\n",
    "# First KNN\n",
    "_KNN.n_neighbors = best_k_value\n",
    "_KNN.fit(best_knn_data[1], extracted_won_train_col)\n",
    "\n",
    "# Now DT\n",
    "_DTC.max_depth = best_dtc_depth\n",
    "_DTC.fit(best_dtc_data[1], extracted_won_train_col)\n",
    "\n",
    "# Now SVM\n",
    "_SVM.kernel = best_svm_mode\n",
    "_SVM.degree = best_svm_degree\n",
    "_SVM.gamma = best_svm_cost\n",
    "_SVM.fit(best_svm_data[1], extracted_won_train_col)\n",
    "\n",
    "# Now RF\n",
    "_RFC.max_features = best_rf_feature\n",
    "_RFC.n_estimators = best_rf_estimator\n",
    "_RFC.fit(best_rf_data[1], extracted_won_train_col)\n",
    "\n",
    "# Calculate accuracies\n",
    "knn_pred = _KNN.predict(best_knn_data[2])\n",
    "knn_accuracy = metrics.accuracy_score(extracted_won_test_col, knn_pred)\n",
    "knn_precision = metrics.precision_score(extracted_won_test_col, knn_pred, pos_label='1')\n",
    "knn_recall = metrics.recall_score(extracted_won_test_col, knn_pred, pos_label='1')\n",
    "knn_auc = roc_auc_score(extracted_won_test_col, knn_pred)\n",
    "\n",
    "dtc_pred = _DTC.predict(best_dtc_data[2])\n",
    "dtc_accuracy = metrics.accuracy_score(extracted_won_test_col, dtc_pred)\n",
    "dtc_precision = metrics.precision_score(extracted_won_test_col, dtc_pred, pos_label='1')\n",
    "dtc_recall = metrics.recall_score(extracted_won_test_col, dtc_pred, pos_label='1')\n",
    "dtc_auc = roc_auc_score(extracted_won_test_col, dtc_pred)\n",
    "\n",
    "svm_pred = _SVM.predict(best_svm_data[2])\n",
    "svm_accuracy = metrics.accuracy_score(extracted_won_test_col, svm_pred)\n",
    "svm_precision = metrics.precision_score(extracted_won_test_col, svm_pred, pos_label='1')\n",
    "svm_recall = metrics.recall_score(extracted_won_test_col, svm_pred, pos_label='1')\n",
    "svm_auc = roc_auc_score(extracted_won_test_col, svm_pred)\n",
    "\n",
    "rf_pred = _RFC.predict(best_rf_data[2])\n",
    "rf_accuracy = metrics.accuracy_score(extracted_won_test_col, rf_pred)\n",
    "rf_precision = metrics.precision_score(extracted_won_test_col, rf_pred, pos_label='1')\n",
    "rf_recall = metrics.recall_score(extracted_won_test_col, rf_pred, pos_label='1')\n",
    "rf_auc = roc_auc_score(extracted_won_test_col, rf_pred)\n",
    "\n",
    "def clean_percent(n):\n",
    "\treturn f'{n*100:.2f}%'\n",
    "\n",
    "# Make a 2d array of the values\n",
    "ind = ['Classifier', 'Accuracy', 'Precision', \"Recall\", 'F1 Score', 'AUC Score']\n",
    "data = [\n",
    "\t[\"KNN\", clean_percent(knn_accuracy), clean_percent(knn_precision), clean_percent(knn_recall), clean_percent(best_knn_percent), clean_percent(knn_auc)],\n",
    "\t[\"DT\", clean_percent(dtc_accuracy), clean_percent(dtc_precision), clean_percent(dtc_recall), clean_percent(best_dtc_accuracy), clean_percent(dtc_auc)],\n",
    "\t[\"SVM\", clean_percent(svm_accuracy), clean_percent(svm_precision), clean_percent(svm_recall), clean_percent(best_svm_percent), clean_percent(svm_auc)],\n",
    "\t[\"RF\", clean_percent(rf_accuracy), clean_percent(rf_precision), clean_percent(rf_recall), clean_percent(best_rf_percent), clean_percent(rf_auc)],\n",
    "]\n",
    "\n",
    "transposed_data = [*zip(*data)]\n",
    "\n",
    "df = pd.DataFrame(transposed_data,\n",
    "\t\t\t\t  index=ind\n",
    "\t\t\t\t  )\n",
    "df.head(n=len(ind))"
   ]
  }
 ],
 "metadata": {
  "celltoolbar": "Raw Cell Format",
  "kernelspec": {
   "display_name": "Python 3 (ipykernel)",
   "language": "python",
   "name": "python3"
  },
  "language_info": {
   "codemirror_mode": {
    "name": "ipython",
    "version": 3
   },
   "file_extension": ".py",
   "mimetype": "text/x-python",
   "name": "python",
   "nbconvert_exporter": "python",
   "pygments_lexer": "ipython3",
   "version": "3.8.6"
  }
 },
 "nbformat": 4,
 "nbformat_minor": 5
}
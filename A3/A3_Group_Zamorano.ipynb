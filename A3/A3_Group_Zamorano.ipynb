{
 "cells": [
  {
   "cell_type": "markdown",
   "id": "28809202",
   "metadata": {},
   "source": [
    "## Assignment - A3.part2\n",
    "### Devin Hall, Tyler Birnie\n",
    "### Due: 3-25-22 @ 11:59pm\n",
    "Some pre-requisites we will need for this project"
   ]
  },
  {
   "cell_type": "code",
   "execution_count": 145,
   "id": "c8b95790",
   "metadata": {},
   "outputs": [],
   "source": [
    "import pandas as pd\n",
    "import seaborn as sns\n",
    "import matplotlib.pyplot as plt\n",
    "import sklearn\n",
    "import sklearn.preprocessing\n",
    "import sklearn.decomposition"
   ]
  },
  {
   "cell_type": "markdown",
   "id": "6bb3c5dc",
   "metadata": {},
   "source": [
    "### Question 1: Pokemon Data\n",
    "Load in the data, look at the distribution of Pokemon skills (data features) we will use for dimenionality reduction. \"HP, Attack, Defense, SpAtk, SpDef, and Speed\""
   ]
  },
  {
   "cell_type": "code",
   "execution_count": 144,
   "id": "295ba13f",
   "metadata": {},
   "outputs": [
    {
     "data": {
      "text/html": [
       "<div>\n",
       "<style scoped>\n",
       "    .dataframe tbody tr th:only-of-type {\n",
       "        vertical-align: middle;\n",
       "    }\n",
       "\n",
       "    .dataframe tbody tr th {\n",
       "        vertical-align: top;\n",
       "    }\n",
       "\n",
       "    .dataframe thead th {\n",
       "        text-align: right;\n",
       "    }\n",
       "</style>\n",
       "<table border=\"1\" class=\"dataframe\">\n",
       "  <thead>\n",
       "    <tr style=\"text-align: right;\">\n",
       "      <th></th>\n",
       "      <th>Num</th>\n",
       "      <th>Name</th>\n",
       "      <th>Type1</th>\n",
       "      <th>Type2</th>\n",
       "      <th>Total</th>\n",
       "      <th>HP</th>\n",
       "      <th>Attack</th>\n",
       "      <th>Defense</th>\n",
       "      <th>SpAtk</th>\n",
       "      <th>SpDef</th>\n",
       "      <th>Speed</th>\n",
       "      <th>Generation</th>\n",
       "      <th>Legendary</th>\n",
       "    </tr>\n",
       "  </thead>\n",
       "  <tbody>\n",
       "    <tr>\n",
       "      <th>0</th>\n",
       "      <td>1</td>\n",
       "      <td>Bulbasaur</td>\n",
       "      <td>Grass</td>\n",
       "      <td>Poison</td>\n",
       "      <td>318</td>\n",
       "      <td>45</td>\n",
       "      <td>49</td>\n",
       "      <td>49</td>\n",
       "      <td>65</td>\n",
       "      <td>65</td>\n",
       "      <td>45</td>\n",
       "      <td>1</td>\n",
       "      <td>False</td>\n",
       "    </tr>\n",
       "    <tr>\n",
       "      <th>1</th>\n",
       "      <td>2</td>\n",
       "      <td>Ivysaur</td>\n",
       "      <td>Grass</td>\n",
       "      <td>Poison</td>\n",
       "      <td>405</td>\n",
       "      <td>60</td>\n",
       "      <td>62</td>\n",
       "      <td>63</td>\n",
       "      <td>80</td>\n",
       "      <td>80</td>\n",
       "      <td>60</td>\n",
       "      <td>1</td>\n",
       "      <td>False</td>\n",
       "    </tr>\n",
       "    <tr>\n",
       "      <th>2</th>\n",
       "      <td>3</td>\n",
       "      <td>Venusaur</td>\n",
       "      <td>Grass</td>\n",
       "      <td>Poison</td>\n",
       "      <td>525</td>\n",
       "      <td>80</td>\n",
       "      <td>82</td>\n",
       "      <td>83</td>\n",
       "      <td>100</td>\n",
       "      <td>100</td>\n",
       "      <td>80</td>\n",
       "      <td>1</td>\n",
       "      <td>False</td>\n",
       "    </tr>\n",
       "    <tr>\n",
       "      <th>3</th>\n",
       "      <td>3</td>\n",
       "      <td>VenusaurMega Venusaur</td>\n",
       "      <td>Grass</td>\n",
       "      <td>Poison</td>\n",
       "      <td>625</td>\n",
       "      <td>80</td>\n",
       "      <td>100</td>\n",
       "      <td>123</td>\n",
       "      <td>122</td>\n",
       "      <td>120</td>\n",
       "      <td>80</td>\n",
       "      <td>1</td>\n",
       "      <td>False</td>\n",
       "    </tr>\n",
       "    <tr>\n",
       "      <th>4</th>\n",
       "      <td>4</td>\n",
       "      <td>Charmander</td>\n",
       "      <td>Fire</td>\n",
       "      <td>NaN</td>\n",
       "      <td>309</td>\n",
       "      <td>39</td>\n",
       "      <td>52</td>\n",
       "      <td>43</td>\n",
       "      <td>60</td>\n",
       "      <td>50</td>\n",
       "      <td>65</td>\n",
       "      <td>1</td>\n",
       "      <td>False</td>\n",
       "    </tr>\n",
       "    <tr>\n",
       "      <th>5</th>\n",
       "      <td>5</td>\n",
       "      <td>Charmeleon</td>\n",
       "      <td>Fire</td>\n",
       "      <td>NaN</td>\n",
       "      <td>405</td>\n",
       "      <td>58</td>\n",
       "      <td>64</td>\n",
       "      <td>58</td>\n",
       "      <td>80</td>\n",
       "      <td>65</td>\n",
       "      <td>80</td>\n",
       "      <td>1</td>\n",
       "      <td>False</td>\n",
       "    </tr>\n",
       "    <tr>\n",
       "      <th>6</th>\n",
       "      <td>6</td>\n",
       "      <td>Charizard</td>\n",
       "      <td>Fire</td>\n",
       "      <td>Flying</td>\n",
       "      <td>534</td>\n",
       "      <td>78</td>\n",
       "      <td>84</td>\n",
       "      <td>78</td>\n",
       "      <td>109</td>\n",
       "      <td>85</td>\n",
       "      <td>100</td>\n",
       "      <td>1</td>\n",
       "      <td>False</td>\n",
       "    </tr>\n",
       "    <tr>\n",
       "      <th>7</th>\n",
       "      <td>6</td>\n",
       "      <td>CharizardMega Charizard X</td>\n",
       "      <td>Fire</td>\n",
       "      <td>Dragon</td>\n",
       "      <td>634</td>\n",
       "      <td>78</td>\n",
       "      <td>130</td>\n",
       "      <td>111</td>\n",
       "      <td>130</td>\n",
       "      <td>85</td>\n",
       "      <td>100</td>\n",
       "      <td>1</td>\n",
       "      <td>False</td>\n",
       "    </tr>\n",
       "    <tr>\n",
       "      <th>8</th>\n",
       "      <td>6</td>\n",
       "      <td>CharizardMega Charizard Y</td>\n",
       "      <td>Fire</td>\n",
       "      <td>Flying</td>\n",
       "      <td>634</td>\n",
       "      <td>78</td>\n",
       "      <td>104</td>\n",
       "      <td>78</td>\n",
       "      <td>159</td>\n",
       "      <td>115</td>\n",
       "      <td>100</td>\n",
       "      <td>1</td>\n",
       "      <td>False</td>\n",
       "    </tr>\n",
       "    <tr>\n",
       "      <th>9</th>\n",
       "      <td>7</td>\n",
       "      <td>Squirtle</td>\n",
       "      <td>Water</td>\n",
       "      <td>NaN</td>\n",
       "      <td>314</td>\n",
       "      <td>44</td>\n",
       "      <td>48</td>\n",
       "      <td>65</td>\n",
       "      <td>50</td>\n",
       "      <td>64</td>\n",
       "      <td>43</td>\n",
       "      <td>1</td>\n",
       "      <td>False</td>\n",
       "    </tr>\n",
       "  </tbody>\n",
       "</table>\n",
       "</div>"
      ],
      "text/plain": [
       "   Num                       Name  Type1   Type2  Total  HP  Attack  Defense  \\\n",
       "0    1                  Bulbasaur  Grass  Poison    318  45      49       49   \n",
       "1    2                    Ivysaur  Grass  Poison    405  60      62       63   \n",
       "2    3                   Venusaur  Grass  Poison    525  80      82       83   \n",
       "3    3      VenusaurMega Venusaur  Grass  Poison    625  80     100      123   \n",
       "4    4                 Charmander   Fire     NaN    309  39      52       43   \n",
       "5    5                 Charmeleon   Fire     NaN    405  58      64       58   \n",
       "6    6                  Charizard   Fire  Flying    534  78      84       78   \n",
       "7    6  CharizardMega Charizard X   Fire  Dragon    634  78     130      111   \n",
       "8    6  CharizardMega Charizard Y   Fire  Flying    634  78     104       78   \n",
       "9    7                   Squirtle  Water     NaN    314  44      48       65   \n",
       "\n",
       "   SpAtk  SpDef  Speed  Generation  Legendary  \n",
       "0     65     65     45           1      False  \n",
       "1     80     80     60           1      False  \n",
       "2    100    100     80           1      False  \n",
       "3    122    120     80           1      False  \n",
       "4     60     50     65           1      False  \n",
       "5     80     65     80           1      False  \n",
       "6    109     85    100           1      False  \n",
       "7    130     85    100           1      False  \n",
       "8    159    115    100           1      False  \n",
       "9     50     64     43           1      False  "
      ]
     },
     "execution_count": 144,
     "metadata": {},
     "output_type": "execute_result"
    }
   ],
   "source": [
    "pData = pd.read_csv(\"Pokemon.csv\") #read in entire Pokemon.csv file\n",
    "pData.head(10)"
   ]
  },
  {
   "cell_type": "markdown",
   "id": "0ba06d42",
   "metadata": {},
   "source": [
    "#### Question 1A:\n",
    "create a violin plot showing the distribution of these variables\n",
    "Helpful functions: python- seaborn package; violinplot\n"
   ]
  },
  {
   "cell_type": "code",
   "execution_count": 141,
   "id": "427ba86d",
   "metadata": {},
   "outputs": [],
   "source": [
    "import warnings    #notebook generated depreciation errors for future updates\n",
    "                    #removed warnings for just this instance\n",
    "\n",
    "with warnings.catch_warnings(record=True):\n",
    "    pData.Name = pData.Name.str.replace(\".*(?=Mega)\", \"\") #remove extra name spaces\n",
    "    pData['Type2'].fillna(pData['Type1'], inplace=True) #replace all non values\n",
    "    new_data=pData.copy() #make a copy of pData\n",
    "    new_data.drop([\"Num\",\"Total\",\"Generation\",\"Legendary\"], 1, inplace=True) #drop columns we are not interested in\n"
   ]
  },
  {
   "cell_type": "code",
   "execution_count": 142,
   "id": "13f8342a",
   "metadata": {},
   "outputs": [
    {
     "data": {
      "image/png": "[encoded data removed]",
      "text/plain": [
       "<Figure size 1080x576 with 1 Axes>"
      ]
     },
     "metadata": {
      "needs_background": "light"
     },
     "output_type": "display_data"
    }
   ],
   "source": [
    "figure = plt.figure(figsize=(15,8))  #create figure size\n",
    "\n",
    "plt.xlabel('data features')          #xlabel\n",
    "\n",
    "plt.ylabel('score')                  #ylabel\n",
    "\n",
    "sns.violinplot(data=new_data)        #violinplot\n",
    "\n",
    "plt.show()                           #show everything"
   ]
  },
  {
   "cell_type": "markdown",
   "id": "6b96ccd4",
   "metadata": {},
   "source": [
    "#### Question 1B: \n",
    "The six features (Pokemon Skills) have different ranges, therefore we should scale the data before considering PCA. Standardize the data (center the data- subtract the mean, and divide by the standard deviation). \n",
    "\n",
    "_\"Note, we only need to scale the data for the 6 variables under consideration\"_\n",
    "Helpful functions: python- StandardScaler from sklearn.preprocessing"
   ]
  },
  {
   "cell_type": "code",
   "execution_count": 140,
   "id": "bf01f3a9",
   "metadata": {},
   "outputs": [
    {
     "name": "stdout",
     "output_type": "stream",
     "text": [
      "[[-0.95062622 -0.92490618 -0.79715364 -0.2391303  -0.24818854 -0.80150318]\n",
      " [-0.3628221  -0.5241302  -0.34791742  0.21955954  0.29115635 -0.28501525]\n",
      " [ 0.42091674  0.09244823  0.29384863  0.83114599  1.01028289  0.40363531]\n",
      " ...\n",
      " [ 0.42091674  0.95565803 -0.44418232  2.36011211  2.08897269  0.05931003]\n",
      " [ 0.42091674  2.49710411 -0.44418232  2.97169856  2.08897269  0.40363531]\n",
      " [ 0.42091674  0.95565803  1.4811158   1.74852566  0.65071962  0.05931003]]\n"
     ]
    }
   ],
   "source": [
    "from sklearn.preprocessing import StandardScaler\n",
    "\n",
    "scaler= StandardScaler()\n",
    "\n",
    "newer_data = new_data.copy()\n",
    "\n",
    "features = ['HP','Attack','Defense','SpAtk','SpDef','Speed']\n",
    "\n",
    "#seperate out the features\n",
    "x = newer_data.loc[:,features].values\n",
    "\n",
    "#seperate out the target\n",
    "y = newer_data.loc[:,['Type1']].values\n",
    "\n",
    "#fit the data\n",
    "x = scaler.fit_transform(x)\n",
    "\n",
    "print(x)"
   ]
  },
  {
   "cell_type": "markdown",
   "id": "fc9075b7",
   "metadata": {},
   "source": [
    "#### Quesetion 1C:\n",
    "Preform principle components analysis (PCA) on the scaled Pokemon skills data. \n",
    "Helpful funcitons: PCA function sklearn.decomposition"
   ]
  },
  {
   "cell_type": "code",
   "execution_count": 132,
   "id": "55fd2fce",
   "metadata": {},
   "outputs": [
    {
     "name": "stdout",
     "output_type": "stream",
     "text": [
      "     principal component 1  principal component 2    Type1\n",
      "0                -1.556375              -0.021482    Grass\n",
      "1                -0.362867              -0.050269    Grass\n",
      "2                 1.280152              -0.062720    Grass\n",
      "3                 2.620916               0.704263    Grass\n",
      "4                -1.758284              -0.706179     Fire\n",
      "..                     ...                    ...      ...\n",
      "795               2.307521               2.303187     Rock\n",
      "796               3.539772              -0.811013     Rock\n",
      "797               2.458216              -0.515882  Psychic\n",
      "798               3.530397              -0.951065  Psychic\n",
      "799               2.233786               0.537630     Fire\n",
      "\n",
      "[800 rows x 3 columns]\n"
     ]
    }
   ],
   "source": [
    "from sklearn.decomposition import PCA\n",
    "\n",
    "pca = PCA(n_components = 2)\n",
    "\n",
    "principalComponents = pca.fit_transform(x)\n",
    "\n",
    "principalDf= pd.DataFrame(data = principalComponents, \n",
    "                          columns=['principal component 1',\n",
    "                                   'principal component 2'])\n",
    "\n",
    "finalDf= pd.concat([principalDf,newer_data[['Type1']]], axis=1)\n",
    "\n",
    "print(finalDf)"
   ]
  },
  {
   "cell_type": "markdown",
   "id": "7373aa45",
   "metadata": {},
   "source": [
    "#### Question 1D:\n",
    "Plot the transformed data in the space defined by the first two principal components.  \n",
    "\n",
    "[This should be a scatter plot]\n",
    "helpful functions: python- matplotlib, scatter"
   ]
  },
  {
   "cell_type": "code",
   "execution_count": 146,
   "id": "7753e550",
   "metadata": {},
   "outputs": [
    {
     "data": {
      "image/png": "[encoded data removed]",
      "text/plain": [
       "<Figure size 576x576 with 1 Axes>"
      ]
     },
     "metadata": {
      "needs_background": "light"
     },
     "output_type": "display_data"
    }
   ],
   "source": [
    "fig = plt.figure(figsize=(8,8))\n",
    "\n",
    "ax = fig.add_subplot(1,1,1)\n",
    "\n",
    "ax.set_xlabel('Principal Component 1', fontsize=15)\n",
    "\n",
    "ax.set_ylabel('Principal Component 2', fontsize=15)\n",
    "\n",
    "targets=['Grass','Water','Fire','Dragon','Normal','Rock','Flying','Electric']\n",
    "\n",
    "colors= ['red','green','blue','yellow','orange','purple','brown','grey']\n",
    "\n",
    "for target, color in zip(targets,colors):\n",
    "    indicesToKeep = finalDf['Type1'] ==target\n",
    "    ax.scatter(finalDf.loc[indicesToKeep, 'principal component 1'],\n",
    "              finalDf.loc[indicesToKeep, 'principal component 2'],\n",
    "               c = color, s = 50)\n",
    "\n",
    "ax.legend(targets)\n",
    "\n",
    "ax.grid()"
   ]
  },
  {
   "cell_type": "markdown",
   "id": "cf4d3dc2",
   "metadata": {},
   "source": [
    "#### Question 1E:\n",
    "Explore the amount of variance explained by each principle component direction. \n",
    "First, plot the proportion of variance explained (y-axis) vs. the different principle components. \n",
    "Second, plot the cummulative proportion of variance explained y the principle components. Make sure this plot has y-limits from 0 - 1.\n",
    "helpful functions: python- matplotlib, scatter or plot"
   ]
  },
  {
   "cell_type": "code",
   "execution_count": null,
   "id": "30b82ade",
   "metadata": {},
   "outputs": [],
   "source": []
  },
  {
   "cell_type": "markdown",
   "id": "b283c84d",
   "metadata": {},
   "source": [
    "### Question 2: College Data\n",
    "The set of colleges considered are the 21 top colleges based on earning potential of undergraduates with computer science degrees: \"college_data.csv\" (Sources: 2014- Payscale.com and the National Center for Education Statistics, NCES)\n",
    "[load the data from college_data.csv]"
   ]
  },
  {
   "cell_type": "code",
   "execution_count": null,
   "id": "344d7b40",
   "metadata": {},
   "outputs": [],
   "source": []
  },
  {
   "cell_type": "markdown",
   "id": "2b4dcc51",
   "metadata": {},
   "source": [
    "#### Question 2A:\n",
    "Preform principal component analysis on the college data (make sure to preprare the data in any way needed)\n",
    "Helpful functions: python- PCA from sklearn.decomposition"
   ]
  },
  {
   "cell_type": "code",
   "execution_count": null,
   "id": "59f69230",
   "metadata": {},
   "outputs": [],
   "source": []
  },
  {
   "cell_type": "markdown",
   "id": "117a8592",
   "metadata": {},
   "source": [
    "#### Questiton 2B:\n",
    "Plot the dat in the space defined by the first two principal components (labeling each point with the school it represents)"
   ]
  },
  {
   "cell_type": "code",
   "execution_count": null,
   "id": "f007425d",
   "metadata": {},
   "outputs": [],
   "source": []
  },
  {
   "cell_type": "markdown",
   "id": "34e6bb72",
   "metadata": {},
   "source": [
    "#### Quesiton 2C:\n",
    "Plot the amount of cumulative variance explained.\n",
    "How many principal components should be used for any further analysis to be done on the data?"
   ]
  },
  {
   "cell_type": "code",
   "execution_count": null,
   "id": "6939b2e8",
   "metadata": {},
   "outputs": [],
   "source": []
  },
  {
   "cell_type": "markdown",
   "id": "e41a5a67",
   "metadata": {},
   "source": [
    "### Question 3: Text Classification\n",
    "For this question you will be considering text classificatoin using two different Naive Bayes models. These approaches will be discussed in class and referenced from the following book.\n",
    "\n",
    "Manning, C., Raghavan, P., Schutze, H. Introduction to Information Retrieval, Cambridge University Press, 2008\n",
    "http://nlp.stanford.edu/IR-book/\n",
    "\n",
    "In particular, look at Chapter 13 http://nlp.stanford.edu/IR-book/html/htmledition/text-classification-and-naive-bayes-1.html\n",
    "\n",
    "You will be using data from the Presidential State of the Union Addresses available as a zip archive. The speeches are available in text files sorted by year, e.g., a1.txt, ..., a231.txt. The text files are formated such that there is one word per line and most punctuation has been removed. Note, there are still hyphens or dashes left in the text files and there may be some errors in splitting of words."
   ]
  },
  {
   "cell_type": "markdown",
   "id": "293f88c5",
   "metadata": {},
   "source": [
    "#### Quesiton 3A:\n",
    "Load the addresses. You will need to create a vector listing the party affiliation of each president to match their speech, you may use the file \"party.txt\" to help with this classification.\n"
   ]
  },
  {
   "cell_type": "code",
   "execution_count": null,
   "id": "4ad7dc95",
   "metadata": {},
   "outputs": [],
   "source": []
  },
  {
   "cell_type": "markdown",
   "id": "b7ad6c45",
   "metadata": {},
   "source": [
    "#### Question 3B:\n",
    "Remove _stopwords_ from consideration for the method. The stopwords are availabe at \"stopwords.txt\" or found in various packages nltk and 'tm."
   ]
  },
  {
   "cell_type": "code",
   "execution_count": null,
   "id": "e83c1b97",
   "metadata": {},
   "outputs": [],
   "source": []
  },
  {
   "cell_type": "markdown",
   "id": "d9fbdf4c",
   "metadata": {},
   "source": [
    "#### Question 3C:\n",
    "Predict the part affiliations (Democrat / Republican) for the following speeches:\n",
    "- Donald Trump, 2017\n",
    "- Barrack Obama, 2014\n",
    "- George W. Bush, 2006\n",
    "- William Clinton, 1995\n",
    "- John F. Kennedy, 1962"
   ]
  },
  {
   "cell_type": "markdown",
   "id": "1088e744",
   "metadata": {},
   "source": [
    "The training set will be the rmaining speeches that can be associated with the Democratic or Republican presidents(note, you will not need all the addresses, but they were included here for completness of the data). You will need to complete the following steps:\n"
   ]
  },
  {
   "cell_type": "markdown",
   "id": "7e39e46b",
   "metadata": {},
   "source": [
    "##### Question 3Ci:\n",
    "Create a term-document matrix, T D for this set of speeches. Restrict this matrix to the 3000 most frequently used words over all the speeches (not including the stopwords already removed). Show the first 10 rows and 5 columns."
   ]
  },
  {
   "cell_type": "code",
   "execution_count": null,
   "id": "e7a215ae",
   "metadata": {},
   "outputs": [],
   "source": []
  },
  {
   "cell_type": "markdown",
   "id": "2a79f964",
   "metadata": {},
   "source": [
    "##### Question 3Cii:\n",
    "or the 5 speeches listed above determine the party affiliations of the\n",
    "president. Calculate and report P (C = Dems |X) and P (C = Reb |X) under the Bernoulli model of Na ̈ıve Bayes. \n",
    "Helpful functions: sklearn.naive bayes.BernoulliNB in Python"
   ]
  },
  {
   "cell_type": "code",
   "execution_count": null,
   "id": "17828b61",
   "metadata": {},
   "outputs": [],
   "source": []
  },
  {
   "cell_type": "markdown",
   "id": "cba99580",
   "metadata": {},
   "source": [
    "##### Question 3Ciii:\n",
    "For the 5 speeches listed above determine the party affiliations of the\n",
    "president. Calculate and report P (C = Dems |X) and P (C = Reb |X) under the Multinomial model of Na ̈ıve Bayes.\n",
    "Helpful functions: sklearn.naive bayes.MultinomialNB in Python "
   ]
  },
  {
   "cell_type": "code",
   "execution_count": null,
   "id": "7bbb6c1a",
   "metadata": {},
   "outputs": [],
   "source": []
  },
  {
   "cell_type": "markdown",
   "id": "47998246",
   "metadata": {},
   "source": [
    "##### Question 3Civ:\n",
    "Create a plot showing the top 20 most frequenctly used words across all the Republican and Decmocrate presidents"
   ]
  },
  {
   "cell_type": "code",
   "execution_count": null,
   "id": "0baf0552",
   "metadata": {},
   "outputs": [],
   "source": []
  },
  {
   "cell_type": "markdown",
   "id": "09d84017",
   "metadata": {},
   "source": [
    "##### Question 3Cv:\n",
    "Create a plot showing the top 10 most frequently used words for Republicans and Democrats in a small multiple or faceted plot"
   ]
  },
  {
   "cell_type": "code",
   "execution_count": null,
   "id": "a0e615d2",
   "metadata": {},
   "outputs": [],
   "source": []
  },
  {
   "cell_type": "markdown",
   "id": "1525ec77",
   "metadata": {},
   "source": [
    "### Question 4: Text Classification - Bonus\n",
    "Repeat the analysis from above, but implement the Bernoulli Naive Bayes and Multinomial Naive Bayes models yourself. Follow the pseudocode given in the the IR book. Note,for this question you will not use the standard Na ̈ıve Bayes package, library or function.\n",
    "This means you can’t use sklearn.naive bayes.BernoulliNB in Python\n",
    "You can’t use sklearn.naive bayes.MultinomialNB in Python\n"
   ]
  },
  {
   "cell_type": "markdown",
   "id": "e91a9c0d",
   "metadata": {},
   "source": [
    "#### Question 4A: \n",
    "For the 5 speeches listed above determine the party affiliations of\n",
    "the president. Calculate and report P (C = Dems |X) and P (C = Reb |X) under the Bernoulli model of Na ̈ıve Bayes. In order to avoid underflow errors, use the log probabilities as discussed in class."
   ]
  },
  {
   "cell_type": "code",
   "execution_count": null,
   "id": "7ede3381",
   "metadata": {},
   "outputs": [],
   "source": []
  },
  {
   "cell_type": "markdown",
   "id": "8b8579e4",
   "metadata": {},
   "source": [
    "#### Question 4B: \n",
    "For the 5 speeches listed above determine the party affiliations of the\n",
    "president. Calculate and report P (C = Dems |X) and P (C = Reb |X) under the Multinomial model of Na ̈ıve Bayes."
   ]
  },
  {
   "cell_type": "code",
   "execution_count": null,
   "id": "5c1e2aa6",
   "metadata": {},
   "outputs": [],
   "source": []
  },
  {
   "cell_type": "markdown",
   "id": "d64b4f79",
   "metadata": {},
   "source": [
    "Hint: A strong suggestion for this question is to first create and test your code on a small document set, e.g., the example in the IR-book. Once you have that working correctly, then run on the SOTU addresses"
   ]
  }
 ],
 "metadata": {
  "kernelspec": {
   "display_name": "cs4821ENV",
   "language": "python",
   "name": "cs4821env"
  },
  "language_info": {
   "codemirror_mode": {
    "name": "ipython",
    "version": 3
   },
   "file_extension": ".py",
   "mimetype": "text/x-python",
   "name": "python",
   "nbconvert_exporter": "python",
   "pygments_lexer": "ipython3",
   "version": "3.10.0"
  }
 },
 "nbformat": 4,
 "nbformat_minor": 5
}

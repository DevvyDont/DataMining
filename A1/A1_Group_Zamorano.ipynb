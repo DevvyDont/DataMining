{
 "cells": [
  {
   "cell_type": "markdown",
   "metadata": {
    "collapsed": true,
    "pycharm": {
     "name": "#%% md\n"
    }
   },
   "source": [
    "# Assignment - A1\n",
    "## Due: Mon. 02/07 @ 11:59pm\n",
    "## Tyler Birnie, Devin Hall"
   ]
  },
  {
   "cell_type": "markdown",
   "metadata": {},
   "source": [
    "Some pre-requisites we will need for the project"
   ]
  },
  {
   "cell_type": "code",
   "execution_count": 129,
   "metadata": {
    "pycharm": {
     "name": "#%%\n"
    }
   },
   "outputs": [],
   "source": [
    "import pandas as pd\n",
    "import numpy as np\n",
    "import scipy\n",
    "from scipy import stats\n",
    "import math as m"
   ]
  },
  {
   "cell_type": "markdown",
   "metadata": {},
   "source": [
    "## (Question 1) Data Preprocessing Function Definitions"
   ]
  },
  {
   "cell_type": "code",
   "execution_count": 130,
   "metadata": {
    "pycharm": {
     "name": "#%%\n"
    }
   },
   "outputs": [],
   "source": [
    "def minmaxNorm(trData, teData, minV=0, maxV=1):\n",
    "\n",
    "    training_data = np.asarray(trData, dtype=float)\n",
    "\n",
    "    # Find the local min and max\n",
    "    tr_max = training_data.max()\n",
    "    tr_min = training_data.min()\n",
    "\n",
    "    # Make the data start at 0\n",
    "    training_data -= tr_min\n",
    "    if teData:\n",
    "        teData -= tr_min\n",
    "\n",
    "    # Make all the data go from 0 to 1\n",
    "    training_data /= tr_max - tr_min\n",
    "    if teData:\n",
    "        teData /= tr_max - tr_min\n",
    "\n",
    "    # Make all the data go from 0 to maxV-minV\n",
    "    training_data *= maxV - minV\n",
    "    if teData:\n",
    "        teData *= maxV - minV\n",
    "\n",
    "    # Shift all the data so the min is minV\n",
    "    training_data += minV\n",
    "    if teData:\n",
    "        teData += minV\n",
    "\n",
    "    return training_data"
   ]
  },
  {
   "cell_type": "code",
   "execution_count": 131,
   "metadata": {},
   "outputs": [],
   "source": [
    "\n",
    "#in_ls = np.array([1,2,3,4,5])          #test case1\n",
    "#in_ls=np.array([6,7,8,9,10])            #test case2\n",
    "#in_ls = np.array( [[1,2,3],[6,7,8]] )  #test case3\n",
    "    \n",
    "def zscoreNorm(trData, teData, madFlag=False):\n",
    "    pass\n",
    "    \n",
    "    trData=np.asarray(trData)\n",
    "    \n",
    "    \n",
    "    #print(\"mean is:\", trData.mean() )     #just for debugg\n",
    "    #print(\"variance is:\", trData.var() )  #just for debugg\n",
    "   \n",
    "    #check if flag is set\n",
    "    if(madFlag == True):\n",
    "        mu = abs(trData.mean())\n",
    "            \n",
    "    else:\n",
    "        mu = sum(trData) / len(trData)\n",
    "    \n",
    "    sigma2 = 0\n",
    "    \n",
    "    #loop through to find the toatl sum of sigma^2\n",
    "    for x in trData:\n",
    "           sigma2 += pow((x - mu),2)\n",
    "    \n",
    "    \n",
    "    #calculate actual value of S.D by taking the squareroot of sigma^2\n",
    "    sigma = m.sqrt(sigma2 / len(trData))\n",
    "    \n",
    "        \n",
    "    rt_ls=[] # create blank arr to store values\n",
    "    \n",
    "    #loop through to find zscore, add to array list\n",
    "    for val in trData:\n",
    "        temp = ((val - mu) / sigma)\n",
    "       \n",
    "        rt_ls.append(temp)\n",
    " \n",
    "        #print(temp)     #just for debugging\n",
    "\n",
    "    #add array list values to data frame\n",
    "    df = pd.DataFrame(rt_ls, columns = ['zscoreNorm'])\n",
    "    \n",
    "    \n",
    "    return df                       # new data frame but normalized using zscore\n",
    "\n",
    "\n",
    "#zscoreNorm(in_ls,None,False)   #just for testing function call with input"
   ]
  },
  {
   "cell_type": "markdown",
   "metadata": {},
   "source": [
    "## (Question 2) Data Preprocessing Reporting"
   ]
  },
  {
   "cell_type": "markdown",
   "metadata": {},
   "source": [
    "### (a) Using Our Functions"
   ]
  },
  {
   "cell_type": "code",
   "execution_count": 132,
   "metadata": {
    "pycharm": {
     "name": "#%%\n"
    }
   },
   "outputs": [],
   "source": [
    "DATA = [20, 37, 40, 60, 85, 120]  # Define the data we are going to use\n",
    "\n",
    "# Using our functions from Q1"
   ]
  },
  {
   "cell_type": "code",
   "execution_count": 133,
   "metadata": {
    "pycharm": {
     "name": "#%%\n"
    }
   },
   "outputs": [
    {
     "data": {
      "text/plain": [
       "array([0.  , 0.17, 0.2 , 0.4 , 0.65, 1.  ])"
      ]
     },
     "execution_count": 133,
     "metadata": {},
     "output_type": "execute_result"
    }
   ],
   "source": [
    "minmaxNorm(DATA, None, minV=0, maxV=1)"
   ]
  },
  {
   "cell_type": "code",
   "execution_count": 134,
   "metadata": {
    "pycharm": {
     "name": "#%%\n"
    }
   },
   "outputs": [
    {
     "data": {
      "text/plain": [
       "array([-1.  , -0.66, -0.6 , -0.2 ,  0.3 ,  1.  ])"
      ]
     },
     "execution_count": 134,
     "metadata": {},
     "output_type": "execute_result"
    }
   ],
   "source": [
    "minmaxNorm(DATA, None, minV=-1, maxV=1)"
   ]
  },
  {
   "cell_type": "code",
   "execution_count": 135,
   "metadata": {
    "pycharm": {
     "name": "#%%\n"
    }
   },
   "outputs": [
    {
     "data": {
      "text/html": [
       "<div>\n",
       "<style scoped>\n",
       "    .dataframe tbody tr th:only-of-type {\n",
       "        vertical-align: middle;\n",
       "    }\n",
       "\n",
       "    .dataframe tbody tr th {\n",
       "        vertical-align: top;\n",
       "    }\n",
       "\n",
       "    .dataframe thead th {\n",
       "        text-align: right;\n",
       "    }\n",
       "</style>\n",
       "<table border=\"1\" class=\"dataframe\">\n",
       "  <thead>\n",
       "    <tr style=\"text-align: right;\">\n",
       "      <th></th>\n",
       "      <th>zscoreNorm</th>\n",
       "    </tr>\n",
       "  </thead>\n",
       "  <tbody>\n",
       "    <tr>\n",
       "      <th>0</th>\n",
       "      <td>-1.202211</td>\n",
       "    </tr>\n",
       "    <tr>\n",
       "      <th>1</th>\n",
       "      <td>-0.695494</td>\n",
       "    </tr>\n",
       "    <tr>\n",
       "      <th>2</th>\n",
       "      <td>-0.606073</td>\n",
       "    </tr>\n",
       "    <tr>\n",
       "      <th>3</th>\n",
       "      <td>-0.009936</td>\n",
       "    </tr>\n",
       "    <tr>\n",
       "      <th>4</th>\n",
       "      <td>0.735236</td>\n",
       "    </tr>\n",
       "    <tr>\n",
       "      <th>5</th>\n",
       "      <td>1.778477</td>\n",
       "    </tr>\n",
       "  </tbody>\n",
       "</table>\n",
       "</div>"
      ],
      "text/plain": [
       "   zscoreNorm\n",
       "0   -1.202211\n",
       "1   -0.695494\n",
       "2   -0.606073\n",
       "3   -0.009936\n",
       "4    0.735236\n",
       "5    1.778477"
      ]
     },
     "execution_count": 135,
     "metadata": {},
     "output_type": "execute_result"
    }
   ],
   "source": [
    "zscoreNorm(DATA, None, False)"
   ]
  },
  {
   "cell_type": "markdown",
   "metadata": {},
   "source": [
    "### (b) Using built-ins"
   ]
  },
  {
   "cell_type": "code",
   "execution_count": 136,
   "metadata": {
    "pycharm": {
     "name": "#%%\n"
    }
   },
   "outputs": [
    {
     "name": "stdout",
     "output_type": "stream",
     "text": [
      "      0\n",
      "0  0.00\n",
      "1  0.17\n",
      "2  0.20\n",
      "3  0.40\n",
      "4  0.65\n",
      "5  1.00\n"
     ]
    }
   ],
   "source": [
    "dataframe = pd.DataFrame(DATA)\n",
    "dataframe = (dataframe - dataframe.min()) / (dataframe.max() - dataframe.min())\n",
    "print(dataframe)"
   ]
  },
  {
   "cell_type": "code",
   "execution_count": 137,
   "metadata": {
    "pycharm": {
     "name": "#%%\n"
    }
   },
   "outputs": [
    {
     "name": "stdout",
     "output_type": "stream",
     "text": [
      "      0\n",
      "0 -1.00\n",
      "1 -0.66\n",
      "2 -0.60\n",
      "3 -0.20\n",
      "4  0.30\n",
      "5  1.00\n"
     ]
    }
   ],
   "source": [
    "dataframe = pd.DataFrame(DATA)\n",
    "dataframe = (dataframe - dataframe.min()) / (dataframe.max() - dataframe.min())\n",
    "dataframe *= 1-(-1)\n",
    "dataframe += -1\n",
    "\n",
    "print(dataframe)"
   ]
  },
  {
   "cell_type": "code",
   "execution_count": 138,
   "metadata": {
    "pycharm": {
     "name": "#%%\n"
    }
   },
   "outputs": [
    {
     "data": {
      "text/html": [
       "<div>\n",
       "<style scoped>\n",
       "    .dataframe tbody tr th:only-of-type {\n",
       "        vertical-align: middle;\n",
       "    }\n",
       "\n",
       "    .dataframe tbody tr th {\n",
       "        vertical-align: top;\n",
       "    }\n",
       "\n",
       "    .dataframe thead th {\n",
       "        text-align: right;\n",
       "    }\n",
       "</style>\n",
       "<table border=\"1\" class=\"dataframe\">\n",
       "  <thead>\n",
       "    <tr style=\"text-align: right;\">\n",
       "      <th></th>\n",
       "      <th>0</th>\n",
       "    </tr>\n",
       "  </thead>\n",
       "  <tbody>\n",
       "    <tr>\n",
       "      <th>0</th>\n",
       "      <td>-1.202211</td>\n",
       "    </tr>\n",
       "    <tr>\n",
       "      <th>1</th>\n",
       "      <td>-0.695494</td>\n",
       "    </tr>\n",
       "    <tr>\n",
       "      <th>2</th>\n",
       "      <td>-0.606073</td>\n",
       "    </tr>\n",
       "    <tr>\n",
       "      <th>3</th>\n",
       "      <td>-0.009936</td>\n",
       "    </tr>\n",
       "    <tr>\n",
       "      <th>4</th>\n",
       "      <td>0.735236</td>\n",
       "    </tr>\n",
       "    <tr>\n",
       "      <th>5</th>\n",
       "      <td>1.778477</td>\n",
       "    </tr>\n",
       "  </tbody>\n",
       "</table>\n",
       "</div>"
      ],
      "text/plain": [
       "          0\n",
       "0 -1.202211\n",
       "1 -0.695494\n",
       "2 -0.606073\n",
       "3 -0.009936\n",
       "4  0.735236\n",
       "5  1.778477"
      ]
     },
     "execution_count": 138,
     "metadata": {},
     "output_type": "execute_result"
    }
   ],
   "source": [
    "dataframe = pd.DataFrame(DATA)\n",
    "dataframe.apply(scipy.stats.zscore)"
   ]
  },
  {
   "cell_type": "markdown",
   "metadata": {},
   "source": [
    "## (Question 3) Example Training Data"
   ]
  },
  {
   "cell_type": "code",
   "execution_count": 139,
   "metadata": {
    "pycharm": {
     "name": "#%%\n"
    }
   },
   "outputs": [
    {
     "name": "stdout",
     "output_type": "stream",
     "text": [
      "[[1.4, 1.3, 2.9], [1.8, 1.1, 3.2], [1.3, 1.2, 2.9], [0.9, 3.3, 3.1], [1.5, 2.1, 3.3]]\n"
     ]
    }
   ],
   "source": [
    "# Define the training data we are going to use\n",
    "Q3_TRAINING_DATA = [\n",
    "    [1.4, 1.3, 2.9],\n",
    "    [1.8, 1.1, 3.2],\n",
    "    [1.3, 1.2, 2.9],\n",
    "    [0.9, 3.3, 3.1],\n",
    "    [1.5, 2.1, 3.3]\n",
    "]\n",
    "\n",
    "NEW_POINT = [1.25, 1.74, 3.01]\n",
    "print(Q3_TRAINING_DATA)"
   ]
  },
  {
   "cell_type": "markdown",
   "metadata": {},
   "source": [
    "### (a) Calculate distances"
   ]
  },
  {
   "cell_type": "code",
   "execution_count": 140,
   "metadata": {
    "pycharm": {
     "name": "#%%\n"
    }
   },
   "outputs": [
    {
     "name": "stdout",
     "output_type": "stream",
     "text": [
      "manhattan distance\n",
      "\n",
      "   Distance: 1.25  Distance: 1.74  Distance: 3.01\n",
      "0            1.85            1.94            3.43\n",
      "1            2.65            2.16            3.31\n",
      "2            1.75            2.14            3.63\n",
      "3            4.25            3.76            2.49\n",
      "4            3.15            2.16            2.71\n"
     ]
    }
   ],
   "source": [
    "#print(\"this line should print the distance between new data point and every other point using manhattan distance\")\n",
    "\n",
    "# Python Manhattan distance using scipy import\n",
    "from scipy.spatial.distance import cityblock\n",
    "\n",
    "arr=[]\n",
    "arr2=[]\n",
    "arr3=[]       \n",
    "\n",
    "#loop through training_data and new_points for evaulation using the manhattan distance\n",
    "for i in Q3_TRAINING_DATA:\n",
    "    for j in NEW_POINT:\n",
    "        temp = cityblock(i,j)\n",
    "        arr.append(temp)\n",
    "    arr2=np.array(arr)\n",
    "    \n",
    "arr3=arr2.reshape(5,3)\n",
    "\n",
    "df=pd.DataFrame(arr3,columns=['Distance: 1.25', 'Distance: 1.74', 'Distance: 3.01'])\n",
    "print(\"manhattan distance\\n\")\n",
    "print(df)\n"
   ]
  },
  {
   "cell_type": "code",
   "execution_count": 141,
   "metadata": {
    "pycharm": {
     "name": "#%%\n"
    }
   },
   "outputs": [
    {
     "name": "stdout",
     "output_type": "stream",
     "text": [
      "euclidean distance\n",
      "\n",
      "   Distance: 1.25  Distance: 1.74  Distance: 3.01\n",
      "0        1.657558        1.286390        2.351234\n",
      "1        2.031625        1.595243        2.268987\n",
      "2        1.651514        1.353071        2.492449\n",
      "3        2.783433        2.233562        2.131736\n",
      "4        2.233271        1.618889        1.786701\n"
     ]
    }
   ],
   "source": [
    "#print(\"this line should print the distance between new data point and every other point using euclidean distance\")\n",
    "\n",
    "# Python Euclidian distance using scipy import\n",
    "from scipy.spatial import distance\n",
    "\n",
    "arr=[]\n",
    "arr2=[]\n",
    "arr3=[]       \n",
    "\n",
    "#loop through training data and new_points for evaulation using the euclidean distance \n",
    "for i in Q3_TRAINING_DATA:\n",
    "    for j in NEW_POINT:\n",
    "        temp = distance.euclidean(i,j)\n",
    "        arr.append(temp)\n",
    "    arr2=np.array(arr)\n",
    "    \n",
    "arr3=arr2.reshape(5,3)\n",
    "\n",
    "df=pd.DataFrame(arr3,columns=['Distance: 1.25', 'Distance: 1.74', 'Distance: 3.01'])\n",
    "print(\"euclidean distance\\n\")\n",
    "print(df)\n"
   ]
  },
  {
   "cell_type": "code",
   "execution_count": 142,
   "metadata": {
    "pycharm": {
     "name": "#%%\n"
    }
   },
   "outputs": [
    {
     "name": "stdout",
     "output_type": "stream",
     "text": [
      "minkoski distance\n",
      "\n",
      "   Distance: 1.25  Distance: 1.74  Distance: 3.01\n",
      "0        1.650428        1.190053        2.093466\n",
      "1        1.964768        1.499925        2.060351\n",
      "2        1.650031        1.217238        2.219339\n",
      "3        2.465643        1.904199        2.111879\n",
      "4        2.098780        1.568240        1.616102\n"
     ]
    }
   ],
   "source": [
    "#print(\"this line should print the distance between new data point and every other point using minkowski distance (lambda=3)\")\n",
    "arr=[]    \n",
    "arr2=[]\n",
    "arr3=[]       \n",
    "      \n",
    "#loop through traning_data and new_points for evaulation with lamda = 3 for minkowski distnace    \n",
    "for i in Q3_TRAINING_DATA:\n",
    "    for j in NEW_POINT:\n",
    "        temp = distance.minkowski(i,j,3)\n",
    "        arr.append(temp)\n",
    "    arr2=np.array(arr)\n",
    "\n",
    "#reformat the shape of the array     \n",
    "arr3=arr2.reshape(5,3)\n",
    "\n",
    "df=pd.DataFrame(arr3,columns=['Distance: 1.25', 'Distance: 1.74', 'Distance: 3.01'])\n",
    "print(\"minkoski distance\\n\")\n",
    "print(df)\n"
   ]
  },
  {
   "cell_type": "code",
   "execution_count": 143,
   "metadata": {
    "pycharm": {
     "name": "#%%\n"
    }
   },
   "outputs": [
    {
     "name": "stdout",
     "output_type": "stream",
     "text": [
      "supremum distance\n",
      "\n",
      "   Distance: 1.25  Distance: 1.74  Distance: 3.01\n",
      "0            1.65            1.16            1.71\n",
      "1            1.95            1.46            1.91\n",
      "2            1.65            1.16            1.81\n",
      "3            2.05            1.56            2.11\n",
      "4            2.05            1.56            1.51\n"
     ]
    }
   ],
   "source": [
    "#print(\"this line should print the distance between new data point and every other point using supremum distance\")\n",
    "\n",
    "arr=[]    \n",
    "arr2=[]\n",
    "arr3=[]       \n",
    "      \n",
    "#loop through traning_data and new_points for supremum (aka: chebyshev) distance evaulation     \n",
    "for i in Q3_TRAINING_DATA:\n",
    "    for j in NEW_POINT:\n",
    "        temp = distance.chebyshev(i,j)\n",
    "        arr.append(temp)\n",
    "    arr2=np.array(arr)\n",
    "\n",
    "#reformat the shape of the array     \n",
    "arr3=arr2.reshape(5,3)\n",
    "\n",
    "df=pd.DataFrame(arr3,columns=['Distance: 1.25', 'Distance: 1.74', 'Distance: 3.01'])\n",
    "\n",
    "print(\"supremum distance\\n\")\n",
    "print(df)\n"
   ]
  },
  {
   "cell_type": "code",
   "execution_count": 144,
   "metadata": {
    "pycharm": {
     "name": "#%%\n"
    }
   },
   "outputs": [
    {
     "name": "stdout",
     "output_type": "stream",
     "text": [
      "cosine distance\n",
      "\n",
      "   Distance: 1.25  Distance: 1.74  Distance: 3.01\n",
      "0        0.068991        0.068991        0.068991\n",
      "1        0.081121        0.081121        0.081121\n",
      "2        0.082238        0.082238        0.082238\n",
      "3        0.087001        0.087001        0.087001\n",
      "4        0.049067        0.049067        0.049067\n"
     ]
    }
   ],
   "source": [
    "#print(\"this line should print the distance between new data point and every other point using cosine similarity\")\n",
    "\n",
    "arr=[]    \n",
    "arr2=[]\n",
    "arr3=[]       \n",
    "      \n",
    "#loop through traning_data and new_points for cosine distance evaulation     \n",
    "for i in Q3_TRAINING_DATA:\n",
    "    for j in NEW_POINT:\n",
    "        temp = distance.cosine(i,j)\n",
    "        arr.append(temp)\n",
    "    arr2=np.array(arr)\n",
    "\n",
    "#reformat the shape of the array     \n",
    "arr3=arr2.reshape(5,3)\n",
    "\n",
    "df=pd.DataFrame(arr3,columns=['Distance: 1.25', 'Distance: 1.74', 'Distance: 3.01'])\n",
    "\n",
    "print(\"cosine distance\\n\")\n",
    "print(df)\n"
   ]
  },
  {
   "cell_type": "markdown",
   "metadata": {},
   "source": [
    "### (b) Normalize and use Euclidean distance"
   ]
  },
  {
   "cell_type": "code",
   "execution_count": 145,
   "metadata": {
    "pycharm": {
     "name": "#%%\n"
    }
   },
   "outputs": [
    {
     "name": "stdout",
     "output_type": "stream",
     "text": [
      "euclidean distance normalized from 0 to 1\n",
      "\n",
      "   Distance: 1.25  Distance: 1.74  Distance: 3.01\n",
      "0        0.247934        0.000000        0.711298\n",
      "1        0.497805        0.206308        0.656358\n",
      "2        0.243897        0.044541        0.805627\n",
      "3        1.000000        0.632695        0.564677\n",
      "4        0.632501        0.222103        0.334199\n"
     ]
    }
   ],
   "source": [
    "#print(\"this line should print the distance between new data point and every other point using euclidean distance\")\n",
    "\n",
    "# Python Euclidian distance using scipy import\n",
    "from scipy.spatial import distance\n",
    "\n",
    "arr=[]\n",
    "arr2=[]\n",
    "arr3=[]\n",
    "\n",
    "#loop through training data and new_points for evaulation using the euclidean distance\n",
    "for i in Q3_TRAINING_DATA:\n",
    "    for j in NEW_POINT:\n",
    "        temp = distance.euclidean(i,j)\n",
    "        arr.append(temp)\n",
    "    arr2=np.array(arr)\n",
    "\n",
    "arr3=arr2.reshape(5,3)\n",
    "\n",
    "df=pd.DataFrame(arr3,columns=['Distance: 1.25', 'Distance: 1.74', 'Distance: 3.01'])\n",
    "minmaxNorm(df, None, 0, 1)\n",
    "print(\"euclidean distance normalized from 0 to 1\\n\")\n",
    "print(df)\n"
   ]
  },
  {
   "cell_type": "markdown",
   "metadata": {},
   "source": [
    "## (Question 4) Movie Data"
   ]
  },
  {
   "cell_type": "code",
   "execution_count": 146,
   "metadata": {
    "pycharm": {
     "name": "#%%\n"
    }
   },
   "outputs": [
    {
     "name": "stdout",
     "output_type": "stream",
     "text": [
      "The movie data: \n"
     ]
    },
    {
     "data": {
      "text/html": [
       "<div>\n",
       "<style scoped>\n",
       "    .dataframe tbody tr th:only-of-type {\n",
       "        vertical-align: middle;\n",
       "    }\n",
       "\n",
       "    .dataframe tbody tr th {\n",
       "        vertical-align: top;\n",
       "    }\n",
       "\n",
       "    .dataframe thead th {\n",
       "        text-align: right;\n",
       "    }\n",
       "</style>\n",
       "<table border=\"1\" class=\"dataframe\">\n",
       "  <thead>\n",
       "    <tr style=\"text-align: right;\">\n",
       "      <th></th>\n",
       "      <th>Title</th>\n",
       "      <th>Type</th>\n",
       "      <th>Genre</th>\n",
       "      <th>Runtime (min)</th>\n",
       "      <th>Rating</th>\n",
       "      <th>Studio</th>\n",
       "      <th>Year Premiered</th>\n",
       "      <th>Month Premiered</th>\n",
       "      <th>Day Premiered</th>\n",
       "      <th>Year Released</th>\n",
       "      <th>...</th>\n",
       "      <th>Director ever won an Oscar?</th>\n",
       "      <th>Top 200?</th>\n",
       "      <th>Directed By</th>\n",
       "      <th>First Actor</th>\n",
       "      <th>Second Actor</th>\n",
       "      <th>Third Actor</th>\n",
       "      <th>Fourth Actor</th>\n",
       "      <th>Fifth Actor</th>\n",
       "      <th>IMDB Link</th>\n",
       "      <th>Rotten Tomatoes Link</th>\n",
       "    </tr>\n",
       "  </thead>\n",
       "  <tbody>\n",
       "    <tr>\n",
       "      <th>0</th>\n",
       "      <td>title</td>\n",
       "      <td>title_type</td>\n",
       "      <td>genre</td>\n",
       "      <td>runtime</td>\n",
       "      <td>mpaa_rating</td>\n",
       "      <td>studio</td>\n",
       "      <td>thtr_rel_year</td>\n",
       "      <td>thtr_rel_month</td>\n",
       "      <td>thtr_rel_day</td>\n",
       "      <td>dvd_rel_year</td>\n",
       "      <td>...</td>\n",
       "      <td>best_dir_win</td>\n",
       "      <td>top200_box</td>\n",
       "      <td>director</td>\n",
       "      <td>actor1</td>\n",
       "      <td>actor2</td>\n",
       "      <td>actor3</td>\n",
       "      <td>actor4</td>\n",
       "      <td>actor5</td>\n",
       "      <td>imdb_url</td>\n",
       "      <td>rt_url</td>\n",
       "    </tr>\n",
       "    <tr>\n",
       "      <th>1</th>\n",
       "      <td>Filly Brown</td>\n",
       "      <td>Feature Film</td>\n",
       "      <td>Drama</td>\n",
       "      <td>80</td>\n",
       "      <td>R</td>\n",
       "      <td>Indomina Media Inc.</td>\n",
       "      <td>2013</td>\n",
       "      <td>4</td>\n",
       "      <td>19</td>\n",
       "      <td>2013</td>\n",
       "      <td>...</td>\n",
       "      <td>no</td>\n",
       "      <td>no</td>\n",
       "      <td>Michael D. Olmos</td>\n",
       "      <td>Gina Rodriguez</td>\n",
       "      <td>Jenni Rivera</td>\n",
       "      <td>Lou Diamond Phillips</td>\n",
       "      <td>Emilio Rivera</td>\n",
       "      <td>Joseph Julian Soria</td>\n",
       "      <td>http://www.imdb.com/title/tt1869425/</td>\n",
       "      <td>//www.rottentomatoes.com/m/filly_brown_2012/</td>\n",
       "    </tr>\n",
       "    <tr>\n",
       "      <th>2</th>\n",
       "      <td>The Dish</td>\n",
       "      <td>Feature Film</td>\n",
       "      <td>Drama</td>\n",
       "      <td>101</td>\n",
       "      <td>PG-13</td>\n",
       "      <td>Warner Bros. Pictures</td>\n",
       "      <td>2001</td>\n",
       "      <td>3</td>\n",
       "      <td>14</td>\n",
       "      <td>2001</td>\n",
       "      <td>...</td>\n",
       "      <td>no</td>\n",
       "      <td>no</td>\n",
       "      <td>Rob Sitch</td>\n",
       "      <td>Sam Neill</td>\n",
       "      <td>Kevin Harrington</td>\n",
       "      <td>Patrick Warburton</td>\n",
       "      <td>Tom Long</td>\n",
       "      <td>Genevieve Mooy</td>\n",
       "      <td>http://www.imdb.com/title/tt0205873/</td>\n",
       "      <td>//www.rottentomatoes.com/m/dish/</td>\n",
       "    </tr>\n",
       "    <tr>\n",
       "      <th>3</th>\n",
       "      <td>Waiting for Guffman</td>\n",
       "      <td>Feature Film</td>\n",
       "      <td>Comedy</td>\n",
       "      <td>84</td>\n",
       "      <td>R</td>\n",
       "      <td>Sony Pictures Classics</td>\n",
       "      <td>1996</td>\n",
       "      <td>8</td>\n",
       "      <td>21</td>\n",
       "      <td>2001</td>\n",
       "      <td>...</td>\n",
       "      <td>no</td>\n",
       "      <td>no</td>\n",
       "      <td>Christopher Guest</td>\n",
       "      <td>Christopher Guest</td>\n",
       "      <td>Catherine O'Hara</td>\n",
       "      <td>Parker Posey</td>\n",
       "      <td>Eugene Levy</td>\n",
       "      <td>Bob Balaban</td>\n",
       "      <td>http://www.imdb.com/title/tt0118111/</td>\n",
       "      <td>//www.rottentomatoes.com/m/waiting_for_guffman/</td>\n",
       "    </tr>\n",
       "    <tr>\n",
       "      <th>4</th>\n",
       "      <td>The Age of Innocence</td>\n",
       "      <td>Feature Film</td>\n",
       "      <td>Drama</td>\n",
       "      <td>139</td>\n",
       "      <td>PG</td>\n",
       "      <td>Columbia Pictures</td>\n",
       "      <td>1993</td>\n",
       "      <td>10</td>\n",
       "      <td>1</td>\n",
       "      <td>2001</td>\n",
       "      <td>...</td>\n",
       "      <td>yes</td>\n",
       "      <td>no</td>\n",
       "      <td>Martin Scorsese</td>\n",
       "      <td>Daniel Day-Lewis</td>\n",
       "      <td>Michelle Pfeiffer</td>\n",
       "      <td>Winona Ryder</td>\n",
       "      <td>Richard E. Grant</td>\n",
       "      <td>Alec McCowen</td>\n",
       "      <td>http://www.imdb.com/title/tt0106226/</td>\n",
       "      <td>//www.rottentomatoes.com/m/age_of_innocence/</td>\n",
       "    </tr>\n",
       "    <tr>\n",
       "      <th>...</th>\n",
       "      <td>...</td>\n",
       "      <td>...</td>\n",
       "      <td>...</td>\n",
       "      <td>...</td>\n",
       "      <td>...</td>\n",
       "      <td>...</td>\n",
       "      <td>...</td>\n",
       "      <td>...</td>\n",
       "      <td>...</td>\n",
       "      <td>...</td>\n",
       "      <td>...</td>\n",
       "      <td>...</td>\n",
       "      <td>...</td>\n",
       "      <td>...</td>\n",
       "      <td>...</td>\n",
       "      <td>...</td>\n",
       "      <td>...</td>\n",
       "      <td>...</td>\n",
       "      <td>...</td>\n",
       "      <td>...</td>\n",
       "      <td>...</td>\n",
       "    </tr>\n",
       "    <tr>\n",
       "      <th>642</th>\n",
       "      <td>Death Defying Acts</td>\n",
       "      <td>Feature Film</td>\n",
       "      <td>Drama</td>\n",
       "      <td>97</td>\n",
       "      <td>PG</td>\n",
       "      <td>Genius Productions</td>\n",
       "      <td>2008</td>\n",
       "      <td>7</td>\n",
       "      <td>11</td>\n",
       "      <td>2008</td>\n",
       "      <td>...</td>\n",
       "      <td>no</td>\n",
       "      <td>no</td>\n",
       "      <td>Gillian Armstrong</td>\n",
       "      <td>Guy Pearce</td>\n",
       "      <td>Catherine Zeta-Jones</td>\n",
       "      <td>Timothy Spall</td>\n",
       "      <td>Saoirse Ronan</td>\n",
       "      <td>Jack Bailey</td>\n",
       "      <td>http://www.imdb.com/title/tt0472071/</td>\n",
       "      <td>//www.rottentomatoes.com/m/death_defying_acts/</td>\n",
       "    </tr>\n",
       "    <tr>\n",
       "      <th>643</th>\n",
       "      <td>Half Baked</td>\n",
       "      <td>Feature Film</td>\n",
       "      <td>Comedy</td>\n",
       "      <td>82</td>\n",
       "      <td>R</td>\n",
       "      <td>Universal Pictures</td>\n",
       "      <td>1998</td>\n",
       "      <td>1</td>\n",
       "      <td>16</td>\n",
       "      <td>1998</td>\n",
       "      <td>...</td>\n",
       "      <td>no</td>\n",
       "      <td>no</td>\n",
       "      <td>Tamra Davis</td>\n",
       "      <td>Dave Chappelle</td>\n",
       "      <td>Guillermo Diaz</td>\n",
       "      <td>Jim Breuer</td>\n",
       "      <td>Harland Williams</td>\n",
       "      <td>Rachel True</td>\n",
       "      <td>http://www.imdb.com/title/tt0120693/</td>\n",
       "      <td>//www.rottentomatoes.com/m/half_baked/</td>\n",
       "    </tr>\n",
       "    <tr>\n",
       "      <th>644</th>\n",
       "      <td>Dance of the Dead</td>\n",
       "      <td>Feature Film</td>\n",
       "      <td>Action &amp; Adventure</td>\n",
       "      <td>87</td>\n",
       "      <td>R</td>\n",
       "      <td>Grindhouse Entertainment</td>\n",
       "      <td>2008</td>\n",
       "      <td>3</td>\n",
       "      <td>9</td>\n",
       "      <td>2008</td>\n",
       "      <td>...</td>\n",
       "      <td>no</td>\n",
       "      <td>no</td>\n",
       "      <td>Gregg Bishop</td>\n",
       "      <td>Jared Kusnitz</td>\n",
       "      <td>Greyson Chadwick</td>\n",
       "      <td>Chandler Darby</td>\n",
       "      <td>Carissa Capobianco</td>\n",
       "      <td>Randy McDowell</td>\n",
       "      <td>http://www.imdb.com/title/tt0926063/</td>\n",
       "      <td>//www.rottentomatoes.com/m/1203339-dance_of_th...</td>\n",
       "    </tr>\n",
       "    <tr>\n",
       "      <th>645</th>\n",
       "      <td>Around the World in 80 Days</td>\n",
       "      <td>Feature Film</td>\n",
       "      <td>Action &amp; Adventure</td>\n",
       "      <td>120</td>\n",
       "      <td>PG</td>\n",
       "      <td>Buena Vista Pictures</td>\n",
       "      <td>2004</td>\n",
       "      <td>6</td>\n",
       "      <td>16</td>\n",
       "      <td>2004</td>\n",
       "      <td>...</td>\n",
       "      <td>no</td>\n",
       "      <td>yes</td>\n",
       "      <td>Frank Coraci</td>\n",
       "      <td>Jackie Chan</td>\n",
       "      <td>Steve Coogan</td>\n",
       "      <td>Ewen Bremner</td>\n",
       "      <td>Robert Fyfe</td>\n",
       "      <td>Ian McNeice</td>\n",
       "      <td>http://www.imdb.com/title/tt0327437/</td>\n",
       "      <td>//www.rottentomatoes.com/m/around_the_world_in...</td>\n",
       "    </tr>\n",
       "    <tr>\n",
       "      <th>646</th>\n",
       "      <td>LOL</td>\n",
       "      <td>Feature Film</td>\n",
       "      <td>Comedy</td>\n",
       "      <td>97</td>\n",
       "      <td>PG-13</td>\n",
       "      <td>Lionsgate Films</td>\n",
       "      <td>2012</td>\n",
       "      <td>5</td>\n",
       "      <td>4</td>\n",
       "      <td>2012</td>\n",
       "      <td>...</td>\n",
       "      <td>no</td>\n",
       "      <td>no</td>\n",
       "      <td>Liza Azuelos</td>\n",
       "      <td>Miley Cyrus</td>\n",
       "      <td>Demi Moore</td>\n",
       "      <td>Ashley Greene</td>\n",
       "      <td>Douglas Booth</td>\n",
       "      <td>Adam G. Sevani</td>\n",
       "      <td>http://www.imdb.com/title/tt1592873/</td>\n",
       "      <td>//www.rottentomatoes.com/m/lol_2011/</td>\n",
       "    </tr>\n",
       "  </tbody>\n",
       "</table>\n",
       "<p>647 rows × 32 columns</p>\n",
       "</div>"
      ],
      "text/plain": [
       "                           Title          Type               Genre  \\\n",
       "0                          title    title_type               genre   \n",
       "1                    Filly Brown  Feature Film               Drama   \n",
       "2                       The Dish  Feature Film               Drama   \n",
       "3            Waiting for Guffman  Feature Film              Comedy   \n",
       "4           The Age of Innocence  Feature Film               Drama   \n",
       "..                           ...           ...                 ...   \n",
       "642           Death Defying Acts  Feature Film               Drama   \n",
       "643                   Half Baked  Feature Film              Comedy   \n",
       "644            Dance of the Dead  Feature Film  Action & Adventure   \n",
       "645  Around the World in 80 Days  Feature Film  Action & Adventure   \n",
       "646                          LOL  Feature Film              Comedy   \n",
       "\n",
       "    Runtime (min)       Rating                    Studio Year Premiered  \\\n",
       "0         runtime  mpaa_rating                    studio  thtr_rel_year   \n",
       "1              80            R       Indomina Media Inc.           2013   \n",
       "2             101        PG-13     Warner Bros. Pictures           2001   \n",
       "3              84            R    Sony Pictures Classics           1996   \n",
       "4             139           PG         Columbia Pictures           1993   \n",
       "..            ...          ...                       ...            ...   \n",
       "642            97           PG        Genius Productions           2008   \n",
       "643            82            R        Universal Pictures           1998   \n",
       "644            87            R  Grindhouse Entertainment           2008   \n",
       "645           120           PG      Buena Vista Pictures           2004   \n",
       "646            97        PG-13           Lionsgate Films           2012   \n",
       "\n",
       "    Month Premiered Day Premiered Year Released  ...  \\\n",
       "0    thtr_rel_month  thtr_rel_day  dvd_rel_year  ...   \n",
       "1                 4            19          2013  ...   \n",
       "2                 3            14          2001  ...   \n",
       "3                 8            21          2001  ...   \n",
       "4                10             1          2001  ...   \n",
       "..              ...           ...           ...  ...   \n",
       "642               7            11          2008  ...   \n",
       "643               1            16          1998  ...   \n",
       "644               3             9          2008  ...   \n",
       "645               6            16          2004  ...   \n",
       "646               5             4          2012  ...   \n",
       "\n",
       "    Director ever won an Oscar?    Top 200?        Directed By  \\\n",
       "0                  best_dir_win  top200_box           director   \n",
       "1                            no          no   Michael D. Olmos   \n",
       "2                            no          no          Rob Sitch   \n",
       "3                            no          no  Christopher Guest   \n",
       "4                           yes          no    Martin Scorsese   \n",
       "..                          ...         ...                ...   \n",
       "642                          no          no  Gillian Armstrong   \n",
       "643                          no          no        Tamra Davis   \n",
       "644                          no          no       Gregg Bishop   \n",
       "645                          no         yes       Frank Coraci   \n",
       "646                          no          no       Liza Azuelos   \n",
       "\n",
       "           First Actor          Second Actor           Third Actor  \\\n",
       "0               actor1                actor2                actor3   \n",
       "1       Gina Rodriguez          Jenni Rivera  Lou Diamond Phillips   \n",
       "2            Sam Neill      Kevin Harrington     Patrick Warburton   \n",
       "3    Christopher Guest      Catherine O'Hara          Parker Posey   \n",
       "4     Daniel Day-Lewis     Michelle Pfeiffer          Winona Ryder   \n",
       "..                 ...                   ...                   ...   \n",
       "642         Guy Pearce  Catherine Zeta-Jones         Timothy Spall   \n",
       "643     Dave Chappelle        Guillermo Diaz            Jim Breuer   \n",
       "644      Jared Kusnitz      Greyson Chadwick        Chandler Darby   \n",
       "645        Jackie Chan          Steve Coogan          Ewen Bremner   \n",
       "646        Miley Cyrus            Demi Moore         Ashley Greene   \n",
       "\n",
       "           Fourth Actor          Fifth Actor  \\\n",
       "0                actor4               actor5   \n",
       "1         Emilio Rivera  Joseph Julian Soria   \n",
       "2              Tom Long       Genevieve Mooy   \n",
       "3           Eugene Levy          Bob Balaban   \n",
       "4      Richard E. Grant         Alec McCowen   \n",
       "..                  ...                  ...   \n",
       "642       Saoirse Ronan          Jack Bailey   \n",
       "643    Harland Williams          Rachel True   \n",
       "644  Carissa Capobianco       Randy McDowell   \n",
       "645         Robert Fyfe          Ian McNeice   \n",
       "646       Douglas Booth       Adam G. Sevani   \n",
       "\n",
       "                                IMDB Link  \\\n",
       "0                                imdb_url   \n",
       "1    http://www.imdb.com/title/tt1869425/   \n",
       "2    http://www.imdb.com/title/tt0205873/   \n",
       "3    http://www.imdb.com/title/tt0118111/   \n",
       "4    http://www.imdb.com/title/tt0106226/   \n",
       "..                                    ...   \n",
       "642  http://www.imdb.com/title/tt0472071/   \n",
       "643  http://www.imdb.com/title/tt0120693/   \n",
       "644  http://www.imdb.com/title/tt0926063/   \n",
       "645  http://www.imdb.com/title/tt0327437/   \n",
       "646  http://www.imdb.com/title/tt1592873/   \n",
       "\n",
       "                                  Rotten Tomatoes Link  \n",
       "0                                               rt_url  \n",
       "1         //www.rottentomatoes.com/m/filly_brown_2012/  \n",
       "2                     //www.rottentomatoes.com/m/dish/  \n",
       "3      //www.rottentomatoes.com/m/waiting_for_guffman/  \n",
       "4         //www.rottentomatoes.com/m/age_of_innocence/  \n",
       "..                                                 ...  \n",
       "642     //www.rottentomatoes.com/m/death_defying_acts/  \n",
       "643             //www.rottentomatoes.com/m/half_baked/  \n",
       "644  //www.rottentomatoes.com/m/1203339-dance_of_th...  \n",
       "645  //www.rottentomatoes.com/m/around_the_world_in...  \n",
       "646               //www.rottentomatoes.com/m/lol_2011/  \n",
       "\n",
       "[647 rows x 32 columns]"
      ]
     },
     "execution_count": 146,
     "metadata": {},
     "output_type": "execute_result"
    }
   ],
   "source": [
    "# Load data provided in movie.csv file\n",
    "MOVIE_DATA = 'movies.csv'\n",
    "\n",
    "# Constant definitions for the movie columns\n",
    "TITLE = 'Title'  # The title of the movie\n",
    "TITLE_TYPE = 'Type'  # The type of movie, can be (Documentary, Feature Film)\n",
    "GENRE = 'Genre'  # The genre of movie, can be (Action & Adventure, Comedy, Documentary, Drama, Horror, Mystery & Suspense, and others)\n",
    "RUNTIME = 'Runtime (min)'  # The runtime of the movie in minutes\n",
    "MPAA_RATING = 'Rating'  # The rating of the movie (G, PG, PG-13, R, Unrated)\n",
    "STUDIO = 'Studio'  # The studio that produced the movie\n",
    "THTR_REL_YEAR = 'Year Premiered'  # The year that the movie released in theaters\n",
    "THTR_REL_MONTH = 'Month Premiered'  # The month that the movie released in theaters\n",
    "THTR_REL_DAY = 'Day Premiered'  # The day that the movie released in theaters\n",
    "DVD_REL_YEAR = 'Year Released'  # The year that the movie released in dvd\n",
    "DVD_REL_MONTH = 'Month Released'  # The month that the movie released in dvd\n",
    "DVD_REL_DAY = 'Day Released'  # The day that the movie released in dvd\n",
    "IMDB_RATING = 'IMDB Rating'  # The rating on IMDB\n",
    "IMDB_NUM_VOTES = 'IMDB Votes'  # The number of votes on IMDB\n",
    "CRITICS_RATING = 'RT Critics Rating'  # The Rotten Tomatoes rating can be (Certified Fresh, Fresh, Rotten)\n",
    "CRITICS_SCORE = 'RT Critics Score'  # The Rotten Tomatoes rating score from the critics\n",
    "AUDIENCE_RATING = 'RT Audience Rating'  # The Rotten Tomatoes rating can be (Spilled, Upright)\n",
    "AUDIENCE_SCORE = 'RT Audience Score'  # The Rotten Tomatoes rating score from the audience\n",
    "BEST_PIC_NOM = 'Nominated for Best Picture Oscar?'  # Whether or not the movie was nominated for a Best Picture Oscar can be (yes, no)\n",
    "BEST_PIC_WIN = 'Won Best Picture Oscar?'  # Whether or not the movie was a winner for a Best Picture Oscar can be (yes, no)\n",
    "BEST_ACTOR_WIN = 'Main Actor ever won an Oscar?'  # Whether or not any of the main actors in the movie ever won an oscar in their career (yes, no)\n",
    "BEST_ACTRESS_WIN = 'Main Actress ever won an Oscar?'  # Whether or not any of the main actresses in the movie ever won an oscar in their career (yes, no)\n",
    "BEST_DIRECTOR_WIN = 'Director ever won an Oscar?'  # Whether or not any of the director of the movie ever won an oscar in their career (yes, no)\n",
    "TOP_200_BOX = 'Top 200?'  # Whether or not the movie was in the top 200 box office list (yes, no)\n",
    "DIRECTOR = 'Directed By'  # The director of the movie\n",
    "ACTOR_1 = \"First Actor\"  # The first main actor/actress of the movie\n",
    "ACTOR_2 = \"Second Actor\"  # The second main actor/actress of the movie\n",
    "ACTOR_3 = \"Third Actor\"  # The third main actor/actress of the movie\n",
    "ACTOR_4 = \"Fourth Actor\"  # The fourth main actor/actress of the movie\n",
    "ACTOR_5 = \"Fifth Actor\"  # The fifth main actor/actress of the movie\n",
    "IMDB_URL = \"IMDB Link\"  # The imdb link to the page for the movie on imdb\n",
    "RT_URL = 'Rotten Tomatoes Link'  # The rotten tomatoes link for the page for the movie on rotten tomatoes\n",
    "\n",
    "MOVIE_ATTRIBUTE_COLUMNS = [\n",
    "    TITLE,\n",
    "    TITLE_TYPE,\n",
    "    GENRE,\n",
    "    RUNTIME,\n",
    "    MPAA_RATING,\n",
    "    STUDIO,\n",
    "    THTR_REL_YEAR,\n",
    "    THTR_REL_MONTH,\n",
    "    THTR_REL_DAY,\n",
    "    DVD_REL_YEAR,\n",
    "    DVD_REL_MONTH,\n",
    "    DVD_REL_DAY,\n",
    "    IMDB_RATING,\n",
    "    IMDB_NUM_VOTES,\n",
    "    CRITICS_RATING,\n",
    "    CRITICS_SCORE,\n",
    "    AUDIENCE_RATING,\n",
    "    AUDIENCE_SCORE,\n",
    "    BEST_PIC_NOM,\n",
    "    BEST_PIC_WIN,\n",
    "    BEST_ACTOR_WIN,\n",
    "    BEST_ACTRESS_WIN,\n",
    "    BEST_DIRECTOR_WIN,\n",
    "    TOP_200_BOX,\n",
    "    DIRECTOR,\n",
    "    ACTOR_1,\n",
    "    ACTOR_2,\n",
    "    ACTOR_3,\n",
    "    ACTOR_4,\n",
    "    ACTOR_5,\n",
    "    IMDB_URL,\n",
    "    RT_URL\n",
    "]\n",
    "\n",
    "# Read it using pandas\n",
    "data = pd.read_csv(MOVIE_DATA, names=MOVIE_ATTRIBUTE_COLUMNS)\n",
    "\n",
    "# The code below can be removed, just test\n",
    "print(\"The movie data: \")\n",
    "data.head(n=len(data))"
   ]
  },
  {
   "cell_type": "markdown",
   "metadata": {},
   "source": [
    "### (a) Any missing data? How are missing values encoded?\n",
    "- There is missing data in the movies data set. Missing data is denoted by `NA`"
   ]
  },
  {
   "cell_type": "code",
   "execution_count": 147,
   "metadata": {
    "pycharm": {
     "name": "#%%\n"
    }
   },
   "outputs": [
    {
     "data": {
      "text/html": [
       "<div>\n",
       "<style scoped>\n",
       "    .dataframe tbody tr th:only-of-type {\n",
       "        vertical-align: middle;\n",
       "    }\n",
       "\n",
       "    .dataframe tbody tr th {\n",
       "        vertical-align: top;\n",
       "    }\n",
       "\n",
       "    .dataframe thead th {\n",
       "        text-align: right;\n",
       "    }\n",
       "</style>\n",
       "<table border=\"1\" class=\"dataframe\">\n",
       "  <thead>\n",
       "    <tr style=\"text-align: right;\">\n",
       "      <th></th>\n",
       "      <th>Missing Values</th>\n",
       "      <th>% of Total Values</th>\n",
       "    </tr>\n",
       "  </thead>\n",
       "  <tbody>\n",
       "    <tr>\n",
       "      <th>Fifth Actor</th>\n",
       "      <td>14</td>\n",
       "      <td>2.2</td>\n",
       "    </tr>\n",
       "    <tr>\n",
       "      <th>Fourth Actor</th>\n",
       "      <td>12</td>\n",
       "      <td>1.9</td>\n",
       "    </tr>\n",
       "    <tr>\n",
       "      <th>Third Actor</th>\n",
       "      <td>9</td>\n",
       "      <td>1.4</td>\n",
       "    </tr>\n",
       "    <tr>\n",
       "      <th>Year Released</th>\n",
       "      <td>8</td>\n",
       "      <td>1.2</td>\n",
       "    </tr>\n",
       "    <tr>\n",
       "      <th>Month Released</th>\n",
       "      <td>8</td>\n",
       "      <td>1.2</td>\n",
       "    </tr>\n",
       "    <tr>\n",
       "      <th>Day Released</th>\n",
       "      <td>8</td>\n",
       "      <td>1.2</td>\n",
       "    </tr>\n",
       "    <tr>\n",
       "      <th>Studio</th>\n",
       "      <td>7</td>\n",
       "      <td>1.1</td>\n",
       "    </tr>\n",
       "    <tr>\n",
       "      <th>Second Actor</th>\n",
       "      <td>7</td>\n",
       "      <td>1.1</td>\n",
       "    </tr>\n",
       "    <tr>\n",
       "      <th>Directed By</th>\n",
       "      <td>2</td>\n",
       "      <td>0.3</td>\n",
       "    </tr>\n",
       "    <tr>\n",
       "      <th>First Actor</th>\n",
       "      <td>2</td>\n",
       "      <td>0.3</td>\n",
       "    </tr>\n",
       "    <tr>\n",
       "      <th>Runtime (min)</th>\n",
       "      <td>1</td>\n",
       "      <td>0.2</td>\n",
       "    </tr>\n",
       "  </tbody>\n",
       "</table>\n",
       "</div>"
      ],
      "text/plain": [
       "                Missing Values  % of Total Values\n",
       "Fifth Actor                 14                2.2\n",
       "Fourth Actor                12                1.9\n",
       "Third Actor                  9                1.4\n",
       "Year Released                8                1.2\n",
       "Month Released               8                1.2\n",
       "Day Released                 8                1.2\n",
       "Studio                       7                1.1\n",
       "Second Actor                 7                1.1\n",
       "Directed By                  2                0.3\n",
       "First Actor                  2                0.3\n",
       "Runtime (min)                1                0.2"
      ]
     },
     "execution_count": 147,
     "metadata": {},
     "output_type": "execute_result"
    }
   ],
   "source": [
    "#print('this line should print a table that reports column name and the percent of missing data for a column')\n",
    "\n",
    "\n",
    "def missing_zero_values_table(df):\n",
    "        mis_val = df.isnull().sum()                                 #number of missing values\n",
    "        mis_val_percent = 100 * df.isnull().sum() / len(df)         #percent of missing values\n",
    "        mz_table = pd.concat([ mis_val, mis_val_percent], axis=1)   #create table\n",
    "        \n",
    "        mz_table = mz_table.rename(columns = { 0 : 'Missing Values', 1 : '% of Total Values'})   #name columns\n",
    "        \n",
    "        mz_table = mz_table[ mz_table.iloc[:,1] != 0].sort_values('% of Total Values', ascending=False).round(1)\n",
    "        \n",
    "        return mz_table\n",
    "\n",
    "missing_zero_values_table(data)\n",
    "\n"
   ]
  },
  {
   "cell_type": "markdown",
   "metadata": {},
   "source": [
    "### (b) Ignoring missing values in `STUDIO`, `DVD_REL_YEAR`, `DVD_REL_MONTH`, `DVD_REL_DAY`, and anything after `BEST_PIC_NOM`, remove the sample and report the amount of samples remaining"
   ]
  },
  {
   "cell_type": "code",
   "execution_count": 148,
   "metadata": {
    "pycharm": {
     "name": "#%%\n"
    }
   },
   "outputs": [
    {
     "name": "stdout",
     "output_type": "stream",
     "text": [
      "After removing 1 samples, 646 remain.\n"
     ]
    }
   ],
   "source": [
    "IGNORED_CATS = [STUDIO, DVD_REL_YEAR, DVD_REL_MONTH, DVD_REL_DAY, BEST_PIC_NOM, BEST_PIC_WIN, BEST_ACTOR_WIN,\n",
    "    BEST_ACTRESS_WIN, BEST_DIRECTOR_WIN, TOP_200_BOX, DIRECTOR, ACTOR_1, ACTOR_2, ACTOR_3, ACTOR_4, ACTOR_5,\n",
    "    IMDB_URL, RT_URL ]\n",
    "\n",
    "# Make a copy of the list of all movie attributes\n",
    "COLUMNS_WANTED = list(MOVIE_ATTRIBUTE_COLUMNS)\n",
    "# Loop through all the categories we want to ignore and remove it from our list\n",
    "for c in IGNORED_CATS:\n",
    "    COLUMNS_WANTED.remove(c)\n",
    "\n",
    "# Make a set of rows to delete\n",
    "ROWS_MARKED_FOR_DELETION = set()\n",
    "\n",
    "# Make a copy of the data but only with the columns we care about\n",
    "simplified_df = data[COLUMNS_WANTED]\n",
    "\n",
    "samples_removed = 0\n",
    "\n",
    "# Find indeces that should be removed, loop through all the rows in the table\n",
    "for i, movie in simplified_df.iterrows():\n",
    "    if any(movie.isnull()):\n",
    "        ROWS_MARKED_FOR_DELETION.add(i)\n",
    "\n",
    "for ind in sorted(ROWS_MARKED_FOR_DELETION, reverse=True):\n",
    "    data = data.drop(index=ind)\n",
    "    samples_removed += 1\n",
    "\n",
    "\n",
    "print(f\"After removing {samples_removed} samples, {len(data)} remain.\")"
   ]
  },
  {
   "cell_type": "markdown",
   "metadata": {},
   "source": [
    "### (c) Report all variable (column) types, if nominal or ordinal: size of their domain (possible values), if numeric: the min and max possible value for the following variables\n",
    "- `GENRE`: Nominal, domain size: 7\n",
    "- `RUNTIME`: Numeric, possible values: 0 -> +infinity\n",
    "- `MPAA_RATING`: Ordinal, domain size: 5\n",
    "- `STUDIO`: Nominal, domain size: infinite\n",
    "- `THTR_REL_MONTH`: Numeric, possible values: 1 -> 12\n",
    "- `IMDB_RATING`: Numeric, possible values: 0 -> 10\n",
    "- `AUDIENCE_SCORE`: Numeric, possible values: 0 -> 100\n",
    "- `BEST_PIC_WIN`: Ordinal, domain size: 2"
   ]
  },
  {
   "cell_type": "markdown",
   "metadata": {},
   "source": [
    "### (d) Summary Statistics\n",
    "- Report a five number summary in a table for `CRITICS_SCORE` and `RUNTIME`"
   ]
  },
  {
   "cell_type": "code",
   "execution_count": 149,
   "metadata": {
    "pycharm": {
     "name": "#%%\n"
    }
   },
   "outputs": [],
   "source": [
    "#preprocessing function: take a list, removes the columns names and returns an array\n",
    "def arrClean(input):\n",
    "    sorted_in=[]   #array to hold values\n",
    "\n",
    "    count=0        #counter variable\n",
    "\n",
    "    #loop to remove any column tags\n",
    "    for x in arr_in:\n",
    "        if count > 0:\n",
    "            sorted_in.append(x)\n",
    "        count = count +1\n",
    "\n",
    "    # using list comprehension to perform conversion of str to int\n",
    "    crit_list = [int(i) for i in sorted_in]\n",
    "\n",
    "    return np.asarray(crit_list)\n"
   ]
  },
  {
   "cell_type": "code",
   "execution_count": 150,
   "metadata": {},
   "outputs": [],
   "source": [
    "from numpy import percentile\n",
    "\n",
    "# calculate a 5-number summary\n",
    "def fiveNumSum(in_arr):  \n",
    "        \n",
    "    # calculate quartiles\n",
    "    quartiles = percentile(in_arr, [25, 50, 75])\n",
    "\n",
    "    # calculate min/max\n",
    "    data_min, data_max = in_arr.min(), in_arr.max()\n",
    "\n",
    "    # print 5-number summary\n",
    "    print('Min: %.3f' % data_min)\n",
    "    print('Q1:  %.3f' % quartiles[0])\n",
    "    print('Median: %.3f' % quartiles[1])\n",
    "    print('Q3:  %.3f' % quartiles[2])\n",
    "    print('Max: %.3f' % data_max)\n",
    "    \n",
    "    return\n"
   ]
  },
  {
   "cell_type": "code",
   "execution_count": 151,
   "metadata": {},
   "outputs": [
    {
     "name": "stdout",
     "output_type": "stream",
     "text": [
      "Five Number summary for Critics Score\n",
      "Min: 1.000\n",
      "Q1:  33.000\n",
      "Median: 61.000\n",
      "Q3:  83.000\n",
      "Max: 100.000\n"
     ]
    }
   ],
   "source": [
    "arr_in = data['RT Critics Score']    #import specific column from data\n",
    "\n",
    "temp = arrClean(arr_in) #clean up data before finding the five number sum\n",
    "\n",
    "#function call to print 5 number summary for Critics Score\n",
    "\n",
    "print(\"Five Number summary for Critics Score\")\n",
    "\n",
    "fiveNumSum(temp)\n"
   ]
  },
  {
   "cell_type": "code",
   "execution_count": 152,
   "metadata": {},
   "outputs": [
    {
     "name": "stdout",
     "output_type": "stream",
     "text": [
      "The Five Number summary for Runtime\n",
      "Min: 1.000\n",
      "Q1:  33.000\n",
      "Median: 61.000\n",
      "Q3:  83.000\n",
      "Max: 100.000\n"
     ]
    }
   ],
   "source": [
    "arg_in = data['Runtime (min)']    #import specific column from data\n",
    "#print(arg_in)\n",
    "\n",
    "temp2 = arrClean(arg_in) #clean up data before finding the five number sum\n",
    "\n",
    "#function call to print 5 number summary for Critics Score\n",
    "\n",
    "print(\"The Five Number summary for Runtime\")\n",
    "\n",
    "fiveNumSum(temp2)"
   ]
  },
  {
   "cell_type": "markdown",
   "metadata": {},
   "source": [
    "- Report the mean, median, and mode of `AUDIENCE_SCORE` and `IMDB_RATING`"
   ]
  },
  {
   "cell_type": "code",
   "execution_count": 153,
   "metadata": {
    "pycharm": {
     "name": "#%%\n"
    }
   },
   "outputs": [
    {
     "name": "stdout",
     "output_type": "stream",
     "text": [
      "Audience Score\n",
      "Mean: 57.634\n",
      "Median:  61.000\n",
      "Mode: 67.000\n"
     ]
    }
   ],
   "source": [
    "#print('this line prints the mean, median, and mode of the variables above')\n",
    "from scipy import stats\n",
    "\n",
    "#'RT Audience Score'\n",
    "argv_in =data['RT Audience Score']\n",
    "temp3 =arrClean(argv_in)\n",
    "\n",
    "print(\"Audience Score\")\n",
    "print('Mean: %.3f' % np.mean(temp3))\n",
    "print('Median:  %.3f' % np.median(temp3))\n",
    "print('Mode: %.3f' % stats.mode(temp3)[0])\n",
    "\n"
   ]
  },
  {
   "cell_type": "code",
   "execution_count": 154,
   "metadata": {},
   "outputs": [
    {
     "name": "stdout",
     "output_type": "stream",
     "text": [
      "IMDB Rating\n",
      "Mean: 57.634\n",
      "Median:  61.000\n",
      "Mode: 67.000\n"
     ]
    }
   ],
   "source": [
    "#'IMDB Rating'\n",
    "arg = data['IMDB Rating']\n",
    "temp4 = arrClean(arg)\n",
    "\n",
    "print(\"IMDB Rating\")\n",
    "print('Mean: %.3f' % np.mean(temp4))\n",
    "print('Median:  %.3f' % np.median(temp4))\n",
    "print('Mode: %.3f' % stats.mode(temp4)[0])\n",
    " "
   ]
  },
  {
   "cell_type": "markdown",
   "metadata": {},
   "source": [
    "- Report the first quartile, 31st percentile, third quartile, and 90th  percentile for `AUDIENCE_SCORE` and `IMDB_RATING`"
   ]
  },
  {
   "cell_type": "code",
   "execution_count": 155,
   "metadata": {},
   "outputs": [
    {
     "name": "stdout",
     "output_type": "stream",
     "text": [
      "Audience Score\n",
      "Q1: 33.000\n",
      "31st:  40.000\n",
      "Q3: 83.000\n",
      "90th:  93.000\n"
     ]
    }
   ],
   "source": [
    "foo =data['RT Audience Score']\n",
    "temp5= arrClean(foo)\n",
    "\n",
    "# calculate quartiles\n",
    "quartiles = percentile(temp5, [25, 31, 75, 90])\n",
    "\n",
    "print(\"Audience Score\")\n",
    "print('Q1: %.3f' % quartiles[0])\n",
    "print('31st:  %.3f' % quartiles[1])\n",
    "print('Q3: %.3f' % quartiles[2])\n",
    "print('90th:  %.3f' % quartiles[3])\n"
   ]
  },
  {
   "cell_type": "code",
   "execution_count": 156,
   "metadata": {
    "pycharm": {
     "name": "#%%\n"
    }
   },
   "outputs": [
    {
     "name": "stdout",
     "output_type": "stream",
     "text": [
      "IMDB Rating\n",
      "Q1: 33.000\n",
      "31st:  40.000\n",
      "Q3: 83.000\n",
      "90th:  93.000\n"
     ]
    }
   ],
   "source": [
    "foo2 =data['IMDB Rating']\n",
    "temp6= arrClean(foo2)\n",
    "\n",
    "# calculate quartiles\n",
    "quartiles = percentile(temp6, [25, 31, 75, 90])\n",
    "\n",
    "print(\"IMDB Rating\")\n",
    "print('Q1: %.3f' % quartiles[0])\n",
    "print('31st:  %.3f' % quartiles[1])\n",
    "print('Q3: %.3f' % quartiles[2])\n",
    "print('90th:  %.3f' % quartiles[3])\n",
    "    "
   ]
  },
  {
   "cell_type": "markdown",
   "metadata": {},
   "source": [
    "### (e) Visualizations\n",
    "- Vertical bar plot for genre, sorted in decreasing order"
   ]
  },
  {
   "cell_type": "code",
   "execution_count": 157,
   "metadata": {
    "pycharm": {
     "name": "#%%\n"
    }
   },
   "outputs": [
    {
     "data": {
      "text/plain": [
       "<AxesSubplot:>"
      ]
     },
     "execution_count": 157,
     "metadata": {},
     "output_type": "execute_result"
    },
    {
     "data": {
      "image/png": "[encoded data removed]",
      "text/plain": [
       "<Figure size 432x288 with 1 Axes>"
      ]
     },
     "metadata": {
      "needs_background": "light"
     },
     "output_type": "display_data"
    }
   ],
   "source": [
    "# Top 5 genres\n",
    "data[GENRE].value_counts()[:5].plot.bar()"
   ]
  },
  {
   "cell_type": "markdown",
   "metadata": {},
   "source": [
    "As we can see, the top 5 genres are *Drama, Comedy, Action & Adventure, Mystery and Suspense, and Documentaries.*"
   ]
  },
  {
   "cell_type": "markdown",
   "metadata": {},
   "source": [
    "- Horizontal bar plot for `MPAA_RATING`, sorted by `RATING`"
   ]
  },
  {
   "cell_type": "code",
   "execution_count": 158,
   "metadata": {
    "pycharm": {
     "name": "#%%\n"
    }
   },
   "outputs": [
    {
     "data": {
      "text/plain": [
       "<AxesSubplot:>"
      ]
     },
     "execution_count": 158,
     "metadata": {},
     "output_type": "execute_result"
    },
    {
     "data": {
      "image/png": "[encoded data removed]",
      "text/plain": [
       "<Figure size 432x288 with 1 Axes>"
      ]
     },
     "metadata": {
      "needs_background": "light"
     },
     "output_type": "display_data"
    }
   ],
   "source": [
    "dict_repr = dict(zip(data[MPAA_RATING].value_counts().keys(), data[MPAA_RATING].value_counts().values))\n",
    "y = ['G', 'PG', 'PG-13', 'NC-17', 'R', 'Unrated']\n",
    "x = [dict_repr[rating] for rating in y]\n",
    "\n",
    "pd.DataFrame({'Count':x, 'Rating':y}).plot.barh()"
   ]
  },
  {
   "cell_type": "markdown",
   "metadata": {},
   "source": [
    "- Histogram of `AUDIENCE_SCORE`, select appropriate number of bins to visualize the distribution"
   ]
  },
  {
   "cell_type": "code",
   "execution_count": 159,
   "metadata": {
    "pycharm": {
     "name": "#%%\n"
    }
   },
   "outputs": [
    {
     "data": {
      "text/plain": [
       "<AxesSubplot:>"
      ]
     },
     "execution_count": 159,
     "metadata": {},
     "output_type": "execute_result"
    },
    {
     "data": {
      "image/png": "[encoded data removed]",
      "text/plain": [
       "<Figure size 432x288 with 1 Axes>"
      ]
     },
     "metadata": {
      "needs_background": "light"
     },
     "output_type": "display_data"
    }
   ],
   "source": [
    "col = data[AUDIENCE_SCORE][1:]\n",
    "col = col.sort_values()\n",
    "col = col.astype(int)\n",
    "col = pd.cut(\n",
    "    col,\n",
    "    bins=[0, 10, 20, 30, 40, 50, 60, 70, 80, 90, 100],\n",
    "    labels=['0-10', '10-20', '20-30', '30-40', '40-50', '50-60', '60-70', '70-80', '80-90', '90-100'],\n",
    "    ordered=True\n",
    "\n",
    ")\n",
    "col.hist()"
   ]
  },
  {
   "cell_type": "markdown",
   "metadata": {},
   "source": [
    "- Density plot of `RUNTIME`"
   ]
  },
  {
   "cell_type": "code",
   "execution_count": 160,
   "metadata": {
    "pycharm": {
     "name": "#%%\n"
    }
   },
   "outputs": [
    {
     "data": {
      "text/plain": [
       "<AxesSubplot:ylabel='Density'>"
      ]
     },
     "execution_count": 160,
     "metadata": {},
     "output_type": "execute_result"
    },
    {
     "data": {
      "image/png": "[encoded data removed]",
      "text/plain": [
       "<Figure size 432x288 with 1 Axes>"
      ]
     },
     "metadata": {
      "needs_background": "light"
     },
     "output_type": "display_data"
    }
   ],
   "source": [
    "col = data[RUNTIME][1:]\n",
    "col = col.astype(float)\n",
    "col.plot.density()"
   ]
  },
  {
   "cell_type": "markdown",
   "metadata": {},
   "source": [
    "- Stacked bar plot to show the proportion of movies for `CRITICS_RATING`"
   ]
  },
  {
   "cell_type": "code",
   "execution_count": 161,
   "metadata": {
    "pycharm": {
     "name": "#%%\n"
    }
   },
   "outputs": [
    {
     "data": {
      "text/plain": [
       "<AxesSubplot:>"
      ]
     },
     "execution_count": 161,
     "metadata": {},
     "output_type": "execute_result"
    },
    {
     "data": {
      "image/png": "[encoded data removed]",
      "text/plain": [
       "<Figure size 432x288 with 1 Axes>"
      ]
     },
     "metadata": {
      "needs_background": "light"
     },
     "output_type": "display_data"
    }
   ],
   "source": [
    "col = data[CRITICS_RATING][1:].value_counts()\n",
    "ind = ['Proportion']\n",
    "new = pd.DataFrame(\n",
    "    {\n",
    "        'Rotten': col['Rotten'],\n",
    "        'Fresh': col['Fresh'],\n",
    "        'Certified Fresh': col['Certified Fresh'],\n",
    "    }, index=ind\n",
    ").head(1)\n",
    "new.plot.bar(stacked=True)"
   ]
  },
  {
   "cell_type": "markdown",
   "metadata": {},
   "source": [
    "- Bar chart for `CRITICS_RATING`"
   ]
  },
  {
   "cell_type": "code",
   "execution_count": 162,
   "metadata": {
    "pycharm": {
     "name": "#%%\n"
    }
   },
   "outputs": [
    {
     "data": {
      "text/plain": [
       "<AxesSubplot:>"
      ]
     },
     "execution_count": 162,
     "metadata": {},
     "output_type": "execute_result"
    },
    {
     "data": {
      "image/png": "[encoded data removed]",
      "text/plain": [
       "<Figure size 432x288 with 1 Axes>"
      ]
     },
     "metadata": {
      "needs_background": "light"
     },
     "output_type": "display_data"
    }
   ],
   "source": [
    "col = data[CRITICS_RATING][1:].value_counts()\n",
    "col.plot.bar()"
   ]
  },
  {
   "cell_type": "markdown",
   "metadata": {},
   "source": [
    "### (f) Multi-variable Visualization\n",
    "- Vertical grouped bar plot for `GENRE` with `AUDIENCE_RATING`, showing only top 5 genres"
   ]
  },
  {
   "cell_type": "code",
   "execution_count": 163,
   "metadata": {},
   "outputs": [
    {
     "data": {
      "text/plain": [
       "<AxesSubplot:>"
      ]
     },
     "execution_count": 163,
     "metadata": {},
     "output_type": "execute_result"
    },
    {
     "data": {
      "image/png": "[encoded data removed]",
      "text/plain": [
       "<Figure size 432x288 with 1 Axes>"
      ]
     },
     "metadata": {
      "needs_background": "light"
     },
     "output_type": "display_data"
    }
   ],
   "source": [
    "# Make a copy of the master data, but only look at the GENRE and AUDIENCE_RATING columns\n",
    "new = data[[GENRE, AUDIENCE_RATING]].copy()\n",
    "# The first row is just the titles of the columns and is considered garbage, use list splicing\n",
    "# To construct a table that contains every value except the first row\n",
    "new = data[1:]\n",
    "\n",
    "# Index the GENRE column, then return a list of the top 5 rows\n",
    "g = new[GENRE].value_counts()[:5]\n",
    "\n",
    "# Returns the list of genres that are in the top 5 from before\n",
    "genre_keys = g.keys()\n",
    "\n",
    "# Make a dict based on the keys we care about, this dict is structured like this:\n",
    "# Every genre keeps track of counts for spilled and upright\n",
    "# genre_counts = {\n",
    "#       'Drama': {'Spilled': 0, 'Upright': 0},\n",
    "#       'Comedy': {'Spilled': 0, 'Upright': 0},\n",
    "#       'Documentary': {'Spilled': 0, 'Upright': 0}\n",
    "# }\n",
    "genre_counts = {gen: {'Spilled': 0, 'Upright': 0} for gen in genre_keys}\n",
    "\n",
    "# Now loop through all the movies on file\n",
    "for i, movie in new.iterrows():\n",
    "    mov_genre = movie[GENRE]\n",
    "    mov_rating = movie[AUDIENCE_RATING]\n",
    "\n",
    "    # Add to the count if it exists in the dict\n",
    "    if mov_genre in genre_counts:\n",
    "        genre_counts[mov_genre][mov_rating] += 1\n",
    "\n",
    "# Now we construct arrays we want to plot on the bar chart,\n",
    "# Each group of bars is one genre, and each genre is going to have a 'spilled' count and a 'upright' count\n",
    "# Define the index labels at the bottom, these are just our top 5 genres in order\n",
    "\n",
    "# Estimates based on the graph, used for documentation purposes\n",
    "# In our example, Drama        has 100 Spilled movies, and 200 Upright movies\n",
    "# In our example, Comedy       has 60  Spilled movies, and 25  Upright movies\n",
    "# In our example, Action & Adv has 50  Spilled movies, and 20  Upright movies\n",
    "# In our example, Myst & Sus   has 30  Spilled movies, and 22  Upright movies\n",
    "# In our example, Documentary  has 2   Spilled movies, and 40  Upright movies\n",
    "# This means the following two lists will be generated from spilled_array and upright_array\n",
    "# spilled_array = [100, 60, 50, 30, 2]\n",
    "# upright_array = [200, 25, 20, 22, 40]\n",
    "# Knowing our genre_keys array is the following:\n",
    "# [Drama, Comedy, Action & Adv, Myst & Sus, Documentary]\n",
    "# We can see that we have 3 parallel arrays, we send these over to a new dataframe and pandas will know how to draw it\n",
    "\n",
    "# Define the counts of 'spilled' movies for each genre, ordered in the same order as genre_index\n",
    "spilled_array = [genre_counts[genre]['Spilled'] for genre in genre_keys]\n",
    "# Define the counts of 'Upright' movies for each genre, ordered in the same order as genre_index\n",
    "upright_array = [genre_counts[genre]['Upright'] for genre in genre_keys]\n",
    "\n",
    "# Construct a new dataframe using the new arrays we just defined above\n",
    "plotdf = pd.DataFrame(\n",
    "    {\n",
    "        'Spilled': spilled_array,\n",
    "        'Upright': upright_array\n",
    "    }, index=genre_keys\n",
    ")\n",
    "\n",
    "plotdf.plot.bar()"
   ]
  },
  {
   "cell_type": "markdown",
   "metadata": {},
   "source": [
    "- Box plot for `AUDIENCE_SCORE` grouped by `CRITICS_RATING`"
   ]
  },
  {
   "cell_type": "code",
   "execution_count": 164,
   "metadata": {},
   "outputs": [],
   "source": [
    "#internal hellper funciton\n",
    "# calculate a 5-number summary and return array\n",
    "def fiveNumSumMod2(in_arr):  \n",
    "    \n",
    "    this_arr=[int(i) for i in in_arr] \n",
    "    \n",
    "    # calculate quartiles\n",
    "    quartiles = percentile(this_arr, [25, 50, 75])\n",
    "\n",
    "    # calculate min/max\n",
    "    data_min, data_max = 1.0*min(this_arr), 1.0*max(this_arr)\n",
    "    \n",
    "    #format data to be returned\n",
    "    data=[data_min,quartiles[0],quartiles[1],quartiles[2],data_max]\n",
    "    \n",
    "    return data"
   ]
  },
  {
   "cell_type": "code",
   "execution_count": 165,
   "metadata": {
    "pycharm": {
     "name": "#%%\n"
    }
   },
   "outputs": [
    {
     "data": {
      "image/png": "[encoded data removed]",
      "text/plain": [
       "<Figure size 432x288 with 3 Axes>"
      ]
     },
     "metadata": {
      "needs_background": "light"
     },
     "output_type": "display_data"
    }
   ],
   "source": [
    "import matplotlib.pyplot as plt\n",
    "\n",
    "thisData=data[[AUDIENCE_SCORE,CRITICS_RATING]].copy()   #create copy of data with just AUDIENCE_SCORE and CRITICS_SCORE columns\n",
    "t3=thisData[1:]                                         # filter out unwanted column names\n",
    "\n",
    "#just temporary place holders\n",
    "Rotten=[]\n",
    "Fresh=[]\n",
    "CertFresh=[]\n",
    "\n",
    "#loop through adding values into arrays for Rotten, Fresh, Certified Fresh\n",
    "for index, row in t3.iterrows():\n",
    "    if row[CRITICS_RATING] ==\"Rotten\":\n",
    "        Rotten.append(row[\"RT Audience Score\"])\n",
    "\n",
    "    if row[CRITICS_RATING] ==\"Fresh\":\n",
    "        Fresh.append(row[\"RT Audience Score\"])\n",
    "\n",
    "    if row[CRITICS_RATING]==\"Certified Fresh\":\n",
    "        CertFresh.append(row[\"RT Audience Score\"])\n",
    "\n",
    "#find the five number summary for the data in Rotten array        \n",
    "R_val=fiveNumSumMod2(Rotten)\n",
    "\n",
    "#find the five number summary for the data in Fresh array\n",
    "F_val=fiveNumSumMod2(Fresh)\n",
    "\n",
    "#find the five number summary for the data in Certified Fresh Array\n",
    "CF_val=fiveNumSumMod2(CertFresh)\n",
    "\n",
    "#creat figure with 3 subplots\n",
    "fig, (ax1, ax2, ax3) = plt.subplots(nrows=1, ncols=3, sharex=True, sharey=True)\n",
    "\n",
    "#create Rotten box plot,\n",
    "ax1.boxplot(R_val)\n",
    "ax1.set_title('Rotten')\n",
    "\n",
    "#create Fresh box plot\n",
    "ax2.boxplot(F_val)\n",
    "ax2.set_title('Fresh')\n",
    "\n",
    "#create Certified Fresh box plot\n",
    "ax3.boxplot(CF_val)\n",
    "ax3.set_title('Certified Fresh')\n",
    "\n",
    "#format the spacing between the plots\n",
    "plt.subplots_adjust(right=2)\n",
    "\n",
    "#set y axis label\n",
    "ax1.set_ylabel(\"Audience Score\")\n",
    "\n",
    "#show the plots \n",
    "plt.show()\n"
   ]
  },
  {
   "cell_type": "markdown",
   "metadata": {},
   "source": [
    "- Violin plot for `AUDIENCE_SCORE` grouped by `GENRE` showing only the top 5 genres"
   ]
  },
  {
   "cell_type": "code",
   "execution_count": 166,
   "metadata": {
    "pycharm": {
     "name": "#%%\n"
    }
   },
   "outputs": [
    {
     "data": {
      "image/png": "[encoded data removed]",
      "text/plain": [
       "<Figure size 720x720 with 5 Axes>"
      ]
     },
     "metadata": {
      "needs_background": "light"
     },
     "output_type": "display_data"
    }
   ],
   "source": [
    "import matplotlib.pyplot as plt\n",
    "\n",
    "thisData=data[[AUDIENCE_SCORE,GENRE]].copy()   #create copy of data with just AUDIENCE_SCORE and GENRE columns\n",
    "t3=thisData[1:]                                # filter out unwanted column names\n",
    "\n",
    "D_arr=[]\n",
    "C_arr=[]\n",
    "AA_arr=[]\n",
    "MS_arr=[]\n",
    "Doc_arr=[]\n",
    "\n",
    "#loop through the top 5 Genres to find the total Audience Score for each genre\n",
    "for index, row in t3.iterrows():\n",
    "    if row[\"Genre\"] ==\"Drama\":\n",
    "        D_arr.append(row[\"RT Audience Score\"])\n",
    "\n",
    "    if row[\"Genre\"] ==\"Comedy\":\n",
    "        C_arr.append(row[\"RT Audience Score\"])\n",
    "\n",
    "    if row[\"Genre\"]==\"Action & Adventure\":\n",
    "        AA_arr.append(row[\"RT Audience Score\"])\n",
    "\n",
    "    if row[\"Genre\"]==\"Mystery & Suspense\":\n",
    "        MS_arr.append(row[\"RT Audience Score\"])\n",
    "    \n",
    "    if row[\"Genre\"]==\"Documentary\":\n",
    "        Doc_arr.append(row[\"RT Audience Score\"])\n",
    "\n",
    "\n",
    "#convert arr of strings to integers, and return the 5 number summarys of each\n",
    "D_val=fiveNumSumMod2(D_arr)\n",
    "\n",
    "C_val=fiveNumSumMod2(C_arr)\n",
    "\n",
    "AA_val=fiveNumSumMod2(AA_arr)\n",
    "\n",
    "MS_val=fiveNumSumMod2(MS_arr)\n",
    "\n",
    "Doc_val=fiveNumSumMod2(Doc_arr)\n",
    "\n",
    "\n",
    "#create 5 subplots to be ploted\n",
    "fig, (ax1, ax2, ax3, ax4, ax5) = plt.subplots(nrows=1, ncols=5, sharex=True, sharey=True,figsize=(10,10))\n",
    "\n",
    "#create Drama violin plot,\n",
    "ax1.violinplot(D_val, showmedians=True,showmeans=True, showextrema=True)\n",
    "ax1.set_title('Drama')\n",
    "\n",
    "#create Comedy violin plot\n",
    "ax2.violinplot(C_val, showmedians=True,showmeans=True, showextrema=True)\n",
    "ax2.set_title('Comedy')\n",
    "\n",
    "#create Action & Adventure violin plot\n",
    "ax3.violinplot(AA_val, showmedians=True,showmeans=True, showextrema=True)\n",
    "ax3.set_title('Action & Adventure')\n",
    "\n",
    "#create Myster & Suspense violin plot\n",
    "ax4.violinplot(MS_val, showmedians=True,showmeans=True, showextrema=True)\n",
    "ax4.set_title('Mystery & Suspense')\n",
    "\n",
    "#creat Documentary violin plot\n",
    "ax5.violinplot(Doc_val, showmedians=True,showmeans=True, showextrema=True)\n",
    "ax5.set_title('Documentary')\n",
    "\n",
    "#format the spacing between the plots\n",
    "plt.subplots_adjust(right=2)\n",
    "\n",
    "#set y axis label\n",
    "ax1.set_ylabel(\"Audience Score\")\n",
    "\n",
    "#show the plots \n",
    "plt.show()\n"
   ]
  },
  {
   "cell_type": "markdown",
   "metadata": {},
   "source": [
    "- Overlapping density plot for `CRITICS_SCORE` grouped by `AUDIENCE_RATING`"
   ]
  },
  {
   "cell_type": "code",
   "execution_count": 167,
   "metadata": {
    "pycharm": {
     "name": "#%%\n"
    }
   },
   "outputs": [
    {
     "data": {
      "text/plain": [
       "<AxesSubplot:ylabel='Density'>"
      ]
     },
     "execution_count": 167,
     "metadata": {},
     "output_type": "execute_result"
    },
    {
     "data": {
      "image/png": "[encoded data removed]",
      "text/plain": [
       "<Figure size 504x504 with 1 Axes>"
      ]
     },
     "metadata": {
      "needs_background": "light"
     },
     "output_type": "display_data"
    }
   ],
   "source": [
    "# Ignore the garbage row, copy the data\n",
    "new = data[[AUDIENCE_RATING, CRITICS_SCORE]].copy()\n",
    "new = new[1:]\n",
    "new[CRITICS_SCORE] = new[CRITICS_SCORE].astype(int)\n",
    "piv = new.pivot(columns=AUDIENCE_RATING, values=CRITICS_SCORE)\n",
    "piv.plot.density(figsize=(7, 7), linewidth=2)\n"
   ]
  },
  {
   "cell_type": "markdown",
   "metadata": {},
   "source": [
    "- Stacked bar chart to display the proportion of wins/nominations for the 5 `BEST*` variables"
   ]
  },
  {
   "cell_type": "code",
   "execution_count": 168,
   "metadata": {
    "pycharm": {
     "name": "#%%\n"
    }
   },
   "outputs": [],
   "source": [
    "cols_to_consider = [BEST_ACTOR_WIN, BEST_PIC_WIN, BEST_ACTRESS_WIN, BEST_DIRECTOR_WIN, BEST_PIC_NOM]\n",
    "n = data[cols_to_consider].copy()\n",
    "n = n[1:]\n",
    "d = n.value_counts()\n",
    "# new = pd.DataFrame({'yes', 'no'}, index=cols_to_consider)\n",
    "# new.plot.bar(stacked=True)\n",
    "\n",
    "# new = pd.DataFrame(\n",
    "#     {\n",
    "#         'yes': d['yes'],\n",
    "#         'no': d['no'],\n",
    "#     }, index=cols_to_consider\n",
    "# )\n",
    "# new.plot.bar(stacked=True)"
   ]
  },
  {
   "cell_type": "markdown",
   "metadata": {},
   "source": [
    "- Scatterplot of `IMDB_RATING` vs `AUDIENCE_SCORE`"
   ]
  },
  {
   "cell_type": "code",
   "execution_count": 169,
   "metadata": {
    "pycharm": {
     "name": "#%%\n"
    }
   },
   "outputs": [
    {
     "data": {
      "text/plain": [
       "<AxesSubplot:xlabel='IMDB Rating', ylabel='RT Audience Score'>"
      ]
     },
     "execution_count": 169,
     "metadata": {},
     "output_type": "execute_result"
    },
    {
     "data": {
      "image/png": "[encoded data removed]",
      "text/plain": [
       "<Figure size 432x288 with 1 Axes>"
      ]
     },
     "metadata": {
      "needs_background": "light"
     },
     "output_type": "display_data"
    }
   ],
   "source": [
    "# Ignore the garbage row, copy the data\n",
    "new = data[[IMDB_RATING, AUDIENCE_SCORE]].copy()\n",
    "new = new[1:]\n",
    "new = new.astype(float)\n",
    "\n",
    "new.plot.scatter(x=IMDB_RATING, y=AUDIENCE_SCORE, style=['o', 'rx'])"
   ]
  },
  {
   "cell_type": "markdown",
   "metadata": {},
   "source": [
    "- Small multiples (faceted) scatterplot of `IMDB_RATING` vs `AUDIENCE_SCORE` for each `MPAA_RATING`"
   ]
  },
  {
   "cell_type": "code",
   "execution_count": 170,
   "metadata": {
    "pycharm": {
     "name": "#%%\n"
    }
   },
   "outputs": [
    {
     "data": {
      "image/png": "[encoded data removed]",
      "text/plain": [
       "<Figure size 1372.38x216 with 6 Axes>"
      ]
     },
     "metadata": {
      "needs_background": "light"
     },
     "output_type": "display_data"
    }
   ],
   "source": [
    "import seaborn\n",
    "from matplotlib import pyplot\n",
    "new = data[[IMDB_RATING, AUDIENCE_SCORE, MPAA_RATING]].copy()\n",
    "new = new[1:]\n",
    "\n",
    "g = seaborn.FacetGrid(new, col=MPAA_RATING, hue=MPAA_RATING)\n",
    "g.map(seaborn.scatterplot, IMDB_RATING, AUDIENCE_SCORE)\n",
    "g.add_legend()\n",
    "pyplot.show()"
   ]
  },
  {
   "cell_type": "markdown",
   "metadata": {},
   "source": [
    "- Small multiples (faceted) scatterplot of `IMDB_RATING` vs `AUDIENCE_SCORE` for each `MPAA_RATING` colored with the top 3 genres"
   ]
  },
  {
   "cell_type": "code",
   "execution_count": 171,
   "metadata": {
    "pycharm": {
     "name": "#%%\n"
    }
   },
   "outputs": [
    {
     "data": {
      "image/png": "[encoded data removed]",
      "text/plain": [
       "<Figure size 1429.25x216 with 6 Axes>"
      ]
     },
     "metadata": {
      "needs_background": "light"
     },
     "output_type": "display_data"
    }
   ],
   "source": [
    "import seaborn\n",
    "from matplotlib import pyplot\n",
    "new = data[[IMDB_RATING, AUDIENCE_SCORE, MPAA_RATING, GENRE]].copy()\n",
    "new = new[1:]\n",
    "\n",
    "# Get the top 3 genres\n",
    "top_3 = new[GENRE].value_counts()[:3]\n",
    "\n",
    "# Loop through all records, if genre is not in top 3 then set to other\n",
    "for i, row, in new.iterrows():\n",
    "    if row[GENRE] not in top_3:\n",
    "        row[GENRE] = \"Other\"\n",
    "\n",
    "g = seaborn.FacetGrid(new, col=MPAA_RATING, hue=GENRE)\n",
    "g.map(seaborn.scatterplot, IMDB_RATING, AUDIENCE_SCORE)\n",
    "g.add_legend()\n",
    "pyplot.show()"
   ]
  }
 ],
 "metadata": {
  "kernelspec": {
   "display_name": "Python 3 (ipykernel)",
   "language": "python",
   "name": "python3"
  },
  "language_info": {
   "codemirror_mode": {
    "name": "ipython",
    "version": 3
   },
   "file_extension": ".py",
   "mimetype": "text/x-python",
   "name": "python",
   "nbconvert_exporter": "python",
   "pygments_lexer": "ipython3",
   "version": "3.10.0"
  }
 },
 "nbformat": 4,
 "nbformat_minor": 1
}
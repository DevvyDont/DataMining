{
 "cells": [
  {
   "cell_type": "markdown",
   "metadata": {
    "collapsed": true,
    "pycharm": {
     "name": "#%% md\n"
    }
   },
   "source": [
    "# Assignment - A1\n",
    "## Due: 2/7 @ 11:59pm\n",
    "## Tyler Birnie, Devin Hall"
   ]
  },
  {
   "cell_type": "markdown",
   "metadata": {},
   "source": [
    "Some pre-requisites we will need for the project"
   ]
  },
  {
   "cell_type": "code",
   "execution_count": 112,
   "metadata": {
    "pycharm": {
     "name": "#%%\n"
    }
   },
   "outputs": [],
   "source": [
    "import pandas\n",
    "import numpy"
   ]
  },
  {
   "cell_type": "markdown",
   "metadata": {},
   "source": [
    "## (Question 1) Data Preprocessing Function Definitions"
   ]
  },
  {
   "cell_type": "code",
   "execution_count": 113,
   "outputs": [],
   "source": [
    "def minmaxNorm(trData, teData, minV, maxV):\n",
    "\n",
    "    return # new data frame but normalized between minv and maxv\n",
    "\n",
    "def zscoreNorm(trData, teData, madFlag):\n",
    "    return # new data frame but normalized using zscore"
   ],
   "metadata": {
    "collapsed": false,
    "pycharm": {
     "name": "#%%\n"
    }
   }
  },
  {
   "cell_type": "markdown",
   "metadata": {},
   "source": [
    "## (Question 2) Data Preprocessing Reporting"
   ]
  },
  {
   "cell_type": "markdown",
   "source": [
    "### (a) Using Our Functions"
   ],
   "metadata": {
    "collapsed": false
   }
  },
  {
   "cell_type": "code",
   "execution_count": 114,
   "metadata": {
    "pycharm": {
     "name": "#%%\n"
    }
   },
   "outputs": [],
   "source": [
    "DATA = [20, 37, 40, 60, 85, 120]  # Define the data we are going to use\n",
    "\n",
    "# Using our functions from Q1"
   ]
  },
  {
   "cell_type": "code",
   "execution_count": 115,
   "outputs": [],
   "source": [
    "minmaxNorm(DATA, None, minV=0, maxV=1)"
   ],
   "metadata": {
    "collapsed": false,
    "pycharm": {
     "name": "#%%\n"
    }
   }
  },
  {
   "cell_type": "code",
   "execution_count": 116,
   "outputs": [],
   "source": [
    "minmaxNorm(DATA, None, minV=-1, maxV=1)"
   ],
   "metadata": {
    "collapsed": false,
    "pycharm": {
     "name": "#%%\n"
    }
   }
  },
  {
   "cell_type": "code",
   "execution_count": 117,
   "outputs": [],
   "source": [
    "zscoreNorm(DATA, None, False)"
   ],
   "metadata": {
    "collapsed": false,
    "pycharm": {
     "name": "#%%\n"
    }
   }
  },
  {
   "cell_type": "markdown",
   "metadata": {},
   "source": [
    "### (b) Using built-ins"
   ]
  },
  {
   "cell_type": "code",
   "execution_count": 118,
   "metadata": {
    "pycharm": {
     "name": "#%%\n"
    }
   },
   "outputs": [
    {
     "name": "stdout",
     "output_type": "stream",
     "text": [
      "this line of code should print in the built in version of min-max normalization with min=0 and max=1\n"
     ]
    }
   ],
   "source": [
    "print('this line of code should print in the built in version of min-max normalization with min=0 and max=1')"
   ]
  },
  {
   "cell_type": "code",
   "execution_count": 119,
   "outputs": [
    {
     "name": "stdout",
     "output_type": "stream",
     "text": [
      "this line of code should print in the built in version of min-max normalization with min=-1 and max=1\n"
     ]
    }
   ],
   "source": [
    "print('this line of code should print in the built in version of min-max normalization with min=-1 and max=1')"
   ],
   "metadata": {
    "collapsed": false,
    "pycharm": {
     "name": "#%%\n"
    }
   }
  },
  {
   "cell_type": "code",
   "execution_count": 120,
   "outputs": [
    {
     "name": "stdout",
     "output_type": "stream",
     "text": [
      "this line of code should print in the built in version of z-score normalization\n"
     ]
    }
   ],
   "source": [
    "print('this line of code should print in the built in version of z-score normalization')"
   ],
   "metadata": {
    "collapsed": false,
    "pycharm": {
     "name": "#%%\n"
    }
   }
  },
  {
   "cell_type": "markdown",
   "metadata": {},
   "source": [
    "## (Question 3) Example Training Data"
   ]
  },
  {
   "cell_type": "code",
   "execution_count": 121,
   "metadata": {
    "pycharm": {
     "name": "#%%\n"
    }
   },
   "outputs": [],
   "source": [
    "# Define the training data we are going to use\n",
    "Q3_TRAINING_DATA = [\n",
    "    [1.4, 1.3, 2.9],\n",
    "    [1.8, 1.1, 3.2],\n",
    "    [1.3, 1.2, 2.9],\n",
    "    [0.9, 3.3, 3.1],\n",
    "    [1.5, 2.1, 3.3]\n",
    "]\n",
    "\n",
    "NEW_POINT = [1.25, 1.74, 3.01]"
   ]
  },
  {
   "cell_type": "markdown",
   "source": [
    "### (a) Calculate distances"
   ],
   "metadata": {
    "collapsed": false
   }
  },
  {
   "cell_type": "code",
   "execution_count": 122,
   "metadata": {
    "pycharm": {
     "name": "#%%\n"
    }
   },
   "outputs": [
    {
     "name": "stdout",
     "output_type": "stream",
     "text": [
      "this line should print the distance between new data point and every other point using manhattan distance\n"
     ]
    }
   ],
   "source": [
    "print(\"this line should print the distance between new data point and every other point using manhattan distance\")"
   ]
  },
  {
   "cell_type": "code",
   "execution_count": 123,
   "outputs": [
    {
     "name": "stdout",
     "output_type": "stream",
     "text": [
      "this line should print the distance between new data point and every other point using euclidean distance\n"
     ]
    }
   ],
   "source": [
    "print(\"this line should print the distance between new data point and every other point using euclidean distance\")"
   ],
   "metadata": {
    "collapsed": false,
    "pycharm": {
     "name": "#%%\n"
    }
   }
  },
  {
   "cell_type": "code",
   "execution_count": 124,
   "outputs": [
    {
     "name": "stdout",
     "output_type": "stream",
     "text": [
      "this line should print the distance between new data point and every other point using minkowski distance (lambda=3)\n"
     ]
    }
   ],
   "source": [
    "print(\"this line should print the distance between new data point and every other point using minkowski distance (lambda=3)\")"
   ],
   "metadata": {
    "collapsed": false,
    "pycharm": {
     "name": "#%%\n"
    }
   }
  },
  {
   "cell_type": "code",
   "execution_count": 125,
   "outputs": [
    {
     "name": "stdout",
     "output_type": "stream",
     "text": [
      "this line should print the distance between new data point and every other point using supremum distance\n"
     ]
    }
   ],
   "source": [
    "print(\"this line should print the distance between new data point and every other point using supremum distance\")"
   ],
   "metadata": {
    "collapsed": false,
    "pycharm": {
     "name": "#%%\n"
    }
   }
  },
  {
   "cell_type": "code",
   "execution_count": 126,
   "outputs": [
    {
     "name": "stdout",
     "output_type": "stream",
     "text": [
      "this line should print the distance between new data point and every other point using cosine similarity\n"
     ]
    }
   ],
   "source": [
    "print(\"this line should print the distance between new data point and every other point using cosine similarity\")"
   ],
   "metadata": {
    "collapsed": false,
    "pycharm": {
     "name": "#%%\n"
    }
   }
  },
  {
   "cell_type": "markdown",
   "source": [
    "### (b) Normalize and use Euclidean distance"
   ],
   "metadata": {
    "collapsed": false
   }
  },
  {
   "cell_type": "code",
   "execution_count": 127,
   "outputs": [
    {
     "name": "stdout",
     "output_type": "stream",
     "text": [
      "this line should print the distance between new data point and every other point using euclidean distance with the data being normalized from 0 to 1, present using array of distances\n"
     ]
    }
   ],
   "source": [
    "print(\"this line should print the distance between new data point and every other point using euclidean distance with the data being normalized from 0 to 1, present using array of distances\")"
   ],
   "metadata": {
    "collapsed": false,
    "pycharm": {
     "name": "#%%\n"
    }
   }
  },
  {
   "cell_type": "markdown",
   "metadata": {},
   "source": [
    "## (Question 4) Movie Data"
   ]
  },
  {
   "cell_type": "code",
   "execution_count": 128,
   "metadata": {
    "pycharm": {
     "name": "#%%\n"
    }
   },
   "outputs": [
    {
     "name": "stdout",
     "output_type": "stream",
     "text": [
      "The movie data: \n"
     ]
    },
    {
     "data": {
      "text/plain": "                           Title          Type               Genre  \\\n0                          title    title_type               genre   \n1                    Filly Brown  Feature Film               Drama   \n2                       The Dish  Feature Film               Drama   \n3            Waiting for Guffman  Feature Film              Comedy   \n4           The Age of Innocence  Feature Film               Drama   \n..                           ...           ...                 ...   \n642           Death Defying Acts  Feature Film               Drama   \n643                   Half Baked  Feature Film              Comedy   \n644            Dance of the Dead  Feature Film  Action & Adventure   \n645  Around the World in 80 Days  Feature Film  Action & Adventure   \n646                          LOL  Feature Film              Comedy   \n\n    Runtime (min)       Rating                    Studio Year Premiered  \\\n0         runtime  mpaa_rating                    studio  thtr_rel_year   \n1              80            R       Indomina Media Inc.           2013   \n2             101        PG-13     Warner Bros. Pictures           2001   \n3              84            R    Sony Pictures Classics           1996   \n4             139           PG         Columbia Pictures           1993   \n..            ...          ...                       ...            ...   \n642            97           PG        Genius Productions           2008   \n643            82            R        Universal Pictures           1998   \n644            87            R  Grindhouse Entertainment           2008   \n645           120           PG      Buena Vista Pictures           2004   \n646            97        PG-13           Lionsgate Films           2012   \n\n    Month Premiered Day Premiered Year Released  ...  \\\n0    thtr_rel_month  thtr_rel_day  dvd_rel_year  ...   \n1                 4            19          2013  ...   \n2                 3            14          2001  ...   \n3                 8            21          2001  ...   \n4                10             1          2001  ...   \n..              ...           ...           ...  ...   \n642               7            11          2008  ...   \n643               1            16          1998  ...   \n644               3             9          2008  ...   \n645               6            16          2004  ...   \n646               5             4          2012  ...   \n\n    Director ever won an Oscar?    Top 200?        Directed By  \\\n0                  best_dir_win  top200_box           director   \n1                            no          no   Michael D. Olmos   \n2                            no          no          Rob Sitch   \n3                            no          no  Christopher Guest   \n4                           yes          no    Martin Scorsese   \n..                          ...         ...                ...   \n642                          no          no  Gillian Armstrong   \n643                          no          no        Tamra Davis   \n644                          no          no       Gregg Bishop   \n645                          no         yes       Frank Coraci   \n646                          no          no       Liza Azuelos   \n\n           First Actor          Second Actor           Third Actor  \\\n0               actor1                actor2                actor3   \n1       Gina Rodriguez          Jenni Rivera  Lou Diamond Phillips   \n2            Sam Neill      Kevin Harrington     Patrick Warburton   \n3    Christopher Guest      Catherine O'Hara          Parker Posey   \n4     Daniel Day-Lewis     Michelle Pfeiffer          Winona Ryder   \n..                 ...                   ...                   ...   \n642         Guy Pearce  Catherine Zeta-Jones         Timothy Spall   \n643     Dave Chappelle        Guillermo Diaz            Jim Breuer   \n644      Jared Kusnitz      Greyson Chadwick        Chandler Darby   \n645        Jackie Chan          Steve Coogan          Ewen Bremner   \n646        Miley Cyrus            Demi Moore         Ashley Greene   \n\n           Fourth Actor          Fifth Actor  \\\n0                actor4               actor5   \n1         Emilio Rivera  Joseph Julian Soria   \n2              Tom Long       Genevieve Mooy   \n3           Eugene Levy          Bob Balaban   \n4      Richard E. Grant         Alec McCowen   \n..                  ...                  ...   \n642       Saoirse Ronan          Jack Bailey   \n643    Harland Williams          Rachel True   \n644  Carissa Capobianco       Randy McDowell   \n645         Robert Fyfe          Ian McNeice   \n646       Douglas Booth       Adam G. Sevani   \n\n                                IMDB Link  \\\n0                                imdb_url   \n1    http://www.imdb.com/title/tt1869425/   \n2    http://www.imdb.com/title/tt0205873/   \n3    http://www.imdb.com/title/tt0118111/   \n4    http://www.imdb.com/title/tt0106226/   \n..                                    ...   \n642  http://www.imdb.com/title/tt0472071/   \n643  http://www.imdb.com/title/tt0120693/   \n644  http://www.imdb.com/title/tt0926063/   \n645  http://www.imdb.com/title/tt0327437/   \n646  http://www.imdb.com/title/tt1592873/   \n\n                                  Rotten Tomatoes Link  \n0                                               rt_url  \n1         //www.rottentomatoes.com/m/filly_brown_2012/  \n2                     //www.rottentomatoes.com/m/dish/  \n3      //www.rottentomatoes.com/m/waiting_for_guffman/  \n4         //www.rottentomatoes.com/m/age_of_innocence/  \n..                                                 ...  \n642     //www.rottentomatoes.com/m/death_defying_acts/  \n643             //www.rottentomatoes.com/m/half_baked/  \n644  //www.rottentomatoes.com/m/1203339-dance_of_th...  \n645  //www.rottentomatoes.com/m/around_the_world_in...  \n646               //www.rottentomatoes.com/m/lol_2011/  \n\n[647 rows x 32 columns]",
      "text/html": "<div>\n<style scoped>\n    .dataframe tbody tr th:only-of-type {\n        vertical-align: middle;\n    }\n\n    .dataframe tbody tr th {\n        vertical-align: top;\n    }\n\n    .dataframe thead th {\n        text-align: right;\n    }\n</style>\n<table border=\"1\" class=\"dataframe\">\n  <thead>\n    <tr style=\"text-align: right;\">\n      <th></th>\n      <th>Title</th>\n      <th>Type</th>\n      <th>Genre</th>\n      <th>Runtime (min)</th>\n      <th>Rating</th>\n      <th>Studio</th>\n      <th>Year Premiered</th>\n      <th>Month Premiered</th>\n      <th>Day Premiered</th>\n      <th>Year Released</th>\n      <th>...</th>\n      <th>Director ever won an Oscar?</th>\n      <th>Top 200?</th>\n      <th>Directed By</th>\n      <th>First Actor</th>\n      <th>Second Actor</th>\n      <th>Third Actor</th>\n      <th>Fourth Actor</th>\n      <th>Fifth Actor</th>\n      <th>IMDB Link</th>\n      <th>Rotten Tomatoes Link</th>\n    </tr>\n  </thead>\n  <tbody>\n    <tr>\n      <th>0</th>\n      <td>title</td>\n      <td>title_type</td>\n      <td>genre</td>\n      <td>runtime</td>\n      <td>mpaa_rating</td>\n      <td>studio</td>\n      <td>thtr_rel_year</td>\n      <td>thtr_rel_month</td>\n      <td>thtr_rel_day</td>\n      <td>dvd_rel_year</td>\n      <td>...</td>\n      <td>best_dir_win</td>\n      <td>top200_box</td>\n      <td>director</td>\n      <td>actor1</td>\n      <td>actor2</td>\n      <td>actor3</td>\n      <td>actor4</td>\n      <td>actor5</td>\n      <td>imdb_url</td>\n      <td>rt_url</td>\n    </tr>\n    <tr>\n      <th>1</th>\n      <td>Filly Brown</td>\n      <td>Feature Film</td>\n      <td>Drama</td>\n      <td>80</td>\n      <td>R</td>\n      <td>Indomina Media Inc.</td>\n      <td>2013</td>\n      <td>4</td>\n      <td>19</td>\n      <td>2013</td>\n      <td>...</td>\n      <td>no</td>\n      <td>no</td>\n      <td>Michael D. Olmos</td>\n      <td>Gina Rodriguez</td>\n      <td>Jenni Rivera</td>\n      <td>Lou Diamond Phillips</td>\n      <td>Emilio Rivera</td>\n      <td>Joseph Julian Soria</td>\n      <td>http://www.imdb.com/title/tt1869425/</td>\n      <td>//www.rottentomatoes.com/m/filly_brown_2012/</td>\n    </tr>\n    <tr>\n      <th>2</th>\n      <td>The Dish</td>\n      <td>Feature Film</td>\n      <td>Drama</td>\n      <td>101</td>\n      <td>PG-13</td>\n      <td>Warner Bros. Pictures</td>\n      <td>2001</td>\n      <td>3</td>\n      <td>14</td>\n      <td>2001</td>\n      <td>...</td>\n      <td>no</td>\n      <td>no</td>\n      <td>Rob Sitch</td>\n      <td>Sam Neill</td>\n      <td>Kevin Harrington</td>\n      <td>Patrick Warburton</td>\n      <td>Tom Long</td>\n      <td>Genevieve Mooy</td>\n      <td>http://www.imdb.com/title/tt0205873/</td>\n      <td>//www.rottentomatoes.com/m/dish/</td>\n    </tr>\n    <tr>\n      <th>3</th>\n      <td>Waiting for Guffman</td>\n      <td>Feature Film</td>\n      <td>Comedy</td>\n      <td>84</td>\n      <td>R</td>\n      <td>Sony Pictures Classics</td>\n      <td>1996</td>\n      <td>8</td>\n      <td>21</td>\n      <td>2001</td>\n      <td>...</td>\n      <td>no</td>\n      <td>no</td>\n      <td>Christopher Guest</td>\n      <td>Christopher Guest</td>\n      <td>Catherine O'Hara</td>\n      <td>Parker Posey</td>\n      <td>Eugene Levy</td>\n      <td>Bob Balaban</td>\n      <td>http://www.imdb.com/title/tt0118111/</td>\n      <td>//www.rottentomatoes.com/m/waiting_for_guffman/</td>\n    </tr>\n    <tr>\n      <th>4</th>\n      <td>The Age of Innocence</td>\n      <td>Feature Film</td>\n      <td>Drama</td>\n      <td>139</td>\n      <td>PG</td>\n      <td>Columbia Pictures</td>\n      <td>1993</td>\n      <td>10</td>\n      <td>1</td>\n      <td>2001</td>\n      <td>...</td>\n      <td>yes</td>\n      <td>no</td>\n      <td>Martin Scorsese</td>\n      <td>Daniel Day-Lewis</td>\n      <td>Michelle Pfeiffer</td>\n      <td>Winona Ryder</td>\n      <td>Richard E. Grant</td>\n      <td>Alec McCowen</td>\n      <td>http://www.imdb.com/title/tt0106226/</td>\n      <td>//www.rottentomatoes.com/m/age_of_innocence/</td>\n    </tr>\n    <tr>\n      <th>...</th>\n      <td>...</td>\n      <td>...</td>\n      <td>...</td>\n      <td>...</td>\n      <td>...</td>\n      <td>...</td>\n      <td>...</td>\n      <td>...</td>\n      <td>...</td>\n      <td>...</td>\n      <td>...</td>\n      <td>...</td>\n      <td>...</td>\n      <td>...</td>\n      <td>...</td>\n      <td>...</td>\n      <td>...</td>\n      <td>...</td>\n      <td>...</td>\n      <td>...</td>\n      <td>...</td>\n    </tr>\n    <tr>\n      <th>642</th>\n      <td>Death Defying Acts</td>\n      <td>Feature Film</td>\n      <td>Drama</td>\n      <td>97</td>\n      <td>PG</td>\n      <td>Genius Productions</td>\n      <td>2008</td>\n      <td>7</td>\n      <td>11</td>\n      <td>2008</td>\n      <td>...</td>\n      <td>no</td>\n      <td>no</td>\n      <td>Gillian Armstrong</td>\n      <td>Guy Pearce</td>\n      <td>Catherine Zeta-Jones</td>\n      <td>Timothy Spall</td>\n      <td>Saoirse Ronan</td>\n      <td>Jack Bailey</td>\n      <td>http://www.imdb.com/title/tt0472071/</td>\n      <td>//www.rottentomatoes.com/m/death_defying_acts/</td>\n    </tr>\n    <tr>\n      <th>643</th>\n      <td>Half Baked</td>\n      <td>Feature Film</td>\n      <td>Comedy</td>\n      <td>82</td>\n      <td>R</td>\n      <td>Universal Pictures</td>\n      <td>1998</td>\n      <td>1</td>\n      <td>16</td>\n      <td>1998</td>\n      <td>...</td>\n      <td>no</td>\n      <td>no</td>\n      <td>Tamra Davis</td>\n      <td>Dave Chappelle</td>\n      <td>Guillermo Diaz</td>\n      <td>Jim Breuer</td>\n      <td>Harland Williams</td>\n      <td>Rachel True</td>\n      <td>http://www.imdb.com/title/tt0120693/</td>\n      <td>//www.rottentomatoes.com/m/half_baked/</td>\n    </tr>\n    <tr>\n      <th>644</th>\n      <td>Dance of the Dead</td>\n      <td>Feature Film</td>\n      <td>Action &amp; Adventure</td>\n      <td>87</td>\n      <td>R</td>\n      <td>Grindhouse Entertainment</td>\n      <td>2008</td>\n      <td>3</td>\n      <td>9</td>\n      <td>2008</td>\n      <td>...</td>\n      <td>no</td>\n      <td>no</td>\n      <td>Gregg Bishop</td>\n      <td>Jared Kusnitz</td>\n      <td>Greyson Chadwick</td>\n      <td>Chandler Darby</td>\n      <td>Carissa Capobianco</td>\n      <td>Randy McDowell</td>\n      <td>http://www.imdb.com/title/tt0926063/</td>\n      <td>//www.rottentomatoes.com/m/1203339-dance_of_th...</td>\n    </tr>\n    <tr>\n      <th>645</th>\n      <td>Around the World in 80 Days</td>\n      <td>Feature Film</td>\n      <td>Action &amp; Adventure</td>\n      <td>120</td>\n      <td>PG</td>\n      <td>Buena Vista Pictures</td>\n      <td>2004</td>\n      <td>6</td>\n      <td>16</td>\n      <td>2004</td>\n      <td>...</td>\n      <td>no</td>\n      <td>yes</td>\n      <td>Frank Coraci</td>\n      <td>Jackie Chan</td>\n      <td>Steve Coogan</td>\n      <td>Ewen Bremner</td>\n      <td>Robert Fyfe</td>\n      <td>Ian McNeice</td>\n      <td>http://www.imdb.com/title/tt0327437/</td>\n      <td>//www.rottentomatoes.com/m/around_the_world_in...</td>\n    </tr>\n    <tr>\n      <th>646</th>\n      <td>LOL</td>\n      <td>Feature Film</td>\n      <td>Comedy</td>\n      <td>97</td>\n      <td>PG-13</td>\n      <td>Lionsgate Films</td>\n      <td>2012</td>\n      <td>5</td>\n      <td>4</td>\n      <td>2012</td>\n      <td>...</td>\n      <td>no</td>\n      <td>no</td>\n      <td>Liza Azuelos</td>\n      <td>Miley Cyrus</td>\n      <td>Demi Moore</td>\n      <td>Ashley Greene</td>\n      <td>Douglas Booth</td>\n      <td>Adam G. Sevani</td>\n      <td>http://www.imdb.com/title/tt1592873/</td>\n      <td>//www.rottentomatoes.com/m/lol_2011/</td>\n    </tr>\n  </tbody>\n</table>\n<p>647 rows × 32 columns</p>\n</div>"
     },
     "execution_count": 128,
     "metadata": {},
     "output_type": "execute_result"
    }
   ],
   "source": [
    "# Load the iris data from the website\n",
    "MOVIE_DATA = 'movies.csv'\n",
    "\n",
    "# Constant definitions for the movie columns\n",
    "TITLE = 'Title'  # The title of the movie\n",
    "TITLE_TYPE = 'Type'  # The type of movie, can be (Documentary, Feature Film)\n",
    "GENRE = 'Genre'  # The genre of movie, can be (Action & Adventure, Comedy, Documentary, Drama, Horror, Mystery & Suspense, and others)\n",
    "RUNTIME = 'Runtime (min)'  # The runtime of the movie in minutes\n",
    "MPAA_RATING = 'Rating'  # The rating of the movie (G, PG, PG-13, R, Unrated)\n",
    "STUDIO = 'Studio'  # The studio that produced the movie\n",
    "THTR_REL_YEAR = 'Year Premiered'  # The year that the movie released in theaters\n",
    "THTR_REL_MONTH = 'Month Premiered'  # The month that the movie released in theaters\n",
    "THTR_REL_DAY = 'Day Premiered'  # The day that the movie released in theaters\n",
    "DVD_REL_YEAR = 'Year Released'  # The year that the movie released in dvd\n",
    "DVD_REL_MONTH = 'Month Released'  # The month that the movie released in dvd\n",
    "DVD_REL_DAY = 'Day Released'  # The day that the movie released in dvd\n",
    "IMDB_RATING = 'IMDB Rating'  # The rating on IMDB\n",
    "IMDB_NUM_VOTES = 'IMDB Votes'  # The number of votes on IMDB\n",
    "CRITICS_RATING = 'RT Critics Rating'  # The Rotten Tomatoes rating can be (Certified Fresh, Fresh, Rotten)\n",
    "CRITICS_SCORE = 'RT Critics Score'  # The Rotten Tomatoes rating score from the critics\n",
    "AUDIENCE_RATING = 'RT Audience Rating'  # The Rotten Tomatoes rating can be (Spilled, Upright)\n",
    "AUDIENCE_SCORE = 'RT Audience Score'  # The Rotten Tomatoes rating score from the audience\n",
    "BEST_PIC_NOM = 'Nominated for Best Picture Oscar?'  # Whether or not the movie was nominated for a Best Picture Oscar can be (yes, no)\n",
    "BEST_PIC_WIN = 'Won Best Picture Oscar?'  # Whether or not the movie was a winner for a Best Picture Oscar can be (yes, no)\n",
    "BEST_ACTOR_WIN = 'Main Actor ever won an Oscar?'  # Whether or not any of the main actors in the movie ever won an oscar in their career (yes, no)\n",
    "BEST_ACTRESS_WIN = 'Main Actress ever won an Oscar?'  # Whether or not any of the main actresses in the movie ever won an oscar in their career (yes, no)\n",
    "BEST_DIRECTOR_WIN = 'Director ever won an Oscar?'  # Whether or not any of the director of the movie ever won an oscar in their career (yes, no)\n",
    "TOP_200_BOX = 'Top 200?'  # Whether or not the movie was in the top 200 box office list (yes, no)\n",
    "DIRECTOR = 'Directed By'  # The director of the movie\n",
    "ACTOR_1 = \"First Actor\"  # The first main actor/actress of the movie\n",
    "ACTOR_2 = \"Second Actor\"  # The second main actor/actress of the movie\n",
    "ACTOR_3 = \"Third Actor\"  # The third main actor/actress of the movie\n",
    "ACTOR_4 = \"Fourth Actor\"  # The fourth main actor/actress of the movie\n",
    "ACTOR_5 = \"Fifth Actor\"  # The fifth main actor/actress of the movie\n",
    "IMDB_URL = \"IMDB Link\"  # The imdb link to the page for the movie on imdb\n",
    "RT_URL = 'Rotten Tomatoes Link'  # The rotten tomatoes link for the page for the movie on rotten tomatoes\n",
    "\n",
    "MOVIE_ATTRIBUTE_COLUMNS = [\n",
    "    TITLE,\n",
    "    TITLE_TYPE,\n",
    "    GENRE,\n",
    "    RUNTIME,\n",
    "    MPAA_RATING,\n",
    "    STUDIO,\n",
    "    THTR_REL_YEAR,\n",
    "    THTR_REL_MONTH,\n",
    "    THTR_REL_DAY,\n",
    "    DVD_REL_YEAR,\n",
    "    DVD_REL_MONTH,\n",
    "    DVD_REL_DAY,\n",
    "    IMDB_RATING,\n",
    "    IMDB_NUM_VOTES,\n",
    "    CRITICS_RATING,\n",
    "    CRITICS_SCORE,\n",
    "    AUDIENCE_RATING,\n",
    "    AUDIENCE_SCORE,\n",
    "    BEST_PIC_NOM,\n",
    "    BEST_PIC_WIN,\n",
    "    BEST_ACTOR_WIN,\n",
    "    BEST_ACTRESS_WIN,\n",
    "    BEST_DIRECTOR_WIN,\n",
    "    TOP_200_BOX,\n",
    "    DIRECTOR,\n",
    "    ACTOR_1,\n",
    "    ACTOR_2,\n",
    "    ACTOR_3,\n",
    "    ACTOR_4,\n",
    "    ACTOR_5,\n",
    "    IMDB_URL,\n",
    "    RT_URL\n",
    "]\n",
    "\n",
    "# Read it using pandas\n",
    "data = pandas.read_csv(MOVIE_DATA, names=MOVIE_ATTRIBUTE_COLUMNS)\n",
    "\n",
    "# The code below can be removed, just test\n",
    "print(\"The movie data: \")\n",
    "data.head(n=len(data))"
   ]
  },
  {
   "cell_type": "markdown",
   "source": [
    "### (a) Any missing data? How are missing values encoded?\n",
    "- There is missing data in the movies data set. Missing data is denoted by `NA`"
   ],
   "metadata": {
    "collapsed": false
   }
  },
  {
   "cell_type": "code",
   "execution_count": 129,
   "outputs": [
    {
     "name": "stdout",
     "output_type": "stream",
     "text": [
      "this line should print a table that reports column name and the percent of missing data for a column\n"
     ]
    }
   ],
   "source": [
    "print('this line should print a table that reports column name and the percent of missing data for a column')"
   ],
   "metadata": {
    "collapsed": false,
    "pycharm": {
     "name": "#%%\n"
    }
   }
  },
  {
   "cell_type": "markdown",
   "source": [
    "### (b) Ignoring missing values in `STUDIO`, `DVD_REL_YEAR`, `DVD_REL_MONTH`, `DVD_REL_DAY`, and anything after `BEST_PIC_NOM`, remove the sample and report the amount of samples remaining"
   ],
   "metadata": {
    "collapsed": false
   }
  },
  {
   "cell_type": "code",
   "execution_count": 130,
   "outputs": [
    {
     "name": "stdout",
     "output_type": "stream",
     "text": [
      "this line should print the number of samples remaining after deleting records with missing attributes\n"
     ]
    }
   ],
   "source": [
    "print('this line should print the number of samples remaining after deleting records with missing attributes')"
   ],
   "metadata": {
    "collapsed": false,
    "pycharm": {
     "name": "#%%\n"
    }
   }
  },
  {
   "cell_type": "markdown",
   "source": [
    "### (c) Report all variable (column) types, if nominal or ordinal: size of their domain (possible values), if numeric: the min and max possible value for the following variables\n",
    "- `GENRE`\n",
    "- `RUNTIME`\n",
    "- `MPAA_RATING`\n",
    "- `STUDIO`\n",
    "- `THTR_REL_MONTH`\n",
    "- `IMDB_RATING`\n",
    "- `AUDIENCE_SCORE`\n",
    "- `BEST_PIC_WIN`"
   ],
   "metadata": {
    "collapsed": false
   }
  },
  {
   "cell_type": "markdown",
   "source": [
    "### (d) Summary Statistics\n",
    "- Report a five number summary in a table for `CRITICS_SCORE` and `RUNTIME`"
   ],
   "metadata": {
    "collapsed": false
   }
  },
  {
   "cell_type": "code",
   "execution_count": 131,
   "outputs": [
    {
     "name": "stdout",
     "output_type": "stream",
     "text": [
      "this line prints the five number summary from above\n"
     ]
    }
   ],
   "source": [
    "print('this line prints the five number summary from above')"
   ],
   "metadata": {
    "collapsed": false,
    "pycharm": {
     "name": "#%%\n"
    }
   }
  },
  {
   "cell_type": "markdown",
   "source": [
    "- Report the mean, median, and mode of `AUDIENCE_SCORE` and `IMDB_RATING`"
   ],
   "metadata": {
    "collapsed": false
   }
  },
  {
   "cell_type": "code",
   "execution_count": 132,
   "outputs": [
    {
     "name": "stdout",
     "output_type": "stream",
     "text": [
      "this line prints the mean, median, and mode of the variables above\n"
     ]
    }
   ],
   "source": [
    "print('this line prints the mean, median, and mode of the variables above')"
   ],
   "metadata": {
    "collapsed": false,
    "pycharm": {
     "name": "#%%\n"
    }
   }
  },
  {
   "cell_type": "markdown",
   "source": [
    "- Report the first quartile, 31st percentile, third quartile, and 90th  percentile for `AUDIENCE_SCORE` and `IMDB_RATING`"
   ],
   "metadata": {
    "collapsed": false
   }
  },
  {
   "cell_type": "code",
   "execution_count": 133,
   "outputs": [
    {
     "name": "stdout",
     "output_type": "stream",
     "text": [
      "this line prints the first quartile, 31st percentile, third quartile, and 90th  percentile for the above variables\n"
     ]
    }
   ],
   "source": [
    "print(\"this line prints the first quartile, 31st percentile, third quartile, and 90th  percentile for the above variables\")"
   ],
   "metadata": {
    "collapsed": false,
    "pycharm": {
     "name": "#%%\n"
    }
   }
  },
  {
   "cell_type": "markdown",
   "source": [
    "### (e) Visualizations\n",
    "- Vertical bar plot for genre, sorted in decreasing order"
   ],
   "metadata": {
    "collapsed": false
   }
  },
  {
   "cell_type": "code",
   "execution_count": 134,
   "outputs": [
    {
     "name": "stdout",
     "output_type": "stream",
     "text": [
      "this line should spit out a bar plot for genre sorted in decreasing order\n"
     ]
    }
   ],
   "source": [
    "print('this line should spit out a bar plot for genre sorted in decreasing order')"
   ],
   "metadata": {
    "collapsed": false,
    "pycharm": {
     "name": "#%%\n"
    }
   }
  },
  {
   "cell_type": "markdown",
   "source": [
    "As we can see, the top 5 genres are *our answer goes here*"
   ],
   "metadata": {
    "collapsed": false
   }
  },
  {
   "cell_type": "markdown",
   "source": [
    "- Horizontal bar plot for `MPAA_RATING`, sorted by `RATING`"
   ],
   "metadata": {
    "collapsed": false
   }
  },
  {
   "cell_type": "code",
   "execution_count": 135,
   "outputs": [
    {
     "name": "stdout",
     "output_type": "stream",
     "text": [
      "this line should spit out a bar plot for mpaa_rating sorted\n"
     ]
    }
   ],
   "source": [
    "print('this line should spit out a bar plot for mpaa_rating sorted')"
   ],
   "metadata": {
    "collapsed": false,
    "pycharm": {
     "name": "#%%\n"
    }
   }
  },
  {
   "cell_type": "markdown",
   "source": [
    "- Histogram of `AUDIENCE_SCORE`, select appropriate number of bins to visualize the distribution"
   ],
   "metadata": {
    "collapsed": false
   }
  },
  {
   "cell_type": "code",
   "execution_count": 136,
   "outputs": [
    {
     "name": "stdout",
     "output_type": "stream",
     "text": [
      "this line should spit out a histogram of audience score\n"
     ]
    }
   ],
   "source": [
    "print('this line should spit out a histogram of audience score')"
   ],
   "metadata": {
    "collapsed": false,
    "pycharm": {
     "name": "#%%\n"
    }
   }
  },
  {
   "cell_type": "markdown",
   "source": [
    "- Density plot of `RUNTIME`"
   ],
   "metadata": {
    "collapsed": false
   }
  },
  {
   "cell_type": "code",
   "execution_count": 137,
   "outputs": [
    {
     "name": "stdout",
     "output_type": "stream",
     "text": [
      "this line should spit out a density plot of runtime\n"
     ]
    }
   ],
   "source": [
    "print('this line should spit out a density plot of runtime')"
   ],
   "metadata": {
    "collapsed": false,
    "pycharm": {
     "name": "#%%\n"
    }
   }
  },
  {
   "cell_type": "markdown",
   "source": [
    "- Stacked bar plot to show the proportion of movies for `CRITICS_RATING`"
   ],
   "metadata": {
    "collapsed": false
   }
  },
  {
   "cell_type": "code",
   "execution_count": 138,
   "outputs": [
    {
     "name": "stdout",
     "output_type": "stream",
     "text": [
      "this line should spit out a stacked bar chart for critics rating\n"
     ]
    }
   ],
   "source": [
    "print('this line should spit out a stacked bar chart for critics rating')"
   ],
   "metadata": {
    "collapsed": false,
    "pycharm": {
     "name": "#%%\n"
    }
   }
  },
  {
   "cell_type": "markdown",
   "source": [
    "- Bar chart for `CRITICS_RATING`"
   ],
   "metadata": {
    "collapsed": false
   }
  },
  {
   "cell_type": "code",
   "execution_count": 139,
   "outputs": [
    {
     "name": "stdout",
     "output_type": "stream",
     "text": [
      "this line should spit out a bar chart for critics rating\n"
     ]
    }
   ],
   "source": [
    "print('this line should spit out a bar chart for critics rating')"
   ],
   "metadata": {
    "collapsed": false,
    "pycharm": {
     "name": "#%%\n"
    }
   }
  },
  {
   "cell_type": "markdown",
   "source": [
    "### (f) Multi-variable Visualization\n",
    "- Vertical grouped bar plot for `GENRE` with `AUDIENCE_RATING`, showing only top 5 genres"
   ],
   "metadata": {
    "collapsed": false
   }
  },
  {
   "cell_type": "code",
   "execution_count": 140,
   "outputs": [
    {
     "name": "stdout",
     "output_type": "stream",
     "text": [
      "this line should show the vertical grouped bar plot for GENRE with AUDIENCE_RATING, showing only top 5 genres\n"
     ]
    }
   ],
   "source": [
    "print('this line should show the vertical grouped bar plot for GENRE with AUDIENCE_RATING, showing only top 5 genres')"
   ],
   "metadata": {
    "collapsed": false,
    "pycharm": {
     "name": "#%%\n"
    }
   }
  },
  {
   "cell_type": "markdown",
   "source": [
    "- Box plot for `AUDIENCE_SCORE` grouped by `CRITICS_RATING`"
   ],
   "metadata": {
    "collapsed": false
   }
  },
  {
   "cell_type": "code",
   "execution_count": 141,
   "outputs": [
    {
     "name": "stdout",
     "output_type": "stream",
     "text": [
      "this line should show Box plot for AUDIENCE_SCORE grouped by CRITICS_RATING\n"
     ]
    }
   ],
   "source": [
    "print('this line should show Box plot for AUDIENCE_SCORE grouped by CRITICS_RATING')"
   ],
   "metadata": {
    "collapsed": false,
    "pycharm": {
     "name": "#%%\n"
    }
   }
  },
  {
   "cell_type": "markdown",
   "source": [
    "- Violin plot for `AUDIENCE_SCORE` grouped by `GENRE` showing only the top 5 genres"
   ],
   "metadata": {
    "collapsed": false
   }
  },
  {
   "cell_type": "code",
   "execution_count": 142,
   "outputs": [
    {
     "name": "stdout",
     "output_type": "stream",
     "text": [
      "this line should show Violin plot for AUDIENCE_SCORE grouped by GENRE showing only the top 5 genres\n"
     ]
    }
   ],
   "source": [
    "print('this line should show Violin plot for AUDIENCE_SCORE grouped by GENRE showing only the top 5 genres')"
   ],
   "metadata": {
    "collapsed": false,
    "pycharm": {
     "name": "#%%\n"
    }
   }
  },
  {
   "cell_type": "markdown",
   "source": [
    "- Overlapping density plot for `CRITICS_SCORE` grouped by `AUDIENCE_RATING`"
   ],
   "metadata": {
    "collapsed": false
   }
  },
  {
   "cell_type": "code",
   "execution_count": 143,
   "outputs": [
    {
     "name": "stdout",
     "output_type": "stream",
     "text": [
      "this line should show Overlapping density plot for CRITICS_SCORE grouped by AUDIENCE_RATING\n"
     ]
    }
   ],
   "source": [
    "print('this line should show Overlapping density plot for CRITICS_SCORE grouped by AUDIENCE_RATING')"
   ],
   "metadata": {
    "collapsed": false,
    "pycharm": {
     "name": "#%%\n"
    }
   }
  },
  {
   "cell_type": "markdown",
   "source": [
    "- Stacked bar chart to display the proportion of wins/nominations for the 5 `BEST*` variables"
   ],
   "metadata": {
    "collapsed": false
   }
  },
  {
   "cell_type": "code",
   "execution_count": 144,
   "outputs": [
    {
     "name": "stdout",
     "output_type": "stream",
     "text": [
      "this line should show the proportion of wins/nominatiors for the 5 best_x variables\n"
     ]
    }
   ],
   "source": [
    "print('this line should show the proportion of wins/nominatiors for the 5 best_x variables')"
   ],
   "metadata": {
    "collapsed": false,
    "pycharm": {
     "name": "#%%\n"
    }
   }
  },
  {
   "cell_type": "markdown",
   "source": [
    "- Scatterplot of `IMDB_RATING` vs `AUDIENCE_SCORE`"
   ],
   "metadata": {
    "collapsed": false
   }
  },
  {
   "cell_type": "code",
   "execution_count": 145,
   "outputs": [
    {
     "name": "stdout",
     "output_type": "stream",
     "text": [
      "this line should show the scatterplot of IMDB_RATING vs AUDIENCE_SCORE\n"
     ]
    }
   ],
   "source": [
    "print('this line should show the scatterplot of IMDB_RATING vs AUDIENCE_SCORE')"
   ],
   "metadata": {
    "collapsed": false,
    "pycharm": {
     "name": "#%%\n"
    }
   }
  },
  {
   "cell_type": "markdown",
   "source": [
    "- Small multiples (faceted) scatterplot of `IMDB_RATING` vs `AUDIENCE_SCORE` for each `MPAA_RATING`"
   ],
   "metadata": {
    "collapsed": false
   }
  },
  {
   "cell_type": "code",
   "execution_count": 146,
   "outputs": [
    {
     "name": "stdout",
     "output_type": "stream",
     "text": [
      "this line should spit out Small multiples (faceted) scatterplot of IMDB_RATING vs AUDIENCE_SCORE for each MPAA_RATING\n"
     ]
    }
   ],
   "source": [
    "print('this line should spit out Small multiples (faceted) scatterplot of IMDB_RATING vs AUDIENCE_SCORE for each MPAA_RATING')"
   ],
   "metadata": {
    "collapsed": false,
    "pycharm": {
     "name": "#%%\n"
    }
   }
  },
  {
   "cell_type": "markdown",
   "source": [
    "- Small multiples (faceted) scatterplot of `IMDB_RATING` vs `AUDIENCE_SCORE` for each `MPAA_RATING` colored with the top 3 genres"
   ],
   "metadata": {
    "collapsed": false
   }
  },
  {
   "cell_type": "code",
   "execution_count": 147,
   "outputs": [
    {
     "name": "stdout",
     "output_type": "stream",
     "text": [
      "this line should spit out Small multiples (faceted) scatterplot of IMDB_RATING vs AUDIENCE_SCORE for each MPAA_RATING colored with the top 3 genres\n"
     ]
    }
   ],
   "source": [
    "print('this line should spit out Small multiples (faceted) scatterplot of IMDB_RATING vs AUDIENCE_SCORE for each MPAA_RATING colored with the top 3 genres')"
   ],
   "metadata": {
    "collapsed": false,
    "pycharm": {
     "name": "#%%\n"
    }
   }
  }
 ],
 "metadata": {
  "kernelspec": {
   "display_name": "Python 3 (ipykernel)",
   "language": "python",
   "name": "python3"
  },
  "language_info": {
   "codemirror_mode": {
    "name": "ipython",
    "version": 3
   },
   "file_extension": ".py",
   "mimetype": "text/x-python",
   "name": "python",
   "nbconvert_exporter": "python",
   "pygments_lexer": "ipython3",
   "version": "3.10.0"
  }
 },
 "nbformat": 4,
 "nbformat_minor": 1
}
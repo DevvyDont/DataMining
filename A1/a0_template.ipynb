{
 "cells": [
  {
   "cell_type": "markdown",
   "metadata": {
    "collapsed": true,
    "pycharm": {
     "name": "#%% md\n"
    }
   },
   "source": [
    "# Assignment - A0\n",
    "## Due: 1/24 @ 11:59pm\n",
    "## Devin Hall\n",
    "\n",
    "*Assignment Objectives:*\n",
    "\n",
    "Upon **successful completion** of this assignment, a student will be able to:\n",
    "\n",
    "* Add new text and code to their assignment solutions\n",
    "\n",
    "* Gain experience in formatting text using *Markdown* or *LaTeX*\n",
    "\n",
    "* Install or access to programming software to copmlete this assignment and subsequent assignments.\n",
    "\n",
    "* Load data from an online source and begin to access properties of the data.\n",
    "\n",
    "\n",
    "This document is designed to be a homework template using Jupyter noteboks.\n",
    "\n",
    "We can have code chunks throughout our answers.  Here we will have a code chunk to load in the packages we expect to use in this assignment."
   ]
  },
  {
   "cell_type": "markdown",
   "metadata": {},
   "source": [
    "Some pre-requisites we will need for the project"
   ]
  },
  {
   "cell_type": "code",
   "execution_count": 1,
   "metadata": {
    "pycharm": {
     "name": "#%%\n"
    }
   },
   "outputs": [],
   "source": [
    "import pandas"
   ]
  },
  {
   "cell_type": "markdown",
   "metadata": {},
   "source": [
    "## (Question 2) String Manipulation"
   ]
  },
  {
   "cell_type": "markdown",
   "metadata": {},
   "source": [
    "### Hello World"
   ]
  },
  {
   "cell_type": "code",
   "execution_count": 2,
   "metadata": {
    "pycharm": {
     "name": "#%%\n"
    }
   },
   "outputs": [
    {
     "name": "stdout",
     "output_type": "stream",
     "text": [
      "Hello World\n"
     ]
    }
   ],
   "source": [
    "print(\"Hello World\")"
   ]
  },
  {
   "cell_type": "markdown",
   "metadata": {},
   "source": [
    "### Formatted Strings"
   ]
  },
  {
   "cell_type": "code",
   "execution_count": 3,
   "metadata": {
    "pycharm": {
     "name": "#%%\n"
    }
   },
   "outputs": [
    {
     "name": "stdout",
     "output_type": "stream",
     "text": [
      "Hello cs4821-cs5831, welcome to 2022\n"
     ]
    }
   ],
   "source": [
    "v1 = 'cs4821-cs5831'\n",
    "v2 = 2022\n",
    "print(f\"Hello {v1}, welcome to {v2}\")"
   ]
  },
  {
   "cell_type": "markdown",
   "metadata": {},
   "source": [
    "## (Question 3) Comments"
   ]
  },
  {
   "cell_type": "code",
   "execution_count": 4,
   "metadata": {
    "pycharm": {
     "name": "#%%\n"
    }
   },
   "outputs": [],
   "source": [
    "# test comment"
   ]
  },
  {
   "cell_type": "code",
   "execution_count": 5,
   "metadata": {
    "pycharm": {
     "name": "#%%\n"
    }
   },
   "outputs": [],
   "source": [
    "# This is a larger comment block\n",
    "# that may span multiple lines"
   ]
  },
  {
   "cell_type": "markdown",
   "metadata": {},
   "source": [
    "## (Question 4) Iris Data"
   ]
  },
  {
   "cell_type": "code",
   "execution_count": 6,
   "metadata": {
    "pycharm": {
     "name": "#%%\n"
    }
   },
   "outputs": [
    {
     "name": "stdout",
     "output_type": "stream",
     "text": [
      "The first 7 rows of the data: \n"
     ]
    },
    {
     "data": {
      "text/plain": "   Sepal Length (cm)  Sepal Width (cm)  Petal Length (cm)  Petal Width (cm)  \\\n0                5.1               3.5                1.4               0.2   \n1                4.9               3.0                1.4               0.2   \n2                4.7               3.2                1.3               0.2   \n3                4.6               3.1                1.5               0.2   \n4                5.0               3.6                1.4               0.2   \n5                5.4               3.9                1.7               0.4   \n6                4.6               3.4                1.4               0.3   \n\n         Class  \n0  Iris-setosa  \n1  Iris-setosa  \n2  Iris-setosa  \n3  Iris-setosa  \n4  Iris-setosa  \n5  Iris-setosa  \n6  Iris-setosa  ",
      "text/html": "<div>\n<style scoped>\n    .dataframe tbody tr th:only-of-type {\n        vertical-align: middle;\n    }\n\n    .dataframe tbody tr th {\n        vertical-align: top;\n    }\n\n    .dataframe thead th {\n        text-align: right;\n    }\n</style>\n<table border=\"1\" class=\"dataframe\">\n  <thead>\n    <tr style=\"text-align: right;\">\n      <th></th>\n      <th>Sepal Length (cm)</th>\n      <th>Sepal Width (cm)</th>\n      <th>Petal Length (cm)</th>\n      <th>Petal Width (cm)</th>\n      <th>Class</th>\n    </tr>\n  </thead>\n  <tbody>\n    <tr>\n      <th>0</th>\n      <td>5.1</td>\n      <td>3.5</td>\n      <td>1.4</td>\n      <td>0.2</td>\n      <td>Iris-setosa</td>\n    </tr>\n    <tr>\n      <th>1</th>\n      <td>4.9</td>\n      <td>3.0</td>\n      <td>1.4</td>\n      <td>0.2</td>\n      <td>Iris-setosa</td>\n    </tr>\n    <tr>\n      <th>2</th>\n      <td>4.7</td>\n      <td>3.2</td>\n      <td>1.3</td>\n      <td>0.2</td>\n      <td>Iris-setosa</td>\n    </tr>\n    <tr>\n      <th>3</th>\n      <td>4.6</td>\n      <td>3.1</td>\n      <td>1.5</td>\n      <td>0.2</td>\n      <td>Iris-setosa</td>\n    </tr>\n    <tr>\n      <th>4</th>\n      <td>5.0</td>\n      <td>3.6</td>\n      <td>1.4</td>\n      <td>0.2</td>\n      <td>Iris-setosa</td>\n    </tr>\n    <tr>\n      <th>5</th>\n      <td>5.4</td>\n      <td>3.9</td>\n      <td>1.7</td>\n      <td>0.4</td>\n      <td>Iris-setosa</td>\n    </tr>\n    <tr>\n      <th>6</th>\n      <td>4.6</td>\n      <td>3.4</td>\n      <td>1.4</td>\n      <td>0.3</td>\n      <td>Iris-setosa</td>\n    </tr>\n  </tbody>\n</table>\n</div>"
     },
     "execution_count": 6,
     "metadata": {},
     "output_type": "execute_result"
    }
   ],
   "source": [
    "# Load the iris data from the website\n",
    "IRIS_URL = 'https://archive.ics.uci.edu/ml/machine-learning-databases/iris/iris.data'\n",
    "\n",
    "# How many rows should we print?\n",
    "NUM_ROWS = 7\n",
    "\n",
    "# Some constants to define for the column names\n",
    "COLUMN_SEPAL_LENGTH = 'Sepal Length (cm)'\n",
    "COLUMN_SEPAL_WIDTH = 'Sepal Width (cm)'\n",
    "COLUMN_PETAL_LENGTH = 'Petal Length (cm)'\n",
    "COLUMN_PETAL_WIDTH = 'Petal Width (cm)'\n",
    "COLUMN_CLASS = 'Class'\n",
    "\n",
    "# Read it using pandas\n",
    "data = pandas.read_csv(IRIS_URL, names=[COLUMN_SEPAL_LENGTH, COLUMN_SEPAL_WIDTH, COLUMN_PETAL_LENGTH, COLUMN_PETAL_WIDTH, COLUMN_CLASS])\n",
    "# For part a\n",
    "print(\"The first 7 rows of the data: \")\n",
    "data.head(n=NUM_ROWS)"
   ]
  },
  {
   "cell_type": "code",
   "execution_count": 7,
   "metadata": {
    "pycharm": {
     "name": "#%%\n"
    }
   },
   "outputs": [
    {
     "name": "stdout",
     "output_type": "stream",
     "text": [
      "The number of samples is 150\n"
     ]
    }
   ],
   "source": [
    "print(f\"The number of samples is {len(data)}\")"
   ]
  },
  {
   "cell_type": "code",
   "execution_count": 8,
   "metadata": {
    "pycharm": {
     "name": "#%%\n"
    }
   },
   "outputs": [
    {
     "name": "stdout",
     "output_type": "stream",
     "text": [
      "Sepal Length (cm): min - 4.3, max - 7.9\n",
      "Sepal Width (cm): min - 2.0, max - 4.4\n",
      "Petal Length (cm): min - 1.0, max - 6.9\n",
      "Petal Width (cm): min - 0.1, max - 2.5\n"
     ]
    }
   ],
   "source": [
    "# Get the columns\n",
    "sep_length_col = data[COLUMN_SEPAL_LENGTH]\n",
    "sep_width_col = data[COLUMN_SEPAL_WIDTH]\n",
    "petal_length_col = data[COLUMN_PETAL_LENGTH]\n",
    "petal_width_col = data[COLUMN_PETAL_WIDTH]\n",
    "\n",
    "# Print some information about these columns\n",
    "print(f\"{COLUMN_SEPAL_LENGTH}: min - {sep_length_col.min()}, max - {sep_length_col.max()}\")\n",
    "print(f\"{COLUMN_SEPAL_WIDTH}: min - {sep_width_col.min()}, max - {sep_width_col.max()}\")\n",
    "print(f\"{COLUMN_PETAL_LENGTH}: min - {petal_length_col.min()}, max - {petal_length_col.max()}\")\n",
    "print(f\"{COLUMN_PETAL_WIDTH}: min - {petal_width_col.min()}, max - {petal_width_col.max()}\")"
   ]
  }
 ],
 "metadata": {
  "kernelspec": {
   "display_name": "Python 3 (ipykernel)",
   "language": "python",
   "name": "python3"
  },
  "language_info": {
   "codemirror_mode": {
    "name": "ipython",
    "version": 3
   },
   "file_extension": ".py",
   "mimetype": "text/x-python",
   "name": "python",
   "nbconvert_exporter": "python",
   "pygments_lexer": "ipython3",
   "version": "3.10.0"
  }
 },
 "nbformat": 4,
 "nbformat_minor": 1
}
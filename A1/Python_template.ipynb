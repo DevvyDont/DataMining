{
 "cells": [
  {
   "cell_type": "markdown",
   "metadata": {
    "id": "3a_k37wMdU5f"
   },
   "source": [
    "# Python Template \n",
    "## cs4821 - cs5831 - s22 \n",
    "\n",
    "This document is designed to be a homework template using Jupyter noteboks.\n",
    "\n",
    "We can have code chunks throughout our answers.  Here we will have a code chunk to load in the packages we expect to use in this assignment. \n"
   ]
  },
  {
   "cell_type": "code",
   "execution_count": 3,
   "metadata": {
    "collapsed": true,
    "id": "vHO5ETnZdU5s"
   },
   "outputs": [
    {
     "ename": "ModuleNotFoundError",
     "evalue": "No module named 'seaborn'",
     "output_type": "error",
     "traceback": [
      "\u001B[1;31m---------------------------------------------------------------------------\u001B[0m",
      "\u001B[1;31mModuleNotFoundError\u001B[0m                       Traceback (most recent call last)",
      "Input \u001B[1;32mIn [3]\u001B[0m, in \u001B[0;36m<module>\u001B[1;34m\u001B[0m\n\u001B[0;32m      3\u001B[0m \u001B[38;5;28;01mimport\u001B[39;00m \u001B[38;5;21;01mmatplotlib\u001B[39;00m \u001B[38;5;28;01mas\u001B[39;00m \u001B[38;5;21;01mmpl\u001B[39;00m\n\u001B[0;32m      4\u001B[0m \u001B[38;5;28;01mimport\u001B[39;00m \u001B[38;5;21;01mmatplotlib\u001B[39;00m\u001B[38;5;21;01m.\u001B[39;00m\u001B[38;5;21;01mpyplot\u001B[39;00m \u001B[38;5;28;01mas\u001B[39;00m \u001B[38;5;21;01mplt\u001B[39;00m\n\u001B[1;32m----> 5\u001B[0m \u001B[38;5;28;01mimport\u001B[39;00m \u001B[38;5;21;01mseaborn\u001B[39;00m \u001B[38;5;28;01mas\u001B[39;00m \u001B[38;5;21;01msb\u001B[39;00m\n\u001B[0;32m      6\u001B[0m get_ipython()\u001B[38;5;241m.\u001B[39mrun_line_magic(\u001B[38;5;124m'\u001B[39m\u001B[38;5;124mmatplotlib\u001B[39m\u001B[38;5;124m'\u001B[39m, \u001B[38;5;124m'\u001B[39m\u001B[38;5;124minline\u001B[39m\u001B[38;5;124m'\u001B[39m)\n",
      "\u001B[1;31mModuleNotFoundError\u001B[0m: No module named 'seaborn'"
     ]
    }
   ],
   "source": [
    "import pandas as pd\n",
    "import numpy as np\n",
    "import matplotlib as mpl\n",
    "import matplotlib.pyplot as plt\n",
    "import seaborn as sb\n",
    "%matplotlib inline"
   ]
  },
  {
   "cell_type": "markdown",
   "metadata": {
    "id": "REUnQyqRdU5u"
   },
   "source": [
    "# Q1 \n",
    "\n",
    "The above command was a section header, the answer to problem can follow it. \n",
    "\n",
    "You can use bulleted lists: \n",
    "\n",
    "* item 1 \n",
    "* item 2 \n",
    "* item ... "
   ]
  },
  {
   "cell_type": "markdown",
   "source": [],
   "metadata": {
    "collapsed": false
   }
  },
  {
   "cell_type": "markdown",
   "metadata": {
    "id": "aJTkN_FxdU5v"
   },
   "source": [
    "## Q1(a) \n",
    "\n",
    "Here is a subsection header - to include answers to different parts of the question.\n",
    "\n",
    "It also can have a 2nd paragraph and a enumerated list: \n",
    "\n",
    "1. first item \n",
    "2. second item\n",
    "    \n",
    "    a. sub item "
   ]
  },
  {
   "cell_type": "markdown",
   "metadata": {
    "id": "PrdT7VCGdU5v"
   },
   "source": [
    "# Markdown Basics \n",
    "\n",
    "A brief review of some functionality you may use, please consult the resources provided for additional examples or help! \n",
    "\n",
    "Different kinds of emphasis can be used for *italics* or _italics_, **bold** or __bold__, both **_bold and italics_**, `teletype` or `inline code`, or ~~strikethrough~~, \n",
    "\n",
    "Math can be embedded inline (using LaTeX math) $f(n) = n^2 - 2$.  Longer equations can be set aside from text \n",
    "$$ \n",
    "\\sum_{i=1}^n i = \\frac{n(n+1)}{2}. \n",
    "$$ \n",
    "\n",
    "Also, using the LaTeX commands:\n",
    "\\begin{equation}\n",
    "  a = b \\text{ or } c \\not= d \n",
    "\\end{equation}"
   ]
  },
  {
   "cell_type": "markdown",
   "metadata": {
    "id": "G5c_hlsSdU5w"
   },
   "source": [
    "## Symbols and Math \n",
    "\n",
    "LaTeX math and symbols commands can be used in markdown. \n",
    "\n",
    "Some basic math commands that may be useful: \n",
    "$$\n",
    "  \\frac{8}{23} + \\sqrt{i + 4}\n",
    "$$\n",
    "\n",
    "If you have a complicated formula, you may want to use the left and right parentheses that expand to fit the expression \n",
    "$$\n",
    "  f(n,m) = \\left(\\frac{1}{n}\\right) - \n",
    "      \\left(\\frac{1}{1 + \\frac{1}{m}} \\right).\n",
    "$$\n",
    "\n",
    "Superscript and subscript: \n",
    "$$\n",
    "  10^{2} \\quad n^{n^2} \\quad x_1 \\quad n_{1,1} \n",
    "$$\n",
    "\n",
    "Other useful commands for this course, sets: \n",
    "$$ \n",
    "  \\in \\quad \\not\\in \\quad \\emptyset \\quad \\subseteq \\quad \\subset \\quad \\cup \\quad \\cap \\quad \\not\\subseteq \\quad \\{ x \\in \\mathbb{N} \\,|\\, 2 \\leq x \\leq 6 \\}\n",
    "$$\n",
    "\n",
    "Special sets: \n",
    "$$\n",
    "  \\emptyset \\quad \\mathbb{N} \\quad \\mathbb{Z} \\quad \\mathbb{Q} \\quad \\mathbb{R} \n",
    "$$\n",
    "\n",
    "Logic commands: \n",
    "$$ \n",
    "  \\neq \\quad \\wedge \\quad \\vee \\quad \\oplus \\quad \\rightarrow, \\Rightarrow \\quad \\leftrightarrow, \\Leftrightarrow \\quad \\equiv \\forall \\quad \\exists \n",
    "$$\n",
    "\n",
    "If you are working through a proof or need to display multiple equations, then there is the \\texttt{align} math environment \n",
    "\n",
    "\\begin{align}\n",
    "  a_n &= a_{n-1} - n \\\\\n",
    "        &= a_{n-2} -(n-1) - n = a_{n-1} - (n + (n-1)) \\\\\n",
    "        &= a_{n-3} -(n-2) - (n + (n-1)) = a_{n-2} - (n + (n-1) + (n-2)) \\\\\n",
    "        &= \\cdots \\\\\n",
    "        &= 4 - (n + (n-1) + (n-2) + \\ldots + 1) = 4 -\\frac{n(n+1)}{2}\n",
    "\\end{align}\n",
    "\n",
    "If you do not want the equations numbered use the \\texttt{align*} environment.  \n",
    "\n",
    "\\begin{align*}\n",
    "  \\sum_{i=4}^n 7\\cdot 5^i  &= \\sum_{j=0}^{n-4} 7\\cdot 5^{j+4} \\tag{change of index} \\\\\n",
    "       &= \\sum_{j=0}^{n-4} 7\\cdot 5^{j}5^{4} \\tag{algebra} \\\\\n",
    "       &= 7\\cdot 5^4 \\sum_{j=0}^{n-4} 5^j \\tag{Fact 4} \\\\\n",
    "       &= 7\\cdot 5^4 \\left( \\frac{5^{n-3} - 1}{4}  \\right) \\tag{Table 2.1} \n",
    "\\end{align*}\n"
   ]
  },
  {
   "cell_type": "markdown",
   "metadata": {
    "id": "e4rzRcjXdU5z"
   },
   "source": [
    "# Markdown Tables\n",
    "\n",
    "  $p$  |  $q$  | $r$   \n",
    "-------|-------|-----------\n",
    " T     |  T    |  T  \n",
    " T     |  F    |  T         \n",
    " F     |  T    |  T            \n",
    " F     |  F    |  F   \n",
    "\n",
    "Images are added (note, first the image file must be uploaded to the colab notebook)\n",
    "\n",
    "\n"
   ]
  },
  {
   "cell_type": "code",
   "execution_count": null,
   "metadata": {
    "colab": {
     "base_uri": "https://localhost:8080/",
     "height": 663
    },
    "id": "0bbj35GQevDh",
    "outputId": "885e3c96-1a42-4e85-fb82-34415c5e819b"
   },
   "outputs": [],
   "source": [
    "from IPython.display import Image\n",
    "Image('PIA09178orig.jpg')"
   ]
  },
  {
   "cell_type": "markdown",
   "metadata": {
    "id": "8SGur-RJdU51"
   },
   "source": [
    "# Code blocks\n",
    "\n",
    "    This code\n",
    "    is in\n",
    "    a code block.\n"
   ]
  },
  {
   "cell_type": "markdown",
   "metadata": {
    "id": "Xnv_YX_zdU51"
   },
   "source": [
    "And here is some code to run. "
   ]
  },
  {
   "cell_type": "code",
   "execution_count": null,
   "metadata": {
    "id": "3vk6HjrCdU52",
    "outputId": "e158a357-db92-4a99-bcd2-e018ccd688c3"
   },
   "outputs": [],
   "source": [
    "fruitPrices = {'apples':2.00, 'oranges': 1.50, 'pears': 1.75}\n",
    "\n",
    "def buyFruit(fruit, numPounds):\n",
    "    if fruit not in fruitPrices:\n",
    "        print (\"Sorry we don't have %s\" % (fruit))\n",
    "    else:\n",
    "        cost = fruitPrices[fruit] * numPounds\n",
    "        print (\"That'll be %f please\" % (cost))\n",
    "\n",
    "# Main Function\n",
    "if __name__ == '__main__':        \n",
    "    buyFruit('apples',2.4)\n",
    "    buyFruit('coconuts',2)"
   ]
  },
  {
   "cell_type": "code",
   "execution_count": null,
   "metadata": {
    "collapsed": true,
    "id": "eF5E4q59dU53"
   },
   "outputs": [],
   "source": []
  }
 ],
 "metadata": {
  "colab": {
   "collapsed_sections": [],
   "name": "Python-template.ipynb",
   "provenance": [],
   "toc_visible": true
  },
  "kernelspec": {
   "display_name": "Python 3",
   "language": "python",
   "name": "python3"
  },
  "language_info": {
   "codemirror_mode": {
    "name": "ipython",
    "version": 3
   },
   "file_extension": ".py",
   "mimetype": "text/x-python",
   "name": "python",
   "nbconvert_exporter": "python",
   "pygments_lexer": "ipython3",
   "version": "3.7.4"
  }
 },
 "nbformat": 4,
 "nbformat_minor": 1
}
{
 "cells": [
  {
   "cell_type": "markdown",
   "source": [
    "# Assignment - A5.part2\n",
    "### Devin Hall, Tyler Birnie\n",
    "### Due: 4-22-22 @ 11:59pm\n",
    "Some pre-requisites we will need for this project"
   ],
   "metadata": {
    "collapsed": false,
    "pycharm": {
     "name": "#%% md\n"
    }
   }
  },
  {
   "cell_type": "markdown",
   "source": [
    "### Question 1:\n",
    "Confirm the results from Part1 Q2 using data table below. \n",
    "Python has the \"mlxtend\" library"
   ],
   "metadata": {
    "collapsed": false,
    "pycharm": {
     "name": "#%% md\n"
    }
   }
  },
  {
   "cell_type": "code",
   "execution_count": null,
   "outputs": [],
   "source": [
    "import numpy as np\n",
    "import pandas as pd\n",
    "from mlxtend.preprocessing import TransactionEncoder\n",
    "from mlxtend.frequent_patterns import apriori, association_rules\n",
    "\n",
    "_item_A = 'A'\n",
    "_item_B = 'B'\n",
    "_item_C = 'C'\n",
    "_item_D = 'D'\n",
    "_item_E = 'E'\n",
    "_item_F = 'F'\n",
    "_item_G = 'G'\n",
    "_item_H = 'H'\n",
    "_item_I = 'I'\n",
    "_item_J = 'J'\n",
    "_item_K = 'K'\n",
    "\n",
    "transactions = [\n",
    "    [_item_B, _item_D, _item_F, _item_G, _item_I, _item_J],\n",
    "    [_item_C, _item_B, _item_D, _item_G, _item_I, _item_J],\n",
    "    [_item_D, _item_F, _item_G, _item_H],\n",
    "    [_item_A, _item_F, _item_G, _item_J, _item_K],\n",
    "    [_item_A, _item_B, _item_D, _item_E, _item_G],\n",
    "]\n",
    "\n",
    "encoder = TransactionEncoder()\n",
    "encoded = encoder.fit(transactions).transform(transactions)\n",
    "df = pd.DataFrame(encoded, columns=encoder.columns_)\n",
    "freq = apriori(df, max_len=2, use_colnames=True)\n",
    "rules = association_rules(freq, metric='lift', min_threshold=.5).sort_values(['lift'], ascending=[True])\n",
    "print(rules[['antecedents', 'consequents']])"
   ],
   "metadata": {
    "collapsed": false,
    "pycharm": {
     "name": "#%%\n"
    }
   }
  },
  {
   "cell_type": "markdown",
   "source": [
    "### Question 2:\n",
    "You will analyze a portion of the Instacart Online Grocery Shopping Dataset 2017. The 2 data sets you are given contains hust 20K or 500K items purchased, while the original data set has 3 million orders"
   ],
   "metadata": {
    "collapsed": false,
    "pycharm": {
     "name": "#%% md\n"
    }
   }
  },
  {
   "cell_type": "markdown",
   "source": [
    "You will only need to focuse on the following files: \"order_products__train_small.csv\", \"order_products__train_med.csv\" and \"products.csv\" for this analysis.\n",
    "\n",
    "You can link the product number in the \"order_products\" file to the name of the product in the \"products.csv\" file."
   ],
   "metadata": {
    "collapsed": false,
    "pycharm": {
     "name": "#%% md\n"
    }
   }
  },
  {
   "cell_type": "markdown",
   "source": [
    "#### Question 2A: \n",
    "Create a histogram showing the number of products per order for both the 'order_products__train_small.csv' and 'order_products__train_med.csv' data sets.\n",
    "\n",
    "Indicate with a vertical line where the mean number of products per order lands. "
   ],
   "metadata": {
    "collapsed": false,
    "pycharm": {
     "name": "#%% md\n"
    }
   }
  },
  {
   "cell_type": "code",
   "execution_count": null,
   "outputs": [],
   "source": [
    "DATA_ORDER_PRODUCTS_TRAIN_SMALL = pd.read_csv ('instacart-small/order_products__train_small.csv')\n",
    "DATA_ORDER_PRODUCTS_TRAIN_MED = pd.read_csv ('instacart-small/orders_product__train_med.csv')\n",
    "\n",
    "order2NumProducts = {\n",
    "\n",
    "}\n",
    "\n",
    "for i, order in DATA_ORDER_PRODUCTS_TRAIN_SMALL.iterrows():\n",
    "\n",
    "    if order['order_id'] not in order2NumProducts:\n",
    "        order2NumProducts[order['order_id']]  = 0\n",
    "\n",
    "    order2NumProducts[order['order_id']] += 1\n",
    "\n",
    "mean = sum(order2NumProducts.values())\n",
    "mean /= len(order2NumProducts.values())\n",
    "\n",
    "import matplotlib.pyplot as plt\n",
    "plt.hist(x=order2NumProducts.values(), bins='auto')\n",
    "plt.xlabel('Orders')\n",
    "plt.ylabel('# Products')\n",
    "plt.title('Products per order (Small)')\n",
    "plt.axvline(x=mean, color='red')"
   ],
   "metadata": {
    "collapsed": false,
    "pycharm": {
     "name": "#%%\n"
    }
   }
  },
  {
   "cell_type": "code",
   "execution_count": null,
   "outputs": [
    {
     "data": {
      "text/plain": "<matplotlib.lines.Line2D at 0x2a8afd36e80>"
     },
     "execution_count": 6,
     "metadata": {},
     "output_type": "execute_result"
    },
    {
     "data": {
      "text/plain": "<Figure size 432x288 with 1 Axes>",
      "image/png": "[encoded data removed]"
     },
     "metadata": {},
     "output_type": "display_data"
    }
   ],
   "source": [
    "order2NumProducts = {}\n",
    "for i, order in DATA_ORDER_PRODUCTS_TRAIN_MED.iterrows():\n",
    "\n",
    "    if order['order_id'] not in order2NumProducts:\n",
    "        order2NumProducts[order['order_id']]  = 0\n",
    "\n",
    "    order2NumProducts[order['order_id']] += 1\n",
    "\n",
    "mean = sum(order2NumProducts.values())\n",
    "mean /= len(order2NumProducts.values())\n",
    "\n",
    "plt.hist(x=order2NumProducts.values(), bins='auto')\n",
    "plt.xlabel('Orders')\n",
    "plt.ylabel('# Products')\n",
    "plt.title('Products per order (Med)')\n",
    "plt.axvline(x=mean, color='red')"
   ],
   "metadata": {
    "collapsed": false,
    "pycharm": {
     "name": "#%%\n"
    }
   }
  },
  {
   "cell_type": "markdown",
   "source": [
    "#### Question 2B:\n",
    "For the 'order_products__train_small.csv' data, create a top 15 item frequency plot. \n",
    "\n",
    "plot the top 15 most frequently purchased items.\n",
    "\n",
    "This should be a bar plot with items vs frequency (relative support) as the axis"
   ],
   "metadata": {
    "collapsed": false,
    "pycharm": {
     "name": "#%% md\n"
    }
   }
  },
  {
   "cell_type": "code",
   "execution_count": null,
   "outputs": [
    {
     "data": {
      "text/plain": "<AxesSubplot:>"
     },
     "execution_count": 7,
     "metadata": {},
     "output_type": "execute_result"
    },
    {
     "data": {
      "text/plain": "<Figure size 432x288 with 1 Axes>",
      "image/png": "[encoded data removed]"
     },
     "metadata": {},
     "output_type": "display_data"
    }
   ],
   "source": [
    "DATA_ORDER_PRODUCTS_TRAIN_SMALL['product_id'].value_counts()[:15].plot(kind='bar')"
   ],
   "metadata": {
    "collapsed": false,
    "pycharm": {
     "name": "#%%\n"
    }
   }
  },
  {
   "cell_type": "markdown",
   "source": [
    "#### Question 2C:\n",
    "For the ‘order products train med.csv‘ data, create an top 15 item frequency plot, that is plot the top 15 most frequently purchased items. \n",
    "\n",
    "This should be a bar plot with items vs. frequency (relative support)."
   ],
   "metadata": {
    "collapsed": false,
    "pycharm": {
     "name": "#%% md\n"
    }
   }
  },
  {
   "cell_type": "code",
   "execution_count": null,
   "outputs": [
    {
     "data": {
      "text/plain": "<AxesSubplot:>"
     },
     "execution_count": 8,
     "metadata": {},
     "output_type": "execute_result"
    },
    {
     "data": {
      "text/plain": "<Figure size 432x288 with 1 Axes>",
      "image/png": "[encoded data removed]"
     },
     "metadata": {},
     "output_type": "display_data"
    }
   ],
   "source": [
    "DATA_ORDER_PRODUCTS_TRAIN_MED['product_id'].value_counts()[:15].plot(kind='bar')"
   ],
   "metadata": {
    "collapsed": false,
    "pycharm": {
     "name": "#%%\n"
    }
   }
  },
  {
   "cell_type": "markdown",
   "source": [
    "#### Question 2D:\n",
    "For the ‘order products train small.csv‘ data, use Apriori to find association rules with a minimum support of 0.003 and confidence of 0.5. \n",
    "\n",
    "Report in a table the top 10 rules (sorted by lift) with the product names, the support, confidence and lift."
   ],
   "metadata": {
    "collapsed": false,
    "pycharm": {
     "name": "#%% md\n"
    }
   }
  },
  {
   "cell_type": "code",
   "execution_count": null,
   "outputs": [
    {
     "data": {
      "text/plain": "      support  confidence      lift\n584  0.004772    0.087379  0.661832\n585  0.004772    0.036145  0.661832\n608  0.003181    0.024096  0.745013\n609  0.003181    0.098361  0.745013\n577  0.003712    0.028112  0.869182\n576  0.003712    0.114754  0.869182\n9    0.003181    0.024096  1.009906\n8    0.003181    0.133333  1.009906\n603  0.003712    0.134615  1.019617\n602  0.003712    0.028112  1.019617",
      "text/html": "<div>\n<style scoped>\n    .dataframe tbody tr th:only-of-type {\n        vertical-align: middle;\n    }\n\n    .dataframe tbody tr th {\n        vertical-align: top;\n    }\n\n    .dataframe thead th {\n        text-align: right;\n    }\n</style>\n<table border=\"1\" class=\"dataframe\">\n  <thead>\n    <tr style=\"text-align: right;\">\n      <th></th>\n      <th>support</th>\n      <th>confidence</th>\n      <th>lift</th>\n    </tr>\n  </thead>\n  <tbody>\n    <tr>\n      <th>584</th>\n      <td>0.004772</td>\n      <td>0.087379</td>\n      <td>0.661832</td>\n    </tr>\n    <tr>\n      <th>585</th>\n      <td>0.004772</td>\n      <td>0.036145</td>\n      <td>0.661832</td>\n    </tr>\n    <tr>\n      <th>608</th>\n      <td>0.003181</td>\n      <td>0.024096</td>\n      <td>0.745013</td>\n    </tr>\n    <tr>\n      <th>609</th>\n      <td>0.003181</td>\n      <td>0.098361</td>\n      <td>0.745013</td>\n    </tr>\n    <tr>\n      <th>577</th>\n      <td>0.003712</td>\n      <td>0.028112</td>\n      <td>0.869182</td>\n    </tr>\n    <tr>\n      <th>576</th>\n      <td>0.003712</td>\n      <td>0.114754</td>\n      <td>0.869182</td>\n    </tr>\n    <tr>\n      <th>9</th>\n      <td>0.003181</td>\n      <td>0.024096</td>\n      <td>1.009906</td>\n    </tr>\n    <tr>\n      <th>8</th>\n      <td>0.003181</td>\n      <td>0.133333</td>\n      <td>1.009906</td>\n    </tr>\n    <tr>\n      <th>603</th>\n      <td>0.003712</td>\n      <td>0.134615</td>\n      <td>1.019617</td>\n    </tr>\n    <tr>\n      <th>602</th>\n      <td>0.003712</td>\n      <td>0.028112</td>\n      <td>1.019617</td>\n    </tr>\n  </tbody>\n</table>\n</div>"
     },
     "execution_count": 9,
     "metadata": {},
     "output_type": "execute_result"
    }
   ],
   "source": [
    "transactionIds = set()\n",
    "transaction2Items = {}\n",
    "\n",
    "for i, order in DATA_ORDER_PRODUCTS_TRAIN_SMALL.iterrows():\n",
    "    transactionIds.add(order['order_id'])\n",
    "\n",
    "for tranId in transactionIds:\n",
    "    transaction2Items[tranId] = set()\n",
    "\n",
    "for i, order in DATA_ORDER_PRODUCTS_TRAIN_SMALL.iterrows():\n",
    "    transaction2Items[order['order_id']].add(str(order['product_id']))\n",
    "\n",
    "keys = np.array(transaction2Items.keys())\n",
    "orders = transaction2Items.values()\n",
    "\n",
    "encoder = TransactionEncoder()\n",
    "encoded = encoder.fit(orders).transform(orders)\n",
    "df = pd.DataFrame(encoded, columns=encoder.columns_)\n",
    "\n",
    "freq = apriori(df, min_support=.003, use_colnames=True)\n",
    "rules = association_rules(freq, metric='lift', min_threshold=.5).sort_values(['lift'], ascending=[True])\n",
    "rules[['support', 'confidence', 'lift']][:10]"
   ],
   "metadata": {
    "collapsed": false,
    "pycharm": {
     "name": "#%%\n"
    }
   }
  },
  {
   "cell_type": "markdown",
   "source": [
    "#### Question 2E:\n",
    "Rerun Apriori on the same data set with a minimum support of 0.0025 and\n",
    "confidence of 0.5. \n",
    "Create a scatterplot of the rules, plotting support vs. confidence colored by lift value."
   ],
   "metadata": {
    "collapsed": false,
    "pycharm": {
     "name": "#%% md\n"
    }
   }
  },
  {
   "cell_type": "code",
   "execution_count": null,
   "outputs": [
    {
     "data": {
      "text/plain": "Text(0, 0.5, 'Confidence')"
     },
     "execution_count": 10,
     "metadata": {},
     "output_type": "execute_result"
    },
    {
     "data": {
      "text/plain": "<Figure size 576x576 with 1 Axes>",
      "image/png": "[encoded data removed]"
     },
     "metadata": {},
     "output_type": "display_data"
    }
   ],
   "source": [
    "transactionIds = set()\n",
    "transaction2Items = {}\n",
    "\n",
    "for i, order in DATA_ORDER_PRODUCTS_TRAIN_SMALL.iterrows():\n",
    "    transactionIds.add(order['order_id'])\n",
    "\n",
    "for tranId in transactionIds:\n",
    "    transaction2Items[tranId] = set()\n",
    "\n",
    "for i, order in DATA_ORDER_PRODUCTS_TRAIN_SMALL.iterrows():\n",
    "    transaction2Items[order['order_id']].add(str(order['product_id']))\n",
    "\n",
    "keys = np.array(transaction2Items.keys())\n",
    "orders = transaction2Items.values()\n",
    "\n",
    "encoder = TransactionEncoder()\n",
    "encoded = encoder.fit(orders).transform(orders)\n",
    "df = pd.DataFrame(encoded, columns=encoder.columns_)\n",
    "\n",
    "freq = apriori(df, min_support=.0025, use_colnames=True)\n",
    "rules = association_rules(freq, metric='lift', min_threshold=.5).sort_values(['lift'], ascending=[True])\n",
    "to_plot = rules[['support', 'confidence', 'lift']][:10]\n",
    "\n",
    "\n",
    "\n",
    "fig = plt.figure(figsize=(8,8))\n",
    "ax = fig.add_subplot(1,1,1)\n",
    "\n",
    "plt.scatter(to_plot['support'], to_plot['confidence'])\n",
    "\n",
    "plt.yticks(size=12)\n",
    "plt.xticks(size=12)\n",
    "plt.xlabel('Support')\n",
    "plt.ylabel('Confidence')\n"
   ],
   "metadata": {
    "collapsed": false,
    "pycharm": {
     "name": "#%%\n"
    }
   }
  },
  {
   "cell_type": "markdown",
   "source": [
    "#### Question 2F: [Bonus]\n",
    "For the ‘order products train med.csv‘ data, use Apriori to find as-\n",
    "sociation rules with a minimum support of 0.003 and confidence of 0.5. \n",
    "\n",
    "Report in a table the top 10 rules (sorted by lift) with the product names, the support, confidence and lift."
   ],
   "metadata": {
    "collapsed": false,
    "pycharm": {
     "name": "#%% md\n"
    }
   }
  },
  {
   "cell_type": "code",
   "execution_count": null,
   "outputs": [
    {
     "ename": "KeyboardInterrupt",
     "evalue": "",
     "output_type": "error",
     "traceback": [
      "\u001B[1;31m---------------------------------------------------------------------------\u001B[0m",
      "\u001B[1;31mKeyboardInterrupt\u001B[0m                         Traceback (most recent call last)",
      "Input \u001B[1;32mIn [11]\u001B[0m, in \u001B[0;36m<cell line: 20>\u001B[1;34m()\u001B[0m\n\u001B[0;32m     17\u001B[0m encoded \u001B[38;5;241m=\u001B[39m encoder\u001B[38;5;241m.\u001B[39mfit(orders)\u001B[38;5;241m.\u001B[39mtransform(orders)\n\u001B[0;32m     18\u001B[0m df \u001B[38;5;241m=\u001B[39m pd\u001B[38;5;241m.\u001B[39mDataFrame(encoded, columns\u001B[38;5;241m=\u001B[39mencoder\u001B[38;5;241m.\u001B[39mcolumns_)\n\u001B[1;32m---> 20\u001B[0m freq \u001B[38;5;241m=\u001B[39m \u001B[43mapriori\u001B[49m\u001B[43m(\u001B[49m\u001B[43mdf\u001B[49m\u001B[43m,\u001B[49m\u001B[43m \u001B[49m\u001B[43mmin_support\u001B[49m\u001B[38;5;241;43m=\u001B[39;49m\u001B[38;5;241;43m.003\u001B[39;49m\u001B[43m,\u001B[49m\u001B[43m \u001B[49m\u001B[43muse_colnames\u001B[49m\u001B[38;5;241;43m=\u001B[39;49m\u001B[38;5;28;43;01mTrue\u001B[39;49;00m\u001B[43m)\u001B[49m\n\u001B[0;32m     21\u001B[0m rules \u001B[38;5;241m=\u001B[39m association_rules(freq, metric\u001B[38;5;241m=\u001B[39m\u001B[38;5;124m'\u001B[39m\u001B[38;5;124mlift\u001B[39m\u001B[38;5;124m'\u001B[39m, min_threshold\u001B[38;5;241m=\u001B[39m\u001B[38;5;241m.5\u001B[39m)\u001B[38;5;241m.\u001B[39msort_values([\u001B[38;5;124m'\u001B[39m\u001B[38;5;124mlift\u001B[39m\u001B[38;5;124m'\u001B[39m], ascending\u001B[38;5;241m=\u001B[39m[\u001B[38;5;28;01mTrue\u001B[39;00m])\n\u001B[0;32m     22\u001B[0m rules[[\u001B[38;5;124m'\u001B[39m\u001B[38;5;124msupport\u001B[39m\u001B[38;5;124m'\u001B[39m, \u001B[38;5;124m'\u001B[39m\u001B[38;5;124mconfidence\u001B[39m\u001B[38;5;124m'\u001B[39m, \u001B[38;5;124m'\u001B[39m\u001B[38;5;124mlift\u001B[39m\u001B[38;5;124m'\u001B[39m]][:\u001B[38;5;241m10\u001B[39m]\n",
      "File \u001B[1;32mc:\\users\\itsla\\appdata\\local\\programs\\python\\python38\\lib\\site-packages\\mlxtend\\frequent_patterns\\apriori.py:302\u001B[0m, in \u001B[0;36mapriori\u001B[1;34m(df, min_support, use_colnames, max_len, verbose, low_memory)\u001B[0m\n\u001B[0;32m    300\u001B[0m         _bools \u001B[38;5;241m=\u001B[39m _bools \u001B[38;5;241m&\u001B[39m (X[:, combin[:, n]] \u001B[38;5;241m==\u001B[39m all_ones)\n\u001B[0;32m    301\u001B[0m \u001B[38;5;28;01melse\u001B[39;00m:\n\u001B[1;32m--> 302\u001B[0m     _bools \u001B[38;5;241m=\u001B[39m np\u001B[38;5;241m.\u001B[39mall(\u001B[43mX\u001B[49m\u001B[43m[\u001B[49m\u001B[43m:\u001B[49m\u001B[43m,\u001B[49m\u001B[43m \u001B[49m\u001B[43mcombin\u001B[49m\u001B[43m]\u001B[49m, axis\u001B[38;5;241m=\u001B[39m\u001B[38;5;241m2\u001B[39m)\n\u001B[0;32m    304\u001B[0m support \u001B[38;5;241m=\u001B[39m _support(np\u001B[38;5;241m.\u001B[39marray(_bools), rows_count, is_sparse)\n\u001B[0;32m    305\u001B[0m _mask \u001B[38;5;241m=\u001B[39m (support \u001B[38;5;241m>\u001B[39m\u001B[38;5;241m=\u001B[39m min_support)\u001B[38;5;241m.\u001B[39mreshape(\u001B[38;5;241m-\u001B[39m\u001B[38;5;241m1\u001B[39m)\n",
      "\u001B[1;31mKeyboardInterrupt\u001B[0m: "
     ]
    }
   ],
   "source": [
    "transactionIds = set()\n",
    "transaction2Items = {}\n",
    "\n",
    "for i, order in DATA_ORDER_PRODUCTS_TRAIN_MED.iterrows():\n",
    "    transactionIds.add(order['order_id'])\n",
    "\n",
    "for tranId in transactionIds:\n",
    "    transaction2Items[tranId] = set()\n",
    "\n",
    "for i, order in DATA_ORDER_PRODUCTS_TRAIN_MED.iterrows():\n",
    "    transaction2Items[order['order_id']].add(str(order['product_id']))\n",
    "\n",
    "keys = np.array(transaction2Items.keys())\n",
    "orders = transaction2Items.values()\n",
    "\n",
    "encoder = TransactionEncoder()\n",
    "encoded = encoder.fit(orders).transform(orders)\n",
    "df = pd.DataFrame(encoded, columns=encoder.columns_)\n",
    "\n",
    "freq = apriori(df, min_support=.003, use_colnames=True)\n",
    "rules = association_rules(freq, metric='lift', min_threshold=.5).sort_values(['lift'], ascending=[True])\n",
    "rules[['support', 'confidence', 'lift']][:10]"
   ],
   "metadata": {
    "collapsed": false,
    "pycharm": {
     "name": "#%%\n"
    }
   }
  }
 ],
 "metadata": {
  "kernelspec": {
   "display_name": "Python 3 (ipykernel)",
   "language": "python",
   "name": "python3"
  },
  "language_info": {
   "codemirror_mode": {
    "name": "ipython",
    "version": 3
   },
   "file_extension": ".py",
   "mimetype": "text/x-python",
   "name": "python",
   "nbconvert_exporter": "python",
   "pygments_lexer": "ipython3",
   "version": "3.7.11"
  }
 },
 "nbformat": 4,
 "nbformat_minor": 5
}
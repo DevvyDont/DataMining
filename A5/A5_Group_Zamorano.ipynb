{
 "cells": [
  {
   "cell_type": "markdown",
   "id": "58093907",
   "metadata": {},
   "source": [
    "## Assignment - A5.part2\n",
    "### Devin Hall, Tyler Birnie\n",
    "### Due: 4-22-22 @ 11:59pm\n",
    "Some pre-requisites we will need for this project"
   ]
  },
  {
   "cell_type": "code",
   "execution_count": null,
   "id": "fccae16c",
   "metadata": {},
   "outputs": [],
   "source": []
  },
  {
   "cell_type": "markdown",
   "id": "7eef96b0",
   "metadata": {},
   "source": [
    "### Question 1:\n",
    "Confirm the results from Part1 Q2 using data table below. \n",
    "Python has the \"mlxtend\" library"
   ]
  },
  {
   "cell_type": "code",
   "execution_count": null,
   "id": "f607aed2",
   "metadata": {},
   "outputs": [],
   "source": []
  },
  {
   "cell_type": "markdown",
   "id": "06795064",
   "metadata": {},
   "source": [
    "### Question 2:\n",
    "You will analyze a portion of the Instacart Online Grocery Shopping Dataset 2017. The 2 data sets you are given contains hust 20K or 500K items purchased, while the original data set has 3 million orders"
   ]
  },
  {
   "cell_type": "markdown",
   "id": "2cd399f5",
   "metadata": {},
   "source": [
    "You will only need to focuse on the following files: \"order_products__train_small.csv\", \"order_products__train_med.csv\" and \"products.csv\" for this analysis.\n",
    "\n",
    "You can link the product number in the \"order_products\" file to the name of the product in the \"products.csv\" file. "
   ]
  },
  {
   "cell_type": "code",
   "execution_count": null,
   "id": "dc21a647",
   "metadata": {},
   "outputs": [],
   "source": []
  },
  {
   "cell_type": "markdown",
   "id": "c4ad72c4",
   "metadata": {},
   "source": [
    "#### Question 2A: \n",
    "Create a histogram showing the number of products per order for both the 'order_products__train_small.csv' and 'order_products__train_med.csv' data sets.\n",
    "\n",
    "Indicate with a vertical line where the mean number of products per order lands. "
   ]
  },
  {
   "cell_type": "code",
   "execution_count": null,
   "id": "e44b4e4b",
   "metadata": {},
   "outputs": [],
   "source": []
  },
  {
   "cell_type": "markdown",
   "id": "3f8b7bc6",
   "metadata": {},
   "source": [
    "#### Question 2B:\n",
    "For the 'order_products__train_small.csv' data, create a top 15 item frequency plot. \n",
    "\n",
    "plot the top 15 most frequently purchased items.\n",
    "\n",
    "This should be a bar plot with items vs frequency (relative support) as the axis"
   ]
  },
  {
   "cell_type": "code",
   "execution_count": null,
   "id": "26d25b94",
   "metadata": {},
   "outputs": [],
   "source": []
  },
  {
   "cell_type": "markdown",
   "id": "c4f515f6",
   "metadata": {},
   "source": [
    "#### Question 2C:\n",
    "For the ‘order products train med.csv‘ data, create an top 15 item frequency plot, that is plot the top 15 most frequently purchased items. \n",
    "\n",
    "This should be a bar plot with items vs. frequency (relative support)."
   ]
  },
  {
   "cell_type": "code",
   "execution_count": null,
   "id": "907781a7",
   "metadata": {},
   "outputs": [],
   "source": []
  },
  {
   "cell_type": "markdown",
   "id": "075ed8ac",
   "metadata": {},
   "source": [
    "#### Question 2D:\n",
    "For the ‘order products train small.csv‘ data, use Apriori to find association rules with a minimum support of 0.003 and confidence of 0.5. \n",
    "\n",
    "Report in a table the top 10 rules (sorted by lift) with the product names, the support, confidence and lift."
   ]
  },
  {
   "cell_type": "code",
   "execution_count": null,
   "id": "e89eba08",
   "metadata": {},
   "outputs": [],
   "source": []
  },
  {
   "cell_type": "markdown",
   "id": "f77e7ca2",
   "metadata": {},
   "source": [
    "#### Question 2E:\n",
    "Rerun Apriori on the same data set with a minimum support of 0.0025 and\n",
    "confidence of 0.5. \n",
    "Create a scatterplot of the rules, plotting support vs. confidence colored by lift value."
   ]
  },
  {
   "cell_type": "code",
   "execution_count": null,
   "id": "273a91cc",
   "metadata": {},
   "outputs": [],
   "source": []
  },
  {
   "cell_type": "markdown",
   "id": "bb79fb25",
   "metadata": {},
   "source": [
    "#### Question 2F: [Bonus]\n",
    "For the ‘order products train med.csv‘ data, use Apriori to find as-\n",
    "sociation rules with a minimum support of 0.003 and confidence of 0.5. \n",
    "\n",
    "Report in a table the top 10 rules (sorted by lift) with the product names, the support, confidence and lift."
   ]
  },
  {
   "cell_type": "code",
   "execution_count": null,
   "id": "d54eab51",
   "metadata": {},
   "outputs": [],
   "source": []
  }
 ],
 "metadata": {
  "kernelspec": {
   "display_name": "Python 3 (ipykernel)",
   "language": "python",
   "name": "python3"
  },
  "language_info": {
   "codemirror_mode": {
    "name": "ipython",
    "version": 3
   },
   "file_extension": ".py",
   "mimetype": "text/x-python",
   "name": "python",
   "nbconvert_exporter": "python",
   "pygments_lexer": "ipython3",
   "version": "3.7.11"
  }
 },
 "nbformat": 4,
 "nbformat_minor": 5
}
